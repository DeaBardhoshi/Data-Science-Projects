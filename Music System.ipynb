{
 "cells": [
  {
   "cell_type": "markdown",
   "metadata": {},
   "source": [
    "# Exploratory Data Analysis and Data Cleaning on Spotify Songs"
   ]
  },
  {
   "cell_type": "code",
   "execution_count": 1,
   "metadata": {},
   "outputs": [],
   "source": [
    "import pandas as pd\n",
    "import matplotlib.pyplot as plt"
   ]
  },
  {
   "cell_type": "code",
   "execution_count": 2,
   "metadata": {},
   "outputs": [],
   "source": [
    "df_data = pd.read_csv('tracks.csv')"
   ]
  },
  {
   "cell_type": "code",
   "execution_count": 3,
   "metadata": {},
   "outputs": [],
   "source": [
    "sorted_df = df_data.sort_values('popularity', ascending = False).head(100)\n",
    "sorted_two_df = df_data.sort_values('popularity', ascending = True)\n",
    "date = list(df_data.release_date)\n",
    "for i in range(len(date)):\n",
    "    date[i] = int(date[i][:4])"
   ]
  },
  {
   "cell_type": "code",
   "execution_count": 4,
   "metadata": {},
   "outputs": [],
   "source": [
    "df_data['Year'] = date"
   ]
  },
  {
   "cell_type": "code",
   "execution_count": 5,
   "metadata": {},
   "outputs": [],
   "source": [
    "df_pre90 = df_data[df_data.Year <= 1990]\n",
    "df_post_90 = df_data[df_data.Year > 1990]"
   ]
  },
  {
   "cell_type": "code",
   "execution_count": 6,
   "metadata": {},
   "outputs": [
    {
     "data": {
      "text/html": [
       "<div>\n",
       "<style scoped>\n",
       "    .dataframe tbody tr th:only-of-type {\n",
       "        vertical-align: middle;\n",
       "    }\n",
       "\n",
       "    .dataframe tbody tr th {\n",
       "        vertical-align: top;\n",
       "    }\n",
       "\n",
       "    .dataframe thead th {\n",
       "        text-align: right;\n",
       "    }\n",
       "</style>\n",
       "<table border=\"1\" class=\"dataframe\">\n",
       "  <thead>\n",
       "    <tr style=\"text-align: right;\">\n",
       "      <th></th>\n",
       "      <th>id</th>\n",
       "      <th>name</th>\n",
       "      <th>popularity</th>\n",
       "      <th>duration_ms</th>\n",
       "      <th>explicit</th>\n",
       "      <th>artists</th>\n",
       "      <th>id_artists</th>\n",
       "      <th>release_date</th>\n",
       "      <th>danceability</th>\n",
       "      <th>energy</th>\n",
       "      <th>key</th>\n",
       "      <th>loudness</th>\n",
       "      <th>mode</th>\n",
       "      <th>speechiness</th>\n",
       "      <th>acousticness</th>\n",
       "      <th>instrumentalness</th>\n",
       "      <th>liveness</th>\n",
       "      <th>valence</th>\n",
       "      <th>tempo</th>\n",
       "      <th>time_signature</th>\n",
       "    </tr>\n",
       "  </thead>\n",
       "  <tbody>\n",
       "    <tr>\n",
       "      <th>93802</th>\n",
       "      <td>4iJyoBOLtHqaGxP12qzhQI</td>\n",
       "      <td>Peaches (feat. Daniel Caesar &amp; Giveon)</td>\n",
       "      <td>100</td>\n",
       "      <td>198082</td>\n",
       "      <td>1</td>\n",
       "      <td>['Justin Bieber', 'Daniel Caesar', 'Giveon']</td>\n",
       "      <td>['1uNFoZAHBGtllmzznpCI3s', '20wkVLutqVOYrc0kxF...</td>\n",
       "      <td>2021-03-19</td>\n",
       "      <td>0.677</td>\n",
       "      <td>0.696</td>\n",
       "      <td>0</td>\n",
       "      <td>-6.181</td>\n",
       "      <td>1</td>\n",
       "      <td>0.1190</td>\n",
       "      <td>0.3210</td>\n",
       "      <td>0.000000</td>\n",
       "      <td>0.420</td>\n",
       "      <td>0.464</td>\n",
       "      <td>90.030</td>\n",
       "      <td>4</td>\n",
       "    </tr>\n",
       "    <tr>\n",
       "      <th>93803</th>\n",
       "      <td>7lPN2DXiMsVn7XUKtOW1CS</td>\n",
       "      <td>drivers license</td>\n",
       "      <td>99</td>\n",
       "      <td>242014</td>\n",
       "      <td>1</td>\n",
       "      <td>['Olivia Rodrigo']</td>\n",
       "      <td>['1McMsnEElThX1knmY4oliG']</td>\n",
       "      <td>2021-01-08</td>\n",
       "      <td>0.585</td>\n",
       "      <td>0.436</td>\n",
       "      <td>10</td>\n",
       "      <td>-8.761</td>\n",
       "      <td>1</td>\n",
       "      <td>0.0601</td>\n",
       "      <td>0.7210</td>\n",
       "      <td>0.000013</td>\n",
       "      <td>0.105</td>\n",
       "      <td>0.132</td>\n",
       "      <td>143.874</td>\n",
       "      <td>4</td>\n",
       "    </tr>\n",
       "    <tr>\n",
       "      <th>93804</th>\n",
       "      <td>3Ofmpyhv5UAQ70mENzB277</td>\n",
       "      <td>Astronaut In The Ocean</td>\n",
       "      <td>98</td>\n",
       "      <td>132780</td>\n",
       "      <td>0</td>\n",
       "      <td>['Masked Wolf']</td>\n",
       "      <td>['1uU7g3DNSbsu0QjSEqZtEd']</td>\n",
       "      <td>2021-01-06</td>\n",
       "      <td>0.778</td>\n",
       "      <td>0.695</td>\n",
       "      <td>4</td>\n",
       "      <td>-6.865</td>\n",
       "      <td>0</td>\n",
       "      <td>0.0913</td>\n",
       "      <td>0.1750</td>\n",
       "      <td>0.000000</td>\n",
       "      <td>0.150</td>\n",
       "      <td>0.472</td>\n",
       "      <td>149.996</td>\n",
       "      <td>4</td>\n",
       "    </tr>\n",
       "    <tr>\n",
       "      <th>92810</th>\n",
       "      <td>5QO79kh1waicV47BqGRL3g</td>\n",
       "      <td>Save Your Tears</td>\n",
       "      <td>97</td>\n",
       "      <td>215627</td>\n",
       "      <td>1</td>\n",
       "      <td>['The Weeknd']</td>\n",
       "      <td>['1Xyo4u8uXC1ZmMpatF05PJ']</td>\n",
       "      <td>2020-03-20</td>\n",
       "      <td>0.680</td>\n",
       "      <td>0.826</td>\n",
       "      <td>0</td>\n",
       "      <td>-5.487</td>\n",
       "      <td>1</td>\n",
       "      <td>0.0309</td>\n",
       "      <td>0.0212</td>\n",
       "      <td>0.000012</td>\n",
       "      <td>0.543</td>\n",
       "      <td>0.644</td>\n",
       "      <td>118.051</td>\n",
       "      <td>4</td>\n",
       "    </tr>\n",
       "    <tr>\n",
       "      <th>92811</th>\n",
       "      <td>6tDDoYIxWvMLTdKpjFkc1B</td>\n",
       "      <td>telepatía</td>\n",
       "      <td>97</td>\n",
       "      <td>160191</td>\n",
       "      <td>0</td>\n",
       "      <td>['Kali Uchis']</td>\n",
       "      <td>['1U1el3k54VvEUzo3ybLPlM']</td>\n",
       "      <td>2020-12-04</td>\n",
       "      <td>0.653</td>\n",
       "      <td>0.524</td>\n",
       "      <td>11</td>\n",
       "      <td>-9.016</td>\n",
       "      <td>0</td>\n",
       "      <td>0.0502</td>\n",
       "      <td>0.1120</td>\n",
       "      <td>0.000000</td>\n",
       "      <td>0.203</td>\n",
       "      <td>0.553</td>\n",
       "      <td>83.970</td>\n",
       "      <td>4</td>\n",
       "    </tr>\n",
       "  </tbody>\n",
       "</table>\n",
       "</div>"
      ],
      "text/plain": [
       "                           id                                    name  \\\n",
       "93802  4iJyoBOLtHqaGxP12qzhQI  Peaches (feat. Daniel Caesar & Giveon)   \n",
       "93803  7lPN2DXiMsVn7XUKtOW1CS                         drivers license   \n",
       "93804  3Ofmpyhv5UAQ70mENzB277                  Astronaut In The Ocean   \n",
       "92810  5QO79kh1waicV47BqGRL3g                         Save Your Tears   \n",
       "92811  6tDDoYIxWvMLTdKpjFkc1B                               telepatía   \n",
       "\n",
       "       popularity  duration_ms  explicit  \\\n",
       "93802         100       198082         1   \n",
       "93803          99       242014         1   \n",
       "93804          98       132780         0   \n",
       "92810          97       215627         1   \n",
       "92811          97       160191         0   \n",
       "\n",
       "                                            artists  \\\n",
       "93802  ['Justin Bieber', 'Daniel Caesar', 'Giveon']   \n",
       "93803                            ['Olivia Rodrigo']   \n",
       "93804                               ['Masked Wolf']   \n",
       "92810                                ['The Weeknd']   \n",
       "92811                                ['Kali Uchis']   \n",
       "\n",
       "                                              id_artists release_date  \\\n",
       "93802  ['1uNFoZAHBGtllmzznpCI3s', '20wkVLutqVOYrc0kxF...   2021-03-19   \n",
       "93803                         ['1McMsnEElThX1knmY4oliG']   2021-01-08   \n",
       "93804                         ['1uU7g3DNSbsu0QjSEqZtEd']   2021-01-06   \n",
       "92810                         ['1Xyo4u8uXC1ZmMpatF05PJ']   2020-03-20   \n",
       "92811                         ['1U1el3k54VvEUzo3ybLPlM']   2020-12-04   \n",
       "\n",
       "       danceability  energy  key  loudness  mode  speechiness  acousticness  \\\n",
       "93802         0.677   0.696    0    -6.181     1       0.1190        0.3210   \n",
       "93803         0.585   0.436   10    -8.761     1       0.0601        0.7210   \n",
       "93804         0.778   0.695    4    -6.865     0       0.0913        0.1750   \n",
       "92810         0.680   0.826    0    -5.487     1       0.0309        0.0212   \n",
       "92811         0.653   0.524   11    -9.016     0       0.0502        0.1120   \n",
       "\n",
       "       instrumentalness  liveness  valence    tempo  time_signature  \n",
       "93802          0.000000     0.420    0.464   90.030               4  \n",
       "93803          0.000013     0.105    0.132  143.874               4  \n",
       "93804          0.000000     0.150    0.472  149.996               4  \n",
       "92810          0.000012     0.543    0.644  118.051               4  \n",
       "92811          0.000000     0.203    0.553   83.970               4  "
      ]
     },
     "execution_count": 6,
     "metadata": {},
     "output_type": "execute_result"
    }
   ],
   "source": [
    "sorted_df.head()"
   ]
  },
  {
   "cell_type": "markdown",
   "metadata": {},
   "source": [
    "# Data Cleaning "
   ]
  },
  {
   "cell_type": "markdown",
   "metadata": {},
   "source": [
    "Let's do some preliminary exploration on the data. First of all, what type of records does it contain? How are the values for each record obtained? It appears that the name column contains individual songs and their respective names. In the rest of the data features, we can see durations, popularities and other audio features. Let's examine if any of these contain weird values that shouldn't be there, starting with the durations."
   ]
  },
  {
   "cell_type": "code",
   "execution_count": 7,
   "metadata": {},
   "outputs": [
    {
     "data": {
      "text/plain": [
       "Int64Index([170813, 203064, 205090, 198082, 239836, 166794, 196653, 243837,\n",
       "            289933, 130014, 261493, 204347, 247308, 192956, 132833, 165926,\n",
       "            215280, 183624, 140942, 123263, 207481, 222523, 190476, 163208,\n",
       "            173333, 214621, 207133, 198040, 169333, 208827, 211467, 245426,\n",
       "            232253, 178627, 157606, 240051, 240133, 175721, 212093, 176840,\n",
       "            312820, 233713, 272394, 269560, 185487, 194088, 209438, 208907,\n",
       "            189486, 200186, 216107, 154998, 226987, 218107, 156945, 167903,\n",
       "            186133, 172325, 116750, 203201, 279204, 161385, 261667, 242014,\n",
       "            169153, 232853, 198371, 164000, 200040, 242096, 160191, 215627,\n",
       "            132780, 174000, 162803, 169266, 199054, 186088, 227395, 215508,\n",
       "            190779, 174321, 240400, 174760, 187541, 182161, 155884, 165507,\n",
       "            178154, 150053, 215891, 166028, 160000, 181733, 173711, 178947,\n",
       "            243773],\n",
       "           dtype='int64')"
      ]
     },
     "execution_count": 7,
     "metadata": {},
     "output_type": "execute_result"
    }
   ],
   "source": [
    "sorted_df['duration_ms'].value_counts().index.unique()"
   ]
  },
  {
   "cell_type": "code",
   "execution_count": 8,
   "metadata": {},
   "outputs": [
    {
     "name": "stdout",
     "output_type": "stream",
     "text": [
      "312820 116750\n"
     ]
    }
   ],
   "source": [
    "print(max(sorted_df['duration_ms'].value_counts().index.unique()), min(sorted_df['duration_ms'].value_counts().index.unique()))"
   ]
  },
  {
   "cell_type": "markdown",
   "metadata": {},
   "source": [
    "The miliseconds perhaps is hard to understand, so we'll convert this into minutes and seconds instead:"
   ]
  },
  {
   "cell_type": "code",
   "execution_count": 9,
   "metadata": {},
   "outputs": [
    {
     "data": {
      "text/html": [
       "<div>\n",
       "<style scoped>\n",
       "    .dataframe tbody tr th:only-of-type {\n",
       "        vertical-align: middle;\n",
       "    }\n",
       "\n",
       "    .dataframe tbody tr th {\n",
       "        vertical-align: top;\n",
       "    }\n",
       "\n",
       "    .dataframe thead th {\n",
       "        text-align: right;\n",
       "    }\n",
       "</style>\n",
       "<table border=\"1\" class=\"dataframe\">\n",
       "  <thead>\n",
       "    <tr style=\"text-align: right;\">\n",
       "      <th></th>\n",
       "      <th>id</th>\n",
       "      <th>name</th>\n",
       "      <th>popularity</th>\n",
       "      <th>duration_ms</th>\n",
       "      <th>explicit</th>\n",
       "      <th>artists</th>\n",
       "      <th>id_artists</th>\n",
       "      <th>release_date</th>\n",
       "      <th>danceability</th>\n",
       "      <th>energy</th>\n",
       "      <th>...</th>\n",
       "      <th>loudness</th>\n",
       "      <th>mode</th>\n",
       "      <th>speechiness</th>\n",
       "      <th>acousticness</th>\n",
       "      <th>instrumentalness</th>\n",
       "      <th>liveness</th>\n",
       "      <th>valence</th>\n",
       "      <th>tempo</th>\n",
       "      <th>time_signature</th>\n",
       "      <th>duration_minutes</th>\n",
       "    </tr>\n",
       "  </thead>\n",
       "  <tbody>\n",
       "    <tr>\n",
       "      <th>93802</th>\n",
       "      <td>4iJyoBOLtHqaGxP12qzhQI</td>\n",
       "      <td>Peaches (feat. Daniel Caesar &amp; Giveon)</td>\n",
       "      <td>100</td>\n",
       "      <td>198082</td>\n",
       "      <td>1</td>\n",
       "      <td>['Justin Bieber', 'Daniel Caesar', 'Giveon']</td>\n",
       "      <td>['1uNFoZAHBGtllmzznpCI3s', '20wkVLutqVOYrc0kxF...</td>\n",
       "      <td>2021-03-19</td>\n",
       "      <td>0.677</td>\n",
       "      <td>0.696</td>\n",
       "      <td>...</td>\n",
       "      <td>-6.181</td>\n",
       "      <td>1</td>\n",
       "      <td>0.1190</td>\n",
       "      <td>0.3210</td>\n",
       "      <td>0.000000</td>\n",
       "      <td>0.420</td>\n",
       "      <td>0.464</td>\n",
       "      <td>90.030</td>\n",
       "      <td>4</td>\n",
       "      <td>3.301367</td>\n",
       "    </tr>\n",
       "    <tr>\n",
       "      <th>93803</th>\n",
       "      <td>7lPN2DXiMsVn7XUKtOW1CS</td>\n",
       "      <td>drivers license</td>\n",
       "      <td>99</td>\n",
       "      <td>242014</td>\n",
       "      <td>1</td>\n",
       "      <td>['Olivia Rodrigo']</td>\n",
       "      <td>['1McMsnEElThX1knmY4oliG']</td>\n",
       "      <td>2021-01-08</td>\n",
       "      <td>0.585</td>\n",
       "      <td>0.436</td>\n",
       "      <td>...</td>\n",
       "      <td>-8.761</td>\n",
       "      <td>1</td>\n",
       "      <td>0.0601</td>\n",
       "      <td>0.7210</td>\n",
       "      <td>0.000013</td>\n",
       "      <td>0.105</td>\n",
       "      <td>0.132</td>\n",
       "      <td>143.874</td>\n",
       "      <td>4</td>\n",
       "      <td>4.033567</td>\n",
       "    </tr>\n",
       "    <tr>\n",
       "      <th>93804</th>\n",
       "      <td>3Ofmpyhv5UAQ70mENzB277</td>\n",
       "      <td>Astronaut In The Ocean</td>\n",
       "      <td>98</td>\n",
       "      <td>132780</td>\n",
       "      <td>0</td>\n",
       "      <td>['Masked Wolf']</td>\n",
       "      <td>['1uU7g3DNSbsu0QjSEqZtEd']</td>\n",
       "      <td>2021-01-06</td>\n",
       "      <td>0.778</td>\n",
       "      <td>0.695</td>\n",
       "      <td>...</td>\n",
       "      <td>-6.865</td>\n",
       "      <td>0</td>\n",
       "      <td>0.0913</td>\n",
       "      <td>0.1750</td>\n",
       "      <td>0.000000</td>\n",
       "      <td>0.150</td>\n",
       "      <td>0.472</td>\n",
       "      <td>149.996</td>\n",
       "      <td>4</td>\n",
       "      <td>2.213000</td>\n",
       "    </tr>\n",
       "    <tr>\n",
       "      <th>92810</th>\n",
       "      <td>5QO79kh1waicV47BqGRL3g</td>\n",
       "      <td>Save Your Tears</td>\n",
       "      <td>97</td>\n",
       "      <td>215627</td>\n",
       "      <td>1</td>\n",
       "      <td>['The Weeknd']</td>\n",
       "      <td>['1Xyo4u8uXC1ZmMpatF05PJ']</td>\n",
       "      <td>2020-03-20</td>\n",
       "      <td>0.680</td>\n",
       "      <td>0.826</td>\n",
       "      <td>...</td>\n",
       "      <td>-5.487</td>\n",
       "      <td>1</td>\n",
       "      <td>0.0309</td>\n",
       "      <td>0.0212</td>\n",
       "      <td>0.000012</td>\n",
       "      <td>0.543</td>\n",
       "      <td>0.644</td>\n",
       "      <td>118.051</td>\n",
       "      <td>4</td>\n",
       "      <td>3.593783</td>\n",
       "    </tr>\n",
       "    <tr>\n",
       "      <th>92811</th>\n",
       "      <td>6tDDoYIxWvMLTdKpjFkc1B</td>\n",
       "      <td>telepatía</td>\n",
       "      <td>97</td>\n",
       "      <td>160191</td>\n",
       "      <td>0</td>\n",
       "      <td>['Kali Uchis']</td>\n",
       "      <td>['1U1el3k54VvEUzo3ybLPlM']</td>\n",
       "      <td>2020-12-04</td>\n",
       "      <td>0.653</td>\n",
       "      <td>0.524</td>\n",
       "      <td>...</td>\n",
       "      <td>-9.016</td>\n",
       "      <td>0</td>\n",
       "      <td>0.0502</td>\n",
       "      <td>0.1120</td>\n",
       "      <td>0.000000</td>\n",
       "      <td>0.203</td>\n",
       "      <td>0.553</td>\n",
       "      <td>83.970</td>\n",
       "      <td>4</td>\n",
       "      <td>2.669850</td>\n",
       "    </tr>\n",
       "  </tbody>\n",
       "</table>\n",
       "<p>5 rows × 21 columns</p>\n",
       "</div>"
      ],
      "text/plain": [
       "                           id                                    name  \\\n",
       "93802  4iJyoBOLtHqaGxP12qzhQI  Peaches (feat. Daniel Caesar & Giveon)   \n",
       "93803  7lPN2DXiMsVn7XUKtOW1CS                         drivers license   \n",
       "93804  3Ofmpyhv5UAQ70mENzB277                  Astronaut In The Ocean   \n",
       "92810  5QO79kh1waicV47BqGRL3g                         Save Your Tears   \n",
       "92811  6tDDoYIxWvMLTdKpjFkc1B                               telepatía   \n",
       "\n",
       "       popularity  duration_ms  explicit  \\\n",
       "93802         100       198082         1   \n",
       "93803          99       242014         1   \n",
       "93804          98       132780         0   \n",
       "92810          97       215627         1   \n",
       "92811          97       160191         0   \n",
       "\n",
       "                                            artists  \\\n",
       "93802  ['Justin Bieber', 'Daniel Caesar', 'Giveon']   \n",
       "93803                            ['Olivia Rodrigo']   \n",
       "93804                               ['Masked Wolf']   \n",
       "92810                                ['The Weeknd']   \n",
       "92811                                ['Kali Uchis']   \n",
       "\n",
       "                                              id_artists release_date  \\\n",
       "93802  ['1uNFoZAHBGtllmzznpCI3s', '20wkVLutqVOYrc0kxF...   2021-03-19   \n",
       "93803                         ['1McMsnEElThX1knmY4oliG']   2021-01-08   \n",
       "93804                         ['1uU7g3DNSbsu0QjSEqZtEd']   2021-01-06   \n",
       "92810                         ['1Xyo4u8uXC1ZmMpatF05PJ']   2020-03-20   \n",
       "92811                         ['1U1el3k54VvEUzo3ybLPlM']   2020-12-04   \n",
       "\n",
       "       danceability  energy  ...  loudness  mode  speechiness  acousticness  \\\n",
       "93802         0.677   0.696  ...    -6.181     1       0.1190        0.3210   \n",
       "93803         0.585   0.436  ...    -8.761     1       0.0601        0.7210   \n",
       "93804         0.778   0.695  ...    -6.865     0       0.0913        0.1750   \n",
       "92810         0.680   0.826  ...    -5.487     1       0.0309        0.0212   \n",
       "92811         0.653   0.524  ...    -9.016     0       0.0502        0.1120   \n",
       "\n",
       "       instrumentalness  liveness  valence    tempo  time_signature  \\\n",
       "93802          0.000000     0.420    0.464   90.030               4   \n",
       "93803          0.000013     0.105    0.132  143.874               4   \n",
       "93804          0.000000     0.150    0.472  149.996               4   \n",
       "92810          0.000012     0.543    0.644  118.051               4   \n",
       "92811          0.000000     0.203    0.553   83.970               4   \n",
       "\n",
       "       duration_minutes  \n",
       "93802          3.301367  \n",
       "93803          4.033567  \n",
       "93804          2.213000  \n",
       "92810          3.593783  \n",
       "92811          2.669850  \n",
       "\n",
       "[5 rows x 21 columns]"
      ]
     },
     "execution_count": 9,
     "metadata": {},
     "output_type": "execute_result"
    }
   ],
   "source": [
    "def minutes_seconds(x):\n",
    "    to_seconds = x/1000\n",
    "    to_minutes = to_seconds/60\n",
    "    return to_minutes\n",
    "\n",
    "sorted_df['duration_minutes'] = sorted_df['duration_ms'].map(minutes_seconds)\n",
    "sorted_df.head()"
   ]
  },
  {
   "cell_type": "markdown",
   "metadata": {},
   "source": [
    "Now we can take a look at how the song durations are distributed, and they seem like they form a left-skewed histogram, which more values at about 3 minutes. This prompts us to ask why songs tend to be shorter."
   ]
  },
  {
   "cell_type": "code",
   "execution_count": 10,
   "metadata": {},
   "outputs": [
    {
     "data": {
      "image/png": "[encoded data removed]",
      "text/plain": [
       "<Figure size 432x288 with 1 Axes>"
      ]
     },
     "metadata": {
      "needs_background": "light"
     },
     "output_type": "display_data"
    }
   ],
   "source": [
    "plt.hist(sorted_df['duration_minutes']);"
   ]
  },
  {
   "cell_type": "markdown",
   "metadata": {},
   "source": [
    "There are other features we want to understand, such as time signature. It is not immediately apparent what this means, so let's look at what values it contains, and it turns out it has either 3,4 or 5 as its values."
   ]
  },
  {
   "cell_type": "code",
   "execution_count": 11,
   "metadata": {},
   "outputs": [
    {
     "data": {
      "text/plain": [
       "Int64Index([4, 3, 5], dtype='int64')"
      ]
     },
     "execution_count": 11,
     "metadata": {},
     "output_type": "execute_result"
    }
   ],
   "source": [
    "sorted_df['time_signature'].value_counts().index.unique()"
   ]
  },
  {
   "cell_type": "markdown",
   "metadata": {},
   "source": [
    "Below, you can see the entire list of columns in this dataframe. One that is also hard to understand at first is \"key\". Looking at its values, it appears to have integers from 0 to 11. What does that correspond to?"
   ]
  },
  {
   "cell_type": "code",
   "execution_count": 12,
   "metadata": {},
   "outputs": [
    {
     "data": {
      "text/plain": [
       "Index(['id', 'name', 'popularity', 'duration_ms', 'explicit', 'artists',\n",
       "       'id_artists', 'release_date', 'danceability', 'energy', 'key',\n",
       "       'loudness', 'mode', 'speechiness', 'acousticness', 'instrumentalness',\n",
       "       'liveness', 'valence', 'tempo', 'time_signature', 'duration_minutes'],\n",
       "      dtype='object')"
      ]
     },
     "execution_count": 12,
     "metadata": {},
     "output_type": "execute_result"
    }
   ],
   "source": [
    "sorted_df.columns"
   ]
  },
  {
   "cell_type": "code",
   "execution_count": 13,
   "metadata": {},
   "outputs": [
    {
     "data": {
      "text/plain": [
       "array([ 0, 10,  4, 11,  5,  1,  8,  2,  6,  7,  9,  3])"
      ]
     },
     "execution_count": 13,
     "metadata": {},
     "output_type": "execute_result"
    }
   ],
   "source": [
    "sorted_df['key'].unique()"
   ]
  },
  {
   "cell_type": "markdown",
   "metadata": {},
   "source": [
    "Now let's look at the \"artists\" column, which is a Series with a list for each artist in a particular song, and the song columns. Are there any weird values here?"
   ]
  },
  {
   "cell_type": "code",
   "execution_count": 14,
   "metadata": {},
   "outputs": [
    {
     "data": {
      "text/plain": [
       "93802      ['Justin Bieber', 'Daniel Caesar', 'Giveon']\n",
       "93803                                ['Olivia Rodrigo']\n",
       "93804                                   ['Masked Wolf']\n",
       "92810                                    ['The Weeknd']\n",
       "92811                                    ['Kali Uchis']\n",
       "93805    ['Bruno Mars', 'Anderson .Paak', 'Silk Sonic']\n",
       "92813                                    ['The Weeknd']\n",
       "92814                                        ['Tiësto']\n",
       "92816                                        ['Giveon']\n",
       "92819                           ['Myke Towers', 'Juhn']\n",
       "Name: artists, dtype: object"
      ]
     },
     "execution_count": 14,
     "metadata": {},
     "output_type": "execute_result"
    }
   ],
   "source": [
    "sorted_df['artists'][:10]"
   ]
  },
  {
   "cell_type": "code",
   "execution_count": 15,
   "metadata": {},
   "outputs": [
    {
     "data": {
      "text/plain": [
       "array([\"['Justin Bieber', 'Daniel Caesar', 'Giveon']\",\n",
       "       \"['Olivia Rodrigo']\", \"['Masked Wolf']\", \"['The Weeknd']\",\n",
       "       \"['Kali Uchis']\", \"['Bruno Mars', 'Anderson .Paak', 'Silk Sonic']\",\n",
       "       \"['Tiësto']\", \"['Giveon']\", \"['Myke Towers', 'Juhn']\",\n",
       "       \"['Riton', 'Nightcrawlers', 'Mufasa & Hypeman', 'Dopamine']\",\n",
       "       \"['Los Legendarios', 'Wisin', 'Jhay Cortez']\", \"['Doja Cat']\",\n",
       "       \"['The Kid LAROI']\", \"['SZA']\", \"['Bad Bunny', 'ROSALÍA']\",\n",
       "       \"['Nathan Evans', '220 KID', 'Billen Ted']\",\n",
       "       \"['Bad Bunny', 'Jhay Cortez']\", \"['Ariana Grande']\", \"['Boza']\",\n",
       "       \"['MEDUZA', 'Dermot Kennedy']\", \"['Justin Bieber']\", \"['Cardi B']\",\n",
       "       \"['Rochy RD', 'Myke Towers', 'Nicki Nicole']\", \"['Harry Styles']\",\n",
       "       \"['Travis Scott', 'HVME']\", \"['Tate McRae']\", \"['BTS']\",\n",
       "       \"['KAROL G']\", \"['DaBaby', 'Roddy Ricch']\", \"['Pop Smoke']\",\n",
       "       \"['Joel Corry', 'MNEK']\", \"['Sech']\", \"['ATB', 'Topic', 'A7S']\",\n",
       "       \"['Drake']\", \"['Dua Lipa']\", \"['Saweetie', 'Doja Cat']\",\n",
       "       \"['Lewis Capaldi']\", \"['Cardi B', 'Megan Thee Stallion']\",\n",
       "       \"['Ava Max']\", \"['The Neighbourhood']\", \"['Dua Lipa', 'DaBaby']\",\n",
       "       \"['Billie Eilish']\", \"['Maroon 5', 'Megan Thee Stallion']\",\n",
       "       \"['Selena Gomez', 'Rauw Alejandro']\",\n",
       "       \"['Manuel Turizo', 'Rauw Alejandro', 'Myke Towers']\",\n",
       "       \"['Lil Nas X']\", \"['Conan Gray']\", \"['Billie Eilish', 'Khalid']\",\n",
       "       \"['Powfu', 'beabadoobee']\", \"['HVME']\",\n",
       "       \"['Pop Smoke', 'Lil Baby', 'DaBaby']\",\n",
       "       \"['Black Eyed Peas', 'Shakira']\", \"['CJ']\",\n",
       "       \"['Israel & Rodolffo']\", \"['Duncan Laurence']\", \"['Post Malone']\",\n",
       "       \"['Polo G']\", \"['Drake', 'Lil Baby']\", \"['Juice WRLD']\",\n",
       "       \"['Sech', 'Daddy Yankee', 'J Balvin', 'ROSALÍA', 'Farruko']\",\n",
       "       \"['Imagine Dragons']\", \"['Drake', 'Lil Durk']\", \"['Bad Bunny']\",\n",
       "       \"['Milly', 'Farruko', 'Nio Garcia', 'Jay Wheeler', 'Amenazzy']\",\n",
       "       \"['Travis Scott']\", \"['Roddy Ricch']\", \"['Topic', 'A7S']\",\n",
       "       \"['SAINt JHN', 'Imanbek']\", \"['Maroon 5']\", \"['Tones And I']\",\n",
       "       \"['Ed Sheeran']\", \"['John Legend']\", \"['Arctic Monkeys']\",\n",
       "       \"['Justin Bieber', 'Chance the Rapper']\",\n",
       "       \"['Miley Cyrus', 'Dua Lipa']\", \"['Regard']\",\n",
       "       \"['J Balvin', 'Tainy', 'Dua Lipa', 'Bad Bunny']\",\n",
       "       \"['James Arthur']\", \"['Gym Class Heroes']\"], dtype=object)"
      ]
     },
     "execution_count": 15,
     "metadata": {},
     "output_type": "execute_result"
    }
   ],
   "source": [
    "sorted_df['artists'].unique()"
   ]
  },
  {
   "cell_type": "code",
   "execution_count": 16,
   "metadata": {},
   "outputs": [
    {
     "data": {
      "text/plain": [
       "False"
      ]
     },
     "execution_count": 16,
     "metadata": {},
     "output_type": "execute_result"
    }
   ],
   "source": [
    "len(sorted_df['name'].unique()) == len(sorted_df['name'])"
   ]
  },
  {
   "cell_type": "markdown",
   "metadata": {},
   "source": [
    "Interestingly, a quick check that all of the songs are unique (i.e. songs appear only once in the dataframe), turns out to be false. That is, there could be duplicate songs, which we need to clean before we proceed. From below, it seems that there are 97 unique songs, but 100 songs in total in the dataframe. We can do this by grouping and sorting by the count. There are three songs that appear 2 times each, instead of 1 time as they should."
   ]
  },
  {
   "cell_type": "code",
   "execution_count": 17,
   "metadata": {},
   "outputs": [
    {
     "data": {
      "text/plain": [
       "97"
      ]
     },
     "execution_count": 17,
     "metadata": {},
     "output_type": "execute_result"
    }
   ],
   "source": [
    "len(sorted_df['name'].unique())"
   ]
  },
  {
   "cell_type": "code",
   "execution_count": 18,
   "metadata": {},
   "outputs": [
    {
     "data": {
      "text/plain": [
       "100"
      ]
     },
     "execution_count": 18,
     "metadata": {},
     "output_type": "execute_result"
    }
   ],
   "source": [
    "len(sorted_df['name'])"
   ]
  },
  {
   "cell_type": "code",
   "execution_count": 19,
   "metadata": {},
   "outputs": [
    {
     "data": {
      "text/plain": [
       "name\n",
       "DÁKITI                                                2\n",
       "Levitating (feat. DaBaby)                             2\n",
       "Hold On                                               2\n",
       "34+35                                                 1\n",
       "Roses - Imanbek Remix                                 1\n",
       "                                                     ..\n",
       "GIRL LIKE ME                                          1\n",
       "Friday (feat. Mufasa & Hypeman) - Dopamine Re-Edit    1\n",
       "For The Night (feat. Lil Baby & DaBaby)               1\n",
       "Film out                                              1\n",
       "you broke me first                                    1\n",
       "Length: 97, dtype: int64"
      ]
     },
     "execution_count": 19,
     "metadata": {},
     "output_type": "execute_result"
    }
   ],
   "source": [
    "sorted_df.groupby(['name']).size().sort_values(ascending = False)"
   ]
  },
  {
   "cell_type": "code",
   "execution_count": 20,
   "metadata": {},
   "outputs": [
    {
     "data": {
      "text/html": [
       "<div>\n",
       "<style scoped>\n",
       "    .dataframe tbody tr th:only-of-type {\n",
       "        vertical-align: middle;\n",
       "    }\n",
       "\n",
       "    .dataframe tbody tr th {\n",
       "        vertical-align: top;\n",
       "    }\n",
       "\n",
       "    .dataframe thead th {\n",
       "        text-align: right;\n",
       "    }\n",
       "</style>\n",
       "<table border=\"1\" class=\"dataframe\">\n",
       "  <thead>\n",
       "    <tr style=\"text-align: right;\">\n",
       "      <th></th>\n",
       "      <th>id</th>\n",
       "      <th>name</th>\n",
       "      <th>popularity</th>\n",
       "      <th>duration_ms</th>\n",
       "      <th>explicit</th>\n",
       "      <th>artists</th>\n",
       "      <th>id_artists</th>\n",
       "      <th>release_date</th>\n",
       "      <th>danceability</th>\n",
       "      <th>energy</th>\n",
       "      <th>...</th>\n",
       "      <th>loudness</th>\n",
       "      <th>mode</th>\n",
       "      <th>speechiness</th>\n",
       "      <th>acousticness</th>\n",
       "      <th>instrumentalness</th>\n",
       "      <th>liveness</th>\n",
       "      <th>valence</th>\n",
       "      <th>tempo</th>\n",
       "      <th>time_signature</th>\n",
       "      <th>duration_minutes</th>\n",
       "    </tr>\n",
       "  </thead>\n",
       "  <tbody>\n",
       "    <tr>\n",
       "      <th>92824</th>\n",
       "      <td>47EiUVwUp4C9fGccaPuUCS</td>\n",
       "      <td>DÁKITI</td>\n",
       "      <td>92</td>\n",
       "      <td>205090</td>\n",
       "      <td>1</td>\n",
       "      <td>['Bad Bunny', 'Jhay Cortez']</td>\n",
       "      <td>['4q3ewBCX7sLwd24euuV69X', '0EFisYRi20PTADoJri...</td>\n",
       "      <td>2020-10-30</td>\n",
       "      <td>0.731</td>\n",
       "      <td>0.573</td>\n",
       "      <td>...</td>\n",
       "      <td>-10.059</td>\n",
       "      <td>0</td>\n",
       "      <td>0.0544</td>\n",
       "      <td>0.401</td>\n",
       "      <td>0.000052</td>\n",
       "      <td>0.113</td>\n",
       "      <td>0.145</td>\n",
       "      <td>109.928</td>\n",
       "      <td>4</td>\n",
       "      <td>3.418167</td>\n",
       "    </tr>\n",
       "    <tr>\n",
       "      <th>92847</th>\n",
       "      <td>4MzXwWMhyBbmu6hOcLVD49</td>\n",
       "      <td>DÁKITI</td>\n",
       "      <td>90</td>\n",
       "      <td>205090</td>\n",
       "      <td>1</td>\n",
       "      <td>['Bad Bunny', 'Jhay Cortez']</td>\n",
       "      <td>['4q3ewBCX7sLwd24euuV69X', '0EFisYRi20PTADoJri...</td>\n",
       "      <td>2020-11-27</td>\n",
       "      <td>0.731</td>\n",
       "      <td>0.573</td>\n",
       "      <td>...</td>\n",
       "      <td>-10.059</td>\n",
       "      <td>0</td>\n",
       "      <td>0.0544</td>\n",
       "      <td>0.401</td>\n",
       "      <td>0.000052</td>\n",
       "      <td>0.113</td>\n",
       "      <td>0.145</td>\n",
       "      <td>109.928</td>\n",
       "      <td>4</td>\n",
       "      <td>3.418167</td>\n",
       "    </tr>\n",
       "  </tbody>\n",
       "</table>\n",
       "<p>2 rows × 21 columns</p>\n",
       "</div>"
      ],
      "text/plain": [
       "                           id    name  popularity  duration_ms  explicit  \\\n",
       "92824  47EiUVwUp4C9fGccaPuUCS  DÁKITI          92       205090         1   \n",
       "92847  4MzXwWMhyBbmu6hOcLVD49  DÁKITI          90       205090         1   \n",
       "\n",
       "                            artists  \\\n",
       "92824  ['Bad Bunny', 'Jhay Cortez']   \n",
       "92847  ['Bad Bunny', 'Jhay Cortez']   \n",
       "\n",
       "                                              id_artists release_date  \\\n",
       "92824  ['4q3ewBCX7sLwd24euuV69X', '0EFisYRi20PTADoJri...   2020-10-30   \n",
       "92847  ['4q3ewBCX7sLwd24euuV69X', '0EFisYRi20PTADoJri...   2020-11-27   \n",
       "\n",
       "       danceability  energy  ...  loudness  mode  speechiness  acousticness  \\\n",
       "92824         0.731   0.573  ...   -10.059     0       0.0544         0.401   \n",
       "92847         0.731   0.573  ...   -10.059     0       0.0544         0.401   \n",
       "\n",
       "       instrumentalness  liveness  valence    tempo  time_signature  \\\n",
       "92824          0.000052     0.113    0.145  109.928               4   \n",
       "92847          0.000052     0.113    0.145  109.928               4   \n",
       "\n",
       "       duration_minutes  \n",
       "92824          3.418167  \n",
       "92847          3.418167  \n",
       "\n",
       "[2 rows x 21 columns]"
      ]
     },
     "execution_count": 20,
     "metadata": {},
     "output_type": "execute_result"
    }
   ],
   "source": [
    "sorted_df[sorted_df['name'] == 'DÁKITI']"
   ]
  },
  {
   "cell_type": "code",
   "execution_count": 21,
   "metadata": {},
   "outputs": [
    {
     "data": {
      "text/html": [
       "<div>\n",
       "<style scoped>\n",
       "    .dataframe tbody tr th:only-of-type {\n",
       "        vertical-align: middle;\n",
       "    }\n",
       "\n",
       "    .dataframe tbody tr th {\n",
       "        vertical-align: top;\n",
       "    }\n",
       "\n",
       "    .dataframe thead th {\n",
       "        text-align: right;\n",
       "    }\n",
       "</style>\n",
       "<table border=\"1\" class=\"dataframe\">\n",
       "  <thead>\n",
       "    <tr style=\"text-align: right;\">\n",
       "      <th></th>\n",
       "      <th>id</th>\n",
       "      <th>name</th>\n",
       "      <th>popularity</th>\n",
       "      <th>duration_ms</th>\n",
       "      <th>explicit</th>\n",
       "      <th>artists</th>\n",
       "      <th>id_artists</th>\n",
       "      <th>release_date</th>\n",
       "      <th>danceability</th>\n",
       "      <th>energy</th>\n",
       "      <th>...</th>\n",
       "      <th>loudness</th>\n",
       "      <th>mode</th>\n",
       "      <th>speechiness</th>\n",
       "      <th>acousticness</th>\n",
       "      <th>instrumentalness</th>\n",
       "      <th>liveness</th>\n",
       "      <th>valence</th>\n",
       "      <th>tempo</th>\n",
       "      <th>time_signature</th>\n",
       "      <th>duration_minutes</th>\n",
       "    </tr>\n",
       "  </thead>\n",
       "  <tbody>\n",
       "    <tr>\n",
       "      <th>92843</th>\n",
       "      <td>463CkQjx2Zk1yXoBuierM9</td>\n",
       "      <td>Levitating (feat. DaBaby)</td>\n",
       "      <td>90</td>\n",
       "      <td>203064</td>\n",
       "      <td>0</td>\n",
       "      <td>['Dua Lipa', 'DaBaby']</td>\n",
       "      <td>['6M2wZ9GZgrQXHCFfjv46we', '4r63FhuTkUYltbVAg5...</td>\n",
       "      <td>2020-10-01</td>\n",
       "      <td>0.702</td>\n",
       "      <td>0.825</td>\n",
       "      <td>...</td>\n",
       "      <td>-3.787</td>\n",
       "      <td>0</td>\n",
       "      <td>0.0601</td>\n",
       "      <td>0.00883</td>\n",
       "      <td>0.0</td>\n",
       "      <td>0.0674</td>\n",
       "      <td>0.915</td>\n",
       "      <td>102.977</td>\n",
       "      <td>4</td>\n",
       "      <td>3.3844</td>\n",
       "    </tr>\n",
       "    <tr>\n",
       "      <th>92867</th>\n",
       "      <td>5nujrmhLynf4yMoMtj8AQF</td>\n",
       "      <td>Levitating (feat. DaBaby)</td>\n",
       "      <td>89</td>\n",
       "      <td>203064</td>\n",
       "      <td>0</td>\n",
       "      <td>['Dua Lipa', 'DaBaby']</td>\n",
       "      <td>['6M2wZ9GZgrQXHCFfjv46we', '4r63FhuTkUYltbVAg5...</td>\n",
       "      <td>2020-03-27</td>\n",
       "      <td>0.702</td>\n",
       "      <td>0.825</td>\n",
       "      <td>...</td>\n",
       "      <td>-3.787</td>\n",
       "      <td>0</td>\n",
       "      <td>0.0601</td>\n",
       "      <td>0.00883</td>\n",
       "      <td>0.0</td>\n",
       "      <td>0.0674</td>\n",
       "      <td>0.915</td>\n",
       "      <td>102.977</td>\n",
       "      <td>4</td>\n",
       "      <td>3.3844</td>\n",
       "    </tr>\n",
       "  </tbody>\n",
       "</table>\n",
       "<p>2 rows × 21 columns</p>\n",
       "</div>"
      ],
      "text/plain": [
       "                           id                       name  popularity  \\\n",
       "92843  463CkQjx2Zk1yXoBuierM9  Levitating (feat. DaBaby)          90   \n",
       "92867  5nujrmhLynf4yMoMtj8AQF  Levitating (feat. DaBaby)          89   \n",
       "\n",
       "       duration_ms  explicit                 artists  \\\n",
       "92843       203064         0  ['Dua Lipa', 'DaBaby']   \n",
       "92867       203064         0  ['Dua Lipa', 'DaBaby']   \n",
       "\n",
       "                                              id_artists release_date  \\\n",
       "92843  ['6M2wZ9GZgrQXHCFfjv46we', '4r63FhuTkUYltbVAg5...   2020-10-01   \n",
       "92867  ['6M2wZ9GZgrQXHCFfjv46we', '4r63FhuTkUYltbVAg5...   2020-03-27   \n",
       "\n",
       "       danceability  energy  ...  loudness  mode  speechiness  acousticness  \\\n",
       "92843         0.702   0.825  ...    -3.787     0       0.0601       0.00883   \n",
       "92867         0.702   0.825  ...    -3.787     0       0.0601       0.00883   \n",
       "\n",
       "       instrumentalness  liveness  valence    tempo  time_signature  \\\n",
       "92843               0.0    0.0674    0.915  102.977               4   \n",
       "92867               0.0    0.0674    0.915  102.977               4   \n",
       "\n",
       "       duration_minutes  \n",
       "92843            3.3844  \n",
       "92867            3.3844  \n",
       "\n",
       "[2 rows x 21 columns]"
      ]
     },
     "execution_count": 21,
     "metadata": {},
     "output_type": "execute_result"
    }
   ],
   "source": [
    "sorted_df[sorted_df['name'] == 'Levitating (feat. DaBaby)']"
   ]
  },
  {
   "cell_type": "code",
   "execution_count": 22,
   "metadata": {},
   "outputs": [
    {
     "data": {
      "text/html": [
       "<div>\n",
       "<style scoped>\n",
       "    .dataframe tbody tr th:only-of-type {\n",
       "        vertical-align: middle;\n",
       "    }\n",
       "\n",
       "    .dataframe tbody tr th {\n",
       "        vertical-align: top;\n",
       "    }\n",
       "\n",
       "    .dataframe thead th {\n",
       "        text-align: right;\n",
       "    }\n",
       "</style>\n",
       "<table border=\"1\" class=\"dataframe\">\n",
       "  <thead>\n",
       "    <tr style=\"text-align: right;\">\n",
       "      <th></th>\n",
       "      <th>id</th>\n",
       "      <th>name</th>\n",
       "      <th>popularity</th>\n",
       "      <th>duration_ms</th>\n",
       "      <th>explicit</th>\n",
       "      <th>artists</th>\n",
       "      <th>id_artists</th>\n",
       "      <th>release_date</th>\n",
       "      <th>danceability</th>\n",
       "      <th>energy</th>\n",
       "      <th>...</th>\n",
       "      <th>loudness</th>\n",
       "      <th>mode</th>\n",
       "      <th>speechiness</th>\n",
       "      <th>acousticness</th>\n",
       "      <th>instrumentalness</th>\n",
       "      <th>liveness</th>\n",
       "      <th>valence</th>\n",
       "      <th>tempo</th>\n",
       "      <th>time_signature</th>\n",
       "      <th>duration_minutes</th>\n",
       "    </tr>\n",
       "  </thead>\n",
       "  <tbody>\n",
       "    <tr>\n",
       "      <th>93811</th>\n",
       "      <td>4u4NyuceXP7Uzh7XFJKCr1</td>\n",
       "      <td>Hold On</td>\n",
       "      <td>92</td>\n",
       "      <td>170813</td>\n",
       "      <td>0</td>\n",
       "      <td>['Justin Bieber']</td>\n",
       "      <td>['1uNFoZAHBGtllmzznpCI3s']</td>\n",
       "      <td>2021-03-05</td>\n",
       "      <td>0.658</td>\n",
       "      <td>0.634</td>\n",
       "      <td>...</td>\n",
       "      <td>-5.797</td>\n",
       "      <td>0</td>\n",
       "      <td>0.0413</td>\n",
       "      <td>0.0106</td>\n",
       "      <td>0.0</td>\n",
       "      <td>0.132</td>\n",
       "      <td>0.290</td>\n",
       "      <td>139.980</td>\n",
       "      <td>4</td>\n",
       "      <td>2.846883</td>\n",
       "    </tr>\n",
       "    <tr>\n",
       "      <th>93838</th>\n",
       "      <td>1nahzW3kfMuwReTka28tH5</td>\n",
       "      <td>Hold On</td>\n",
       "      <td>88</td>\n",
       "      <td>170813</td>\n",
       "      <td>0</td>\n",
       "      <td>['Justin Bieber']</td>\n",
       "      <td>['1uNFoZAHBGtllmzznpCI3s']</td>\n",
       "      <td>2021-03-19</td>\n",
       "      <td>0.658</td>\n",
       "      <td>0.634</td>\n",
       "      <td>...</td>\n",
       "      <td>-6.068</td>\n",
       "      <td>0</td>\n",
       "      <td>0.0431</td>\n",
       "      <td>0.0104</td>\n",
       "      <td>0.0</td>\n",
       "      <td>0.120</td>\n",
       "      <td>0.302</td>\n",
       "      <td>140.002</td>\n",
       "      <td>4</td>\n",
       "      <td>2.846883</td>\n",
       "    </tr>\n",
       "  </tbody>\n",
       "</table>\n",
       "<p>2 rows × 21 columns</p>\n",
       "</div>"
      ],
      "text/plain": [
       "                           id     name  popularity  duration_ms  explicit  \\\n",
       "93811  4u4NyuceXP7Uzh7XFJKCr1  Hold On          92       170813         0   \n",
       "93838  1nahzW3kfMuwReTka28tH5  Hold On          88       170813         0   \n",
       "\n",
       "                 artists                  id_artists release_date  \\\n",
       "93811  ['Justin Bieber']  ['1uNFoZAHBGtllmzznpCI3s']   2021-03-05   \n",
       "93838  ['Justin Bieber']  ['1uNFoZAHBGtllmzznpCI3s']   2021-03-19   \n",
       "\n",
       "       danceability  energy  ...  loudness  mode  speechiness  acousticness  \\\n",
       "93811         0.658   0.634  ...    -5.797     0       0.0413        0.0106   \n",
       "93838         0.658   0.634  ...    -6.068     0       0.0431        0.0104   \n",
       "\n",
       "       instrumentalness  liveness  valence    tempo  time_signature  \\\n",
       "93811               0.0     0.132    0.290  139.980               4   \n",
       "93838               0.0     0.120    0.302  140.002               4   \n",
       "\n",
       "       duration_minutes  \n",
       "93811          2.846883  \n",
       "93838          2.846883  \n",
       "\n",
       "[2 rows x 21 columns]"
      ]
     },
     "execution_count": 22,
     "metadata": {},
     "output_type": "execute_result"
    }
   ],
   "source": [
    "sorted_df[sorted_df['name'] == 'Hold On']"
   ]
  },
  {
   "cell_type": "markdown",
   "metadata": {},
   "source": [
    "We need to decide how to deal with these, especially as each of these has a different popularity score for the same song, which is impossible when ranking the top 100 songs. Let's first look at the values in the popularity column. So it does look like the values don't go from 1 to 100, as we previously assumed. Instead, they go from 87 to 100. 87 seems arbitrary, so let's look a bit more into that. It is hard to tell from this one dataframe what could be going wrong, but there are some clues in the \"release_date\" column."
   ]
  },
  {
   "cell_type": "code",
   "execution_count": 23,
   "metadata": {},
   "outputs": [
    {
     "data": {
      "text/html": [
       "<div>\n",
       "<style scoped>\n",
       "    .dataframe tbody tr th:only-of-type {\n",
       "        vertical-align: middle;\n",
       "    }\n",
       "\n",
       "    .dataframe tbody tr th {\n",
       "        vertical-align: top;\n",
       "    }\n",
       "\n",
       "    .dataframe thead th {\n",
       "        text-align: right;\n",
       "    }\n",
       "</style>\n",
       "<table border=\"1\" class=\"dataframe\">\n",
       "  <thead>\n",
       "    <tr style=\"text-align: right;\">\n",
       "      <th></th>\n",
       "      <th>id</th>\n",
       "      <th>name</th>\n",
       "      <th>popularity</th>\n",
       "      <th>duration_ms</th>\n",
       "      <th>explicit</th>\n",
       "      <th>artists</th>\n",
       "      <th>id_artists</th>\n",
       "      <th>release_date</th>\n",
       "      <th>danceability</th>\n",
       "      <th>energy</th>\n",
       "      <th>...</th>\n",
       "      <th>loudness</th>\n",
       "      <th>mode</th>\n",
       "      <th>speechiness</th>\n",
       "      <th>acousticness</th>\n",
       "      <th>instrumentalness</th>\n",
       "      <th>liveness</th>\n",
       "      <th>valence</th>\n",
       "      <th>tempo</th>\n",
       "      <th>time_signature</th>\n",
       "      <th>duration_minutes</th>\n",
       "    </tr>\n",
       "  </thead>\n",
       "  <tbody>\n",
       "    <tr>\n",
       "      <th>78355</th>\n",
       "      <td>2Lhdl74nwwVGOE2Gv35QuK</td>\n",
       "      <td>Cupid's Chokehold / Breakfast in America</td>\n",
       "      <td>87</td>\n",
       "      <td>243773</td>\n",
       "      <td>0</td>\n",
       "      <td>['Gym Class Heroes']</td>\n",
       "      <td>['4IJczjB0fJ04gs4uvP0Fli']</td>\n",
       "      <td>2005-02-22</td>\n",
       "      <td>0.720</td>\n",
       "      <td>0.744</td>\n",
       "      <td>...</td>\n",
       "      <td>-6.938</td>\n",
       "      <td>0</td>\n",
       "      <td>0.1200</td>\n",
       "      <td>0.23700</td>\n",
       "      <td>0.000000</td>\n",
       "      <td>0.2550</td>\n",
       "      <td>0.619</td>\n",
       "      <td>78.953</td>\n",
       "      <td>4</td>\n",
       "      <td>4.062883</td>\n",
       "    </tr>\n",
       "    <tr>\n",
       "      <th>86017</th>\n",
       "      <td>3U4isOIWM3VvDubwSI3y7a</td>\n",
       "      <td>All of Me</td>\n",
       "      <td>87</td>\n",
       "      <td>269560</td>\n",
       "      <td>0</td>\n",
       "      <td>['John Legend']</td>\n",
       "      <td>['5y2Xq6xcjJb2jVM54GHK3t']</td>\n",
       "      <td>2013-08-30</td>\n",
       "      <td>0.422</td>\n",
       "      <td>0.264</td>\n",
       "      <td>...</td>\n",
       "      <td>-7.064</td>\n",
       "      <td>1</td>\n",
       "      <td>0.0322</td>\n",
       "      <td>0.92200</td>\n",
       "      <td>0.000000</td>\n",
       "      <td>0.1320</td>\n",
       "      <td>0.331</td>\n",
       "      <td>119.930</td>\n",
       "      <td>4</td>\n",
       "      <td>4.492667</td>\n",
       "    </tr>\n",
       "    <tr>\n",
       "      <th>86018</th>\n",
       "      <td>5FVd6KXrgO9B3JPmC8OPst</td>\n",
       "      <td>Do I Wanna Know?</td>\n",
       "      <td>87</td>\n",
       "      <td>272394</td>\n",
       "      <td>0</td>\n",
       "      <td>['Arctic Monkeys']</td>\n",
       "      <td>['7Ln80lUS6He07XvHI8qqHH']</td>\n",
       "      <td>2013-09-09</td>\n",
       "      <td>0.548</td>\n",
       "      <td>0.532</td>\n",
       "      <td>...</td>\n",
       "      <td>-7.596</td>\n",
       "      <td>1</td>\n",
       "      <td>0.0323</td>\n",
       "      <td>0.18600</td>\n",
       "      <td>0.000263</td>\n",
       "      <td>0.2170</td>\n",
       "      <td>0.405</td>\n",
       "      <td>85.030</td>\n",
       "      <td>4</td>\n",
       "      <td>4.539900</td>\n",
       "    </tr>\n",
       "    <tr>\n",
       "      <th>89912</th>\n",
       "      <td>7qiZfU4dY1lWllzX7mPBI3</td>\n",
       "      <td>Shape of You</td>\n",
       "      <td>87</td>\n",
       "      <td>233713</td>\n",
       "      <td>0</td>\n",
       "      <td>['Ed Sheeran']</td>\n",
       "      <td>['6eUKZXaKkcviH0Ku9w2n3V']</td>\n",
       "      <td>2017-03-03</td>\n",
       "      <td>0.825</td>\n",
       "      <td>0.652</td>\n",
       "      <td>...</td>\n",
       "      <td>-3.183</td>\n",
       "      <td>0</td>\n",
       "      <td>0.0802</td>\n",
       "      <td>0.58100</td>\n",
       "      <td>0.000000</td>\n",
       "      <td>0.0931</td>\n",
       "      <td>0.931</td>\n",
       "      <td>95.977</td>\n",
       "      <td>4</td>\n",
       "      <td>3.895217</td>\n",
       "    </tr>\n",
       "    <tr>\n",
       "      <th>90906</th>\n",
       "      <td>2xLMifQCjDGFmkHkpNLD9h</td>\n",
       "      <td>SICKO MODE</td>\n",
       "      <td>87</td>\n",
       "      <td>312820</td>\n",
       "      <td>1</td>\n",
       "      <td>['Travis Scott']</td>\n",
       "      <td>['0Y5tJX1MQlPlqiwlOH1tJY']</td>\n",
       "      <td>2018-08-03</td>\n",
       "      <td>0.834</td>\n",
       "      <td>0.730</td>\n",
       "      <td>...</td>\n",
       "      <td>-3.714</td>\n",
       "      <td>1</td>\n",
       "      <td>0.2220</td>\n",
       "      <td>0.00513</td>\n",
       "      <td>0.000000</td>\n",
       "      <td>0.1240</td>\n",
       "      <td>0.446</td>\n",
       "      <td>155.008</td>\n",
       "      <td>4</td>\n",
       "      <td>5.213667</td>\n",
       "    </tr>\n",
       "  </tbody>\n",
       "</table>\n",
       "<p>5 rows × 21 columns</p>\n",
       "</div>"
      ],
      "text/plain": [
       "                           id                                      name  \\\n",
       "78355  2Lhdl74nwwVGOE2Gv35QuK  Cupid's Chokehold / Breakfast in America   \n",
       "86017  3U4isOIWM3VvDubwSI3y7a                                 All of Me   \n",
       "86018  5FVd6KXrgO9B3JPmC8OPst                          Do I Wanna Know?   \n",
       "89912  7qiZfU4dY1lWllzX7mPBI3                              Shape of You   \n",
       "90906  2xLMifQCjDGFmkHkpNLD9h                                SICKO MODE   \n",
       "\n",
       "       popularity  duration_ms  explicit               artists  \\\n",
       "78355          87       243773         0  ['Gym Class Heroes']   \n",
       "86017          87       269560         0       ['John Legend']   \n",
       "86018          87       272394         0    ['Arctic Monkeys']   \n",
       "89912          87       233713         0        ['Ed Sheeran']   \n",
       "90906          87       312820         1      ['Travis Scott']   \n",
       "\n",
       "                       id_artists release_date  danceability  energy  ...  \\\n",
       "78355  ['4IJczjB0fJ04gs4uvP0Fli']   2005-02-22         0.720   0.744  ...   \n",
       "86017  ['5y2Xq6xcjJb2jVM54GHK3t']   2013-08-30         0.422   0.264  ...   \n",
       "86018  ['7Ln80lUS6He07XvHI8qqHH']   2013-09-09         0.548   0.532  ...   \n",
       "89912  ['6eUKZXaKkcviH0Ku9w2n3V']   2017-03-03         0.825   0.652  ...   \n",
       "90906  ['0Y5tJX1MQlPlqiwlOH1tJY']   2018-08-03         0.834   0.730  ...   \n",
       "\n",
       "       loudness  mode  speechiness  acousticness  instrumentalness  liveness  \\\n",
       "78355    -6.938     0       0.1200       0.23700          0.000000    0.2550   \n",
       "86017    -7.064     1       0.0322       0.92200          0.000000    0.1320   \n",
       "86018    -7.596     1       0.0323       0.18600          0.000263    0.2170   \n",
       "89912    -3.183     0       0.0802       0.58100          0.000000    0.0931   \n",
       "90906    -3.714     1       0.2220       0.00513          0.000000    0.1240   \n",
       "\n",
       "       valence    tempo  time_signature  duration_minutes  \n",
       "78355    0.619   78.953               4          4.062883  \n",
       "86017    0.331  119.930               4          4.492667  \n",
       "86018    0.405   85.030               4          4.539900  \n",
       "89912    0.931   95.977               4          3.895217  \n",
       "90906    0.446  155.008               4          5.213667  \n",
       "\n",
       "[5 rows x 21 columns]"
      ]
     },
     "execution_count": 23,
     "metadata": {},
     "output_type": "execute_result"
    }
   ],
   "source": [
    "sorted_df.sort_values('popularity', ascending = True).head()"
   ]
  },
  {
   "cell_type": "code",
   "execution_count": 24,
   "metadata": {},
   "outputs": [
    {
     "data": {
      "text/plain": [
       "array([100,  99,  98,  97,  96,  95,  94,  93,  92,  91,  90,  89,  88,\n",
       "        87])"
      ]
     },
     "execution_count": 24,
     "metadata": {},
     "output_type": "execute_result"
    }
   ],
   "source": [
    "sorted_df['popularity'].unique()"
   ]
  },
  {
   "cell_type": "code",
   "execution_count": 25,
   "metadata": {},
   "outputs": [
    {
     "data": {
      "text/plain": [
       "'2021-04-09'"
      ]
     },
     "execution_count": 25,
     "metadata": {},
     "output_type": "execute_result"
    }
   ],
   "source": [
    "max(sorted_df['release_date'])"
   ]
  },
  {
   "cell_type": "code",
   "execution_count": 26,
   "metadata": {},
   "outputs": [
    {
     "data": {
      "text/plain": [
       "'2005-02-22'"
      ]
     },
     "execution_count": 26,
     "metadata": {},
     "output_type": "execute_result"
    }
   ],
   "source": [
    "min(sorted_df['release_date'])"
   ]
  },
  {
   "cell_type": "markdown",
   "metadata": {},
   "source": [
    "The dates aren't from the same year, so this could be some merging together of different songs from various years, which might have been popular when they were released. Here is a plot of the dates, which is slightly unclear to see, so we will process that now by only extracting the year."
   ]
  },
  {
   "cell_type": "code",
   "execution_count": 27,
   "metadata": {},
   "outputs": [
    {
     "data": {
      "text/plain": [
       "[<matplotlib.lines.Line2D at 0x7f003cf6cca0>]"
      ]
     },
     "execution_count": 27,
     "metadata": {},
     "output_type": "execute_result"
    },
    {
     "data": {
      "image/png": "[encoded data removed]",
      "text/plain": [
       "<Figure size 432x288 with 1 Axes>"
      ]
     },
     "metadata": {
      "needs_background": "light"
     },
     "output_type": "display_data"
    }
   ],
   "source": [
    "y = sorted_df.groupby(['release_date']).count()['id'].values\n",
    "plt.plot(sorted_df.groupby(['release_date']).count().index, y)"
   ]
  },
  {
   "cell_type": "code",
   "execution_count": 28,
   "metadata": {},
   "outputs": [
    {
     "data": {
      "text/plain": [
       "[<matplotlib.lines.Line2D at 0x7f003cde2550>]"
      ]
     },
     "execution_count": 28,
     "metadata": {},
     "output_type": "execute_result"
    },
    {
     "data": {
      "image/png": "[encoded data removed]",
      "text/plain": [
       "<Figure size 432x288 with 1 Axes>"
      ]
     },
     "metadata": {
      "needs_background": "light"
     },
     "output_type": "display_data"
    }
   ],
   "source": [
    "years = sorted_df['release_date'].map(lambda x: x[:4])\n",
    "sorted_df['year'] = years\n",
    "y = sorted_df.groupby(['year']).count()['id'].values\n",
    "plt.plot(sorted_df.groupby(['year']).count().index, y)"
   ]
  },
  {
   "cell_type": "markdown",
   "metadata": {},
   "source": [
    "Now that we have a much clearer plot, there is some extra insight in the data. It seems like the majority of the songs are from 2020, but there are a few from other years as well. It is unclear how those got there, but the popularity column seems a bit useless now. So we can simply pick one of the duplicated songs to keep in the dataframe."
   ]
  },
  {
   "cell_type": "code",
   "execution_count": 29,
   "metadata": {},
   "outputs": [
    {
     "data": {
      "text/plain": [
       "RangeIndex(start=0, stop=97, step=1)"
      ]
     },
     "execution_count": 29,
     "metadata": {},
     "output_type": "execute_result"
    }
   ],
   "source": [
    "sorted_df_fixed = sorted_df.groupby(['name'], as_index=False).agg(lambda x: x.iloc[0]).index\n",
    "#sorted_df_fixed = sorted_df.set_index('name')[sorted_df_fixed]\n",
    "#sorted_df.set_index('name')\n",
    "#sorted_df.loc[sorted_df_fixed, :]\n",
    "sorted_df_fixed"
   ]
  },
  {
   "cell_type": "markdown",
   "metadata": {},
   "source": [
    "Now we can go on to the sorted_two_df dataframe, and examine the data there."
   ]
  },
  {
   "cell_type": "code",
   "execution_count": 30,
   "metadata": {},
   "outputs": [
    {
     "data": {
      "text/html": [
       "<div>\n",
       "<style scoped>\n",
       "    .dataframe tbody tr th:only-of-type {\n",
       "        vertical-align: middle;\n",
       "    }\n",
       "\n",
       "    .dataframe tbody tr th {\n",
       "        vertical-align: top;\n",
       "    }\n",
       "\n",
       "    .dataframe thead th {\n",
       "        text-align: right;\n",
       "    }\n",
       "</style>\n",
       "<table border=\"1\" class=\"dataframe\">\n",
       "  <thead>\n",
       "    <tr style=\"text-align: right;\">\n",
       "      <th></th>\n",
       "      <th>id</th>\n",
       "      <th>name</th>\n",
       "      <th>popularity</th>\n",
       "      <th>duration_ms</th>\n",
       "      <th>explicit</th>\n",
       "      <th>artists</th>\n",
       "      <th>id_artists</th>\n",
       "      <th>release_date</th>\n",
       "      <th>danceability</th>\n",
       "      <th>energy</th>\n",
       "      <th>key</th>\n",
       "      <th>loudness</th>\n",
       "      <th>mode</th>\n",
       "      <th>speechiness</th>\n",
       "      <th>acousticness</th>\n",
       "      <th>instrumentalness</th>\n",
       "      <th>liveness</th>\n",
       "      <th>valence</th>\n",
       "      <th>tempo</th>\n",
       "      <th>time_signature</th>\n",
       "    </tr>\n",
       "  </thead>\n",
       "  <tbody>\n",
       "    <tr>\n",
       "      <th>546130</th>\n",
       "      <td>181rTRhCcggZPwP2TUcVqm</td>\n",
       "      <td>Newspaper Reports On Abner, 20 February 1935</td>\n",
       "      <td>0</td>\n",
       "      <td>896575</td>\n",
       "      <td>0</td>\n",
       "      <td>['Norris Goff', 'Chester Lauck', 'Carlton Bric...</td>\n",
       "      <td>['3WCwCPDMpGzrt0Qz6quumy', '7vk8UqABg0Sga78GI3...</td>\n",
       "      <td>1935-02-20</td>\n",
       "      <td>0.595</td>\n",
       "      <td>0.262</td>\n",
       "      <td>8</td>\n",
       "      <td>-17.746</td>\n",
       "      <td>1</td>\n",
       "      <td>0.9320</td>\n",
       "      <td>0.993</td>\n",
       "      <td>0.007510</td>\n",
       "      <td>0.0991</td>\n",
       "      <td>0.320</td>\n",
       "      <td>79.849</td>\n",
       "      <td>4</td>\n",
       "    </tr>\n",
       "    <tr>\n",
       "      <th>546222</th>\n",
       "      <td>0yOCz3V5KMm8l1T8EFc60i</td>\n",
       "      <td>恋は水の上で</td>\n",
       "      <td>0</td>\n",
       "      <td>188440</td>\n",
       "      <td>0</td>\n",
       "      <td>['Hibari Misora']</td>\n",
       "      <td>['1m5pMY5blqJwdxJ7vqQtuN']</td>\n",
       "      <td>1949</td>\n",
       "      <td>0.418</td>\n",
       "      <td>0.388</td>\n",
       "      <td>0</td>\n",
       "      <td>-8.580</td>\n",
       "      <td>1</td>\n",
       "      <td>0.0358</td>\n",
       "      <td>0.925</td>\n",
       "      <td>0.000014</td>\n",
       "      <td>0.1050</td>\n",
       "      <td>0.439</td>\n",
       "      <td>94.549</td>\n",
       "      <td>4</td>\n",
       "    </tr>\n",
       "    <tr>\n",
       "      <th>546221</th>\n",
       "      <td>0y48Hhwe52099UqYjegRCO</td>\n",
       "      <td>私の誕生日</td>\n",
       "      <td>0</td>\n",
       "      <td>173467</td>\n",
       "      <td>0</td>\n",
       "      <td>['Hibari Misora']</td>\n",
       "      <td>['1m5pMY5blqJwdxJ7vqQtuN']</td>\n",
       "      <td>1949</td>\n",
       "      <td>0.642</td>\n",
       "      <td>0.178</td>\n",
       "      <td>5</td>\n",
       "      <td>-11.700</td>\n",
       "      <td>1</td>\n",
       "      <td>0.0501</td>\n",
       "      <td>0.993</td>\n",
       "      <td>0.000943</td>\n",
       "      <td>0.0928</td>\n",
       "      <td>0.715</td>\n",
       "      <td>119.013</td>\n",
       "      <td>4</td>\n",
       "    </tr>\n",
       "    <tr>\n",
       "      <th>546220</th>\n",
       "      <td>0xCmgtf9ka07hkZg3D6PaV</td>\n",
       "      <td>エル・チョクロ (EL CHOCLO)</td>\n",
       "      <td>0</td>\n",
       "      <td>205280</td>\n",
       "      <td>0</td>\n",
       "      <td>['Hibari Misora']</td>\n",
       "      <td>['1m5pMY5blqJwdxJ7vqQtuN']</td>\n",
       "      <td>1949</td>\n",
       "      <td>0.695</td>\n",
       "      <td>0.467</td>\n",
       "      <td>0</td>\n",
       "      <td>-12.236</td>\n",
       "      <td>0</td>\n",
       "      <td>0.0422</td>\n",
       "      <td>0.827</td>\n",
       "      <td>0.000000</td>\n",
       "      <td>0.0861</td>\n",
       "      <td>0.756</td>\n",
       "      <td>125.941</td>\n",
       "      <td>4</td>\n",
       "    </tr>\n",
       "    <tr>\n",
       "      <th>546219</th>\n",
       "      <td>0tBXS3VuCPX7KWUFH2nros</td>\n",
       "      <td>恋は不思議なもの</td>\n",
       "      <td>0</td>\n",
       "      <td>185733</td>\n",
       "      <td>0</td>\n",
       "      <td>['Hibari Misora']</td>\n",
       "      <td>['1m5pMY5blqJwdxJ7vqQtuN']</td>\n",
       "      <td>1949</td>\n",
       "      <td>0.389</td>\n",
       "      <td>0.388</td>\n",
       "      <td>2</td>\n",
       "      <td>-8.221</td>\n",
       "      <td>1</td>\n",
       "      <td>0.0351</td>\n",
       "      <td>0.869</td>\n",
       "      <td>0.000000</td>\n",
       "      <td>0.0924</td>\n",
       "      <td>0.372</td>\n",
       "      <td>72.800</td>\n",
       "      <td>4</td>\n",
       "    </tr>\n",
       "  </tbody>\n",
       "</table>\n",
       "</div>"
      ],
      "text/plain": [
       "                            id                                          name  \\\n",
       "546130  181rTRhCcggZPwP2TUcVqm  Newspaper Reports On Abner, 20 February 1935   \n",
       "546222  0yOCz3V5KMm8l1T8EFc60i                                        恋は水の上で   \n",
       "546221  0y48Hhwe52099UqYjegRCO                                         私の誕生日   \n",
       "546220  0xCmgtf9ka07hkZg3D6PaV                           エル・チョクロ (EL CHOCLO)   \n",
       "546219  0tBXS3VuCPX7KWUFH2nros                                      恋は不思議なもの   \n",
       "\n",
       "        popularity  duration_ms  explicit  \\\n",
       "546130           0       896575         0   \n",
       "546222           0       188440         0   \n",
       "546221           0       173467         0   \n",
       "546220           0       205280         0   \n",
       "546219           0       185733         0   \n",
       "\n",
       "                                                  artists  \\\n",
       "546130  ['Norris Goff', 'Chester Lauck', 'Carlton Bric...   \n",
       "546222                                  ['Hibari Misora']   \n",
       "546221                                  ['Hibari Misora']   \n",
       "546220                                  ['Hibari Misora']   \n",
       "546219                                  ['Hibari Misora']   \n",
       "\n",
       "                                               id_artists release_date  \\\n",
       "546130  ['3WCwCPDMpGzrt0Qz6quumy', '7vk8UqABg0Sga78GI3...   1935-02-20   \n",
       "546222                         ['1m5pMY5blqJwdxJ7vqQtuN']         1949   \n",
       "546221                         ['1m5pMY5blqJwdxJ7vqQtuN']         1949   \n",
       "546220                         ['1m5pMY5blqJwdxJ7vqQtuN']         1949   \n",
       "546219                         ['1m5pMY5blqJwdxJ7vqQtuN']         1949   \n",
       "\n",
       "        danceability  energy  key  loudness  mode  speechiness  acousticness  \\\n",
       "546130         0.595   0.262    8   -17.746     1       0.9320         0.993   \n",
       "546222         0.418   0.388    0    -8.580     1       0.0358         0.925   \n",
       "546221         0.642   0.178    5   -11.700     1       0.0501         0.993   \n",
       "546220         0.695   0.467    0   -12.236     0       0.0422         0.827   \n",
       "546219         0.389   0.388    2    -8.221     1       0.0351         0.869   \n",
       "\n",
       "        instrumentalness  liveness  valence    tempo  time_signature  \n",
       "546130          0.007510    0.0991    0.320   79.849               4  \n",
       "546222          0.000014    0.1050    0.439   94.549               4  \n",
       "546221          0.000943    0.0928    0.715  119.013               4  \n",
       "546220          0.000000    0.0861    0.756  125.941               4  \n",
       "546219          0.000000    0.0924    0.372   72.800               4  "
      ]
     },
     "execution_count": 30,
     "metadata": {},
     "output_type": "execute_result"
    }
   ],
   "source": [
    "sorted_two_df.head()"
   ]
  },
  {
   "cell_type": "code",
   "execution_count": null,
   "metadata": {},
   "outputs": [],
   "source": []
  },
  {
   "cell_type": "code",
   "execution_count": null,
   "metadata": {},
   "outputs": [],
   "source": []
  },
  {
   "cell_type": "code",
   "execution_count": null,
   "metadata": {},
   "outputs": [],
   "source": []
  },
  {
   "cell_type": "markdown",
   "metadata": {},
   "source": [
    "## Networks of Similar Songs"
   ]
  },
  {
   "cell_type": "markdown",
   "metadata": {},
   "source": [
    "For this part, I want to build a network of songs based on the similarity of their features. This is going to require using the networkx package, as well as some spatial_distance packages. First, we are going to be using cosine distance to measure the similarity between two songs. Below, there is an example of doing so, as well as taking the useful features for each song in consideration, and only adding a song to another's list of similar songs if the cutoff is at least .95."
   ]
  },
  {
   "cell_type": "code",
   "execution_count": 31,
   "metadata": {},
   "outputs": [],
   "source": [
    "import networkx as nx"
   ]
  },
  {
   "cell_type": "code",
   "execution_count": 32,
   "metadata": {},
   "outputs": [],
   "source": [
    "from scipy import spatial"
   ]
  },
  {
   "cell_type": "code",
   "execution_count": 33,
   "metadata": {},
   "outputs": [],
   "source": [
    "list_songs = list(sorted_df.name)"
   ]
  },
  {
   "cell_type": "code",
   "execution_count": 34,
   "metadata": {},
   "outputs": [
    {
     "data": {
      "text/plain": [
       "array([0.0601, 0.721, 1.31e-05, 0.105, 0.132, 143.874, 4], dtype=object)"
      ]
     },
     "execution_count": 34,
     "metadata": {},
     "output_type": "execute_result"
    }
   ],
   "source": [
    "sorted_df.iloc[1, :].values[13:20]"
   ]
  },
  {
   "cell_type": "code",
   "execution_count": 35,
   "metadata": {},
   "outputs": [
    {
     "data": {
      "text/plain": [
       "0.00015599575013414135"
      ]
     },
     "execution_count": 35,
     "metadata": {},
     "output_type": "execute_result"
    }
   ],
   "source": [
    "spatial.distance.cosine(sorted_df.iloc[1, :].values[13:20], sorted_df.iloc[0, :].values[13:20])"
   ]
  },
  {
   "cell_type": "code",
   "execution_count": 36,
   "metadata": {},
   "outputs": [],
   "source": [
    "dict_edges = {}\n",
    "for i in range(len(list_songs)):\n",
    "    list_val = []\n",
    "    for j in range(i):\n",
    "        a_row = list(sorted_df.iloc[j].values[13:20])\n",
    "        list_val.append([j, 1 - spatial.distance.cosine(sorted_df.iloc[i].values[13:20], a_row),list(sorted_df.iloc[j].values[13:20])[1] ])\n",
    "    for j in range(i+1,len(list_songs)):    \n",
    "        a_row = list(sorted_df.iloc[j].values[13:20])\n",
    "        list_val.append([j, 1 - spatial.distance.cosine(sorted_df.iloc[i].values[13:20], a_row), list(sorted_df.iloc[j].values[13:20])[1]])\n",
    "    dict_edges[i] = list_val "
   ]
  },
  {
   "cell_type": "code",
   "execution_count": 37,
   "metadata": {},
   "outputs": [],
   "source": [
    "new_dict = {}\n",
    "for i in range(100):\n",
    "    list_to_put = []\n",
    "    for j in range(len(dict_edges[i])):\n",
    "        if dict_edges[i][j][1] >= 0.95:\n",
    "            list_to_put.append(dict_edges[i][j])      \n",
    "    new_dict[i] = list_to_put"
   ]
  },
  {
   "cell_type": "code",
   "execution_count": 38,
   "metadata": {},
   "outputs": [],
   "source": [
    "G = nx.MultiDiGraph()\n",
    "game_details = [\"name\"]\n",
    "for i in range(1):\n",
    "    for j in range(len(new_dict[i])):\n",
    "        G.add_node(i,label = i)\n",
    "        G.add_edge(i, new_dict[i][j][0], weight=int(new_dict[i][j][1]), title = new_dict[i][j][2])"
   ]
  },
  {
   "cell_type": "markdown",
   "metadata": {},
   "source": [
    "Time to do some visualizations on the data. Below, there is a graph of all of the songs, and their similar songs as defined by our metric."
   ]
  },
  {
   "cell_type": "code",
   "execution_count": 39,
   "metadata": {},
   "outputs": [
    {
     "name": "stderr",
     "output_type": "stream",
     "text": [
      "/opt/conda/lib/python3.9/site-packages/networkx/drawing/layout.py:727: RuntimeWarning: divide by zero encountered in true_divide\n",
      "  costargs = (np, 1 / (dist_mtx + np.eye(dist_mtx.shape[0]) * 1e-3), meanwt, dim)\n"
     ]
    },
    {
     "data": {
      "image/png": "[encoded data removed]",
      "text/plain": [
       "<Figure size 432x288 with 1 Axes>"
      ]
     },
     "metadata": {},
     "output_type": "display_data"
    }
   ],
   "source": [
    "import urllib.request\n",
    "import io\n",
    "import zipfile\n",
    "import matplotlib.pyplot as plt\n",
    "import networkx as nx\n",
    "\n",
    "\n",
    "pos = nx.draw_kamada_kawai(G, with_labels=True)  # Seed for reproducible layout\n",
    "nx.draw(G, pos)\n",
    "plt.show()"
   ]
  },
  {
   "cell_type": "code",
   "execution_count": null,
   "metadata": {},
   "outputs": [],
   "source": []
  },
  {
   "cell_type": "code",
   "execution_count": 40,
   "metadata": {},
   "outputs": [
    {
     "name": "stdout",
     "output_type": "stream",
     "text": [
      "99 0\n"
     ]
    }
   ],
   "source": [
    "max_deg = 0\n",
    "node = 0\n",
    "for n in G.nodes():\n",
    "    if G.degree[n] > max_deg:\n",
    "        max_deg = G.degree[n]\n",
    "        node = n\n",
    "print(max_deg, node)   "
   ]
  },
  {
   "cell_type": "code",
   "execution_count": 41,
   "metadata": {},
   "outputs": [
    {
     "data": {
      "text/plain": [
       "1.98"
      ]
     },
     "execution_count": 41,
     "metadata": {},
     "output_type": "execute_result"
    }
   ],
   "source": [
    "sum_d = 0\n",
    "for n in G.nodes():\n",
    "    sum_d += G.degree[n]\n",
    "sum_d/len(G.nodes())"
   ]
  },
  {
   "cell_type": "code",
   "execution_count": 42,
   "metadata": {},
   "outputs": [
    {
     "data": {
      "text/plain": [
       "100"
      ]
     },
     "execution_count": 42,
     "metadata": {},
     "output_type": "execute_result"
    }
   ],
   "source": [
    "len(G.nodes())"
   ]
  },
  {
   "cell_type": "code",
   "execution_count": 43,
   "metadata": {},
   "outputs": [
    {
     "data": {
      "text/plain": [
       "id                      20McUFi8KCIVdNDLrkTDuZ\n",
       "name                                Goosebumps\n",
       "popularity                                  89\n",
       "duration_ms                             163208\n",
       "explicit                                     1\n",
       "artists                               ['HVME']\n",
       "id_artists          ['2o08sCWF5yyo2G4DCiT7T9']\n",
       "release_date                        2020-06-12\n",
       "danceability                             0.767\n",
       "energy                                   0.659\n",
       "key                                          1\n",
       "loudness                                -7.429\n",
       "mode                                         1\n",
       "speechiness                             0.0444\n",
       "acousticness                             0.325\n",
       "instrumentalness                           0.0\n",
       "liveness                                  0.13\n",
       "valence                                  0.439\n",
       "tempo                                  124.946\n",
       "time_signature                               4\n",
       "duration_minutes                      2.720133\n",
       "year                                      2020\n",
       "Name: 92871, dtype: object"
      ]
     },
     "execution_count": 43,
     "metadata": {},
     "output_type": "execute_result"
    }
   ],
   "source": [
    "sorted_df.iloc[55]"
   ]
  },
  {
   "cell_type": "code",
   "execution_count": null,
   "metadata": {},
   "outputs": [],
   "source": []
  },
  {
   "cell_type": "markdown",
   "metadata": {},
   "source": [
    "## Scraping the Lyrics Data  "
   ]
  },
  {
   "cell_type": "code",
   "execution_count": 44,
   "metadata": {},
   "outputs": [],
   "source": [
    "# LyricsGenius API"
   ]
  },
  {
   "cell_type": "code",
   "execution_count": 45,
   "metadata": {},
   "outputs": [
    {
     "name": "stdout",
     "output_type": "stream",
     "text": [
      "Collecting git+https://github.com/johnwmillr/LyricsGenius.git\n",
      "  Cloning https://github.com/johnwmillr/LyricsGenius.git to /tmp/pip-req-build-onznqm4d\n",
      "Requirement already satisfied: beautifulsoup4>=4.6.0 in /opt/conda/lib/python3.9/site-packages (from lyricsgenius==3.0.1) (4.9.3)\n",
      "Requirement already satisfied: requests>=2.20.0 in /opt/conda/lib/python3.9/site-packages (from lyricsgenius==3.0.1) (2.26.0)\n",
      "Requirement already satisfied: soupsieve>1.2; python_version >= \"3.0\" in /opt/conda/lib/python3.9/site-packages (from beautifulsoup4>=4.6.0->lyricsgenius==3.0.1) (2.2.1)\n",
      "Requirement already satisfied: certifi>=2017.4.17 in /opt/conda/lib/python3.9/site-packages (from requests>=2.20.0->lyricsgenius==3.0.1) (2019.11.28)\n",
      "Requirement already satisfied: idna<4,>=2.5; python_version >= \"3\" in /opt/conda/lib/python3.9/site-packages (from requests>=2.20.0->lyricsgenius==3.0.1) (2.8)\n",
      "Requirement already satisfied: urllib3<1.27,>=1.21.1 in /opt/conda/lib/python3.9/site-packages (from requests>=2.20.0->lyricsgenius==3.0.1) (1.25.7)\n",
      "Requirement already satisfied: charset-normalizer~=2.0.0; python_version >= \"3\" in /opt/conda/lib/python3.9/site-packages (from requests>=2.20.0->lyricsgenius==3.0.1) (2.0.0)\n",
      "Building wheels for collected packages: lyricsgenius\n",
      "  Building wheel for lyricsgenius (setup.py) ... \u001b[?25ldone\n",
      "\u001b[?25h  Created wheel for lyricsgenius: filename=lyricsgenius-3.0.1-py3-none-any.whl size=44669 sha256=da02595658410192345e23324652e7121f5c190f28cd0914aee122e01610a833\n",
      "  Stored in directory: /tmp/pip-ephem-wheel-cache-z0tlhqhm/wheels/22/d8/54/6e236bc9517965a346a5b6cd223931b13f1eb6ba8676f1078c\n",
      "Successfully built lyricsgenius\n",
      "Installing collected packages: lyricsgenius\n",
      "Successfully installed lyricsgenius-3.0.1\n"
     ]
    }
   ],
   "source": [
    "!pip install git+https://github.com/johnwmillr/LyricsGenius.git"
   ]
  },
  {
   "cell_type": "code",
   "execution_count": 46,
   "metadata": {},
   "outputs": [
    {
     "ename": "NameError",
     "evalue": "name 'client_access_token' is not defined",
     "output_type": "error",
     "traceback": [
      "\u001b[0;31m---------------------------------------------------------------------------\u001b[0m",
      "\u001b[0;31mNameError\u001b[0m                                 Traceback (most recent call last)",
      "\u001b[0;32m/tmp/ipykernel_40/293418557.py\u001b[0m in \u001b[0;36m<module>\u001b[0;34m\u001b[0m\n\u001b[1;32m      1\u001b[0m \u001b[0;32mimport\u001b[0m \u001b[0mlyricsgenius\u001b[0m\u001b[0;34m\u001b[0m\u001b[0;34m\u001b[0m\u001b[0m\n\u001b[0;32m----> 2\u001b[0;31m \u001b[0mLyricsGenius\u001b[0m \u001b[0;34m=\u001b[0m \u001b[0mlyricsgenius\u001b[0m\u001b[0;34m.\u001b[0m\u001b[0mGenius\u001b[0m\u001b[0;34m(\u001b[0m\u001b[0mclient_access_token\u001b[0m\u001b[0;34m)\u001b[0m\u001b[0;34m\u001b[0m\u001b[0;34m\u001b[0m\u001b[0m\n\u001b[0m",
      "\u001b[0;31mNameError\u001b[0m: name 'client_access_token' is not defined"
     ]
    }
   ],
   "source": [
    "import lyricsgenius\n",
    "LyricsGenius = lyricsgenius.Genius(client_access_token)"
   ]
  },
  {
   "cell_type": "code",
   "execution_count": null,
   "metadata": {},
   "outputs": [],
   "source": [
    "song = LyricsGenius.search_song(\"Missy Elliott\", \"Work It\")"
   ]
  },
  {
   "cell_type": "code",
   "execution_count": null,
   "metadata": {},
   "outputs": [],
   "source": [
    "song.lyrics"
   ]
  },
  {
   "cell_type": "code",
   "execution_count": null,
   "metadata": {},
   "outputs": [],
   "source": [
    "#let's get the lyrics for the songs in our dataset"
   ]
  },
  {
   "cell_type": "code",
   "execution_count": null,
   "metadata": {},
   "outputs": [],
   "source": [
    "#building a list of lists, with each element having Artist_Name and Song_Name:\n",
    "list_artists_songs = []\n",
    "lyrics_each = []"
   ]
  },
  {
   "cell_type": "code",
   "execution_count": null,
   "metadata": {},
   "outputs": [],
   "source": [
    "songs_list =  list(df_data.name)\n",
    "artists_list = list(df_data.artists)"
   ]
  },
  {
   "cell_type": "code",
   "execution_count": null,
   "metadata": {},
   "outputs": [],
   "source": [
    "print(len(songs_list), len(artists_list))"
   ]
  },
  {
   "cell_type": "code",
   "execution_count": null,
   "metadata": {},
   "outputs": [],
   "source": [
    "for i in range(len(songs_list)):\n",
    "    r1 = re.compile(r\"\\w{1,20}.\\w{1,20}\", re.MULTILINE | re.DOTALL)\n",
    "    r = r1.findall(artists_list[i])\n",
    "    if len(r) > 0:\n",
    "        for j in r:\n",
    "            list_artists_songs.append([songs_list[i], j])"
   ]
  },
  {
   "cell_type": "code",
   "execution_count": null,
   "metadata": {},
   "outputs": [],
   "source": [
    "print(len(list_artists_songs))"
   ]
  },
  {
   "cell_type": "code",
   "execution_count": null,
   "metadata": {},
   "outputs": [],
   "source": [
    "already_chosen = list(pd.read_csv(\"ChosenAlready\").Numbers)"
   ]
  },
  {
   "cell_type": "code",
   "execution_count": null,
   "metadata": {},
   "outputs": [],
   "source": [
    "#make these randomly selected\n",
    "for i in range(200):\n",
    "    value = randint(0,915191)\n",
    "    if value not in already_chosen:\n",
    "        already_chosen.append(value)\n",
    "        song = LyricsGenius.search_song(list_artists_songs[value][1], list_artists_songs[value][0])\n",
    "        if song != None:\n",
    "            lyrics_each.append(song.lyrics)"
   ]
  },
  {
   "cell_type": "code",
   "execution_count": null,
   "metadata": {},
   "outputs": [],
   "source": [
    "df_old_lyrics_l = list(pd.read_csv('283_SONGS').Text)\n",
    "new_lyrics = df_old_lyrics_l + lyrics_each"
   ]
  },
  {
   "cell_type": "code",
   "execution_count": null,
   "metadata": {},
   "outputs": [],
   "source": [
    "print(len(new_lyrics))"
   ]
  },
  {
   "cell_type": "code",
   "execution_count": null,
   "metadata": {},
   "outputs": [],
   "source": [
    "df_already = pd.DataFrame(data = {'Numbers': already_chosen})\n",
    "df_already.to_csv('ChosenAlready', index = False)"
   ]
  },
  {
   "cell_type": "code",
   "execution_count": null,
   "metadata": {},
   "outputs": [],
   "source": [
    "df_lyrics = pd.DataFrame(data = {'Text': df_old_lyrics_l})\n",
    "df_lyrics.to_csv('400 Songs', index = True)"
   ]
  },
  {
   "cell_type": "markdown",
   "metadata": {},
   "source": [
    "## Visualization 5: Lyrics Data: Unigrams and Bigrams"
   ]
  },
  {
   "cell_type": "code",
   "execution_count": null,
   "metadata": {},
   "outputs": [],
   "source": [
    "df_read_lyrics = pd.read_csv('400 Songs')"
   ]
  },
  {
   "cell_type": "code",
   "execution_count": null,
   "metadata": {},
   "outputs": [],
   "source": [
    "df_read_lyrics.head()"
   ]
  },
  {
   "cell_type": "code",
   "execution_count": null,
   "metadata": {},
   "outputs": [],
   "source": [
    "import sys\n",
    "!{sys.executable} -m pip install textblob"
   ]
  },
  {
   "cell_type": "code",
   "execution_count": null,
   "metadata": {},
   "outputs": [],
   "source": [
    "from textblob import TextBlob"
   ]
  },
  {
   "cell_type": "code",
   "execution_count": null,
   "metadata": {},
   "outputs": [],
   "source": [
    "w = TextBlob(str(df_read_lyrics.iloc[0].Text))"
   ]
  },
  {
   "cell_type": "code",
   "execution_count": null,
   "metadata": {},
   "outputs": [],
   "source": [
    "w.sentiment.polarity"
   ]
  },
  {
   "cell_type": "code",
   "execution_count": null,
   "metadata": {},
   "outputs": [],
   "source": [
    "list_polarities = []\n",
    "for i in range(len(df_read_lyrics.index)):\n",
    "    w = TextBlob(str(df_read_lyrics.iloc[i].Text))\n",
    "    list_polarities.append(w.sentiment.polarity)\n",
    "    print(len(w))"
   ]
  },
  {
   "cell_type": "code",
   "execution_count": null,
   "metadata": {},
   "outputs": [],
   "source": [
    "import numpy as np"
   ]
  },
  {
   "cell_type": "code",
   "execution_count": null,
   "metadata": {},
   "outputs": [],
   "source": [
    "pol = pd.DataFrame(data = {'Polarity':list_polarities})"
   ]
  },
  {
   "cell_type": "code",
   "execution_count": null,
   "metadata": {},
   "outputs": [],
   "source": [
    "np.mean(list_polarities)"
   ]
  },
  {
   "cell_type": "code",
   "execution_count": null,
   "metadata": {},
   "outputs": [],
   "source": [
    "pol.head()"
   ]
  },
  {
   "cell_type": "code",
   "execution_count": null,
   "metadata": {},
   "outputs": [],
   "source": [
    "import seaborn as sns\n",
    "import matplotlib.pyplot as plt\n",
    "#sns.boxplot(x = 'From_All', y = 'valence', data = sorted_df_1)\n",
    "\n",
    "fig, ax = plt.subplots(figsize=(8,  8))\n",
    "pol.boxplot('Polarity')"
   ]
  },
  {
   "cell_type": "code",
   "execution_count": null,
   "metadata": {},
   "outputs": [],
   "source": [
    "w = TextBlob(str(df_read_lyrics.iloc[7].Text))\n",
    "w.tags"
   ]
  },
  {
   "cell_type": "code",
   "execution_count": null,
   "metadata": {},
   "outputs": [],
   "source": [
    "n_perc = []\n",
    "plural_perc = []\n",
    "reg_ad_perc = []\n",
    "comp_ad_perc = []\n",
    "super_ad_perc = []\n",
    "verb_perc = []\n",
    "\n",
    "for i in range(len(df_read_lyrics.index)):\n",
    "    nouns_count = 0\n",
    "    plural = 0\n",
    "    reg_adv = 0\n",
    "    comp_adv = 0 \n",
    "    super_adv = 0\n",
    "    verb = 0\n",
    "    w = TextBlob(str(df_read_lyrics.iloc[i].Text))\n",
    "    if len(w.tags) <= 10000:\n",
    "        for j in range(len(w.tags)):\n",
    "            if w.tags[j][1] == 'NN':\n",
    "                nouns_count += 1\n",
    "            if w.tags[j][1] == 'NNS':\n",
    "                plural += 1\n",
    "            if w.tags[j][1] == 'RB':\n",
    "                reg_adv += 1\n",
    "            if w.tags[j][1] == 'RBS':\n",
    "                super_adv += 1\n",
    "            if w.tags[j][1] == 'RBR':\n",
    "                comp_adv += 1 \n",
    "            if w.tags[j][1] == 'VB':\n",
    "                verb += 1  \n",
    "        print(i, 'Processed')        \n",
    "        n_perc.append(nouns_count/len(w.tags)) \n",
    "        plural_perc.append(plural/len(w.tags)) \n",
    "        reg_ad_perc.append(reg_adv/len(w.tags)) \n",
    "        comp_ad_perc.append(comp_adv/len(w.tags)) \n",
    "        super_ad_perc.append(super_adv/len(w.tags)) \n",
    "        verb_perc.append(verb/len(w.tags)) "
   ]
  },
  {
   "cell_type": "code",
   "execution_count": null,
   "metadata": {},
   "outputs": [],
   "source": [
    "len(n_perc)"
   ]
  },
  {
   "cell_type": "code",
   "execution_count": null,
   "metadata": {},
   "outputs": [],
   "source": [
    "poly = pd.DataFrame(data = {'Noun_singular':n_perc})"
   ]
  },
  {
   "cell_type": "code",
   "execution_count": null,
   "metadata": {},
   "outputs": [],
   "source": [
    "poly['Noun_singular'] = n_perc\n",
    "poly['Noun_plural'] = plural_perc\n",
    "poly['Regular_ad'] = reg_ad_perc\n",
    "poly['Comp_ad'] = comp_ad_perc\n",
    "poly['Super_ad'] = super_ad_perc\n",
    "poly['Verb'] = verb_perc"
   ]
  },
  {
   "cell_type": "code",
   "execution_count": null,
   "metadata": {},
   "outputs": [],
   "source": [
    "poly.to_csv('Metrics', index = True)"
   ]
  },
  {
   "cell_type": "code",
   "execution_count": null,
   "metadata": {},
   "outputs": [],
   "source": [
    "poly = pd.read_csv('Metrics')"
   ]
  },
  {
   "cell_type": "code",
   "execution_count": null,
   "metadata": {},
   "outputs": [],
   "source": [
    "poly.head()"
   ]
  },
  {
   "cell_type": "code",
   "execution_count": null,
   "metadata": {},
   "outputs": [],
   "source": [
    "import seaborn as sns\n",
    "import matplotlib.pyplot as plt\n",
    "fig, ax = plt.subplots(figsize=(9,  9))\n",
    "poly.boxplot(['Noun_singular', 'Noun_plural', 'Regular_ad', 'Verb'])"
   ]
  },
  {
   "cell_type": "code",
   "execution_count": null,
   "metadata": {},
   "outputs": [],
   "source": [
    "fig, ax = plt.subplots(figsize=(9,  9))\n",
    "poly.boxplot(['Comp_ad', 'Super_ad'])"
   ]
  },
  {
   "cell_type": "code",
   "execution_count": null,
   "metadata": {},
   "outputs": [],
   "source": []
  },
  {
   "cell_type": "code",
   "execution_count": null,
   "metadata": {},
   "outputs": [],
   "source": []
  },
  {
   "cell_type": "markdown",
   "metadata": {},
   "source": [
    "# Geographical Analysis"
   ]
  },
  {
   "cell_type": "markdown",
   "metadata": {},
   "source": [
    "In this part, I want to do something different. I want to extract some geographical information from the songs' lyrics. How do we do that? I think I am going to start with which cities are the most mentioned in these songs. For this I am going to need a dataframe with names of cities to compare."
   ]
  },
  {
   "cell_type": "code",
   "execution_count": 49,
   "metadata": {},
   "outputs": [
    {
     "data": {
      "text/html": [
       "<div>\n",
       "<style scoped>\n",
       "    .dataframe tbody tr th:only-of-type {\n",
       "        vertical-align: middle;\n",
       "    }\n",
       "\n",
       "    .dataframe tbody tr th {\n",
       "        vertical-align: top;\n",
       "    }\n",
       "\n",
       "    .dataframe thead th {\n",
       "        text-align: right;\n",
       "    }\n",
       "</style>\n",
       "<table border=\"1\" class=\"dataframe\">\n",
       "  <thead>\n",
       "    <tr style=\"text-align: right;\">\n",
       "      <th></th>\n",
       "      <th>Unnamed: 0</th>\n",
       "      <th>Text</th>\n",
       "    </tr>\n",
       "  </thead>\n",
       "  <tbody>\n",
       "    <tr>\n",
       "      <th>0</th>\n",
       "      <td>0</td>\n",
       "      <td>[Verse]\\nI feel so impure\\nEvery day, less sur...</td>\n",
       "    </tr>\n",
       "    <tr>\n",
       "      <th>1</th>\n",
       "      <td>1</td>\n",
       "      <td>THE AMERICAN ACADEMY of Emergency Medicine con...</td>\n",
       "    </tr>\n",
       "    <tr>\n",
       "      <th>2</th>\n",
       "      <td>2</td>\n",
       "      <td>[Intro: Young M.A]\\nAw man, the squad is here\\...</td>\n",
       "    </tr>\n",
       "    <tr>\n",
       "      <th>3</th>\n",
       "      <td>3</td>\n",
       "      <td>All these songs are about (or heavily referenc...</td>\n",
       "    </tr>\n",
       "    <tr>\n",
       "      <th>4</th>\n",
       "      <td>4</td>\n",
       "      <td>[Paroles de \"Respect P. Diddy\"]\\n\\n[Intro : Go...</td>\n",
       "    </tr>\n",
       "  </tbody>\n",
       "</table>\n",
       "</div>"
      ],
      "text/plain": [
       "   Unnamed: 0                                               Text\n",
       "0           0  [Verse]\\nI feel so impure\\nEvery day, less sur...\n",
       "1           1  THE AMERICAN ACADEMY of Emergency Medicine con...\n",
       "2           2  [Intro: Young M.A]\\nAw man, the squad is here\\...\n",
       "3           3  All these songs are about (or heavily referenc...\n",
       "4           4  [Paroles de \"Respect P. Diddy\"]\\n\\n[Intro : Go..."
      ]
     },
     "execution_count": 49,
     "metadata": {},
     "output_type": "execute_result"
    }
   ],
   "source": [
    "df_lyrics = pd.read_csv(\"400 Songs\")\n",
    "df_lyrics.head()"
   ]
  },
  {
   "cell_type": "markdown",
   "metadata": {},
   "source": [
    "We should convert the names of the cities to lower case:"
   ]
  },
  {
   "cell_type": "code",
   "execution_count": 50,
   "metadata": {},
   "outputs": [],
   "source": [
    "df = pd.read_csv('citynames.txt')"
   ]
  },
  {
   "cell_type": "code",
   "execution_count": 51,
   "metadata": {},
   "outputs": [
    {
     "data": {
      "text/html": [
       "<div>\n",
       "<style scoped>\n",
       "    .dataframe tbody tr th:only-of-type {\n",
       "        vertical-align: middle;\n",
       "    }\n",
       "\n",
       "    .dataframe tbody tr th {\n",
       "        vertical-align: top;\n",
       "    }\n",
       "\n",
       "    .dataframe thead th {\n",
       "        text-align: right;\n",
       "    }\n",
       "</style>\n",
       "<table border=\"1\" class=\"dataframe\">\n",
       "  <thead>\n",
       "    <tr style=\"text-align: right;\">\n",
       "      <th></th>\n",
       "      <th>name</th>\n",
       "      <th>country</th>\n",
       "      <th>subcountry</th>\n",
       "      <th>geonameid</th>\n",
       "    </tr>\n",
       "  </thead>\n",
       "  <tbody>\n",
       "    <tr>\n",
       "      <th>0</th>\n",
       "      <td>les Escaldes</td>\n",
       "      <td>Andorra</td>\n",
       "      <td>Escaldes-Engordany</td>\n",
       "      <td>3040051</td>\n",
       "    </tr>\n",
       "    <tr>\n",
       "      <th>1</th>\n",
       "      <td>Andorra la Vella</td>\n",
       "      <td>Andorra</td>\n",
       "      <td>Andorra la Vella</td>\n",
       "      <td>3041563</td>\n",
       "    </tr>\n",
       "    <tr>\n",
       "      <th>2</th>\n",
       "      <td>Umm al Qaywayn</td>\n",
       "      <td>United Arab Emirates</td>\n",
       "      <td>Umm al Qaywayn</td>\n",
       "      <td>290594</td>\n",
       "    </tr>\n",
       "    <tr>\n",
       "      <th>3</th>\n",
       "      <td>Ras al-Khaimah</td>\n",
       "      <td>United Arab Emirates</td>\n",
       "      <td>RaÊ¼s al Khaymah</td>\n",
       "      <td>291074</td>\n",
       "    </tr>\n",
       "    <tr>\n",
       "      <th>4</th>\n",
       "      <td>Khawr FakkÄn</td>\n",
       "      <td>United Arab Emirates</td>\n",
       "      <td>Ash ShÄriqah</td>\n",
       "      <td>291696</td>\n",
       "    </tr>\n",
       "  </tbody>\n",
       "</table>\n",
       "</div>"
      ],
      "text/plain": [
       "               name               country          subcountry  geonameid\n",
       "0      les Escaldes               Andorra  Escaldes-Engordany    3040051\n",
       "1  Andorra la Vella               Andorra    Andorra la Vella    3041563\n",
       "2    Umm al Qaywayn  United Arab Emirates      Umm al Qaywayn     290594\n",
       "3    Ras al-Khaimah  United Arab Emirates    RaÊ¼s al Khaymah     291074\n",
       "4     Khawr FakkÄn  United Arab Emirates       Ash ShÄriqah     291696"
      ]
     },
     "execution_count": 51,
     "metadata": {},
     "output_type": "execute_result"
    }
   ],
   "source": [
    "df.head()"
   ]
  },
  {
   "cell_type": "code",
   "execution_count": 52,
   "metadata": {},
   "outputs": [
    {
     "data": {
      "text/html": [
       "<div>\n",
       "<style scoped>\n",
       "    .dataframe tbody tr th:only-of-type {\n",
       "        vertical-align: middle;\n",
       "    }\n",
       "\n",
       "    .dataframe tbody tr th {\n",
       "        vertical-align: top;\n",
       "    }\n",
       "\n",
       "    .dataframe thead th {\n",
       "        text-align: right;\n",
       "    }\n",
       "</style>\n",
       "<table border=\"1\" class=\"dataframe\">\n",
       "  <thead>\n",
       "    <tr style=\"text-align: right;\">\n",
       "      <th></th>\n",
       "      <th>name</th>\n",
       "      <th>country</th>\n",
       "      <th>subcountry</th>\n",
       "      <th>geonameid</th>\n",
       "      <th>fixed_names</th>\n",
       "    </tr>\n",
       "  </thead>\n",
       "  <tbody>\n",
       "    <tr>\n",
       "      <th>0</th>\n",
       "      <td>les Escaldes</td>\n",
       "      <td>Andorra</td>\n",
       "      <td>Escaldes-Engordany</td>\n",
       "      <td>3040051</td>\n",
       "      <td>les escaldes</td>\n",
       "    </tr>\n",
       "    <tr>\n",
       "      <th>1</th>\n",
       "      <td>Andorra la Vella</td>\n",
       "      <td>Andorra</td>\n",
       "      <td>Andorra la Vella</td>\n",
       "      <td>3041563</td>\n",
       "      <td>andorra la vella</td>\n",
       "    </tr>\n",
       "    <tr>\n",
       "      <th>2</th>\n",
       "      <td>Umm al Qaywayn</td>\n",
       "      <td>United Arab Emirates</td>\n",
       "      <td>Umm al Qaywayn</td>\n",
       "      <td>290594</td>\n",
       "      <td>umm al qaywayn</td>\n",
       "    </tr>\n",
       "    <tr>\n",
       "      <th>3</th>\n",
       "      <td>Ras al-Khaimah</td>\n",
       "      <td>United Arab Emirates</td>\n",
       "      <td>RaÊ¼s al Khaymah</td>\n",
       "      <td>291074</td>\n",
       "      <td>ras al-khaimah</td>\n",
       "    </tr>\n",
       "    <tr>\n",
       "      <th>4</th>\n",
       "      <td>Khawr FakkÄn</td>\n",
       "      <td>United Arab Emirates</td>\n",
       "      <td>Ash ShÄriqah</td>\n",
       "      <td>291696</td>\n",
       "      <td>khawr fakkän</td>\n",
       "    </tr>\n",
       "  </tbody>\n",
       "</table>\n",
       "</div>"
      ],
      "text/plain": [
       "               name               country          subcountry  geonameid  \\\n",
       "0      les Escaldes               Andorra  Escaldes-Engordany    3040051   \n",
       "1  Andorra la Vella               Andorra    Andorra la Vella    3041563   \n",
       "2    Umm al Qaywayn  United Arab Emirates      Umm al Qaywayn     290594   \n",
       "3    Ras al-Khaimah  United Arab Emirates    RaÊ¼s al Khaymah     291074   \n",
       "4     Khawr FakkÄn  United Arab Emirates       Ash ShÄriqah     291696   \n",
       "\n",
       "        fixed_names  \n",
       "0      les escaldes  \n",
       "1  andorra la vella  \n",
       "2    umm al qaywayn  \n",
       "3    ras al-khaimah  \n",
       "4     khawr fakkän  "
      ]
     },
     "execution_count": 52,
     "metadata": {},
     "output_type": "execute_result"
    }
   ],
   "source": [
    "df['fixed_names'] = df['name'].str.lower()\n",
    "df.head()"
   ]
  },
  {
   "cell_type": "markdown",
   "metadata": {},
   "source": [
    "Let's clean the lyrics a bit more, and also tokenize them to see if any of the cities appear in the lyrics. As you can see, there are many \"\\\", as well as new line characters."
   ]
  },
  {
   "cell_type": "code",
   "execution_count": 53,
   "metadata": {},
   "outputs": [
    {
     "data": {
      "text/plain": [
       "\"[Verse]\\nI feel so impure\\nEvery day, less sure\\nAnd I pour, and I pour\\nFrom my hands, from my head\\nAnd I wish you were here\\nBut you disappeared again\\n(Otra vez)\\nI'm stuck and motionless\\nEmotions drain my heart\\nMore blood, more sweat\\nA feeling I can regret\\n\\n[Chorus]\\nEvery day, every move's a mistake\\nI want to leave this place\\nEvery day a waste\\nI want to leave this place\\nEvery day a waste\\nI want to leave this place\\nEvery day a waste\""
      ]
     },
     "execution_count": 53,
     "metadata": {},
     "output_type": "execute_result"
    }
   ],
   "source": [
    "df_lyrics['Text'].iloc[0]"
   ]
  },
  {
   "cell_type": "code",
   "execution_count": 54,
   "metadata": {},
   "outputs": [
    {
     "data": {
      "text/html": [
       "<div>\n",
       "<style scoped>\n",
       "    .dataframe tbody tr th:only-of-type {\n",
       "        vertical-align: middle;\n",
       "    }\n",
       "\n",
       "    .dataframe tbody tr th {\n",
       "        vertical-align: top;\n",
       "    }\n",
       "\n",
       "    .dataframe thead th {\n",
       "        text-align: right;\n",
       "    }\n",
       "</style>\n",
       "<table border=\"1\" class=\"dataframe\">\n",
       "  <thead>\n",
       "    <tr style=\"text-align: right;\">\n",
       "      <th></th>\n",
       "      <th>Unnamed: 0</th>\n",
       "      <th>Text</th>\n",
       "      <th>adjusted_text</th>\n",
       "    </tr>\n",
       "  </thead>\n",
       "  <tbody>\n",
       "    <tr>\n",
       "      <th>0</th>\n",
       "      <td>0</td>\n",
       "      <td>[Verse]\\nI feel so impure\\nEvery day, less sur...</td>\n",
       "      <td>[verse] i feel so impure every day, less sure ...</td>\n",
       "    </tr>\n",
       "    <tr>\n",
       "      <th>1</th>\n",
       "      <td>1</td>\n",
       "      <td>THE AMERICAN ACADEMY of Emergency Medicine con...</td>\n",
       "      <td>the american academy of emergency medicine con...</td>\n",
       "    </tr>\n",
       "    <tr>\n",
       "      <th>2</th>\n",
       "      <td>2</td>\n",
       "      <td>[Intro: Young M.A]\\nAw man, the squad is here\\...</td>\n",
       "      <td>[intro: young m.a] aw man, the squad is here r...</td>\n",
       "    </tr>\n",
       "    <tr>\n",
       "      <th>3</th>\n",
       "      <td>3</td>\n",
       "      <td>All these songs are about (or heavily referenc...</td>\n",
       "      <td>all these songs are about (or heavily referenc...</td>\n",
       "    </tr>\n",
       "    <tr>\n",
       "      <th>4</th>\n",
       "      <td>4</td>\n",
       "      <td>[Paroles de \"Respect P. Diddy\"]\\n\\n[Intro : Go...</td>\n",
       "      <td>[paroles de \"respect p. diddy\"]  [intro : goua...</td>\n",
       "    </tr>\n",
       "  </tbody>\n",
       "</table>\n",
       "</div>"
      ],
      "text/plain": [
       "   Unnamed: 0                                               Text  \\\n",
       "0           0  [Verse]\\nI feel so impure\\nEvery day, less sur...   \n",
       "1           1  THE AMERICAN ACADEMY of Emergency Medicine con...   \n",
       "2           2  [Intro: Young M.A]\\nAw man, the squad is here\\...   \n",
       "3           3  All these songs are about (or heavily referenc...   \n",
       "4           4  [Paroles de \"Respect P. Diddy\"]\\n\\n[Intro : Go...   \n",
       "\n",
       "                                       adjusted_text  \n",
       "0  [verse] i feel so impure every day, less sure ...  \n",
       "1  the american academy of emergency medicine con...  \n",
       "2  [intro: young m.a] aw man, the squad is here r...  \n",
       "3  all these songs are about (or heavily referenc...  \n",
       "4  [paroles de \"respect p. diddy\"]  [intro : goua...  "
      ]
     },
     "execution_count": 54,
     "metadata": {},
     "output_type": "execute_result"
    }
   ],
   "source": [
    "import re\n",
    "\n",
    "df_lyrics['adjusted_text'] = df_lyrics['Text'].map(lambda x: re.sub(r'\\n', ' ', x)).str.lower()\n",
    "df_lyrics.head()"
   ]
  },
  {
   "cell_type": "markdown",
   "metadata": {},
   "source": [
    "Now we can check for cities mentioned in the songs, but first we need to tokenize each song's lyrics, and then check if any of the cities in the list are mentioned in a song's tokens. First, notice that there are some other words that signify place inside these tokens: such as \"American\", or the identity of someone that is related somehow to America. While not directly places, these words could also potentially help us with mapping songs to place."
   ]
  },
  {
   "cell_type": "code",
   "execution_count": 55,
   "metadata": {},
   "outputs": [
    {
     "data": {
      "text/html": [
       "<div>\n",
       "<style scoped>\n",
       "    .dataframe tbody tr th:only-of-type {\n",
       "        vertical-align: middle;\n",
       "    }\n",
       "\n",
       "    .dataframe tbody tr th {\n",
       "        vertical-align: top;\n",
       "    }\n",
       "\n",
       "    .dataframe thead th {\n",
       "        text-align: right;\n",
       "    }\n",
       "</style>\n",
       "<table border=\"1\" class=\"dataframe\">\n",
       "  <thead>\n",
       "    <tr style=\"text-align: right;\">\n",
       "      <th></th>\n",
       "      <th>Unnamed: 0</th>\n",
       "      <th>Text</th>\n",
       "      <th>adjusted_text</th>\n",
       "      <th>tokenized</th>\n",
       "    </tr>\n",
       "  </thead>\n",
       "  <tbody>\n",
       "    <tr>\n",
       "      <th>0</th>\n",
       "      <td>0</td>\n",
       "      <td>[Verse]\\nI feel so impure\\nEvery day, less sur...</td>\n",
       "      <td>[verse] i feel so impure every day, less sure ...</td>\n",
       "      <td>[[, verse, ], i, feel, so, impure, every, day,...</td>\n",
       "    </tr>\n",
       "    <tr>\n",
       "      <th>1</th>\n",
       "      <td>1</td>\n",
       "      <td>THE AMERICAN ACADEMY of Emergency Medicine con...</td>\n",
       "      <td>the american academy of emergency medicine con...</td>\n",
       "      <td>[the, american, academy, of, emergency, medici...</td>\n",
       "    </tr>\n",
       "    <tr>\n",
       "      <th>2</th>\n",
       "      <td>2</td>\n",
       "      <td>[Intro: Young M.A]\\nAw man, the squad is here\\...</td>\n",
       "      <td>[intro: young m.a] aw man, the squad is here r...</td>\n",
       "      <td>[[, intro, :, young, m.a, ], aw, man, ,, the, ...</td>\n",
       "    </tr>\n",
       "    <tr>\n",
       "      <th>3</th>\n",
       "      <td>3</td>\n",
       "      <td>All these songs are about (or heavily referenc...</td>\n",
       "      <td>all these songs are about (or heavily referenc...</td>\n",
       "      <td>[all, these, songs, are, about, (, or, heavily...</td>\n",
       "    </tr>\n",
       "    <tr>\n",
       "      <th>4</th>\n",
       "      <td>4</td>\n",
       "      <td>[Paroles de \"Respect P. Diddy\"]\\n\\n[Intro : Go...</td>\n",
       "      <td>[paroles de \"respect p. diddy\"]  [intro : goua...</td>\n",
       "      <td>[[, paroles, de, ``, respect, p., diddy, '', ]...</td>\n",
       "    </tr>\n",
       "  </tbody>\n",
       "</table>\n",
       "</div>"
      ],
      "text/plain": [
       "   Unnamed: 0                                               Text  \\\n",
       "0           0  [Verse]\\nI feel so impure\\nEvery day, less sur...   \n",
       "1           1  THE AMERICAN ACADEMY of Emergency Medicine con...   \n",
       "2           2  [Intro: Young M.A]\\nAw man, the squad is here\\...   \n",
       "3           3  All these songs are about (or heavily referenc...   \n",
       "4           4  [Paroles de \"Respect P. Diddy\"]\\n\\n[Intro : Go...   \n",
       "\n",
       "                                       adjusted_text  \\\n",
       "0  [verse] i feel so impure every day, less sure ...   \n",
       "1  the american academy of emergency medicine con...   \n",
       "2  [intro: young m.a] aw man, the squad is here r...   \n",
       "3  all these songs are about (or heavily referenc...   \n",
       "4  [paroles de \"respect p. diddy\"]  [intro : goua...   \n",
       "\n",
       "                                           tokenized  \n",
       "0  [[, verse, ], i, feel, so, impure, every, day,...  \n",
       "1  [the, american, academy, of, emergency, medici...  \n",
       "2  [[, intro, :, young, m.a, ], aw, man, ,, the, ...  \n",
       "3  [all, these, songs, are, about, (, or, heavily...  \n",
       "4  [[, paroles, de, ``, respect, p., diddy, '', ]...  "
      ]
     },
     "execution_count": 55,
     "metadata": {},
     "output_type": "execute_result"
    }
   ],
   "source": [
    "from nltk.tokenize import word_tokenize\n",
    "def adding_tokens(x):\n",
    "    return word_tokenize(x)\n",
    "df_lyrics['tokenized'] = df_lyrics['adjusted_text'].map(lambda x: adding_tokens(x))\n",
    "df_lyrics.head()    "
   ]
  },
  {
   "cell_type": "markdown",
   "metadata": {},
   "source": [
    "Now, let's take the first tokenized list to see if there are any matches to cities. And it looks like there aren't. Are there really no songs with mentions of cities in their lyrics? No, obviously we can name a few that have cities in the title, especially songs about New York or Los Angeles. "
   ]
  },
  {
   "cell_type": "code",
   "execution_count": 58,
   "metadata": {},
   "outputs": [],
   "source": [
    "list_of_cities = df['fixed_names']\n",
    "list_of_cities"
   ]
  },
  {
   "cell_type": "code",
   "execution_count": 65,
   "metadata": {},
   "outputs": [
    {
     "name": "stdout",
     "output_type": "stream",
     "text": [
      "0\n",
      "0\n",
      "0\n",
      "0\n",
      "0\n",
      "0\n",
      "0\n",
      "0\n",
      "0\n",
      "0\n",
      "0\n",
      "0\n",
      "0\n",
      "0\n",
      "0\n",
      "0\n",
      "0\n",
      "0\n",
      "0\n",
      "0\n",
      "0\n",
      "0\n",
      "0\n",
      "0\n",
      "0\n",
      "0\n",
      "0\n",
      "0\n",
      "0\n",
      "0\n",
      "0\n",
      "0\n",
      "0\n",
      "0\n",
      "0\n",
      "0\n",
      "0\n",
      "0\n",
      "0\n",
      "0\n",
      "0\n",
      "0\n",
      "0\n",
      "0\n",
      "0\n",
      "0\n",
      "0\n",
      "0\n",
      "0\n",
      "0\n",
      "0\n",
      "0\n",
      "0\n",
      "0\n",
      "0\n",
      "0\n",
      "0\n",
      "0\n",
      "0\n",
      "0\n",
      "0\n",
      "0\n",
      "0\n",
      "0\n",
      "0\n",
      "0\n",
      "0\n",
      "0\n",
      "0\n",
      "0\n",
      "0\n",
      "0\n",
      "0\n",
      "0\n",
      "0\n",
      "0\n",
      "0\n",
      "0\n",
      "0\n",
      "0\n",
      "0\n",
      "0\n",
      "0\n",
      "0\n",
      "0\n",
      "0\n",
      "0\n",
      "0\n",
      "0\n",
      "0\n",
      "0\n",
      "0\n",
      "0\n",
      "0\n",
      "0\n",
      "0\n",
      "0\n",
      "0\n",
      "0\n",
      "0\n",
      "0\n",
      "0\n",
      "0\n",
      "0\n",
      "0\n",
      "0\n",
      "0\n",
      "0\n",
      "0\n",
      "0\n",
      "0\n",
      "0\n",
      "0\n",
      "0\n",
      "0\n",
      "0\n",
      "0\n",
      "0\n",
      "0\n",
      "0\n",
      "0\n",
      "0\n",
      "0\n",
      "0\n",
      "0\n",
      "0\n",
      "0\n",
      "0\n",
      "0\n",
      "0\n",
      "0\n",
      "0\n",
      "0\n",
      "0\n",
      "0\n",
      "0\n",
      "0\n",
      "0\n",
      "0\n",
      "0\n",
      "0\n",
      "0\n",
      "0\n",
      "0\n",
      "0\n",
      "0\n",
      "0\n",
      "0\n",
      "0\n",
      "0\n",
      "0\n",
      "0\n",
      "0\n",
      "0\n",
      "0\n",
      "0\n",
      "0\n",
      "0\n",
      "0\n",
      "0\n",
      "0\n",
      "0\n",
      "0\n",
      "0\n",
      "0\n",
      "0\n",
      "0\n",
      "0\n",
      "0\n",
      "0\n",
      "0\n",
      "0\n",
      "0\n",
      "0\n",
      "0\n",
      "0\n",
      "0\n",
      "0\n",
      "0\n",
      "0\n",
      "0\n",
      "0\n",
      "0\n",
      "0\n",
      "0\n",
      "0\n",
      "0\n",
      "0\n",
      "0\n",
      "0\n",
      "0\n",
      "0\n",
      "0\n",
      "0\n",
      "0\n",
      "0\n",
      "0\n",
      "0\n",
      "0\n",
      "0\n",
      "0\n",
      "0\n",
      "0\n",
      "0\n",
      "0\n",
      "0\n",
      "0\n",
      "0\n",
      "0\n",
      "0\n",
      "0\n",
      "0\n",
      "0\n",
      "0\n",
      "0\n",
      "0\n",
      "0\n",
      "0\n",
      "0\n",
      "0\n",
      "0\n",
      "0\n",
      "0\n",
      "0\n",
      "0\n",
      "0\n",
      "0\n",
      "0\n",
      "0\n",
      "0\n",
      "0\n",
      "0\n",
      "0\n",
      "0\n",
      "0\n",
      "0\n",
      "0\n",
      "0\n",
      "0\n",
      "0\n",
      "0\n",
      "0\n",
      "0\n",
      "0\n",
      "0\n",
      "0\n",
      "0\n",
      "0\n",
      "0\n",
      "0\n",
      "0\n",
      "0\n",
      "0\n",
      "0\n",
      "0\n",
      "0\n",
      "0\n",
      "0\n",
      "0\n",
      "0\n",
      "0\n",
      "0\n",
      "0\n",
      "0\n",
      "0\n",
      "0\n",
      "0\n",
      "0\n",
      "0\n",
      "0\n",
      "0\n",
      "0\n",
      "0\n",
      "0\n",
      "0\n",
      "0\n",
      "0\n",
      "0\n",
      "0\n",
      "0\n",
      "0\n",
      "0\n",
      "0\n"
     ]
    },
    {
     "data": {
      "text/plain": [
       "0      None\n",
       "1      None\n",
       "2      None\n",
       "3      None\n",
       "4      None\n",
       "       ... \n",
       "278    None\n",
       "279    None\n",
       "280    None\n",
       "281    None\n",
       "282    None\n",
       "Name: tokenized, Length: 283, dtype: object"
      ]
     },
     "execution_count": 65,
     "metadata": {},
     "output_type": "execute_result"
    }
   ],
   "source": [
    "def searching_for_cities(x):\n",
    "    count = 0\n",
    "    for word in x:\n",
    "        if word in list_of_cities:\n",
    "            count += 1\n",
    "            print(word)\n",
    "    print(count)\n",
    "df_lyrics['tokenized'].map(lambda x: searching_for_cities(x))          "
   ]
  },
  {
   "cell_type": "markdown",
   "metadata": {},
   "source": [
    "To have a larger dataset of songs, we are going to have to look for one. One way is to write a script that uses LyricsGenius to pull these lyrics."
   ]
  },
  {
   "cell_type": "code",
   "execution_count": null,
   "metadata": {},
   "outputs": [],
   "source": []
  }
 ],
 "metadata": {
  "kernelspec": {
   "display_name": "Python 3 (ipykernel)",
   "language": "python",
   "name": "python3"
  },
  "language_info": {
   "codemirror_mode": {
    "name": "ipython",
    "version": 3
   },
   "file_extension": ".py",
   "mimetype": "text/x-python",
   "name": "python",
   "nbconvert_exporter": "python",
   "pygments_lexer": "ipython3",
   "version": "3.9.7"
  }
 },
 "nbformat": 4,
 "nbformat_minor": 4
}
