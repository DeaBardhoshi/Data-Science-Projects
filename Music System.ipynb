{
 "cells": [
  {
   "cell_type": "code",
   "execution_count": 1,
   "metadata": {},
   "outputs": [],
   "source": [
    "import pandas as pd"
   ]
  },
  {
   "cell_type": "code",
   "execution_count": null,
   "metadata": {},
   "outputs": [],
   "source": [
    "df_data = pd.read_csv('tracks.csv')"
   ]
  },
  {
   "cell_type": "code",
   "execution_count": 3,
   "metadata": {},
   "outputs": [],
   "source": [
    "sorted_df = df_data.sort_values('popularity', ascending = False).head(100)\n",
    "sorted_two_df = df_data.sort_values('popularity', ascending = True)\n",
    "date = list(df_data.release_date)\n",
    "for i in range(len(date)):\n",
    "    date[i] = int(date[i][:4])"
   ]
  },
  {
   "cell_type": "code",
   "execution_count": 4,
   "metadata": {},
   "outputs": [],
   "source": [
    "df_data['Year'] = date"
   ]
  },
  {
   "cell_type": "code",
   "execution_count": 5,
   "metadata": {},
   "outputs": [],
   "source": [
    "df_pre90 = df_data[df_data.Year <= 1990]\n",
    "df_post_90 = df_data[df_data.Year > 1990]"
   ]
  },
  {
   "cell_type": "code",
   "execution_count": 6,
   "metadata": {},
   "outputs": [
    {
     "data": {
      "text/html": [
       "<div>\n",
       "<style scoped>\n",
       "    .dataframe tbody tr th:only-of-type {\n",
       "        vertical-align: middle;\n",
       "    }\n",
       "\n",
       "    .dataframe tbody tr th {\n",
       "        vertical-align: top;\n",
       "    }\n",
       "\n",
       "    .dataframe thead th {\n",
       "        text-align: right;\n",
       "    }\n",
       "</style>\n",
       "<table border=\"1\" class=\"dataframe\">\n",
       "  <thead>\n",
       "    <tr style=\"text-align: right;\">\n",
       "      <th></th>\n",
       "      <th>id</th>\n",
       "      <th>name</th>\n",
       "      <th>popularity</th>\n",
       "      <th>duration_ms</th>\n",
       "      <th>explicit</th>\n",
       "      <th>artists</th>\n",
       "      <th>id_artists</th>\n",
       "      <th>release_date</th>\n",
       "      <th>danceability</th>\n",
       "      <th>energy</th>\n",
       "      <th>key</th>\n",
       "      <th>loudness</th>\n",
       "      <th>mode</th>\n",
       "      <th>speechiness</th>\n",
       "      <th>acousticness</th>\n",
       "      <th>instrumentalness</th>\n",
       "      <th>liveness</th>\n",
       "      <th>valence</th>\n",
       "      <th>tempo</th>\n",
       "      <th>time_signature</th>\n",
       "    </tr>\n",
       "  </thead>\n",
       "  <tbody>\n",
       "    <tr>\n",
       "      <th>93802</th>\n",
       "      <td>4iJyoBOLtHqaGxP12qzhQI</td>\n",
       "      <td>Peaches (feat. Daniel Caesar &amp; Giveon)</td>\n",
       "      <td>100</td>\n",
       "      <td>198082</td>\n",
       "      <td>1</td>\n",
       "      <td>['Justin Bieber', 'Daniel Caesar', 'Giveon']</td>\n",
       "      <td>['1uNFoZAHBGtllmzznpCI3s', '20wkVLutqVOYrc0kxF...</td>\n",
       "      <td>2021-03-19</td>\n",
       "      <td>0.677</td>\n",
       "      <td>0.696</td>\n",
       "      <td>0</td>\n",
       "      <td>-6.181</td>\n",
       "      <td>1</td>\n",
       "      <td>0.1190</td>\n",
       "      <td>0.3210</td>\n",
       "      <td>0.000000</td>\n",
       "      <td>0.420</td>\n",
       "      <td>0.464</td>\n",
       "      <td>90.030</td>\n",
       "      <td>4</td>\n",
       "    </tr>\n",
       "    <tr>\n",
       "      <th>93803</th>\n",
       "      <td>7lPN2DXiMsVn7XUKtOW1CS</td>\n",
       "      <td>drivers license</td>\n",
       "      <td>99</td>\n",
       "      <td>242014</td>\n",
       "      <td>1</td>\n",
       "      <td>['Olivia Rodrigo']</td>\n",
       "      <td>['1McMsnEElThX1knmY4oliG']</td>\n",
       "      <td>2021-01-08</td>\n",
       "      <td>0.585</td>\n",
       "      <td>0.436</td>\n",
       "      <td>10</td>\n",
       "      <td>-8.761</td>\n",
       "      <td>1</td>\n",
       "      <td>0.0601</td>\n",
       "      <td>0.7210</td>\n",
       "      <td>0.000013</td>\n",
       "      <td>0.105</td>\n",
       "      <td>0.132</td>\n",
       "      <td>143.874</td>\n",
       "      <td>4</td>\n",
       "    </tr>\n",
       "    <tr>\n",
       "      <th>93804</th>\n",
       "      <td>3Ofmpyhv5UAQ70mENzB277</td>\n",
       "      <td>Astronaut In The Ocean</td>\n",
       "      <td>98</td>\n",
       "      <td>132780</td>\n",
       "      <td>0</td>\n",
       "      <td>['Masked Wolf']</td>\n",
       "      <td>['1uU7g3DNSbsu0QjSEqZtEd']</td>\n",
       "      <td>2021-01-06</td>\n",
       "      <td>0.778</td>\n",
       "      <td>0.695</td>\n",
       "      <td>4</td>\n",
       "      <td>-6.865</td>\n",
       "      <td>0</td>\n",
       "      <td>0.0913</td>\n",
       "      <td>0.1750</td>\n",
       "      <td>0.000000</td>\n",
       "      <td>0.150</td>\n",
       "      <td>0.472</td>\n",
       "      <td>149.996</td>\n",
       "      <td>4</td>\n",
       "    </tr>\n",
       "    <tr>\n",
       "      <th>92810</th>\n",
       "      <td>5QO79kh1waicV47BqGRL3g</td>\n",
       "      <td>Save Your Tears</td>\n",
       "      <td>97</td>\n",
       "      <td>215627</td>\n",
       "      <td>1</td>\n",
       "      <td>['The Weeknd']</td>\n",
       "      <td>['1Xyo4u8uXC1ZmMpatF05PJ']</td>\n",
       "      <td>2020-03-20</td>\n",
       "      <td>0.680</td>\n",
       "      <td>0.826</td>\n",
       "      <td>0</td>\n",
       "      <td>-5.487</td>\n",
       "      <td>1</td>\n",
       "      <td>0.0309</td>\n",
       "      <td>0.0212</td>\n",
       "      <td>0.000012</td>\n",
       "      <td>0.543</td>\n",
       "      <td>0.644</td>\n",
       "      <td>118.051</td>\n",
       "      <td>4</td>\n",
       "    </tr>\n",
       "    <tr>\n",
       "      <th>92811</th>\n",
       "      <td>6tDDoYIxWvMLTdKpjFkc1B</td>\n",
       "      <td>telepatía</td>\n",
       "      <td>97</td>\n",
       "      <td>160191</td>\n",
       "      <td>0</td>\n",
       "      <td>['Kali Uchis']</td>\n",
       "      <td>['1U1el3k54VvEUzo3ybLPlM']</td>\n",
       "      <td>2020-12-04</td>\n",
       "      <td>0.653</td>\n",
       "      <td>0.524</td>\n",
       "      <td>11</td>\n",
       "      <td>-9.016</td>\n",
       "      <td>0</td>\n",
       "      <td>0.0502</td>\n",
       "      <td>0.1120</td>\n",
       "      <td>0.000000</td>\n",
       "      <td>0.203</td>\n",
       "      <td>0.553</td>\n",
       "      <td>83.970</td>\n",
       "      <td>4</td>\n",
       "    </tr>\n",
       "  </tbody>\n",
       "</table>\n",
       "</div>"
      ],
      "text/plain": [
       "                           id                                    name  \\\n",
       "93802  4iJyoBOLtHqaGxP12qzhQI  Peaches (feat. Daniel Caesar & Giveon)   \n",
       "93803  7lPN2DXiMsVn7XUKtOW1CS                         drivers license   \n",
       "93804  3Ofmpyhv5UAQ70mENzB277                  Astronaut In The Ocean   \n",
       "92810  5QO79kh1waicV47BqGRL3g                         Save Your Tears   \n",
       "92811  6tDDoYIxWvMLTdKpjFkc1B                               telepatía   \n",
       "\n",
       "       popularity  duration_ms  explicit  \\\n",
       "93802         100       198082         1   \n",
       "93803          99       242014         1   \n",
       "93804          98       132780         0   \n",
       "92810          97       215627         1   \n",
       "92811          97       160191         0   \n",
       "\n",
       "                                            artists  \\\n",
       "93802  ['Justin Bieber', 'Daniel Caesar', 'Giveon']   \n",
       "93803                            ['Olivia Rodrigo']   \n",
       "93804                               ['Masked Wolf']   \n",
       "92810                                ['The Weeknd']   \n",
       "92811                                ['Kali Uchis']   \n",
       "\n",
       "                                              id_artists release_date  \\\n",
       "93802  ['1uNFoZAHBGtllmzznpCI3s', '20wkVLutqVOYrc0kxF...   2021-03-19   \n",
       "93803                         ['1McMsnEElThX1knmY4oliG']   2021-01-08   \n",
       "93804                         ['1uU7g3DNSbsu0QjSEqZtEd']   2021-01-06   \n",
       "92810                         ['1Xyo4u8uXC1ZmMpatF05PJ']   2020-03-20   \n",
       "92811                         ['1U1el3k54VvEUzo3ybLPlM']   2020-12-04   \n",
       "\n",
       "       danceability  energy  key  loudness  mode  speechiness  acousticness  \\\n",
       "93802         0.677   0.696    0    -6.181     1       0.1190        0.3210   \n",
       "93803         0.585   0.436   10    -8.761     1       0.0601        0.7210   \n",
       "93804         0.778   0.695    4    -6.865     0       0.0913        0.1750   \n",
       "92810         0.680   0.826    0    -5.487     1       0.0309        0.0212   \n",
       "92811         0.653   0.524   11    -9.016     0       0.0502        0.1120   \n",
       "\n",
       "       instrumentalness  liveness  valence    tempo  time_signature  \n",
       "93802          0.000000     0.420    0.464   90.030               4  \n",
       "93803          0.000013     0.105    0.132  143.874               4  \n",
       "93804          0.000000     0.150    0.472  149.996               4  \n",
       "92810          0.000012     0.543    0.644  118.051               4  \n",
       "92811          0.000000     0.203    0.553   83.970               4  "
      ]
     },
     "execution_count": 6,
     "metadata": {},
     "output_type": "execute_result"
    }
   ],
   "source": [
    "sorted_df.head()"
   ]
  },
  {
   "cell_type": "markdown",
   "metadata": {},
   "source": [
    "In this tutorial series, we are going to be building a recommender system that uses the features of the songs, together with the lyrics to recommend songs to the listener. For part one, let's first visualize the data.\n",
    "\n",
    "https://medium.com/@adriensieg/text-similarities-da019229c894"
   ]
  },
  {
   "cell_type": "code",
   "execution_count": 7,
   "metadata": {},
   "outputs": [],
   "source": [
    "import plotly.express as px"
   ]
  },
  {
   "cell_type": "markdown",
   "metadata": {},
   "source": [
    "## Visualization 1: Top 100 most popular songs vs. all of the rest  - Features"
   ]
  },
  {
   "cell_type": "code",
   "execution_count": 8,
   "metadata": {},
   "outputs": [],
   "source": [
    "import numpy as np\n",
    "import seaborn as sns\n",
    "import matplotlib.pyplot as plt"
   ]
  },
  {
   "cell_type": "code",
   "execution_count": 12,
   "metadata": {},
   "outputs": [],
   "source": [
    "sorted_df_1 = sorted_df[['explicit', 'danceability', 'energy', 'mode', 'speechiness', 'acousticness', 'instrumentalness', 'liveness', 'valence' ]]\n",
    "sorted_two_df = sorted_two_df[['explicit', 'danceability', 'energy', 'mode', 'speechiness', 'acousticness', 'instrumentalness', 'liveness', 'valence' ]]"
   ]
  },
  {
   "cell_type": "code",
   "execution_count": 10,
   "metadata": {},
   "outputs": [
    {
     "data": {
      "text/plain": [
       "<matplotlib.legend.Legend at 0x7f32c5ecc9a0>"
      ]
     },
     "execution_count": 10,
     "metadata": {},
     "output_type": "execute_result"
    },
    {
     "data": {
      "image/png": "[encoded data removed]",
      "text/plain": [
       "<Figure size 1080x1080 with 1 Axes>"
      ]
     },
     "metadata": {
      "needs_background": "light"
     },
     "output_type": "display_data"
    }
   ],
   "source": [
    "labels = list(sorted_df_1)[:]\n",
    "stats = sorted_df_1.mean().tolist()\n",
    "stats2 = sorted_two_df.mean().tolist()\n",
    "\n",
    "angles = np.linspace(0, 2*np.pi, len(labels), endpoint=False)\n",
    "fig = plt.figure(figsize = (15,15))\n",
    "\n",
    "ax = fig.add_subplot(221, polar=True)\n",
    "ax.plot(angles, stats, 'o-', linewidth=2, label = \"Popular\", color= 'blue')\n",
    "ax.fill(angles, stats, alpha=0.25, facecolor='blue')\n",
    "ax.set_thetagrids(angles * 180/np.pi, labels , fontsize = 13)\n",
    "\n",
    "\n",
    "ax.set_rlabel_position(250)\n",
    "plt.yticks([0.1 , 0.2 , 0.3 , 0.4, 0.5,  0.6, 0.7], [\"0.1\",'0.2', \"0.3\", \"0.4\", \"0.5\", \"0.6\", '0.7'  ], size=12)\n",
    "plt.ylim(0,0.7)\n",
    "\n",
    "ax.plot(angles, stats2, 'o-', linewidth=2, label = \"All the Dataset\", color= 'orange')\n",
    "ax.fill(angles, stats2, alpha=0.25, facecolor='orange')\n",
    "ax.set_title('Mean Values')\n",
    "ax.grid(True)\n",
    "\n",
    "plt.legend(loc='best', bbox_to_anchor=(0.1, 0.1))"
   ]
  },
  {
   "cell_type": "code",
   "execution_count": 26,
   "metadata": {},
   "outputs": [],
   "source": [
    "import networkx as nx"
   ]
  },
  {
   "cell_type": "code",
   "execution_count": 27,
   "metadata": {},
   "outputs": [],
   "source": [
    "from scipy import spatial"
   ]
  },
  {
   "cell_type": "code",
   "execution_count": 28,
   "metadata": {},
   "outputs": [],
   "source": [
    "list_songs = list(sorted_df.name)"
   ]
  },
  {
   "cell_type": "code",
   "execution_count": 29,
   "metadata": {},
   "outputs": [
    {
     "data": {
      "text/plain": [
       "0.06722006900223576"
      ]
     },
     "execution_count": 29,
     "metadata": {},
     "output_type": "execute_result"
    }
   ],
   "source": [
    "spatial.distance.cosine(sorted_df_1.iloc[1], sorted_df_1.iloc[0])"
   ]
  },
  {
   "cell_type": "code",
   "execution_count": 30,
   "metadata": {},
   "outputs": [],
   "source": [
    "dict_edges = {}\n",
    "for i in range(len(list_songs)):\n",
    "    list_val = []\n",
    "    for j in range(i):\n",
    "        a_row = list(sorted_df_1.iloc[j])\n",
    "        list_val.append([j, 1 - spatial.distance.cosine(sorted_df_1.iloc[i], a_row),list(sorted_df.iloc[j])[1] ])\n",
    "    for j in range(i+1,len(list_songs)):    \n",
    "        a_row = list(sorted_df_1.iloc[j])\n",
    "        list_val.append([j, 1 - spatial.distance.cosine(sorted_df_1.iloc[i], a_row), list(sorted_df.iloc[j])[1]])\n",
    "    dict_edges[i] = list_val "
   ]
  },
  {
   "cell_type": "code",
   "execution_count": 31,
   "metadata": {},
   "outputs": [
    {
     "data": {
      "text/plain": [
       "[2, 0.624587378766394, 'Astronaut In The Ocean']"
      ]
     },
     "execution_count": 31,
     "metadata": {},
     "output_type": "execute_result"
    }
   ],
   "source": [
    "dict_edges[0][1]"
   ]
  },
  {
   "cell_type": "code",
   "execution_count": 32,
   "metadata": {},
   "outputs": [],
   "source": [
    "new_dict = {}\n",
    "for i in range(100):\n",
    "    list_to_put = []\n",
    "    for j in range(len(dict_edges[i])):\n",
    "        if dict_edges[i][j][1] >= 0.95:\n",
    "            list_to_put.append(dict_edges[i][j])      \n",
    "    new_dict[i] = list_to_put"
   ]
  },
  {
   "cell_type": "code",
   "execution_count": 39,
   "metadata": {},
   "outputs": [
    {
     "data": {
      "text/plain": [
       "[[5, 0.9560293750509065, 'Leave The Door Open'],\n",
       " [9, 0.9617853833264152, 'Bandido'],\n",
       " [10,\n",
       "  0.9543247062808949,\n",
       "  'Friday (feat. Mufasa & Hypeman) - Dopamine Re-Edit'],\n",
       " [15, 0.9618532617779112, 'LA NOCHE DE ANOCHE'],\n",
       " [24, 0.975378085973775, 'Watermelon Sugar'],\n",
       " [34, 0.9825310864278127, 'Your Love (9PM)'],\n",
       " [36, 0.9698599391328867, \"We're Good\"],\n",
       " [42, 0.9966740678817692, 'Sweater Weather'],\n",
       " [45, 0.9615933691766524, 'Anyone'],\n",
       " [47, 0.9637384203440083, 'Beautiful Mistakes (feat. Megan Thee Stallion)'],\n",
       " [48, 0.9514504337674509, 'Baila Conmigo (with Rauw Alejandro)'],\n",
       " [58, 0.9786201789244626, 'Life Goes On'],\n",
       " [62, 0.9790768610231424, 'Circles'],\n",
       " [75, 0.9626145705580303, 'Film out'],\n",
       " [77, 0.9863620286062014, 'Adore You'],\n",
       " [85, 0.9745729782766279, 'Do I Wanna Know?'],\n",
       " [88, 0.9661079822199794, 'Holy (feat. Chance The Rapper)']]"
      ]
     },
     "execution_count": 39,
     "metadata": {},
     "output_type": "execute_result"
    }
   ],
   "source": [
    "new_dict[6]"
   ]
  },
  {
   "cell_type": "code",
   "execution_count": 34,
   "metadata": {},
   "outputs": [],
   "source": [
    "G = nx.Graph()\n",
    "for i in range(100):\n",
    "    for j in range(len(new_dict[i])):\n",
    "        G.add_node(i,label = i)\n",
    "        G.add_edge(i, new_dict[i][j][0], weight=new_dict[i][j][1], title = new_dict[i][j][2])"
   ]
  },
  {
   "cell_type": "code",
   "execution_count": 35,
   "metadata": {},
   "outputs": [
    {
     "data": {
      "image/png": "[encoded data removed]",
      "text/plain": [
       "<Figure size 432x288 with 1 Axes>"
      ]
     },
     "metadata": {},
     "output_type": "display_data"
    }
   ],
   "source": [
    "import matplotlib.pyplot as plt\n",
    "\n",
    "nx.draw(G)\n"
   ]
  },
  {
   "cell_type": "code",
   "execution_count": 36,
   "metadata": {},
   "outputs": [
    {
     "name": "stdout",
     "output_type": "stream",
     "text": [
      "23 55\n"
     ]
    }
   ],
   "source": [
    "max_deg = 0\n",
    "node = 0\n",
    "for n in G.nodes():\n",
    "    if G.degree[n] > max_deg:\n",
    "        max_deg = G.degree[n]\n",
    "        node = n\n",
    "print(max_deg, node)   "
   ]
  },
  {
   "cell_type": "code",
   "execution_count": 40,
   "metadata": {},
   "outputs": [
    {
     "data": {
      "text/plain": [
       "12.494845360824742"
      ]
     },
     "execution_count": 40,
     "metadata": {},
     "output_type": "execute_result"
    }
   ],
   "source": [
    "sum_d = 0\n",
    "for n in G.nodes():\n",
    "    sum_d += G.degree[n]\n",
    "sum_d/len(G.nodes())"
   ]
  },
  {
   "cell_type": "code",
   "execution_count": 41,
   "metadata": {},
   "outputs": [
    {
     "data": {
      "text/plain": [
       "97"
      ]
     },
     "execution_count": 41,
     "metadata": {},
     "output_type": "execute_result"
    }
   ],
   "source": [
    "len(G.nodes())"
   ]
  },
  {
   "cell_type": "code",
   "execution_count": 42,
   "metadata": {},
   "outputs": [
    {
     "data": {
      "text/plain": [
       "id                      20McUFi8KCIVdNDLrkTDuZ\n",
       "name                                Goosebumps\n",
       "popularity                                  89\n",
       "duration_ms                             163208\n",
       "explicit                                     1\n",
       "artists                               ['HVME']\n",
       "id_artists          ['2o08sCWF5yyo2G4DCiT7T9']\n",
       "release_date                        2020-06-12\n",
       "danceability                            0.7670\n",
       "energy                                  0.6590\n",
       "key                                          1\n",
       "loudness                               -7.4290\n",
       "mode                                         1\n",
       "speechiness                             0.0444\n",
       "acousticness                            0.3250\n",
       "instrumentalness                        0.0000\n",
       "liveness                                0.1300\n",
       "valence                                 0.4390\n",
       "tempo                                 124.9460\n",
       "time_signature                               4\n",
       "Name: 92871, dtype: object"
      ]
     },
     "execution_count": 42,
     "metadata": {},
     "output_type": "execute_result"
    }
   ],
   "source": [
    "sorted_df.iloc[55]"
   ]
  },
  {
   "cell_type": "code",
   "execution_count": 187,
   "metadata": {},
   "outputs": [
    {
     "data": {
      "image/png": "[encoded data removed]",
      "text/plain": [
       "<Figure size 432x288 with 1 Axes>"
      ]
     },
     "metadata": {},
     "output_type": "display_data"
    }
   ],
   "source": [
    "selected_nodes = [n for n in range(len(G.nodes(data=True))) if G.nodes[n]['label'] == 9]  \n",
    "#H = G.subgraph(selected_nodes)\n",
    "#nx.draw(H,with_labels=True,node_size=3000)\n",
    "othersubgraph = G.subgraph(range(1,G.order()))\n",
    "nx.draw_networkx(othersubgraph, pos=pos, node_color = 'b')"
   ]
  },
  {
   "cell_type": "code",
   "execution_count": 192,
   "metadata": {},
   "outputs": [],
   "source": [
    "ed = G.edges(3, data = True)\n",
    "H = nx.Graph()\n",
    "for i in ed:\n",
    "    H.add_edge(3, i[1], weight = i[2]['weight'], title = i[2]['title'] )"
   ]
  },
  {
   "cell_type": "code",
   "execution_count": 196,
   "metadata": {},
   "outputs": [
    {
     "data": {
      "image/png": "[encoded data removed]",
      "text/plain": [
       "<Figure size 432x288 with 1 Axes>"
      ]
     },
     "metadata": {},
     "output_type": "display_data"
    }
   ],
   "source": [
    "nx.draw_networkx(H, with_labels = True)"
   ]
  },
  {
   "cell_type": "code",
   "execution_count": 197,
   "metadata": {},
   "outputs": [
    {
     "name": "stdout",
     "output_type": "stream",
     "text": [
      "lovely (with Khalid)\n",
      "Save Your Tears\n",
      "Arcade\n",
      "Train Wreck\n",
      "death bed (coffee for your head)\n"
     ]
    }
   ],
   "source": [
    "for i in ed:\n",
    "    print(i[2]['title'])"
   ]
  },
  {
   "cell_type": "markdown",
   "metadata": {},
   "source": [
    "## Visualization 2: Scatterplots of Features"
   ]
  },
  {
   "cell_type": "markdown",
   "metadata": {},
   "source": [
    "### Explicitness"
   ]
  },
  {
   "cell_type": "code",
   "execution_count": 100,
   "metadata": {},
   "outputs": [
    {
     "ename": "KeyError",
     "evalue": "'From_All'",
     "output_type": "error",
     "traceback": [
      "\u001b[0;31m---------------------------------------------------------------------------\u001b[0m",
      "\u001b[0;31mKeyError\u001b[0m                                  Traceback (most recent call last)",
      "\u001b[0;32m<ipython-input-100-17546993946d>\u001b[0m in \u001b[0;36m<module>\u001b[0;34m\u001b[0m\n\u001b[1;32m      3\u001b[0m \u001b[0;34m\u001b[0m\u001b[0m\n\u001b[1;32m      4\u001b[0m \u001b[0mfig\u001b[0m\u001b[0;34m,\u001b[0m \u001b[0max\u001b[0m \u001b[0;34m=\u001b[0m \u001b[0mplt\u001b[0m\u001b[0;34m.\u001b[0m\u001b[0msubplots\u001b[0m\u001b[0;34m(\u001b[0m\u001b[0mfigsize\u001b[0m\u001b[0;34m=\u001b[0m\u001b[0;34m(\u001b[0m\u001b[0;36m9\u001b[0m\u001b[0;34m,\u001b[0m  \u001b[0;36m9\u001b[0m\u001b[0;34m)\u001b[0m\u001b[0;34m)\u001b[0m\u001b[0;34m\u001b[0m\u001b[0;34m\u001b[0m\u001b[0m\n\u001b[0;32m----> 5\u001b[0;31m \u001b[0msorted_df_1\u001b[0m\u001b[0;34m.\u001b[0m\u001b[0mboxplot\u001b[0m\u001b[0;34m(\u001b[0m\u001b[0;34m[\u001b[0m\u001b[0;34m'danceability'\u001b[0m\u001b[0;34m,\u001b[0m \u001b[0;34m'energy'\u001b[0m\u001b[0;34m,\u001b[0m \u001b[0;34m'liveness'\u001b[0m\u001b[0;34m,\u001b[0m \u001b[0;34m'valence'\u001b[0m\u001b[0;34m]\u001b[0m\u001b[0;34m,\u001b[0m \u001b[0;34m'From_All'\u001b[0m\u001b[0;34m,\u001b[0m \u001b[0max\u001b[0m\u001b[0;34m)\u001b[0m\u001b[0;34m\u001b[0m\u001b[0;34m\u001b[0m\u001b[0m\n\u001b[0m",
      "\u001b[0;32m/opt/conda/lib/python3.8/site-packages/pandas/plotting/_core.py\u001b[0m in \u001b[0;36mboxplot_frame\u001b[0;34m(self, column, by, ax, fontsize, rot, grid, figsize, layout, return_type, backend, **kwargs)\u001b[0m\n\u001b[1;32m    492\u001b[0m ):\n\u001b[1;32m    493\u001b[0m     \u001b[0mplot_backend\u001b[0m \u001b[0;34m=\u001b[0m \u001b[0m_get_plot_backend\u001b[0m\u001b[0;34m(\u001b[0m\u001b[0mbackend\u001b[0m\u001b[0;34m)\u001b[0m\u001b[0;34m\u001b[0m\u001b[0;34m\u001b[0m\u001b[0m\n\u001b[0;32m--> 494\u001b[0;31m     return plot_backend.boxplot_frame(\n\u001b[0m\u001b[1;32m    495\u001b[0m         \u001b[0mself\u001b[0m\u001b[0;34m,\u001b[0m\u001b[0;34m\u001b[0m\u001b[0;34m\u001b[0m\u001b[0m\n\u001b[1;32m    496\u001b[0m         \u001b[0mcolumn\u001b[0m\u001b[0;34m=\u001b[0m\u001b[0mcolumn\u001b[0m\u001b[0;34m,\u001b[0m\u001b[0;34m\u001b[0m\u001b[0;34m\u001b[0m\u001b[0m\n",
      "\u001b[0;32m/opt/conda/lib/python3.8/site-packages/pandas/plotting/_matplotlib/boxplot.py\u001b[0m in \u001b[0;36mboxplot_frame\u001b[0;34m(self, column, by, ax, fontsize, rot, grid, figsize, layout, return_type, **kwds)\u001b[0m\n\u001b[1;32m    383\u001b[0m     \u001b[0;32mimport\u001b[0m \u001b[0mmatplotlib\u001b[0m\u001b[0;34m.\u001b[0m\u001b[0mpyplot\u001b[0m \u001b[0;32mas\u001b[0m \u001b[0mplt\u001b[0m\u001b[0;34m\u001b[0m\u001b[0;34m\u001b[0m\u001b[0m\n\u001b[1;32m    384\u001b[0m \u001b[0;34m\u001b[0m\u001b[0m\n\u001b[0;32m--> 385\u001b[0;31m     ax = boxplot(\n\u001b[0m\u001b[1;32m    386\u001b[0m         \u001b[0mself\u001b[0m\u001b[0;34m,\u001b[0m\u001b[0;34m\u001b[0m\u001b[0;34m\u001b[0m\u001b[0m\n\u001b[1;32m    387\u001b[0m         \u001b[0mcolumn\u001b[0m\u001b[0;34m=\u001b[0m\u001b[0mcolumn\u001b[0m\u001b[0;34m,\u001b[0m\u001b[0;34m\u001b[0m\u001b[0;34m\u001b[0m\u001b[0m\n",
      "\u001b[0;32m/opt/conda/lib/python3.8/site-packages/pandas/plotting/_matplotlib/boxplot.py\u001b[0m in \u001b[0;36mboxplot\u001b[0;34m(data, column, by, ax, fontsize, rot, grid, figsize, layout, return_type, **kwds)\u001b[0m\n\u001b[1;32m    335\u001b[0m         \u001b[0;31m# Prefer array return type for 2-D plots to match the subplot layout\u001b[0m\u001b[0;34m\u001b[0m\u001b[0;34m\u001b[0m\u001b[0;34m\u001b[0m\u001b[0m\n\u001b[1;32m    336\u001b[0m         \u001b[0;31m# https://github.com/pandas-dev/pandas/pull/12216#issuecomment-241175580\u001b[0m\u001b[0;34m\u001b[0m\u001b[0;34m\u001b[0m\u001b[0;34m\u001b[0m\u001b[0m\n\u001b[0;32m--> 337\u001b[0;31m         result = _grouped_plot_by_column(\n\u001b[0m\u001b[1;32m    338\u001b[0m             \u001b[0mplot_group\u001b[0m\u001b[0;34m,\u001b[0m\u001b[0;34m\u001b[0m\u001b[0;34m\u001b[0m\u001b[0m\n\u001b[1;32m    339\u001b[0m             \u001b[0mdata\u001b[0m\u001b[0;34m,\u001b[0m\u001b[0;34m\u001b[0m\u001b[0;34m\u001b[0m\u001b[0m\n",
      "\u001b[0;32m/opt/conda/lib/python3.8/site-packages/pandas/plotting/_matplotlib/boxplot.py\u001b[0m in \u001b[0;36m_grouped_plot_by_column\u001b[0;34m(plotf, data, columns, by, numeric_only, grid, figsize, ax, layout, return_type, **kwargs)\u001b[0m\n\u001b[1;32m    196\u001b[0m     \u001b[0;34m**\u001b[0m\u001b[0mkwargs\u001b[0m\u001b[0;34m,\u001b[0m\u001b[0;34m\u001b[0m\u001b[0;34m\u001b[0m\u001b[0m\n\u001b[1;32m    197\u001b[0m ):\n\u001b[0;32m--> 198\u001b[0;31m     \u001b[0mgrouped\u001b[0m \u001b[0;34m=\u001b[0m \u001b[0mdata\u001b[0m\u001b[0;34m.\u001b[0m\u001b[0mgroupby\u001b[0m\u001b[0;34m(\u001b[0m\u001b[0mby\u001b[0m\u001b[0;34m)\u001b[0m\u001b[0;34m\u001b[0m\u001b[0;34m\u001b[0m\u001b[0m\n\u001b[0m\u001b[1;32m    199\u001b[0m     \u001b[0;32mif\u001b[0m \u001b[0mcolumns\u001b[0m \u001b[0;32mis\u001b[0m \u001b[0;32mNone\u001b[0m\u001b[0;34m:\u001b[0m\u001b[0;34m\u001b[0m\u001b[0;34m\u001b[0m\u001b[0m\n\u001b[1;32m    200\u001b[0m         \u001b[0;32mif\u001b[0m \u001b[0;32mnot\u001b[0m \u001b[0misinstance\u001b[0m\u001b[0;34m(\u001b[0m\u001b[0mby\u001b[0m\u001b[0;34m,\u001b[0m \u001b[0;34m(\u001b[0m\u001b[0mlist\u001b[0m\u001b[0;34m,\u001b[0m \u001b[0mtuple\u001b[0m\u001b[0;34m)\u001b[0m\u001b[0;34m)\u001b[0m\u001b[0;34m:\u001b[0m\u001b[0;34m\u001b[0m\u001b[0;34m\u001b[0m\u001b[0m\n",
      "\u001b[0;32m/opt/conda/lib/python3.8/site-packages/pandas/core/frame.py\u001b[0m in \u001b[0;36mgroupby\u001b[0;34m(self, by, axis, level, as_index, sort, group_keys, squeeze, observed, dropna)\u001b[0m\n\u001b[1;32m   6712\u001b[0m         \u001b[0maxis\u001b[0m \u001b[0;34m=\u001b[0m \u001b[0mself\u001b[0m\u001b[0;34m.\u001b[0m\u001b[0m_get_axis_number\u001b[0m\u001b[0;34m(\u001b[0m\u001b[0maxis\u001b[0m\u001b[0;34m)\u001b[0m\u001b[0;34m\u001b[0m\u001b[0;34m\u001b[0m\u001b[0m\n\u001b[1;32m   6713\u001b[0m \u001b[0;34m\u001b[0m\u001b[0m\n\u001b[0;32m-> 6714\u001b[0;31m         return DataFrameGroupBy(\n\u001b[0m\u001b[1;32m   6715\u001b[0m             \u001b[0mobj\u001b[0m\u001b[0;34m=\u001b[0m\u001b[0mself\u001b[0m\u001b[0;34m,\u001b[0m\u001b[0;34m\u001b[0m\u001b[0;34m\u001b[0m\u001b[0m\n\u001b[1;32m   6716\u001b[0m             \u001b[0mkeys\u001b[0m\u001b[0;34m=\u001b[0m\u001b[0mby\u001b[0m\u001b[0;34m,\u001b[0m\u001b[0;34m\u001b[0m\u001b[0;34m\u001b[0m\u001b[0m\n",
      "\u001b[0;32m/opt/conda/lib/python3.8/site-packages/pandas/core/groupby/groupby.py\u001b[0m in \u001b[0;36m__init__\u001b[0;34m(self, obj, keys, axis, level, grouper, exclusions, selection, as_index, sort, group_keys, squeeze, observed, mutated, dropna)\u001b[0m\n\u001b[1;32m    558\u001b[0m             \u001b[0;32mfrom\u001b[0m \u001b[0mpandas\u001b[0m\u001b[0;34m.\u001b[0m\u001b[0mcore\u001b[0m\u001b[0;34m.\u001b[0m\u001b[0mgroupby\u001b[0m\u001b[0;34m.\u001b[0m\u001b[0mgrouper\u001b[0m \u001b[0;32mimport\u001b[0m \u001b[0mget_grouper\u001b[0m\u001b[0;34m\u001b[0m\u001b[0;34m\u001b[0m\u001b[0m\n\u001b[1;32m    559\u001b[0m \u001b[0;34m\u001b[0m\u001b[0m\n\u001b[0;32m--> 560\u001b[0;31m             grouper, exclusions, obj = get_grouper(\n\u001b[0m\u001b[1;32m    561\u001b[0m                 \u001b[0mobj\u001b[0m\u001b[0;34m,\u001b[0m\u001b[0;34m\u001b[0m\u001b[0;34m\u001b[0m\u001b[0m\n\u001b[1;32m    562\u001b[0m                 \u001b[0mkeys\u001b[0m\u001b[0;34m,\u001b[0m\u001b[0;34m\u001b[0m\u001b[0;34m\u001b[0m\u001b[0m\n",
      "\u001b[0;32m/opt/conda/lib/python3.8/site-packages/pandas/core/groupby/grouper.py\u001b[0m in \u001b[0;36mget_grouper\u001b[0;34m(obj, key, axis, level, sort, observed, mutated, validate, dropna)\u001b[0m\n\u001b[1;32m    814\u001b[0m                 \u001b[0min_axis\u001b[0m\u001b[0;34m,\u001b[0m \u001b[0mname\u001b[0m\u001b[0;34m,\u001b[0m \u001b[0mlevel\u001b[0m\u001b[0;34m,\u001b[0m \u001b[0mgpr\u001b[0m \u001b[0;34m=\u001b[0m \u001b[0;32mFalse\u001b[0m\u001b[0;34m,\u001b[0m \u001b[0;32mNone\u001b[0m\u001b[0;34m,\u001b[0m \u001b[0mgpr\u001b[0m\u001b[0;34m,\u001b[0m \u001b[0;32mNone\u001b[0m\u001b[0;34m\u001b[0m\u001b[0;34m\u001b[0m\u001b[0m\n\u001b[1;32m    815\u001b[0m             \u001b[0;32melse\u001b[0m\u001b[0;34m:\u001b[0m\u001b[0;34m\u001b[0m\u001b[0;34m\u001b[0m\u001b[0m\n\u001b[0;32m--> 816\u001b[0;31m                 \u001b[0;32mraise\u001b[0m \u001b[0mKeyError\u001b[0m\u001b[0;34m(\u001b[0m\u001b[0mgpr\u001b[0m\u001b[0;34m)\u001b[0m\u001b[0;34m\u001b[0m\u001b[0;34m\u001b[0m\u001b[0m\n\u001b[0m\u001b[1;32m    817\u001b[0m         \u001b[0;32melif\u001b[0m \u001b[0misinstance\u001b[0m\u001b[0;34m(\u001b[0m\u001b[0mgpr\u001b[0m\u001b[0;34m,\u001b[0m \u001b[0mGrouper\u001b[0m\u001b[0;34m)\u001b[0m \u001b[0;32mand\u001b[0m \u001b[0mgpr\u001b[0m\u001b[0;34m.\u001b[0m\u001b[0mkey\u001b[0m \u001b[0;32mis\u001b[0m \u001b[0;32mnot\u001b[0m \u001b[0;32mNone\u001b[0m\u001b[0;34m:\u001b[0m\u001b[0;34m\u001b[0m\u001b[0;34m\u001b[0m\u001b[0m\n\u001b[1;32m    818\u001b[0m             \u001b[0;31m# Add key to exclusions\u001b[0m\u001b[0;34m\u001b[0m\u001b[0;34m\u001b[0m\u001b[0;34m\u001b[0m\u001b[0m\n",
      "\u001b[0;31mKeyError\u001b[0m: 'From_All'"
     ]
    },
    {
     "data": {
      "image/png": "[encoded data removed]",
      "text/plain": [
       "<Figure size 648x648 with 1 Axes>"
      ]
     },
     "metadata": {
      "needs_background": "light"
     },
     "output_type": "display_data"
    }
   ],
   "source": [
    "import seaborn as sns\n",
    "#sns.boxplot(x = 'From_All', y = 'valence', data = sorted_df_1)\n",
    "\n",
    "fig, ax = plt.subplots(figsize=(9,  9))\n",
    "sorted_df_1.boxplot(['danceability', 'energy', 'liveness', 'valence'], 'From_All', ax)"
   ]
  },
  {
   "cell_type": "code",
   "execution_count": 101,
   "metadata": {},
   "outputs": [
    {
     "data": {
      "text/html": [
       "<div>\n",
       "<style scoped>\n",
       "    .dataframe tbody tr th:only-of-type {\n",
       "        vertical-align: middle;\n",
       "    }\n",
       "\n",
       "    .dataframe tbody tr th {\n",
       "        vertical-align: top;\n",
       "    }\n",
       "\n",
       "    .dataframe thead th {\n",
       "        text-align: right;\n",
       "    }\n",
       "</style>\n",
       "<table border=\"1\" class=\"dataframe\">\n",
       "  <thead>\n",
       "    <tr style=\"text-align: right;\">\n",
       "      <th></th>\n",
       "      <th>explicit</th>\n",
       "      <th>danceability</th>\n",
       "      <th>energy</th>\n",
       "      <th>mode</th>\n",
       "      <th>speechiness</th>\n",
       "      <th>acousticness</th>\n",
       "      <th>instrumentalness</th>\n",
       "      <th>liveness</th>\n",
       "      <th>valence</th>\n",
       "    </tr>\n",
       "  </thead>\n",
       "  <tbody>\n",
       "    <tr>\n",
       "      <th>93802</th>\n",
       "      <td>1</td>\n",
       "      <td>0.677</td>\n",
       "      <td>0.696</td>\n",
       "      <td>1</td>\n",
       "      <td>0.1190</td>\n",
       "      <td>0.3210</td>\n",
       "      <td>0.000000</td>\n",
       "      <td>0.420</td>\n",
       "      <td>0.464</td>\n",
       "    </tr>\n",
       "    <tr>\n",
       "      <th>93803</th>\n",
       "      <td>1</td>\n",
       "      <td>0.585</td>\n",
       "      <td>0.436</td>\n",
       "      <td>1</td>\n",
       "      <td>0.0601</td>\n",
       "      <td>0.7210</td>\n",
       "      <td>0.000013</td>\n",
       "      <td>0.105</td>\n",
       "      <td>0.132</td>\n",
       "    </tr>\n",
       "    <tr>\n",
       "      <th>93804</th>\n",
       "      <td>0</td>\n",
       "      <td>0.778</td>\n",
       "      <td>0.695</td>\n",
       "      <td>0</td>\n",
       "      <td>0.0913</td>\n",
       "      <td>0.1750</td>\n",
       "      <td>0.000000</td>\n",
       "      <td>0.150</td>\n",
       "      <td>0.472</td>\n",
       "    </tr>\n",
       "    <tr>\n",
       "      <th>92810</th>\n",
       "      <td>1</td>\n",
       "      <td>0.680</td>\n",
       "      <td>0.826</td>\n",
       "      <td>1</td>\n",
       "      <td>0.0309</td>\n",
       "      <td>0.0212</td>\n",
       "      <td>0.000012</td>\n",
       "      <td>0.543</td>\n",
       "      <td>0.644</td>\n",
       "    </tr>\n",
       "    <tr>\n",
       "      <th>92811</th>\n",
       "      <td>0</td>\n",
       "      <td>0.653</td>\n",
       "      <td>0.524</td>\n",
       "      <td>0</td>\n",
       "      <td>0.0502</td>\n",
       "      <td>0.1120</td>\n",
       "      <td>0.000000</td>\n",
       "      <td>0.203</td>\n",
       "      <td>0.553</td>\n",
       "    </tr>\n",
       "  </tbody>\n",
       "</table>\n",
       "</div>"
      ],
      "text/plain": [
       "       explicit  danceability  energy  mode  speechiness  acousticness  \\\n",
       "93802         1         0.677   0.696     1       0.1190        0.3210   \n",
       "93803         1         0.585   0.436     1       0.0601        0.7210   \n",
       "93804         0         0.778   0.695     0       0.0913        0.1750   \n",
       "92810         1         0.680   0.826     1       0.0309        0.0212   \n",
       "92811         0         0.653   0.524     0       0.0502        0.1120   \n",
       "\n",
       "       instrumentalness  liveness  valence  \n",
       "93802          0.000000     0.420    0.464  \n",
       "93803          0.000013     0.105    0.132  \n",
       "93804          0.000000     0.150    0.472  \n",
       "92810          0.000012     0.543    0.644  \n",
       "92811          0.000000     0.203    0.553  "
      ]
     },
     "execution_count": 101,
     "metadata": {},
     "output_type": "execute_result"
    }
   ],
   "source": [
    "sorted_df_1.head()"
   ]
  },
  {
   "cell_type": "markdown",
   "metadata": {},
   "source": [
    "### Energy vs. Danceability"
   ]
  },
  {
   "cell_type": "code",
   "execution_count": 102,
   "metadata": {},
   "outputs": [],
   "source": [
    "import random\n",
    "from random import randint"
   ]
  },
  {
   "cell_type": "code",
   "execution_count": 103,
   "metadata": {},
   "outputs": [],
   "source": [
    "\n",
    "value = randint(0,10)\n",
    "already_picked = []\n",
    "for i in range(100):\n",
    "    value = randint(100,586672)\n",
    "    already_picked.append(value)\n",
    "\n",
    "df = pd.DataFrame(columns=['explicit', 'danceability', 'energy', 'mode', 'speechiness', 'acousticness', 'instrumentalness', 'liveness', 'valence'])\n",
    "for i in range(len(already_picked)):  \n",
    "    df = df.append({'explicit':sorted_two_df.iloc[i, 0], 'danceability':sorted_two_df.iloc[i, 1], 'energy':sorted_two_df.iloc[i, 2], 'mode':sorted_two_df.iloc[i, 3], 'speechiness':sorted_two_df.iloc[i, 4], 'acousticness':sorted_two_df.iloc[i, 5], 'instrumentalness':sorted_two_df.iloc[i, 6], 'liveness':sorted_two_df.iloc[i, 7], 'valence':sorted_two_df.iloc[i, 8] }, ignore_index=True)\n",
    "df['From_All'] = [1 for i in range(len(df.index))]   \n",
    "    "
   ]
  },
  {
   "cell_type": "code",
   "execution_count": 104,
   "metadata": {},
   "outputs": [
    {
     "name": "stderr",
     "output_type": "stream",
     "text": [
      "<ipython-input-104-d035d21849b2>:1: SettingWithCopyWarning: \n",
      "A value is trying to be set on a copy of a slice from a DataFrame.\n",
      "Try using .loc[row_indexer,col_indexer] = value instead\n",
      "\n",
      "See the caveats in the documentation: https://pandas.pydata.org/pandas-docs/stable/user_guide/indexing.html#returning-a-view-versus-a-copy\n",
      "  sorted_df_1['From_All'] =  [0 for i in range(len(sorted_df_1.index))]\n"
     ]
    }
   ],
   "source": [
    "sorted_df_1['From_All'] =  [0 for i in range(len(sorted_df_1.index))]   "
   ]
  },
  {
   "cell_type": "code",
   "execution_count": 105,
   "metadata": {},
   "outputs": [],
   "source": [
    "sorted_df_1 = sorted_df_1.append(df)"
   ]
  },
  {
   "cell_type": "code",
   "execution_count": 106,
   "metadata": {},
   "outputs": [
    {
     "data": {
      "text/html": [
       "<div>\n",
       "<style scoped>\n",
       "    .dataframe tbody tr th:only-of-type {\n",
       "        vertical-align: middle;\n",
       "    }\n",
       "\n",
       "    .dataframe tbody tr th {\n",
       "        vertical-align: top;\n",
       "    }\n",
       "\n",
       "    .dataframe thead th {\n",
       "        text-align: right;\n",
       "    }\n",
       "</style>\n",
       "<table border=\"1\" class=\"dataframe\">\n",
       "  <thead>\n",
       "    <tr style=\"text-align: right;\">\n",
       "      <th></th>\n",
       "      <th>explicit</th>\n",
       "      <th>danceability</th>\n",
       "      <th>energy</th>\n",
       "      <th>mode</th>\n",
       "      <th>speechiness</th>\n",
       "      <th>acousticness</th>\n",
       "      <th>instrumentalness</th>\n",
       "      <th>liveness</th>\n",
       "      <th>valence</th>\n",
       "      <th>From_All</th>\n",
       "    </tr>\n",
       "  </thead>\n",
       "  <tbody>\n",
       "    <tr>\n",
       "      <th>93802</th>\n",
       "      <td>1.0</td>\n",
       "      <td>0.677</td>\n",
       "      <td>0.696</td>\n",
       "      <td>1.0</td>\n",
       "      <td>0.1190</td>\n",
       "      <td>0.3210</td>\n",
       "      <td>0.000000</td>\n",
       "      <td>0.420</td>\n",
       "      <td>0.464</td>\n",
       "      <td>0</td>\n",
       "    </tr>\n",
       "    <tr>\n",
       "      <th>93803</th>\n",
       "      <td>1.0</td>\n",
       "      <td>0.585</td>\n",
       "      <td>0.436</td>\n",
       "      <td>1.0</td>\n",
       "      <td>0.0601</td>\n",
       "      <td>0.7210</td>\n",
       "      <td>0.000013</td>\n",
       "      <td>0.105</td>\n",
       "      <td>0.132</td>\n",
       "      <td>0</td>\n",
       "    </tr>\n",
       "    <tr>\n",
       "      <th>93804</th>\n",
       "      <td>0.0</td>\n",
       "      <td>0.778</td>\n",
       "      <td>0.695</td>\n",
       "      <td>0.0</td>\n",
       "      <td>0.0913</td>\n",
       "      <td>0.1750</td>\n",
       "      <td>0.000000</td>\n",
       "      <td>0.150</td>\n",
       "      <td>0.472</td>\n",
       "      <td>0</td>\n",
       "    </tr>\n",
       "    <tr>\n",
       "      <th>92810</th>\n",
       "      <td>1.0</td>\n",
       "      <td>0.680</td>\n",
       "      <td>0.826</td>\n",
       "      <td>1.0</td>\n",
       "      <td>0.0309</td>\n",
       "      <td>0.0212</td>\n",
       "      <td>0.000012</td>\n",
       "      <td>0.543</td>\n",
       "      <td>0.644</td>\n",
       "      <td>0</td>\n",
       "    </tr>\n",
       "    <tr>\n",
       "      <th>92811</th>\n",
       "      <td>0.0</td>\n",
       "      <td>0.653</td>\n",
       "      <td>0.524</td>\n",
       "      <td>0.0</td>\n",
       "      <td>0.0502</td>\n",
       "      <td>0.1120</td>\n",
       "      <td>0.000000</td>\n",
       "      <td>0.203</td>\n",
       "      <td>0.553</td>\n",
       "      <td>0</td>\n",
       "    </tr>\n",
       "  </tbody>\n",
       "</table>\n",
       "</div>"
      ],
      "text/plain": [
       "       explicit  danceability  energy  mode  speechiness  acousticness  \\\n",
       "93802       1.0         0.677   0.696   1.0       0.1190        0.3210   \n",
       "93803       1.0         0.585   0.436   1.0       0.0601        0.7210   \n",
       "93804       0.0         0.778   0.695   0.0       0.0913        0.1750   \n",
       "92810       1.0         0.680   0.826   1.0       0.0309        0.0212   \n",
       "92811       0.0         0.653   0.524   0.0       0.0502        0.1120   \n",
       "\n",
       "       instrumentalness  liveness  valence  From_All  \n",
       "93802          0.000000     0.420    0.464         0  \n",
       "93803          0.000013     0.105    0.132         0  \n",
       "93804          0.000000     0.150    0.472         0  \n",
       "92810          0.000012     0.543    0.644         0  \n",
       "92811          0.000000     0.203    0.553         0  "
      ]
     },
     "execution_count": 106,
     "metadata": {},
     "output_type": "execute_result"
    }
   ],
   "source": [
    "sorted_df_1.head()"
   ]
  },
  {
   "cell_type": "code",
   "execution_count": 107,
   "metadata": {},
   "outputs": [
    {
     "data": {
      "text/plain": [
       "<matplotlib.collections.PathCollection at 0x7f32c2b414f0>"
      ]
     },
     "execution_count": 107,
     "metadata": {},
     "output_type": "execute_result"
    },
    {
     "data": {
      "image/png": "[encoded data removed]",
      "text/plain": [
       "<Figure size 432x288 with 1 Axes>"
      ]
     },
     "metadata": {
      "needs_background": "light"
     },
     "output_type": "display_data"
    }
   ],
   "source": [
    "plt.scatter(sorted_df_1.energy, sorted_df_1.danceability, s=100, c=sorted_df_1.From_All, label='From_All')"
   ]
  },
  {
   "cell_type": "code",
   "execution_count": 109,
   "metadata": {},
   "outputs": [
    {
     "name": "stdout",
     "output_type": "stream",
     "text": [
      "[[1.         0.35156523]\n",
      " [0.35156523 1.        ]] [[1.         0.20520467]\n",
      " [0.20520467 1.        ]]\n"
     ]
    }
   ],
   "source": [
    "my_rho = np.corrcoef(sorted_df_1.energy[sorted_df_1.From_All == 1], sorted_df_1[sorted_df_1.From_All == 1].danceability)\n",
    "my_rho_2 = np.corrcoef(sorted_df_1.energy[sorted_df_1.From_All == 0], sorted_df_1[sorted_df_1.From_All == 0].danceability)\n",
    "print(my_rho,my_rho_2)"
   ]
  },
  {
   "cell_type": "markdown",
   "metadata": {},
   "source": [
    "###  Valence and Liveliness"
   ]
  },
  {
   "cell_type": "code",
   "execution_count": 108,
   "metadata": {},
   "outputs": [
    {
     "data": {
      "text/plain": [
       "<matplotlib.collections.PathCollection at 0x7f32c2b19e50>"
      ]
     },
     "execution_count": 108,
     "metadata": {},
     "output_type": "execute_result"
    },
    {
     "data": {
      "image/png": "[encoded data removed]",
      "text/plain": [
       "<Figure size 432x288 with 1 Axes>"
      ]
     },
     "metadata": {
      "needs_background": "light"
     },
     "output_type": "display_data"
    }
   ],
   "source": [
    "plt.scatter(sorted_df_1.valence, sorted_df_1.liveness, s=100, c=sorted_df_1.From_All)"
   ]
  },
  {
   "cell_type": "code",
   "execution_count": 112,
   "metadata": {},
   "outputs": [
    {
     "data": {
      "text/plain": [
       "array([[ 1.        , -0.09403765],\n",
       "       [-0.09403765,  1.        ]])"
      ]
     },
     "execution_count": 112,
     "metadata": {},
     "output_type": "execute_result"
    }
   ],
   "source": [
    "my_rho = np.corrcoef(sorted_df_1.valence[sorted_df_1.From_All == 1], sorted_df_1[sorted_df_1.From_All == 1].liveness)\n",
    "my_rho_2 = np.corrcoef(sorted_df_1.valence[sorted_df_1.From_All == 0], sorted_df_1[sorted_df_1.From_All == 0].liveness)\n",
    "my_rho"
   ]
  },
  {
   "cell_type": "code",
   "execution_count": 113,
   "metadata": {},
   "outputs": [
    {
     "data": {
      "text/plain": [
       "array([[1.        , 0.02555036],\n",
       "       [0.02555036, 1.        ]])"
      ]
     },
     "execution_count": 113,
     "metadata": {},
     "output_type": "execute_result"
    }
   ],
   "source": [
    "my_rho_2"
   ]
  },
  {
   "cell_type": "markdown",
   "metadata": {},
   "source": [
    "## Visualization 3: Comparing the Eras"
   ]
  },
  {
   "cell_type": "code",
   "execution_count": 15,
   "metadata": {},
   "outputs": [
    {
     "data": {
      "text/plain": [
       "<matplotlib.legend.Legend at 0x7f2fa264f100>"
      ]
     },
     "execution_count": 15,
     "metadata": {},
     "output_type": "execute_result"
    },
    {
     "data": {
      "image/png": "[encoded data removed]",
      "text/plain": [
       "<Figure size 1080x1080 with 1 Axes>"
      ]
     },
     "metadata": {
      "needs_background": "light"
     },
     "output_type": "display_data"
    }
   ],
   "source": [
    "df_pre90 = df_pre90[['explicit', 'danceability', 'energy', 'mode', 'speechiness', 'acousticness', 'instrumentalness', 'liveness', 'valence' ]]\n",
    "df_post_90 = df_post_90[['explicit', 'danceability', 'energy', 'mode', 'speechiness', 'acousticness', 'instrumentalness', 'liveness', 'valence' ]]\n",
    "\n",
    "labels = list(df_pre90)[:]\n",
    "stats = df_pre90.mean().tolist()\n",
    "stats2 = df_post_90.mean().tolist()\n",
    "\n",
    "angles = np.linspace(0, 2*np.pi, len(labels), endpoint=False)\n",
    "\n",
    "# close the plot\n",
    "#stats = np.concatenate((stats,[stats[0]]))\n",
    "#stats2 = np.concatenate((stats2,[stats2[0]])) \n",
    "#angles = np.concatenate((angles,[angles[0]]))\n",
    "\n",
    "#Size of the figure\n",
    "fig = plt.figure(figsize = (15,15))\n",
    "\n",
    "ax = fig.add_subplot(221, polar=True)\n",
    "ax.plot(angles, stats, 'o-', linewidth=2, label = \"Pre 90\", color= 'gray')\n",
    "ax.fill(angles, stats, alpha=0.25, facecolor='gray')\n",
    "ax.set_thetagrids(angles * 180/np.pi, labels , fontsize = 13)\n",
    "\n",
    "\n",
    "ax.set_rlabel_position(250)\n",
    "plt.yticks([0.2 , 0.4 , 0.6 , 0.8  ], [\"0.2\",'0.4', \"0.6\", \"0.8\"], size=12)\n",
    "plt.ylim(0,1)\n",
    "\n",
    "ax.plot(angles, stats2, 'o-', linewidth=2, label = \"Post 90\")\n",
    "ax.fill(angles, stats2, alpha=0.25)\n",
    "ax.set_title('Mean Values of the audio features')\n",
    "ax.grid(True)\n",
    "\n",
    "plt.legend(loc='best', bbox_to_anchor=(0.1, 0.1))\n"
   ]
  },
  {
   "cell_type": "markdown",
   "metadata": {},
   "source": [
    "## Visualization 4: Artists"
   ]
  },
  {
   "cell_type": "markdown",
   "metadata": {},
   "source": [
    "### Most Popular Artists "
   ]
  },
  {
   "cell_type": "code",
   "execution_count": 17,
   "metadata": {},
   "outputs": [],
   "source": [
    "from collections import Counter\n",
    "import re"
   ]
  },
  {
   "cell_type": "code",
   "execution_count": 18,
   "metadata": {},
   "outputs": [],
   "source": [
    "sorted_df.artists.values[0] = sorted_df.artists.values[0].replace('[', '')\n",
    "sorted_df.artists.values[0] = sorted_df.artists.values[0].replace(']', '')\n",
    "sorted_df.artists.values[0]\n",
    "\n",
    "r1 = re.compile(r\"\\w{1,20}.\\w{1,20}\", re.MULTILINE | re.DOTALL)\n",
    "r = r1.findall(sorted_df.artists.values[0])"
   ]
  },
  {
   "cell_type": "code",
   "execution_count": 19,
   "metadata": {},
   "outputs": [
    {
     "data": {
      "text/plain": [
       "list"
      ]
     },
     "execution_count": 19,
     "metadata": {},
     "output_type": "execute_result"
    }
   ],
   "source": [
    "type(r)"
   ]
  },
  {
   "cell_type": "code",
   "execution_count": 20,
   "metadata": {},
   "outputs": [],
   "source": [
    "list_top_100 = list(sorted_df.artists.values)"
   ]
  },
  {
   "cell_type": "code",
   "execution_count": 21,
   "metadata": {},
   "outputs": [],
   "source": [
    "all_artists = []\n",
    "for i in range(len(list_top_100)):\n",
    "    r1 = re.compile(r\"\\w{1,20}.\\w{1,20}\", re.MULTILINE | re.DOTALL)\n",
    "    r = r1.findall(list_top_100[i])\n",
    "    if len(r) > 0:\n",
    "        all_artists.append(r[0])"
   ]
  },
  {
   "cell_type": "code",
   "execution_count": 22,
   "metadata": {},
   "outputs": [
    {
     "data": {
      "text/plain": [
       "['Justin Bieber',\n",
       " 'Olivia Rodrigo',\n",
       " 'Masked Wolf',\n",
       " 'The Weeknd',\n",
       " 'Kali Uchis',\n",
       " 'Bruno Mars',\n",
       " 'Tiësto',\n",
       " 'Giveon',\n",
       " 'Myke Towers',\n",
       " 'Riton']"
      ]
     },
     "execution_count": 22,
     "metadata": {},
     "output_type": "execute_result"
    }
   ],
   "source": [
    "c = Counter(all_artists)\n",
    "list(c)[:10]"
   ]
  },
  {
   "cell_type": "code",
   "execution_count": 23,
   "metadata": {},
   "outputs": [
    {
     "data": {
      "text/plain": [
       "[5,\n",
       " 2,\n",
       " 1,\n",
       " 2,\n",
       " 1,\n",
       " 1,\n",
       " 1,\n",
       " 1,\n",
       " 1,\n",
       " 1,\n",
       " 1,\n",
       " 1,\n",
       " 1,\n",
       " 1,\n",
       " 4,\n",
       " 1,\n",
       " 3,\n",
       " 1,\n",
       " 1,\n",
       " 2,\n",
       " 1,\n",
       " 4,\n",
       " 4,\n",
       " 1,\n",
       " 3,\n",
       " 1,\n",
       " 1,\n",
       " 2,\n",
       " 1,\n",
       " 2,\n",
       " 1,\n",
       " 3,\n",
       " 3,\n",
       " 1,\n",
       " 1,\n",
       " 1,\n",
       " 1,\n",
       " 4,\n",
       " 2,\n",
       " 1,\n",
       " 1,\n",
       " 1,\n",
       " 1,\n",
       " 1,\n",
       " 1,\n",
       " 1,\n",
       " 1,\n",
       " 1,\n",
       " 1,\n",
       " 2,\n",
       " 2,\n",
       " 1,\n",
       " 1,\n",
       " 1,\n",
       " 1,\n",
       " 1,\n",
       " 1,\n",
       " 2,\n",
       " 1,\n",
       " 1,\n",
       " 1,\n",
       " 1,\n",
       " 1,\n",
       " 2,\n",
       " 1]"
      ]
     },
     "execution_count": 23,
     "metadata": {},
     "output_type": "execute_result"
    }
   ],
   "source": [
    "list(c.values())"
   ]
  },
  {
   "cell_type": "code",
   "execution_count": 27,
   "metadata": {},
   "outputs": [],
   "source": [
    "df_artists = pd.DataFrame(data = {'Name':list(c)[:20], 'Count':list(c.values())[:20]})"
   ]
  },
  {
   "cell_type": "code",
   "execution_count": 33,
   "metadata": {},
   "outputs": [
    {
     "data": {
      "text/plain": [
       "(array([ 0,  1,  2,  3,  4,  5,  6,  7,  8,  9, 10, 11, 12, 13, 14, 15, 16,\n",
       "        17, 18, 19]),\n",
       " [Text(0, 0, 'Justin Bieber'),\n",
       "  Text(1, 0, 'Olivia Rodrigo'),\n",
       "  Text(2, 0, 'Masked Wolf'),\n",
       "  Text(3, 0, 'The Weeknd'),\n",
       "  Text(4, 0, 'Kali Uchis'),\n",
       "  Text(5, 0, 'Bruno Mars'),\n",
       "  Text(6, 0, 'Tiësto'),\n",
       "  Text(7, 0, 'Giveon'),\n",
       "  Text(8, 0, 'Myke Towers'),\n",
       "  Text(9, 0, 'Riton'),\n",
       "  Text(10, 0, 'Los Legendarios'),\n",
       "  Text(11, 0, 'Doja Cat'),\n",
       "  Text(12, 0, 'The Kid'),\n",
       "  Text(13, 0, 'SZA'),\n",
       "  Text(14, 0, 'Bad Bunny'),\n",
       "  Text(15, 0, 'Nathan Evans'),\n",
       "  Text(16, 0, 'Ariana Grande'),\n",
       "  Text(17, 0, 'Boza'),\n",
       "  Text(18, 0, 'MEDUZA'),\n",
       "  Text(19, 0, 'Cardi B')])"
      ]
     },
     "execution_count": 33,
     "metadata": {},
     "output_type": "execute_result"
    },
    {
     "data": {
      "image/png": "[encoded data removed]",
      "text/plain": [
       "<Figure size 720x576 with 1 Axes>"
      ]
     },
     "metadata": {
      "needs_background": "light"
     },
     "output_type": "display_data"
    }
   ],
   "source": [
    "fig = plt.figure(figsize = (10,8))\n",
    "sns.barplot(x = 'Name', y = 'Count', data = df_artists)\n",
    "plt.xticks(rotation=90)"
   ]
  },
  {
   "cell_type": "markdown",
   "metadata": {},
   "source": [
    "## Scraping the Lyrics Data  "
   ]
  },
  {
   "cell_type": "code",
   "execution_count": 1,
   "metadata": {},
   "outputs": [],
   "source": [
    "# LyricsGenius API"
   ]
  },
  {
   "cell_type": "code",
   "execution_count": 34,
   "metadata": {},
   "outputs": [
    {
     "name": "stdout",
     "output_type": "stream",
     "text": [
      "Collecting git+https://github.com/johnwmillr/LyricsGenius.git\n",
      "  Cloning https://github.com/johnwmillr/LyricsGenius.git to /tmp/pip-req-build-_hhdi32l\n",
      "Requirement already satisfied (use --upgrade to upgrade): lyricsgenius==3.0.1 from git+https://github.com/johnwmillr/LyricsGenius.git in /opt/conda/lib/python3.8/site-packages\n",
      "Requirement already satisfied: beautifulsoup4>=4.6.0 in /opt/conda/lib/python3.8/site-packages (from lyricsgenius==3.0.1) (4.9.3)\n",
      "Requirement already satisfied: requests>=2.20.0 in /opt/conda/lib/python3.8/site-packages (from lyricsgenius==3.0.1) (2.25.1)\n",
      "Requirement already satisfied: soupsieve>1.2; python_version >= \"3.0\" in /opt/conda/lib/python3.8/site-packages (from beautifulsoup4>=4.6.0->lyricsgenius==3.0.1) (2.2.1)\n",
      "Requirement already satisfied: urllib3<1.27,>=1.21.1 in /opt/conda/lib/python3.8/site-packages (from requests>=2.20.0->lyricsgenius==3.0.1) (1.25.7)\n",
      "Requirement already satisfied: certifi>=2017.4.17 in /opt/conda/lib/python3.8/site-packages (from requests>=2.20.0->lyricsgenius==3.0.1) (2019.11.28)\n",
      "Requirement already satisfied: idna<3,>=2.5 in /opt/conda/lib/python3.8/site-packages (from requests>=2.20.0->lyricsgenius==3.0.1) (2.8)\n",
      "Requirement already satisfied: chardet<5,>=3.0.2 in /opt/conda/lib/python3.8/site-packages (from requests>=2.20.0->lyricsgenius==3.0.1) (3.0.4)\n",
      "Building wheels for collected packages: lyricsgenius\n",
      "  Building wheel for lyricsgenius (setup.py) ... \u001b[?25ldone\n",
      "\u001b[?25h  Created wheel for lyricsgenius: filename=lyricsgenius-3.0.1-py3-none-any.whl size=44670 sha256=19b4d936eee9ff47e73326941ccb2e2f1a5beec3f9285fde5048a5f14727a08b\n",
      "  Stored in directory: /tmp/pip-ephem-wheel-cache-4v0_h7ov/wheels/64/c0/2c/8e83de1c83814299822723e7471f38a2dfbd750de606c7ccbd\n",
      "Successfully built lyricsgenius\n"
     ]
    }
   ],
   "source": [
    "!pip install git+https://github.com/johnwmillr/LyricsGenius.git"
   ]
  },
  {
   "cell_type": "code",
   "execution_count": 35,
   "metadata": {},
   "outputs": [],
   "source": []
  },
  {
   "cell_type": "code",
   "execution_count": 36,
   "metadata": {},
   "outputs": [],
   "source": [
    "import lyricsgenius\n",
    "LyricsGenius = lyricsgenius.Genius(client_access_token)"
   ]
  },
  {
   "cell_type": "code",
   "execution_count": 43,
   "metadata": {},
   "outputs": [
    {
     "name": "stdout",
     "output_type": "stream",
     "text": [
      "Searching for \"Missy Elliott\" by Work It...\n",
      "Done.\n"
     ]
    }
   ],
   "source": [
    "song = LyricsGenius.search_song(\"Missy Elliott\", \"Work It\")"
   ]
  },
  {
   "cell_type": "code",
   "execution_count": 13,
   "metadata": {},
   "outputs": [
    {
     "data": {
      "text/plain": [
       "\"[Intro]\\nDJ, please pick up your phone, I'm on the request line\\nThis is a Missy Elliott one-time exclusive, come on\\n\\n[Chorus]\\nIs it worth it? Let me work it\\nI put my thing down, flip it and reverse it\\nTi esrever dna ti pilf, nwod gniht ym tup\\nTi esrever dna ti pilf, nwod gniht ym tup\\nIf you got a big—, let me search ya\\nAnd find out how hard I gotta work ya\\nTi esrever dna ti pilf, nwod gniht ym tup\\nTi esrever dna ti pilf, nwod gniht ym tup\\nC'mon\\n\\n[Verse 1]\\nI'd like to get to know ya so I could show ya\\nPut the pussy on ya like I told ya\\nGive me all your numbers so I can phone ya\\nYour girl acting stank, then call me over\\nNot on the bed, lay me on your sofa\\nCall before you come, I need to shave my chocha\\nYou do or you don't or you will or won't ya?\\nGo downtown and eat it like a vulture\\nSee my hips and my tips, don't ya?\\nSee my ass and my lips, don't ya?\\nLost a few pounds and my waist for ya\\nThis the kinda beat that go ra-ta-ta\\nRa-ta-ta-ta-ta-ta-ta-ta-ta-ta\\nSex me so good I say blah-blah-blah\\nWork it, I need a glass of water\\nBoy, oh boy, it's good to know ya\\nC'mon\\n[Chorus]\\nIs it worth it? Let me work it\\nI put my thing down, flip it and reverse it\\nTi esrever dna ti pilf, nwod gniht ym tup\\nTi esrever dna ti pilf, nwod gniht ym tup\\nIf you got a big—, let me search ya\\nAnd find out how hard I gotta work ya\\nTi esrever dna ti pilf, nwod gniht ym tup\\nTi esrever dna ti pilf, nwod gniht ym tup\\nC'mon\\n\\n[Bridge]\\nIf you a fly gal, get your nails done\\nGet a pedicure, get your hair did\\nBoy, lift it up, let's make a toast-a\\nLet's get drunk, that's gonna bring us closer (Okay)\\nDon't I look like a Halle Berry poster?\\nSee the Belvedere playing tricks on ya (Ah)\\nGirlfriend wanna be like me, never\\nYou won't find a bitch that's even better (Ah)\\nI make you hot as Las Vegas weather\\nListen up close while I take it backwards\\n\\u200bsdrawkcab ti ekat ot ekil yssiM yaw eht hctaW\\nI'm not a prostitute, but I could give you what you want\\nI love your braids and your mouth full of fronts\\nLove the way my ass go bum-bum-bum-bum (Huh)\\nKeep your eyes on my bum-bum-bum-bum-bum (Okay)\\nYou think you can handle this badonka-donk-donk (Woo)\\nTake my thong off and my ass go boom (Ugh)\\nCut the lights on so you see what I could do (C'mon)\\n[Chorus]\\nIs it worth it? Let me work it\\nI put my thing down, flip it and reverse it\\nTi esrever dna ti pilf, nwod gniht ym tup\\nTi esrever dna ti pilf, nwod gniht ym tup (Ooh)\\nIf you got a big—, let me search ya\\nAnd find out how hard I gotta work ya\\nTi esrever dna ti pilf, nwod gniht ym tup (Huh)\\nTi esrever dna ti pilf, nwod gniht ym tup (C'mon)\\nC'mon\\n\\n[Bridge]\\nBoys, boys, all type of boys\\nBlack, White, Puerto Rican, Chinese boys (C'mon)\\nWhy-thai, thai-o-toy-o-thai-thai\\nRock-thai, thai-o-toy-o-thai-thai (C'mon)\\nGirls, girls, get that cash\\nIf it's 9 to 5 or shaking your ass (Aha)\\nAin't no shame, ladies do your thing (C'mon)\\nJust make sure you ahead of the game\\n\\n[Verse 3]\\nJust 'cause I got a lot of fame super\\nPrince couldn't get me change my name, papa\\nKunta Kinte a slave again, no sir\\nPicture Blacks saying, “Oh yes'a, massa”\\nPicture Lil' Kim dating a pastor\\nMinute Man, Big Red could outlast ya\\nWho is the best? I don't have to ask ya\\nWhen I come out, you won't even matter (Ugh)\\nWhy you act dumb like, uhhhh, duh?\\nSo you act dumb like, uhhhhh, duh\\nAs the drummer boy go ba-rom-pop-pom-pom (Ooh)\\nGive you some-some-some of this Cinnabun (C'mon)\\n[Chorus]\\nIs it worth it? Let me work it\\nI put my thing down, flip it and reverse it\\nTi esrever dna ti pilf, nwod gniht ym tup\\nTi esrever dna ti pilf, nwod gniht ym tup (Ooh)\\nIf you got a big—, let me search ya\\nAnd find out how hard I gotta work ya\\nTi esrever dna ti pilf, nwod gniht ym tup\\nTi esrever dna ti pilf, nwod gniht ym tup\\nC'mon\\n\\n[Break]\\nTo my fellas (Ooh, good god!)\\nI like the way you work that (Uh-huh, la-la-la-la)\\nTo my ladies (Whoo! Good god!)\\nYou sure know how to work that\\n\\n[Outro]\\nYeah, it's Missy Elliott!\\nI hope y'all enjoying what y'all heard so far\\nI was sittin' here thinkin' like\\nBig Daddy Kane and Public Enemy\\nSalt n Pepa, Lyte, EPMD, LL, Run-DMC\\nKRS-One, Rakim\\nMost of them artists used to dance\\nAnd still get respected in the street\\nDon't be scared to Bankhead or Bogo\\nOr move as far as sold Michael Jackson 43 million\\nShoot, errbody have the zipper jacket\\nAnd half of these thugs have the glove to match, ya feel me?\\nYo, it's ok though, if you wanna be hard and ice grill\\nAnd Harlem Shake at the same time, whatever\\nLet's just have fun, it's hip-hop man, this is hip-hop!\""
      ]
     },
     "execution_count": 13,
     "metadata": {},
     "output_type": "execute_result"
    }
   ],
   "source": [
    "song.lyrics"
   ]
  },
  {
   "cell_type": "code",
   "execution_count": 14,
   "metadata": {},
   "outputs": [],
   "source": [
    "#let's get the lyrics for the songs in our dataset"
   ]
  },
  {
   "cell_type": "code",
   "execution_count": 37,
   "metadata": {},
   "outputs": [],
   "source": [
    "#building a list of lists, with each element having Artist_Name and Song_Name:\n",
    "list_artists_songs = []\n",
    "lyrics_each = []"
   ]
  },
  {
   "cell_type": "code",
   "execution_count": 38,
   "metadata": {},
   "outputs": [],
   "source": [
    "songs_list =  list(df_data.name)\n",
    "artists_list = list(df_data.artists)"
   ]
  },
  {
   "cell_type": "code",
   "execution_count": 39,
   "metadata": {},
   "outputs": [
    {
     "name": "stdout",
     "output_type": "stream",
     "text": [
      "586672 586672\n"
     ]
    }
   ],
   "source": [
    "print(len(songs_list), len(artists_list))"
   ]
  },
  {
   "cell_type": "code",
   "execution_count": 40,
   "metadata": {},
   "outputs": [],
   "source": [
    "for i in range(len(songs_list)):\n",
    "    r1 = re.compile(r\"\\w{1,20}.\\w{1,20}\", re.MULTILINE | re.DOTALL)\n",
    "    r = r1.findall(artists_list[i])\n",
    "    if len(r) > 0:\n",
    "        for j in r:\n",
    "            list_artists_songs.append([songs_list[i], j])"
   ]
  },
  {
   "cell_type": "code",
   "execution_count": 41,
   "metadata": {},
   "outputs": [
    {
     "name": "stdout",
     "output_type": "stream",
     "text": [
      "915191\n"
     ]
    }
   ],
   "source": [
    "print(len(list_artists_songs))"
   ]
  },
  {
   "cell_type": "code",
   "execution_count": 44,
   "metadata": {},
   "outputs": [],
   "source": [
    "already_chosen = list(pd.read_csv(\"ChosenAlready\").Numbers)"
   ]
  },
  {
   "cell_type": "code",
   "execution_count": 45,
   "metadata": {},
   "outputs": [
    {
     "name": "stdout",
     "output_type": "stream",
     "text": [
      "Searching for \"Drake\" by Where Ya At (feat. Drake)...\n",
      "Done.\n",
      "Searching for \"Roza Eskenazi\" by Ntougkiax Manes...\n",
      "No results found for: 'Roza Eskenazi Ntougkiax Manes'\n",
      "Searching for \"Los Tres\" by El Aval...\n",
      "Done.\n",
      "Searching for \"Giuseppe Verdi\" by Aida (1997 Digital Remaster): La fatal pietra sovra me si chiuse...\n",
      "No results found for: 'Giuseppe Verdi Aida (1997 Digital Remaster): La fatal pietra sovra me si chiuse'\n",
      "Searching for \"Intocable\" by Prometí...\n",
      "Done.\n",
      "Searching for \"Josh Groban\" by You Are Loved (Don't Give Up)...\n",
      "Done.\n",
      "Searching for \"Richard Wagner\" by Die Walküre, WWV 86B / Act 3: \"Der Augen leuchtendes Paar\"...\n",
      "No results found for: 'Richard Wagner Die Walküre, WWV 86B / Act 3: \"Der Augen leuchtendes Paar\"'\n",
      "Searching for \"Sullivan\" by A Friend of Mine...\n",
      "Done.\n",
      "Searching for \"Boogie Down\" by 9mm Goes Bang...\n",
      "Done.\n",
      "Searching for \"Miles Davis\" by S’Posin’...\n",
      "Done.\n",
      "Searching for \"Sou\" by チューリングラブ...\n",
      "Done.\n",
      "Searching for \"Christian\" by Es ist geil ein Arschloch zu sein - Radio Version...\n",
      "No results found for: 'Christian Es ist geil ein Arschloch zu sein - Radio Version'\n",
      "Searching for \"y su\" by Viejo Rincón (with Leopoldo Federico y Su Orquesta)...\n",
      "No results found for: 'y su Viejo Rincón (with Leopoldo Federico y Su Orquesta)'\n",
      "Searching for \"Ricardo Arjona\" by Tu Retrato...\n",
      "Done.\n",
      "Searching for \"Extremoduro\" by La pedra (Fragmento) - Live...\n",
      "Done.\n",
      "Searching for \"Banda MS\" by Me Cansé...\n",
      "Done.\n",
      "Searching for \"Los Byby\" by Soñe Soñe...\n",
      "Done.\n",
      "Searching for \"Giuseppe Verdi\" by Verdi: Rigoletto, Act 2: \"Duca, Duca! .... Ebben?\" (Borsam, Marullo, Ceprano, The Duke of Mantua, Chorus)...\n",
      "No results found for: 'Giuseppe Verdi Verdi: Rigoletto, Act 2: \"Duca, Duca! .... Ebben?\" (Borsam, Marullo, Ceprano, The Duke of Mantua, Chorus)'\n",
      "Searching for \"Prozak Trio\" by שלושת האבירים...\n",
      "No results found for: 'Prozak Trio שלושת האבירים'\n",
      "Searching for \"Buuren\" by A State of Trance Year Mix 2014 - Look What I Found! - Intro...\n",
      "Done.\n",
      "Searching for \"Tommy Torres\" by Querido Tommy...\n",
      "Done.\n",
      "Searching for \"Paul Kuen\" by Der Rosenkavalier (2001 - Remaster), Act I: Mein lieber Hippolyte (Marschallin/Valzacchi/Ochs/Annina)...\n",
      "No results found for: 'Paul Kuen Der Rosenkavalier (2001 - Remaster), Act I: Mein lieber Hippolyte (Marschallin/Valzacchi/Ochs/Annina)'\n",
      "Searching for \"YELLOW MAGIC\" by 新舞踊...\n",
      "No results found for: 'YELLOW MAGIC 新舞踊'\n",
      "Searching for \"Kapono Beamer\" by Seabreeze...\n",
      "Done.\n",
      "Searching for \"Nótár Mary\" by Csók Csók Puszi...\n",
      "Done.\n",
      "Searching for \"Tüdanya\" by Aldanma Mahsun Yüzüne...\n",
      "No results found for: 'Tüdanya Aldanma Mahsun Yüzüne'\n",
      "Searching for \"Knut Hamsun\" by Capítulo 8.15 - por Senderos Que la Maleza Oculta...\n",
      "No results found for: 'Knut Hamsun Capítulo 8.15 - por Senderos Que la Maleza Oculta'\n",
      "Searching for \"Iggy Pop\" by Baby...\n",
      "Done.\n",
      "Searching for \"Army Band\" by The Frontier Forces...\n",
      "Done.\n",
      "Searching for \"Tadeusz Dolega\" by Chapter 6.2 - Doktor Murek zredukowany...\n",
      "No results found for: 'Tadeusz Dolega Chapter 6.2 - Doktor Murek zredukowany'\n",
      "Searching for \"Wolf\" by I'm the Wolf...\n",
      "Done.\n",
      "Searching for \"James Galway\" by Beauty and the Beast...\n",
      "Done.\n",
      "Searching for \"Jumper\" by Solen stiger upp även idag...\n",
      "Done.\n",
      "Searching for \"Hako Yamazaki\" by ヘルプミー...\n",
      "Done.\n",
      "Searching for \"Liene somase\" by Neskaties pulkstenī, neskaties...\n",
      "Done.\n",
      "Searching for \"Sabor\" by Sandra...\n",
      "Done.\n",
      "Searching for \"Martti Vainaa\" by Pelimies...\n",
      "Done.\n",
      "Searching for \"Irina Allegrova\" by Войди в меня...\n",
      "Done.\n",
      "Searching for \"Pink Floyd\" by Us And Them - 2011 Remastered Version...\n",
      "Done.\n",
      "Searching for \"Pantera\" by Cemetery Gates...\n",
      "Done.\n",
      "Searching for \"The Savoy\" by Come Out, Come Out, Wherever You Are (Carroll Gibbons; The Savoy Hotel Orpheans)...\n",
      "No results found for: 'The Savoy Come Out, Come Out, Wherever You Are (Carroll Gibbons; The Savoy Hotel Orpheans)'\n",
      "Searching for \"The Sweet\" by I'm Blue...\n",
      "Done.\n",
      "Searching for \"de rest\" by Je bent een soepkip!...\n",
      "No results found for: 'de rest Je bent een soepkip!'\n",
      "Searching for \"Carringer\" by Voices from Heaven Meditation 1 (2006)...\n",
      "Done.\n",
      "Searching for \"di Roma\" by Verdi : La battaglia di Legnano : Act 4 \"Deus meus\" [Chorus, Lida, Imelda]...\n",
      "No results found for: 'di Roma Verdi : La battaglia di Legnano : Act 4 \"Deus meus\" [Chorus, Lida, Imelda]'\n",
      "Searching for \"Tolga Çandar\" by Iki Keklik...\n",
      "No results found for: 'Tolga Çandar Iki Keklik'\n",
      "Searching for \"Los Internacionales\" by Flor Morena...\n",
      "Done.\n",
      "Searching for \"Armand Van\" by Barbra Streisand...\n",
      "No results found for: 'Armand Van Barbra Streisand'\n",
      "Searching for \"de l\" by Offenbach: Les contes d'Hoffmann, Act I: \"Vive Dieu mes amis, la belle créature\" (Nathanaël, Luther, Lindorf, Hermann, Chœur, Hoffmann, Nicklausse)...\n",
      "No results found for: 'de l Offenbach: Les contes d'Hoffmann, Act I: \"Vive Dieu mes amis, la belle créature\" (Nathanaël, Luther, Lindorf, Hermann, Chœur, Hoffmann, Nicklausse)'\n",
      "Searching for \"Baker\" by Elgar: Sea Pictures, Op. 37: II. In Haven \"Capri\", \"Closely let me hold thy hand\" (Allegretto)...\n",
      "No results found for: 'Baker Elgar: Sea Pictures, Op. 37: II. In Haven \"Capri\", \"Closely let me hold thy hand\" (Allegretto)'\n",
      "Searching for \"Léonie Sazias\" by Tingelingelingetje...\n",
      "No results found for: 'Léonie Sazias Tingelingelingetje'\n",
      "Searching for \"The Mavericks\" by I Don't Care If You Love Me Anymore...\n",
      "Done.\n",
      "Searching for \"Reis\" by Peregrinos de Fátima...\n",
      "Done.\n",
      "Searching for \"Lars Lilholt\" by Ofelia...\n",
      "Done.\n",
      "Searching for \"Pixinguinha\" by Estácio, Mangueira...\n",
      "Done.\n",
      "Searching for \"Roja De\" by La Muerte De Marili...\n",
      "Done.\n",
      "Searching for \"Archiv\" by 009 - Abenteuer im Ferienlager - Teil 22...\n",
      "No results found for: 'Archiv 009 - Abenteuer im Ferienlager - Teil 22'\n",
      "Searching for \"la cumbia\" by La Colegiala...\n",
      "Done.\n",
      "Searching for \"Bamses Venner\" by Spil Whist Igen...\n",
      "No results found for: 'Bamses Venner Spil Whist Igen'\n",
      "Searching for \"John Heddle\" by O Mistress Mine...\n",
      "Done.\n",
      "Searching for \"Irena Santor\" by Bar Flamingo...\n",
      "Done.\n",
      "Searching for \"El Fecho\" by La Vuelta (feat. El Fecho & Nino Freestyle)...\n",
      "Done.\n",
      "Searching for \"Jorge Trasante\" by Palomas...\n",
      "No results found for: 'Jorge Trasante Palomas'\n",
      "Searching for \"MGM Studio\" by At The Gates Of Emerald City - Extended Version...\n",
      "Specified song does not contain lyrics. Rejecting.\n",
      "Searching for \"BassnPanda\" by Тараканы (Remix)...\n",
      "No results found for: 'BassnPanda Тараканы (Remix)'\n",
      "Searching for \"Natale Galletta\" by Fatte accarezzà...\n",
      "No results found for: 'Natale Galletta Fatte accarezzà'\n",
      "Searching for \"Prem Adib\" by Gehun Ke Khet Mein...\n",
      "No results found for: 'Prem Adib Gehun Ke Khet Mein'\n",
      "Searching for \"Shirley Brown\" by Ain't No Way...\n",
      "Done.\n",
      "Searching for \"Bibi Blocksberg\" by Kapitel 01 - Die Hexenschule (Folge 071)...\n",
      "No results found for: 'Bibi Blocksberg Kapitel 01 - Die Hexenschule (Folge 071)'\n",
      "Searching for \"Karl-Erik\" by Seitsme tuule poole...\n",
      "Done.\n",
      "Searching for \"Farruko\" by Dime Qué Hago...\n",
      "Done.\n",
      "Searching for \"Oscar D\" by Detalles...\n",
      "Done.\n",
      "Searching for \"Ataulfo Alves\" by Na Cadência Do Samba...\n",
      "Done.\n",
      "Searching for \"Howard Keel\" by The Girl That I Marry...\n",
      "Done.\n",
      "Searching for \"Richard Rodgers\" by South Pacific - Original Broadway Cast Recording: Some Enchanted Evening - Voice...\n",
      "No results found for: 'Richard Rodgers South Pacific - Original Broadway Cast Recording: Some Enchanted Evening - Voice'\n",
      "Searching for \"Furs\" by President Gas...\n",
      "Done.\n",
      "Searching for \"The Royal\" by Buffalo Rhythm...\n",
      "Done.\n",
      "Searching for \"Jamal\" by Flipmode Squad Meets Def Squad (feat. Jamal, Redman, Keith Murray, Rampage the Last Boy Scout, Lord Have Mercy)...\n",
      "Done.\n",
      "Searching for \"Kerstin Thorborg\" by Der Rosenkavalier, zweiter Akt: Mir ist die Ehre widerfahren...\n",
      "No results found for: 'Kerstin Thorborg Der Rosenkavalier, zweiter Akt: Mir ist die Ehre widerfahren'\n",
      "Searching for \"Chris Isaak\" by Somebody's Crying...\n",
      "Done.\n",
      "Searching for \"Armin van\" by A State Of Trance (ASOT 904) - Double Vinyl ASOT Year Mix 2018 Contest Winners, Pt, 1...\n",
      "No results found for: 'Armin van A State Of Trance (ASOT 904) - Double Vinyl ASOT Year Mix 2018 Contest Winners, Pt, 1'\n",
      "Searching for \"Alberto Erede\" by Pagliacci / Act 1: \"Vesti la giubba\"...\n",
      "No results found for: 'Alberto Erede Pagliacci / Act 1: \"Vesti la giubba\"'\n",
      "Searching for \"The Family\" by Everybody Is a Star - single master...\n",
      "Done.\n",
      "Searching for \"Leon\" by Waste A Moment...\n",
      "Done.\n",
      "Searching for \"Like Mike\" by Mammoth...\n",
      "Done.\n",
      "Searching for \"Olle Ljungström\" by Som du...\n",
      "Done.\n",
      "Searching for \"Maggio Musicale\" by L'elisir d'amore / Act 1: \"Caro elisir! Sei mio!\"...\n",
      "No results found for: 'Maggio Musicale L'elisir d'amore / Act 1: \"Caro elisir! Sei mio!\"'\n",
      "Searching for \"Dogge Doggelito\" by Å vi e AIK...\n",
      "No results found for: 'Dogge Doggelito Å vi e AIK'\n",
      "Searching for \"Michael Ende\" by Jim Knopf und die Wilde 13 - Teil 07...\n",
      "No results found for: 'Michael Ende Jim Knopf und die Wilde 13 - Teil 07'\n",
      "Searching for \"Akhenaton\" by Le sang de la vendetta (feat. Akhenaton)...\n",
      "Done.\n",
      "Searching for \"Justin Hayward\" by Forever Autumn...\n",
      "Done.\n",
      "Searching for \"Jim Brickman\" by Angel Eyes...\n",
      "Done.\n",
      "Searching for \"Matthew Koma\" by Written In Reverse...\n",
      "Done.\n",
      "Searching for \"Hjálparsveitin\" by Hjálpum þeim...\n",
      "Done.\n",
      "Searching for \"Gloria Estefan\" by Si Voy a Perderte...\n",
      "Done.\n",
      "Searching for \"Ska-P\" by Ñapaes...\n",
      "Done.\n",
      "Searching for \"Jules Ah\" by Aloha Oe Blues - The 1920's...\n",
      "No results found for: 'Jules Ah Aloha Oe Blues - The 1920's'\n",
      "Searching for \"Ethnix\" by שניים שניים...\n",
      "No results found for: 'Ethnix שניים שניים'\n",
      "Searching for \"Wade Hayes\" by What I Meant to Say...\n",
      "Done.\n",
      "Searching for \"The Tremeloes\" by Helule Helule...\n",
      "Done.\n",
      "Searching for \"Amelita Baltar\" by Balada para un Loco...\n",
      "Done.\n",
      "Searching for \"Bombi\" by Oh Mandy...\n",
      "Done.\n",
      "Searching for \"Brijesh Shandilya\" by Banno (From \"Tannu Weds Manu Returns\")...\n",
      "No results found for: 'Brijesh Shandilya Banno (From \"Tannu Weds Manu Returns\")'\n",
      "Searching for \"SSSól\" by Saman á ný...\n",
      "Done.\n",
      "Searching for \"INXS\" by Kick...\n",
      "Done.\n",
      "Searching for \"Herbie Hancock\" by Mimosa - Alternate Take / Remastered...\n",
      "No results found for: 'Herbie Hancock Mimosa - Alternate Take / Remastered'\n",
      "Searching for \"La Tabaré\" by ¡ Qué Noche la de Aquel Día !...\n",
      "Done.\n",
      "Searching for \"Grafík\" by Húsið og ég (Mér finnst rigningin góð)...\n",
      "No results found for: 'Grafík Húsið og ég (Mér finnst rigningin góð)'\n",
      "Searching for \"Carmen Miranda\" by Anoiteceu (I Grew Dark)...\n",
      "No results found for: 'Carmen Miranda Anoiteceu (I Grew Dark)'\n",
      "Searching for \"Cast\" by The Time Warp (Music - 1 - Background Track U Mix)...\n",
      "Done.\n",
      "Searching for \"Almirante\" by Ella...\n",
      "Done.\n",
      "Searching for \"Tadeusz Dolega\" by Chapter 15.16 - Drugie życie doktora Murka...\n",
      "No results found for: 'Tadeusz Dolega Chapter 15.16 - Drugie życie doktora Murka'\n",
      "Searching for \"Bert-Åke\" by Koks i lasten, del 21...\n",
      "No results found for: 'Bert-Åke Koks i lasten, del 21'\n",
      "Searching for \"Josef Bratan\" by Wuwua...\n",
      "Done.\n",
      "Searching for \"MONKEY\" by フリージアの少年 - Remastered...\n",
      "No results found for: 'MONKEY フリージアの少年 - Remastered'\n",
      "Searching for \"Cahit Berkay\" by Devlerin Aşkı...\n",
      "Done.\n",
      "Searching for \"Juice Leskinen\" by 3.30...\n",
      "Done.\n",
      "Searching for \"Tomas Bolme\" by Den svarta ön, del 51...\n",
      "No results found for: 'Tomas Bolme Den svarta ön, del 51'\n",
      "Searching for \"Milano\" by La Forza del Destino (1997 - Remaster), Act III: All'armi!...\n",
      "No results found for: 'Milano La Forza del Destino (1997 - Remaster), Act III: All'armi!'\n",
      "Searching for \"Chef'Special\" by Try Again...\n",
      "Done.\n",
      "Searching for \"Ade\" by Orang Orang Terkucil...\n",
      "Done.\n",
      "Searching for \"David Broza\" by טיו אלברטו...\n",
      "No results found for: 'David Broza טיו אלברטו'\n",
      "Searching for \"Florentino\" by Te Regalo la Luna - Salsa...\n",
      "No results found for: 'Florentino Te Regalo la Luna - Salsa'\n",
      "Searching for \"MiyaGi\" by I Got Love...\n",
      "Done.\n",
      "Searching for \"Quasimoto\" by Shadows of Tomorrow...\n",
      "Done.\n",
      "Searching for \"De Durango\" by Aborrezco...\n",
      "No results found for: 'De Durango Aborrezco'\n",
      "Searching for \"Original Broadway\" by Meet Me Inside...\n",
      "Done.\n",
      "Searching for \"León\" by Alfredo Galeana...\n",
      "Done.\n",
      "Searching for \"Motion Picture\" by Chava Ballet Sequence...\n",
      "No results found for: 'Motion Picture Chava Ballet Sequence'\n",
      "Searching for \"Jor\" by Xica Da Silva...\n",
      "Done.\n",
      "Searching for \"Wellness\" by Rain Drops Dancing on the Car Windshield...\n",
      "Done.\n",
      "Searching for \"Eino Grön\" by Soi maininki hiljainen...\n",
      "No results found for: 'Eino Grön Soi maininki hiljainen'\n",
      "Searching for \"THE YELLOW\" by This Is For You - Remastered...\n",
      "Done.\n",
      "Searching for \"HaGashash HaHiver\" by חתונת הדמים...\n",
      "No results found for: 'HaGashash HaHiver חתונת הדמים'\n",
      "Searching for \"Gomez\" by Flow anti dea - Remix...\n",
      "Done.\n",
      "Searching for \"Tamba Trio\" by Batida Diferente...\n",
      "No results found for: 'Tamba Trio Batida Diferente'\n",
      "Searching for \"Hermanos Zaizar\" by El venadito...\n",
      "No results found for: 'Hermanos Zaizar El venadito'\n",
      "Searching for \"Rey lui\" by Quiero ser como tú...\n",
      "Done.\n",
      "Searching for \"Paul Srrano\" by Love Song...\n",
      "Done.\n",
      "Searching for \"Dimartino\" by Musica leggerissima...\n",
      "Done.\n",
      "Searching for \"劉家昌\" by 我找到自己...\n",
      "No results found for: '劉家昌 我找到自己'\n",
      "Searching for \"Systema Solar\" by Rumbera...\n",
      "Done.\n",
      "Searching for \"Backstreet Girls\" by Hangover In Hamburg...\n",
      "Done.\n",
      "Searching for \"Zion\" by Te Deseo el Mal...\n",
      "Done.\n",
      "Searching for \"Connor\" by Streets of London...\n",
      "Done.\n",
      "Searching for \"Scala\" by Norma (1997 Digital Remaster), ACT 1, Scene 1: Va, crudele, al Dio spietato (Pollione/Adalgisa)...\n",
      "No results found for: 'Scala Norma (1997 Digital Remaster), ACT 1, Scene 1: Va, crudele, al Dio spietato (Pollione/Adalgisa)'\n",
      "Searching for \"O.R\" by Dreams [Mix Cut] - Original Club Mix...\n",
      "Done.\n",
      "Searching for \"Leo Mathisen\" by Makin' Whoopee...\n",
      "No results found for: 'Leo Mathisen Makin' Whoopee'\n",
      "Searching for \"Virginia Lopez\" by Por Equivocación...\n",
      "No results found for: 'Virginia Lopez Por Equivocación'\n",
      "Searching for \"RubberBand\" by 零度聖誕...\n",
      "Done.\n",
      "Searching for \"Shirin David\" by Gib Ihm...\n",
      "Done.\n",
      "Searching for \"Sech\" by La Mentira - Remix...\n",
      "Done.\n",
      "Searching for \"Earl Scruggs\" by The Old Fashioned Preacher...\n",
      "No results found for: 'Earl Scruggs The Old Fashioned Preacher'\n",
      "Searching for \"Fernando Previtali\" by La Traviata: Act III: Teneste la promessa...\n",
      "No results found for: 'Fernando Previtali La Traviata: Act III: Teneste la promessa'\n",
      "Searching for \"Jowell\" by Me Gustaría...\n",
      "Done.\n",
      "Searching for \"Little Walter\" by I'm A Man...\n",
      "Done.\n",
      "Searching for \"Camille Saint\" by The Swan...\n",
      "Done.\n",
      "Searching for \"Ferdi Tayfur\" by Yaprağı Dökülen...\n",
      "No results found for: 'Ferdi Tayfur Yaprağı Dökülen'\n",
      "Searching for \"Toxic Crow\" by Capea el Dough 2k14...\n",
      "Done.\n",
      "Searching for \"Wiener Philharmoniker\" by Così fan tutte, K.588: Overture...\n",
      "No results found for: 'Wiener Philharmoniker Così fan tutte, K.588: Overture'\n",
      "Searching for \"Jon\" by Outside Of This (Inside Of That)...\n",
      "Done.\n",
      "Searching for \"Elmer Bernstein\" by Sidney and Susie...\n",
      "Specified song does not contain lyrics. Rejecting.\n",
      "Searching for \"Nada Soraya\" by Nasib Bunga...\n",
      "No results found for: 'Nada Soraya Nasib Bunga'\n",
      "Searching for \"Antonio Morel\" by Por Ahi Maria Se Va...\n",
      "No results found for: 'Antonio Morel Por Ahi Maria Se Va'\n",
      "Searching for \"MF DOOM\" by Hoe Cakes...\n",
      "Done.\n",
      "Searching for \"Warsaw National\" by Swan Lake, Op.20 Suite: 2. Valse in A...\n",
      "No results found for: 'Warsaw National Swan Lake, Op.20 Suite: 2. Valse in A'\n",
      "Searching for \"Junk Project\" by Control...\n",
      "Done.\n",
      "Searching for \"RONDO\" by Sudie Eliza...\n",
      "Done.\n",
      "Searching for \"Orchestra\" by Rebel Briefing...\n",
      "Done.\n",
      "Searching for \"MC Vinny\" by Set 2.0: Homenagem aos Relíquias...\n",
      "No results found for: 'MC Vinny Set 2.0: Homenagem aos Relíquias'\n",
      "Searching for \"Pu Shu\" by New Boy...\n",
      "Done.\n",
      "Searching for \"Scala\" by Aida / Act 1: \"Se quel guerrier io fossi!..Celeste Aida\"...\n",
      "No results found for: 'Scala Aida / Act 1: \"Se quel guerrier io fossi!..Celeste Aida\"'\n",
      "Searching for \"Led Zeppelin\" by Brandy & Coke - Trampled Under Foot; Initial / Rough Mix...\n",
      "Done.\n",
      "Searching for \"Traffic\" by Rainmaker...\n",
      "Done.\n",
      "Searching for \"Count Basie\" by Miss Thing, Pt. 2 (78rpm Version)...\n",
      "No results found for: 'Count Basie Miss Thing, Pt. 2 (78rpm Version)'\n",
      "Searching for \"Carmen Miranda\" by Na Baixa Do Sapateiro...\n",
      "Done.\n",
      "Searching for \"Lucio Dalla\" by Le Parole Incrociate...\n",
      "Done.\n",
      "Searching for \"James Brown\" by Let's Make Christmas Mean Something This Year - Pts. 1 & 2...\n",
      "No results found for: 'James Brown Let's Make Christmas Mean Something This Year - Pts. 1 & 2'\n",
      "Searching for \"Tedesco\" by Figaro (from Rossini's The Barber of Seville) (version for violin and piano)...\n",
      "No results found for: 'Tedesco Figaro (from Rossini's The Barber of Seville) (version for violin and piano)'\n",
      "Searching for \"Les Rita\" by Les histoires d'A. - Acoustique...\n",
      "Done.\n",
      "Searching for \"Luis Angel\" by Flor Dormida...\n",
      "Done.\n",
      "Searching for \"Rosa\" by Brujeria...\n",
      "Done.\n",
      "Searching for \"Dean Martin\" by Three Wishes...\n",
      "Done.\n",
      "Searching for \"Patty Loveless\" by I Try to Think About Elvis...\n",
      "Done.\n",
      "Searching for \"Leonard Bernstein\" by West Side Story (Original Broadway Cast): Act I: Tonight...\n",
      "No results found for: 'Leonard Bernstein West Side Story (Original Broadway Cast): Act I: Tonight'\n",
      "Searching for \"The Rebel\" by Alright - Mono; 2009 Remaster...\n",
      "No results found for: 'The Rebel Alright - Mono; 2009 Remaster'\n",
      "Searching for \"Herbert von\" by Tosca / Act 2: \"Tosca è un buon falco!\"...\n",
      "No results found for: 'Herbert von Tosca / Act 2: \"Tosca è un buon falco!\"'\n",
      "Searching for \"R.E\" by Nightswimming...\n",
      "Done.\n",
      "Searching for \"George Lamond\" by Look Into My Eyes...\n",
      "Done.\n",
      "Searching for \"サティ\" by ジムノペディ No. 1...\n",
      "Done.\n",
      "Searching for \"Mukesh\" by Kisi Ki Muskurahaton Se...\n",
      "No results found for: 'Mukesh Kisi Ki Muskurahaton Se'\n",
      "Searching for \"Canciones Para\" by Vengan Niños...\n",
      "Done.\n",
      "Searching for \"a.k\" by Moyata jena...\n",
      "Done.\n",
      "Searching for \"Johnny Smith\" by Where or When...\n",
      "Done.\n",
      "Searching for \"Pete Murray\" by Always A Winner...\n",
      "Done.\n",
      "Searching for \"The Mamas\" by Rooms...\n",
      "Done.\n",
      "Searching for \"Tech N9ne\" by Einstein Tech N9ne...\n",
      "Done.\n",
      "Searching for \"Wes Montgomery\" by Come Rain Or Come Shine - Live / Take 1...\n",
      "Done.\n",
      "Searching for \"Ella Fitzgerald\" by Petootie Pie (10-08-45)...\n",
      "No results found for: 'Ella Fitzgerald Petootie Pie (10-08-45)'\n",
      "Searching for \"Los Chichos\" by Canusiro - Remastered...\n",
      "No results found for: 'Los Chichos Canusiro - Remastered'\n"
     ]
    }
   ],
   "source": [
    "#make these randomly selected\n",
    "for i in range(200):\n",
    "    value = randint(0,915191)\n",
    "    if value not in already_chosen:\n",
    "        already_chosen.append(value)\n",
    "        song = LyricsGenius.search_song(list_artists_songs[value][1], list_artists_songs[value][0])\n",
    "        if song != None:\n",
    "            lyrics_each.append(song.lyrics)"
   ]
  },
  {
   "cell_type": "code",
   "execution_count": 62,
   "metadata": {},
   "outputs": [],
   "source": [
    "df_old_lyrics_l = list(pd.read_csv('283_SONGS').Text)\n",
    "new_lyrics = df_old_lyrics_l + lyrics_each"
   ]
  },
  {
   "cell_type": "code",
   "execution_count": 63,
   "metadata": {},
   "outputs": [
    {
     "name": "stdout",
     "output_type": "stream",
     "text": [
      "406\n"
     ]
    }
   ],
   "source": [
    "print(len(new_lyrics))"
   ]
  },
  {
   "cell_type": "code",
   "execution_count": 64,
   "metadata": {},
   "outputs": [],
   "source": [
    "df_already = pd.DataFrame(data = {'Numbers': already_chosen})\n",
    "df_already.to_csv('ChosenAlready', index = False)"
   ]
  },
  {
   "cell_type": "code",
   "execution_count": 65,
   "metadata": {},
   "outputs": [],
   "source": [
    "df_lyrics = pd.DataFrame(data = {'Text': df_old_lyrics_l})\n",
    "df_lyrics.to_csv('400 Songs', index = True)"
   ]
  },
  {
   "cell_type": "markdown",
   "metadata": {},
   "source": [
    "## Visualization 5: Lyrics Data: Unigrams and Bigrams"
   ]
  },
  {
   "cell_type": "code",
   "execution_count": 43,
   "metadata": {},
   "outputs": [],
   "source": [
    "df_read_lyrics = pd.read_csv('400 Songs')"
   ]
  },
  {
   "cell_type": "code",
   "execution_count": 44,
   "metadata": {},
   "outputs": [
    {
     "data": {
      "text/html": [
       "<div>\n",
       "<style scoped>\n",
       "    .dataframe tbody tr th:only-of-type {\n",
       "        vertical-align: middle;\n",
       "    }\n",
       "\n",
       "    .dataframe tbody tr th {\n",
       "        vertical-align: top;\n",
       "    }\n",
       "\n",
       "    .dataframe thead th {\n",
       "        text-align: right;\n",
       "    }\n",
       "</style>\n",
       "<table border=\"1\" class=\"dataframe\">\n",
       "  <thead>\n",
       "    <tr style=\"text-align: right;\">\n",
       "      <th></th>\n",
       "      <th>Unnamed: 0</th>\n",
       "      <th>Text</th>\n",
       "    </tr>\n",
       "  </thead>\n",
       "  <tbody>\n",
       "    <tr>\n",
       "      <th>0</th>\n",
       "      <td>0</td>\n",
       "      <td>[Verse]\\nI feel so impure\\nEvery day, less sur...</td>\n",
       "    </tr>\n",
       "    <tr>\n",
       "      <th>1</th>\n",
       "      <td>1</td>\n",
       "      <td>THE AMERICAN ACADEMY of Emergency Medicine con...</td>\n",
       "    </tr>\n",
       "    <tr>\n",
       "      <th>2</th>\n",
       "      <td>2</td>\n",
       "      <td>[Intro: Young M.A]\\nAw man, the squad is here\\...</td>\n",
       "    </tr>\n",
       "    <tr>\n",
       "      <th>3</th>\n",
       "      <td>3</td>\n",
       "      <td>All these songs are about (or heavily referenc...</td>\n",
       "    </tr>\n",
       "    <tr>\n",
       "      <th>4</th>\n",
       "      <td>4</td>\n",
       "      <td>[Paroles de \"Respect P. Diddy\"]\\n\\n[Intro : Go...</td>\n",
       "    </tr>\n",
       "  </tbody>\n",
       "</table>\n",
       "</div>"
      ],
      "text/plain": [
       "   Unnamed: 0                                               Text\n",
       "0           0  [Verse]\\nI feel so impure\\nEvery day, less sur...\n",
       "1           1  THE AMERICAN ACADEMY of Emergency Medicine con...\n",
       "2           2  [Intro: Young M.A]\\nAw man, the squad is here\\...\n",
       "3           3  All these songs are about (or heavily referenc...\n",
       "4           4  [Paroles de \"Respect P. Diddy\"]\\n\\n[Intro : Go..."
      ]
     },
     "execution_count": 44,
     "metadata": {},
     "output_type": "execute_result"
    }
   ],
   "source": [
    "df_read_lyrics.head()"
   ]
  },
  {
   "cell_type": "code",
   "execution_count": 45,
   "metadata": {},
   "outputs": [
    {
     "name": "stdout",
     "output_type": "stream",
     "text": [
      "Collecting textblob\n",
      "  Using cached textblob-0.15.3-py2.py3-none-any.whl (636 kB)\n",
      "Requirement already satisfied: nltk>=3.1 in /opt/conda/lib/python3.8/site-packages (from textblob) (3.5)\n",
      "Requirement already satisfied: regex in /opt/conda/lib/python3.8/site-packages (from nltk>=3.1->textblob) (2021.4.4)\n",
      "Requirement already satisfied: tqdm in /opt/conda/lib/python3.8/site-packages (from nltk>=3.1->textblob) (4.56.0)\n",
      "Requirement already satisfied: click in /opt/conda/lib/python3.8/site-packages (from nltk>=3.1->textblob) (8.0.1)\n",
      "Requirement already satisfied: joblib in /opt/conda/lib/python3.8/site-packages (from nltk>=3.1->textblob) (1.0.0)\n",
      "Installing collected packages: textblob\n",
      "Successfully installed textblob-0.15.3\n"
     ]
    }
   ],
   "source": [
    "import sys\n",
    "!{sys.executable} -m pip install textblob"
   ]
  },
  {
   "cell_type": "code",
   "execution_count": 46,
   "metadata": {},
   "outputs": [],
   "source": [
    "from textblob import TextBlob"
   ]
  },
  {
   "cell_type": "code",
   "execution_count": 47,
   "metadata": {},
   "outputs": [],
   "source": [
    "w = TextBlob(str(df_read_lyrics.iloc[0].Text))"
   ]
  },
  {
   "cell_type": "code",
   "execution_count": 48,
   "metadata": {},
   "outputs": [
    {
     "data": {
      "text/plain": [
       "0.1047619047619048"
      ]
     },
     "execution_count": 48,
     "metadata": {},
     "output_type": "execute_result"
    }
   ],
   "source": [
    "w.sentiment.polarity"
   ]
  },
  {
   "cell_type": "code",
   "execution_count": 73,
   "metadata": {},
   "outputs": [
    {
     "name": "stdout",
     "output_type": "stream",
     "text": [
      "432\n",
      "78108\n",
      "37507\n",
      "33982\n",
      "2086\n",
      "62222\n",
      "5453\n",
      "2424\n",
      "38464\n",
      "2060\n",
      "1789\n",
      "119685\n",
      "37507\n",
      "18408\n",
      "3033\n",
      "44127\n",
      "27068\n",
      "386\n",
      "1822\n",
      "608\n",
      "1541\n",
      "791\n",
      "534726\n",
      "44127\n",
      "5701\n",
      "16351\n",
      "534726\n",
      "7344\n",
      "634\n",
      "682\n",
      "44127\n",
      "119685\n",
      "1763\n",
      "1557\n",
      "1984\n",
      "805\n",
      "378\n",
      "622\n",
      "1105\n",
      "2059\n",
      "1936\n",
      "17657\n",
      "17328\n",
      "673\n",
      "796\n",
      "1514\n",
      "1194\n",
      "35525\n",
      "3209\n",
      "20987\n",
      "556\n",
      "1088\n",
      "244999\n",
      "992\n",
      "1875\n",
      "2473\n",
      "3741\n",
      "616\n",
      "1325\n",
      "357\n",
      "1386\n",
      "3481\n",
      "552\n",
      "760\n",
      "227617\n",
      "34912\n",
      "1723\n",
      "30114\n",
      "1629\n",
      "30118\n",
      "950\n",
      "955\n",
      "1267\n",
      "226\n",
      "79307\n",
      "1118\n",
      "1660\n",
      "2809\n",
      "2591\n",
      "480\n",
      "3914\n",
      "1728\n",
      "866\n",
      "1272\n",
      "1347\n",
      "592\n",
      "2281\n",
      "1059\n",
      "1875\n",
      "3261\n",
      "1647\n",
      "342\n",
      "2310\n",
      "1175\n",
      "1472\n",
      "12205\n",
      "1243\n",
      "129\n",
      "1364\n",
      "1365\n",
      "2627\n",
      "5104\n",
      "1475\n",
      "1460\n",
      "3537\n",
      "52336\n",
      "2692\n",
      "725\n",
      "3363\n",
      "2999\n",
      "1\n",
      "1900\n",
      "2971\n",
      "4104\n",
      "1087\n",
      "1311\n",
      "5802\n",
      "267\n",
      "35683\n",
      "461\n",
      "5180\n",
      "466\n",
      "2761\n",
      "222717\n",
      "830\n",
      "303\n",
      "10350\n",
      "1327\n",
      "978\n",
      "1695\n",
      "976\n",
      "1228\n",
      "934\n",
      "449\n",
      "1105\n",
      "2662\n",
      "831\n",
      "1286\n",
      "1896\n",
      "37587\n",
      "12166\n",
      "1211\n",
      "1262\n",
      "2735\n",
      "1483\n",
      "7742\n",
      "2106\n",
      "1699\n",
      "227617\n",
      "949\n",
      "1201\n",
      "1035\n",
      "144257\n",
      "1056\n",
      "3172\n",
      "1211\n",
      "154490\n",
      "492\n",
      "684\n",
      "213\n",
      "560\n",
      "2190\n",
      "1125\n",
      "2061\n",
      "3125\n",
      "1008\n",
      "41006\n",
      "4441\n",
      "1553\n",
      "24624\n",
      "607\n",
      "2666\n",
      "2073\n",
      "1118\n",
      "10348\n",
      "2568\n",
      "2480\n",
      "35437\n",
      "2343\n",
      "733\n",
      "1537\n",
      "2504\n",
      "5045\n",
      "10262\n",
      "32527\n",
      "2882\n",
      "903\n",
      "4284\n",
      "564\n",
      "1530\n",
      "4526\n",
      "162424\n",
      "1830\n",
      "805\n",
      "227617\n",
      "3227\n",
      "1248\n",
      "43242\n",
      "7159\n",
      "2141\n",
      "1256\n",
      "691\n",
      "1575\n",
      "1939\n",
      "1388\n",
      "2377\n",
      "1233\n",
      "360732\n",
      "24133\n",
      "2830\n",
      "857\n",
      "1419\n",
      "1034\n",
      "356376\n",
      "756\n",
      "1277\n",
      "730\n",
      "5180\n",
      "11409\n",
      "923\n",
      "2417\n",
      "142813\n",
      "2117\n",
      "343\n",
      "936\n",
      "1355\n",
      "26995\n",
      "6905\n",
      "470452\n",
      "23456\n",
      "1262\n",
      "586\n",
      "3945\n",
      "194528\n",
      "459\n",
      "1069\n",
      "4564\n",
      "890\n",
      "158484\n",
      "11867\n",
      "493\n",
      "412\n",
      "1131\n",
      "1276\n",
      "5939\n",
      "1176\n",
      "1161\n",
      "1044\n",
      "1098\n",
      "697\n",
      "970\n",
      "2070\n",
      "669\n",
      "159747\n",
      "733\n",
      "1476\n",
      "2237\n",
      "3093\n",
      "16342\n",
      "3602\n",
      "887\n",
      "4268\n",
      "986\n",
      "508\n",
      "590\n",
      "1214\n",
      "2866\n",
      "1544\n",
      "1275\n",
      "1132\n",
      "1087\n",
      "501371\n",
      "493\n",
      "3822\n",
      "3698\n",
      "89754\n",
      "2091\n",
      "4499\n",
      "1416\n",
      "1937\n",
      "4387\n",
      "3589\n",
      "1184\n"
     ]
    }
   ],
   "source": [
    "list_polarities = []\n",
    "for i in range(len(df_read_lyrics.index)):\n",
    "    w = TextBlob(str(df_read_lyrics.iloc[i].Text))\n",
    "    list_polarities.append(w.sentiment.polarity)\n",
    "    print(len(w))"
   ]
  },
  {
   "cell_type": "code",
   "execution_count": 52,
   "metadata": {},
   "outputs": [],
   "source": [
    "import numpy as np"
   ]
  },
  {
   "cell_type": "code",
   "execution_count": 53,
   "metadata": {},
   "outputs": [],
   "source": [
    "pol = pd.DataFrame(data = {'Polarity':list_polarities})"
   ]
  },
  {
   "cell_type": "code",
   "execution_count": 54,
   "metadata": {},
   "outputs": [
    {
     "data": {
      "text/plain": [
       "0.06915237868895947"
      ]
     },
     "execution_count": 54,
     "metadata": {},
     "output_type": "execute_result"
    }
   ],
   "source": [
    "np.mean(list_polarities)"
   ]
  },
  {
   "cell_type": "code",
   "execution_count": 55,
   "metadata": {},
   "outputs": [
    {
     "data": {
      "text/html": [
       "<div>\n",
       "<style scoped>\n",
       "    .dataframe tbody tr th:only-of-type {\n",
       "        vertical-align: middle;\n",
       "    }\n",
       "\n",
       "    .dataframe tbody tr th {\n",
       "        vertical-align: top;\n",
       "    }\n",
       "\n",
       "    .dataframe thead th {\n",
       "        text-align: right;\n",
       "    }\n",
       "</style>\n",
       "<table border=\"1\" class=\"dataframe\">\n",
       "  <thead>\n",
       "    <tr style=\"text-align: right;\">\n",
       "      <th></th>\n",
       "      <th>Polarity</th>\n",
       "    </tr>\n",
       "  </thead>\n",
       "  <tbody>\n",
       "    <tr>\n",
       "      <th>0</th>\n",
       "      <td>0.104762</td>\n",
       "    </tr>\n",
       "    <tr>\n",
       "      <th>1</th>\n",
       "      <td>0.096368</td>\n",
       "    </tr>\n",
       "    <tr>\n",
       "      <th>2</th>\n",
       "      <td>-0.062156</td>\n",
       "    </tr>\n",
       "    <tr>\n",
       "      <th>3</th>\n",
       "      <td>0.049851</td>\n",
       "    </tr>\n",
       "    <tr>\n",
       "      <th>4</th>\n",
       "      <td>0.066667</td>\n",
       "    </tr>\n",
       "  </tbody>\n",
       "</table>\n",
       "</div>"
      ],
      "text/plain": [
       "   Polarity\n",
       "0  0.104762\n",
       "1  0.096368\n",
       "2 -0.062156\n",
       "3  0.049851\n",
       "4  0.066667"
      ]
     },
     "execution_count": 55,
     "metadata": {},
     "output_type": "execute_result"
    }
   ],
   "source": [
    "pol.head()"
   ]
  },
  {
   "cell_type": "code",
   "execution_count": 56,
   "metadata": {},
   "outputs": [
    {
     "data": {
      "text/plain": [
       "<AxesSubplot:>"
      ]
     },
     "execution_count": 56,
     "metadata": {},
     "output_type": "execute_result"
    },
    {
     "data": {
      "image/png": "[encoded data removed]",
      "text/plain": [
       "<Figure size 576x576 with 1 Axes>"
      ]
     },
     "metadata": {
      "needs_background": "light"
     },
     "output_type": "display_data"
    }
   ],
   "source": [
    "import seaborn as sns\n",
    "import matplotlib.pyplot as plt\n",
    "#sns.boxplot(x = 'From_All', y = 'valence', data = sorted_df_1)\n",
    "\n",
    "fig, ax = plt.subplots(figsize=(8,  8))\n",
    "pol.boxplot('Polarity')"
   ]
  },
  {
   "cell_type": "code",
   "execution_count": 63,
   "metadata": {},
   "outputs": [
    {
     "data": {
      "text/plain": [
       "[('[', 'JJ'),\n",
       " ('Intro', 'NNP'),\n",
       " ('Sample', 'NNP'),\n",
       " ('de', 'IN'),\n",
       " ('Bayrou', 'NNP'),\n",
       " (']', 'NNP'),\n",
       " ('Vous', 'NNP'),\n",
       " ('connaissez', 'NN'),\n",
       " ('la', 'NN'),\n",
       " ('vieille', 'FW'),\n",
       " ('phrase', 'NN'),\n",
       " ('de', 'FW'),\n",
       " ('Victor', 'NNP'),\n",
       " ('Hugo', 'NNP'),\n",
       " ('qui', 'VBD'),\n",
       " ('disait', 'NN'),\n",
       " ('euh', 'NN'),\n",
       " ('Quand', 'NNP'),\n",
       " (\"j'ouvre\", 'NN'),\n",
       " ('une', 'JJ'),\n",
       " ('école', 'NNP'),\n",
       " ('je', 'NN'),\n",
       " ('ferme', 'NN'),\n",
       " ('une', 'JJ'),\n",
       " ('prison', 'NN'),\n",
       " ('Euh', 'NN'),\n",
       " ('alors', 'NNS'),\n",
       " ('peut-être', 'JJ'),\n",
       " ('c', 'NNS'),\n",
       " ('’', 'VBP'),\n",
       " ('est', 'JJS'),\n",
       " ('une', 'JJ'),\n",
       " ('phrase', 'NN'),\n",
       " ('du', 'VBD'),\n",
       " ('19e', 'CD'),\n",
       " ('siècle', 'NN'),\n",
       " ('mais', 'NN'),\n",
       " (\"c'est\", 'NN'),\n",
       " ('une', 'JJ'),\n",
       " ('phrase', 'NN'),\n",
       " ('d', 'NN'),\n",
       " ('’', 'NNP'),\n",
       " ('aujourd', 'VBZ'),\n",
       " ('’', 'NNP'),\n",
       " ('hui', 'NN'),\n",
       " ('Si', 'NNP'),\n",
       " ('vous', 'JJ'),\n",
       " ('regardez', 'NN'),\n",
       " ('les', 'NNS'),\n",
       " ('jeunes', 'NNS'),\n",
       " ('délinquants', 'NNS'),\n",
       " ('alors', 'NNS'),\n",
       " ('vous', 'VBP'),\n",
       " ('vous', 'JJ'),\n",
       " ('apercevrez', 'NN'),\n",
       " ('que', 'NN'),\n",
       " ('9', 'CD'),\n",
       " ('fois', 'NN'),\n",
       " ('sur', 'NN'),\n",
       " ('10', 'CD'),\n",
       " (\"c'est\", 'NN'),\n",
       " ('des', 'NNS'),\n",
       " ('jeunes', 'NNS'),\n",
       " ('en', 'IN'),\n",
       " ('échec', 'NNP'),\n",
       " ('scolaire', 'NN'),\n",
       " ('lourd', 'NN'),\n",
       " ('Parce', 'NNP'),\n",
       " ('que', 'NN'),\n",
       " (\"c'est\", 'NN'),\n",
       " ('la', 'NN'),\n",
       " ('même', 'FW'),\n",
       " ('chose', 'NN'),\n",
       " ('faut', 'JJ'),\n",
       " ('bien', 'NN'),\n",
       " (\"qu'ils\", 'NNS'),\n",
       " ('trouvent', 'JJ'),\n",
       " ('une', 'JJ'),\n",
       " ('reconnaissance', 'NN'),\n",
       " ('alors', 'NNS'),\n",
       " ('ils', 'VBP'),\n",
       " ('vont', 'JJ'),\n",
       " ('mettre', 'NN'),\n",
       " ('le', 'NN'),\n",
       " ('bazar', 'NN'),\n",
       " ('et', 'FW'),\n",
       " ('faire', 'NN'),\n",
       " ('des', 'NNS'),\n",
       " ('bandes', 'IN'),\n",
       " ('et', 'FW'),\n",
       " ('devenir', 'NN'),\n",
       " ('caïds', 'NN'),\n",
       " ('[', 'NNP'),\n",
       " ('Aelpéacha', 'NNP'),\n",
       " (']', 'NNP'),\n",
       " ('Ça', 'NNP'),\n",
       " ('marche', 'NN'),\n",
       " ('MS', 'NNP'),\n",
       " ('[', 'JJ'),\n",
       " ('MSJ', 'NNP'),\n",
       " (']', 'NNP'),\n",
       " ('Ouais', 'NNP'),\n",
       " ('[', 'NNP'),\n",
       " ('Aelpéacha', 'NNP'),\n",
       " (']', 'NNP'),\n",
       " (\"C'est\", 'NNP'),\n",
       " ('parti', 'NN'),\n",
       " ('mec', 'NN'),\n",
       " ('[', 'NNP'),\n",
       " ('MSJ', 'NNP'),\n",
       " (']', 'NNP'),\n",
       " ('K', 'NNP'),\n",
       " ('[', 'NNP'),\n",
       " ('MSJ', 'NNP'),\n",
       " (']', 'NNP'),\n",
       " ('Faut', 'NNP'),\n",
       " ('que', 'NN'),\n",
       " ('ça', 'NNP'),\n",
       " ('glisse', 'NN'),\n",
       " ('on', 'IN'),\n",
       " ('possède', 'NN'),\n",
       " ('le', 'NN'),\n",
       " ('concept', 'NN'),\n",
       " ('2010', 'CD'),\n",
       " ('biftons', 'NNS'),\n",
       " ('comme', 'NN'),\n",
       " ('ça', 'NNP'),\n",
       " (\"qu'on\", 'NN'),\n",
       " ('procède', 'NN'),\n",
       " ('On', 'IN'),\n",
       " ('pousse', 'NN'),\n",
       " ('la', 'NN'),\n",
       " ('zik', 'NN'),\n",
       " ('technique', 'NN'),\n",
       " ('flow', 'JJ'),\n",
       " ('magique', 'NN'),\n",
       " ('Des', 'NNP'),\n",
       " ('blessés', 'NN'),\n",
       " ('des', 'VBZ'),\n",
       " ('décès', 'NN'),\n",
       " ('les', 'VBZ'),\n",
       " ('retours', 'NNS'),\n",
       " ('sont', 'JJ'),\n",
       " ('tragiques', 'NNS'),\n",
       " ('[', 'VBP'),\n",
       " ('Aelpéacha', 'NNP'),\n",
       " (']', 'NNP'),\n",
       " ('Ici', 'NNP'),\n",
       " (\"c'est\", 'JJS'),\n",
       " ('le', 'NN'),\n",
       " ('A', 'NNP'),\n",
       " (\"j'lubrifie\", 'NN'),\n",
       " ('comme', 'NN'),\n",
       " ('mon', 'NN'),\n",
       " ('style', 'NN'),\n",
       " ('se', 'NN'),\n",
       " ('solidifie', 'NN'),\n",
       " ('Miss', 'NNP'),\n",
       " ('enlève', 'VBZ'),\n",
       " ('ton', 'JJ'),\n",
       " ('jean', 'NN'),\n",
       " ('nom', 'FW'),\n",
       " ('de', 'FW'),\n",
       " ('famille', 'FW'),\n",
       " ('vaseline', 'NN'),\n",
       " (\"C'est\", 'NNP'),\n",
       " ('des', 'VBZ'),\n",
       " ('rap', 'NN'),\n",
       " ('musique', 'NN'),\n",
       " ('brasse', 'NN'),\n",
       " ('coulée', 'NN'),\n",
       " ('dans', 'NNS'),\n",
       " ('la', 'VBP'),\n",
       " ('piscine', 'JJ'),\n",
       " (\"C'est\", 'NNP'),\n",
       " ('au', 'NN'),\n",
       " ('plus', 'CC'),\n",
       " ('[', 'NN'),\n",
       " (']', 'NN'),\n",
       " ('qui', 'NN'),\n",
       " ('te', 'NN'),\n",
       " ('ramène', 'NN'),\n",
       " ('en', 'FW'),\n",
       " ('bassine', 'NN'),\n",
       " ('[', 'NNP'),\n",
       " ('MSJ', 'NNP'),\n",
       " (']', 'NNP'),\n",
       " ('Écarte', 'NNP'),\n",
       " (\"l'élégance\", 'NN'),\n",
       " ('pour', 'VBP'),\n",
       " ('le', 'JJ'),\n",
       " ('rêve', 'JJ'),\n",
       " ('pas', 'NN'),\n",
       " ('de', 'IN'),\n",
       " ('quartier', 'FW'),\n",
       " ('Décaper', 'NNP'),\n",
       " ('la', 'FW'),\n",
       " ('crosse', 'NN'),\n",
       " ('désenrayer', 'NN'),\n",
       " ('les', 'NNS'),\n",
       " ('tarpé', 'VBP'),\n",
       " ('La', 'NNP'),\n",
       " ('chatte', 'NN'),\n",
       " ('tonifiant', 'NN'),\n",
       " ('lubrifiant', 'JJ'),\n",
       " ('1', 'CD'),\n",
       " ('2', 'CD'),\n",
       " ('3', 'CD'),\n",
       " ('parquette', 'NN'),\n",
       " ('[', 'NN'),\n",
       " (']', 'NN'),\n",
       " ('On', 'IN'),\n",
       " ('rappe', 'NN'),\n",
       " ('frigide', 'JJ'),\n",
       " ('frigide', 'NN'),\n",
       " ('glisse', 'NN'),\n",
       " ('même', 'NN'),\n",
       " ('pas', 'NN'),\n",
       " ('sur', 'NN'),\n",
       " ('du', 'NN'),\n",
       " ('parquet', 'NN'),\n",
       " ('[', 'NNP'),\n",
       " ('Aelpéacha', 'NNP'),\n",
       " (']', 'NNP'),\n",
       " ('Devant', 'NNP'),\n",
       " ('derrière', 'NN'),\n",
       " ('dans', 'VBZ'),\n",
       " ('ta', 'JJ'),\n",
       " ('bouche', 'NN'),\n",
       " ('partout', 'IN'),\n",
       " ('où', 'JJ'),\n",
       " ('ça', 'NNP'),\n",
       " ('bouche', 'NN'),\n",
       " ('On', 'IN'),\n",
       " ('débouche', 'NN'),\n",
       " ('mais', 'NN'),\n",
       " ('surtout', 'NN'),\n",
       " ('dans', 'VBZ'),\n",
       " ('tes', 'NNS'),\n",
       " ('oreilles', 'NNS'),\n",
       " (\"C'est\", 'NNP'),\n",
       " ('le', 'NN'),\n",
       " ('lubrifiant', 'NN'),\n",
       " (\"c'est\", 'VBP'),\n",
       " ('le', 'NN'),\n",
       " ('lubrifiant', 'NN'),\n",
       " ('On', 'IN'),\n",
       " ('glisse', 'NN'),\n",
       " ('même', 'NN'),\n",
       " ('dans', 'VBZ'),\n",
       " ('ton', 'JJ'),\n",
       " ('shhh', 'NN'),\n",
       " ('ça', 'JJ'),\n",
       " ('devient', 'NN'),\n",
       " ('terrifiant', 'NN'),\n",
       " ('[', 'NNP'),\n",
       " ('MSJ', 'NNP'),\n",
       " (']', 'NNP'),\n",
       " ('MSJ', 'NNP'),\n",
       " ('le', 'VBZ'),\n",
       " ('A', 'NNP'),\n",
       " ('il', 'NN'),\n",
       " ('agit', 'NN'),\n",
       " ('je', 'NN'),\n",
       " ('réagis', 'NN'),\n",
       " (\"C'est\", 'NNP'),\n",
       " ('la', 'NN'),\n",
       " ('merde', 'FW'),\n",
       " ('seulement', 'NN'),\n",
       " ('quand', 'NN'),\n",
       " ('on', 'IN'),\n",
       " ('est', 'JJS'),\n",
       " ('ce', 'NN'),\n",
       " ('qui', 'NN'),\n",
       " ('cause', 'NN'),\n",
       " ('hémorragie', 'NN'),\n",
       " ('La', 'NNP'),\n",
       " ('même', 'NNP'),\n",
       " ('énergie', 'NNP'),\n",
       " ('on', 'IN'),\n",
       " ('t', 'NN'),\n",
       " ('’', 'NNP'),\n",
       " ('injecte', 'NN'),\n",
       " ('un', 'JJ'),\n",
       " ('tube', 'NN'),\n",
       " ('à', 'NNP'),\n",
       " ('zik', 'NNP'),\n",
       " ('Pourquoi', 'NNP'),\n",
       " ('tu', 'NN'),\n",
       " (\"t'agites\", 'NNS'),\n",
       " (\"c'est\", 'NN'),\n",
       " (\"l'échantillon\", 'NN'),\n",
       " ('si', 'NN'),\n",
       " (\"t'hésites\", 'VBZ'),\n",
       " ('[', 'JJ'),\n",
       " ('Aelpéacha', 'NNP'),\n",
       " (']', 'NNP'),\n",
       " ('H24', 'NNP'),\n",
       " ('7/7', 'CD'),\n",
       " ('94', 'CD'),\n",
       " ('Petit', 'NNP'),\n",
       " ('punch', 'NN'),\n",
       " ('et', 'FW'),\n",
       " ('grosse', 'NN'),\n",
       " ('pouf', 'NN'),\n",
       " ('Huile', 'NNP'),\n",
       " ('trois', 'NN'),\n",
       " ('en', 'FW'),\n",
       " ('un', 'JJ'),\n",
       " ('et', 'FW'),\n",
       " ('puis', 'NN'),\n",
       " ('ça', 'NN'),\n",
       " ('roule', 'NN'),\n",
       " ('bien', 'NN'),\n",
       " ('Pendant', 'NNP'),\n",
       " ('que', 'NN'),\n",
       " ('la', 'FW'),\n",
       " ('morale', 'NN'),\n",
       " ('est', 'JJS'),\n",
       " ('maîtresse', 'NN'),\n",
       " ('et', 'NN'),\n",
       " ('tu', 'NN'),\n",
       " ('sers', 'NNS'),\n",
       " ('les', 'VBP'),\n",
       " ('fesses', 'VBZ'),\n",
       " ('Nous', 'NNP'),\n",
       " ('on', 'IN'),\n",
       " ('ride', 'NN'),\n",
       " ('que', 'NN'),\n",
       " ('du', 'NN'),\n",
       " ('Mia', 'NNP'),\n",
       " ('Frye', 'NNP'),\n",
       " ('entre', 'NN'),\n",
       " ('les', 'VBZ'),\n",
       " ('alcootests', 'NNS'),\n",
       " ('[', 'VBP'),\n",
       " ('MSJ', 'NNP'),\n",
       " (']', 'NNP'),\n",
       " ('Plus', 'NNP'),\n",
       " ('devant', 'JJ'),\n",
       " ('le', 'NN'),\n",
       " ('micro', 'NN'),\n",
       " (\"qu'au\", 'NN'),\n",
       " ('comico', 'NN'),\n",
       " (\"J'ai\", 'NNP'),\n",
       " ('fait', 'NN'),\n",
       " ('macérer', 'NN'),\n",
       " ('dans', 'NNS'),\n",
       " ('le', 'VBP'),\n",
       " ('frigo', 'JJ'),\n",
       " ('le', 'JJ'),\n",
       " ('cocorico', 'NN'),\n",
       " ('Style', 'NNP'),\n",
       " ('incognito', 'NN'),\n",
       " ('flow', 'JJ'),\n",
       " ('mojito', 'NN'),\n",
       " ('Lève', 'NNP'),\n",
       " ('ton', 'NN'),\n",
       " ('verre', 'NN'),\n",
       " ('ta', 'JJ'),\n",
       " ('zep', 'NN'),\n",
       " ('et', 'NN'),\n",
       " ('puis', 'IN'),\n",
       " ('ton', 'NN'),\n",
       " ('zippo', 'NN'),\n",
       " ('[', 'NNP'),\n",
       " ('Aelpéacha', 'NNP'),\n",
       " (']', 'NNP'),\n",
       " ('West', 'NNP'),\n",
       " ('Indies', 'NNPS'),\n",
       " ('Africa', 'NNP'),\n",
       " ('mixés', 'NN'),\n",
       " ('y', 'NN'),\n",
       " ('a', 'DT'),\n",
       " ('plus', 'JJ'),\n",
       " ('qu', 'NN'),\n",
       " (\"'\", 'POS'),\n",
       " ('à', 'NNP'),\n",
       " ('MSJ', 'NNP'),\n",
       " ('le', 'VBD'),\n",
       " ('A', 'DT'),\n",
       " ('mission', 'NN'),\n",
       " ('glisse', 'NN'),\n",
       " ('comme', 'NN'),\n",
       " ('le', 'NN'),\n",
       " ('Fuca', 'NNP'),\n",
       " ('Ne', 'NNP'),\n",
       " ('me', 'PRP'),\n",
       " ('demande', 'VBP'),\n",
       " ('pas', 'JJ'),\n",
       " ('pourquoi', 'NN'),\n",
       " ('tu', 'NN'),\n",
       " ('ferais', 'NN'),\n",
       " ('mieux', 'NN'),\n",
       " (\"d'écouter\", 'NN'),\n",
       " ('ça', 'NNP'),\n",
       " ('Et', 'NNP'),\n",
       " ('toi', 'NN'),\n",
       " ('chérie', 'NN'),\n",
       " ('ne', 'JJ'),\n",
       " ('tends', 'VBZ'),\n",
       " ('pas', 'JJ'),\n",
       " ('le', 'NN'),\n",
       " ('perche', 'NN'),\n",
       " ('ou', 'NN'),\n",
       " ('je', 'NN'),\n",
       " ('te', 'NN'),\n",
       " ('fais', 'NN'),\n",
       " ('une', 'JJ'),\n",
       " ('Bubka', 'NNP'),\n",
       " ('[', 'NNP'),\n",
       " ('MSJ', 'NNP'),\n",
       " ('&', 'CC'),\n",
       " ('Aelpéacha', 'NNP'),\n",
       " (']', 'NN'),\n",
       " ('1810', 'CD'),\n",
       " ('1910', 'CD'),\n",
       " ('2010', 'CD'),\n",
       " (\"c'est\", 'NN'),\n",
       " ('les', 'VBZ'),\n",
       " ('années', 'RB'),\n",
       " ('10', 'CD'),\n",
       " ('1810', 'CD'),\n",
       " ('1910', 'CD'),\n",
       " ('2010', 'CD'),\n",
       " (\"c'est\", 'NN'),\n",
       " ('les', 'VBZ'),\n",
       " ('années', 'RB'),\n",
       " ('10', 'CD'),\n",
       " ('et', 'NNS'),\n",
       " ('ça', 'JJ'),\n",
       " ('glisse', 'JJ'),\n",
       " ('[', 'NN'),\n",
       " ('Outro', 'NNP'),\n",
       " ('sample', 'NN'),\n",
       " ('MC', 'NNP'),\n",
       " ('Solaar', 'NNP'),\n",
       " ('Qui', 'NNP'),\n",
       " ('sème', 'NN'),\n",
       " ('le', 'NN'),\n",
       " ('vent', 'NN'),\n",
       " ('récolte', 'NN'),\n",
       " ('le', 'NN'),\n",
       " ('tempo', 'NN'),\n",
       " (']', 'NNP'),\n",
       " (\"C'est\", 'NNP'),\n",
       " ('du', 'NN'),\n",
       " ('rap', 'NN'),\n",
       " ('liquide', 'JJ'),\n",
       " ('fluide', 'RB'),\n",
       " ('créé', 'VBP'),\n",
       " ('par', 'JJ'),\n",
       " ('un', 'JJ'),\n",
       " ('druide', 'NN'),\n",
       " ('un', 'JJ'),\n",
       " ('peu', 'NN'),\n",
       " ('speed', 'NN'),\n",
       " ('Qui', 'NNP'),\n",
       " ('file', 'NN'),\n",
       " ('comme', 'NN'),\n",
       " ('un', 'JJ'),\n",
       " ('bolide', 'IN'),\n",
       " ('pour', 'JJ'),\n",
       " ('ne', 'NN'),\n",
       " ('pas', 'NN')]"
      ]
     },
     "execution_count": 63,
     "metadata": {},
     "output_type": "execute_result"
    }
   ],
   "source": [
    "w = TextBlob(str(df_read_lyrics.iloc[7].Text))\n",
    "w.tags"
   ]
  },
  {
   "cell_type": "code",
   "execution_count": 74,
   "metadata": {},
   "outputs": [
    {
     "name": "stdout",
     "output_type": "stream",
     "text": [
      "0 Processed\n",
      "2 Processed\n",
      "3 Processed\n",
      "4 Processed\n",
      "6 Processed\n",
      "7 Processed\n",
      "8 Processed\n",
      "9 Processed\n",
      "10 Processed\n",
      "12 Processed\n",
      "13 Processed\n",
      "14 Processed\n",
      "15 Processed\n",
      "16 Processed\n",
      "17 Processed\n",
      "18 Processed\n",
      "19 Processed\n",
      "20 Processed\n",
      "21 Processed\n",
      "23 Processed\n",
      "24 Processed\n",
      "25 Processed\n",
      "27 Processed\n",
      "28 Processed\n",
      "29 Processed\n",
      "30 Processed\n",
      "32 Processed\n",
      "33 Processed\n",
      "34 Processed\n",
      "35 Processed\n",
      "36 Processed\n",
      "37 Processed\n",
      "38 Processed\n",
      "39 Processed\n",
      "40 Processed\n",
      "41 Processed\n",
      "42 Processed\n",
      "43 Processed\n",
      "44 Processed\n",
      "45 Processed\n",
      "46 Processed\n",
      "47 Processed\n",
      "48 Processed\n",
      "49 Processed\n",
      "50 Processed\n",
      "51 Processed\n",
      "53 Processed\n",
      "54 Processed\n",
      "55 Processed\n",
      "56 Processed\n",
      "57 Processed\n",
      "58 Processed\n",
      "59 Processed\n",
      "60 Processed\n",
      "61 Processed\n",
      "62 Processed\n",
      "63 Processed\n",
      "65 Processed\n",
      "66 Processed\n",
      "67 Processed\n",
      "68 Processed\n",
      "69 Processed\n",
      "70 Processed\n",
      "71 Processed\n",
      "72 Processed\n",
      "73 Processed\n",
      "75 Processed\n",
      "76 Processed\n",
      "77 Processed\n",
      "78 Processed\n",
      "79 Processed\n",
      "80 Processed\n",
      "81 Processed\n",
      "82 Processed\n",
      "83 Processed\n",
      "84 Processed\n",
      "85 Processed\n",
      "86 Processed\n",
      "87 Processed\n",
      "88 Processed\n",
      "89 Processed\n",
      "90 Processed\n",
      "91 Processed\n",
      "92 Processed\n",
      "93 Processed\n",
      "94 Processed\n",
      "95 Processed\n",
      "96 Processed\n",
      "97 Processed\n",
      "98 Processed\n",
      "99 Processed\n",
      "100 Processed\n",
      "101 Processed\n",
      "102 Processed\n",
      "103 Processed\n",
      "104 Processed\n",
      "105 Processed\n",
      "106 Processed\n",
      "107 Processed\n",
      "108 Processed\n",
      "109 Processed\n",
      "110 Processed\n",
      "111 Processed\n",
      "112 Processed\n",
      "113 Processed\n",
      "114 Processed\n",
      "115 Processed\n",
      "116 Processed\n",
      "117 Processed\n",
      "118 Processed\n",
      "119 Processed\n",
      "120 Processed\n",
      "121 Processed\n",
      "122 Processed\n",
      "124 Processed\n",
      "125 Processed\n",
      "126 Processed\n",
      "127 Processed\n",
      "128 Processed\n",
      "129 Processed\n",
      "130 Processed\n",
      "131 Processed\n",
      "132 Processed\n",
      "133 Processed\n",
      "134 Processed\n",
      "135 Processed\n",
      "136 Processed\n",
      "137 Processed\n",
      "138 Processed\n",
      "139 Processed\n",
      "140 Processed\n",
      "141 Processed\n",
      "142 Processed\n",
      "143 Processed\n",
      "144 Processed\n",
      "145 Processed\n",
      "146 Processed\n",
      "147 Processed\n",
      "149 Processed\n",
      "150 Processed\n",
      "151 Processed\n",
      "153 Processed\n",
      "154 Processed\n",
      "155 Processed\n",
      "157 Processed\n",
      "158 Processed\n",
      "159 Processed\n",
      "160 Processed\n",
      "161 Processed\n",
      "162 Processed\n",
      "163 Processed\n",
      "164 Processed\n",
      "165 Processed\n",
      "166 Processed\n",
      "167 Processed\n",
      "168 Processed\n",
      "169 Processed\n",
      "170 Processed\n",
      "171 Processed\n",
      "172 Processed\n",
      "173 Processed\n",
      "174 Processed\n",
      "175 Processed\n",
      "176 Processed\n",
      "177 Processed\n",
      "178 Processed\n",
      "179 Processed\n",
      "180 Processed\n",
      "181 Processed\n",
      "182 Processed\n",
      "183 Processed\n",
      "184 Processed\n",
      "185 Processed\n",
      "186 Processed\n",
      "187 Processed\n",
      "188 Processed\n",
      "189 Processed\n",
      "190 Processed\n",
      "192 Processed\n",
      "193 Processed\n",
      "195 Processed\n",
      "196 Processed\n",
      "197 Processed\n",
      "198 Processed\n",
      "199 Processed\n",
      "200 Processed\n",
      "201 Processed\n",
      "202 Processed\n",
      "203 Processed\n",
      "204 Processed\n",
      "205 Processed\n",
      "206 Processed\n",
      "208 Processed\n",
      "209 Processed\n",
      "210 Processed\n",
      "211 Processed\n",
      "212 Processed\n",
      "214 Processed\n",
      "215 Processed\n",
      "216 Processed\n",
      "217 Processed\n",
      "218 Processed\n",
      "219 Processed\n",
      "220 Processed\n",
      "222 Processed\n",
      "223 Processed\n",
      "224 Processed\n",
      "225 Processed\n",
      "226 Processed\n",
      "227 Processed\n",
      "229 Processed\n",
      "230 Processed\n",
      "231 Processed\n",
      "232 Processed\n",
      "234 Processed\n",
      "235 Processed\n",
      "236 Processed\n",
      "237 Processed\n",
      "239 Processed\n",
      "240 Processed\n",
      "241 Processed\n",
      "242 Processed\n",
      "243 Processed\n",
      "244 Processed\n",
      "245 Processed\n",
      "246 Processed\n",
      "247 Processed\n",
      "248 Processed\n",
      "249 Processed\n",
      "250 Processed\n",
      "251 Processed\n",
      "252 Processed\n",
      "254 Processed\n",
      "255 Processed\n",
      "256 Processed\n",
      "257 Processed\n",
      "258 Processed\n",
      "259 Processed\n",
      "260 Processed\n",
      "261 Processed\n",
      "262 Processed\n",
      "263 Processed\n",
      "264 Processed\n",
      "265 Processed\n",
      "266 Processed\n",
      "267 Processed\n",
      "268 Processed\n",
      "269 Processed\n",
      "270 Processed\n",
      "272 Processed\n",
      "273 Processed\n",
      "274 Processed\n",
      "276 Processed\n",
      "277 Processed\n",
      "278 Processed\n",
      "279 Processed\n",
      "280 Processed\n",
      "281 Processed\n",
      "282 Processed\n"
     ]
    }
   ],
   "source": [
    "n_perc = []\n",
    "plural_perc = []\n",
    "reg_ad_perc = []\n",
    "comp_ad_perc = []\n",
    "super_ad_perc = []\n",
    "verb_perc = []\n",
    "\n",
    "for i in range(len(df_read_lyrics.index)):\n",
    "    nouns_count = 0\n",
    "    plural = 0\n",
    "    reg_adv = 0\n",
    "    comp_adv = 0 \n",
    "    super_adv = 0\n",
    "    verb = 0\n",
    "    w = TextBlob(str(df_read_lyrics.iloc[i].Text))\n",
    "    if len(w.tags) <= 10000:\n",
    "        for j in range(len(w.tags)):\n",
    "            if w.tags[j][1] == 'NN':\n",
    "                nouns_count += 1\n",
    "            if w.tags[j][1] == 'NNS':\n",
    "                plural += 1\n",
    "            if w.tags[j][1] == 'RB':\n",
    "                reg_adv += 1\n",
    "            if w.tags[j][1] == 'RBS':\n",
    "                super_adv += 1\n",
    "            if w.tags[j][1] == 'RBR':\n",
    "                comp_adv += 1 \n",
    "            if w.tags[j][1] == 'VB':\n",
    "                verb += 1  \n",
    "        print(i, 'Processed')        \n",
    "        n_perc.append(nouns_count/len(w.tags)) \n",
    "        plural_perc.append(plural/len(w.tags)) \n",
    "        reg_ad_perc.append(reg_adv/len(w.tags)) \n",
    "        comp_ad_perc.append(comp_adv/len(w.tags)) \n",
    "        super_ad_perc.append(super_adv/len(w.tags)) \n",
    "        verb_perc.append(verb/len(w.tags)) "
   ]
  },
  {
   "cell_type": "code",
   "execution_count": 75,
   "metadata": {},
   "outputs": [
    {
     "data": {
      "text/plain": [
       "259"
      ]
     },
     "execution_count": 75,
     "metadata": {},
     "output_type": "execute_result"
    }
   ],
   "source": [
    "len(n_perc)"
   ]
  },
  {
   "cell_type": "code",
   "execution_count": 76,
   "metadata": {},
   "outputs": [],
   "source": [
    "poly = pd.DataFrame(data = {'Noun_singular':n_perc})"
   ]
  },
  {
   "cell_type": "code",
   "execution_count": 77,
   "metadata": {},
   "outputs": [],
   "source": [
    "poly['Noun_singular'] = n_perc\n",
    "poly['Noun_plural'] = plural_perc\n",
    "poly['Regular_ad'] = reg_ad_perc\n",
    "poly['Comp_ad'] = comp_ad_perc\n",
    "poly['Super_ad'] = super_ad_perc\n",
    "poly['Verb'] = verb_perc"
   ]
  },
  {
   "cell_type": "code",
   "execution_count": 78,
   "metadata": {},
   "outputs": [],
   "source": [
    "poly.to_csv('Metrics', index = True)"
   ]
  },
  {
   "cell_type": "code",
   "execution_count": 2,
   "metadata": {},
   "outputs": [],
   "source": [
    "poly = pd.read_csv('Metrics')"
   ]
  },
  {
   "cell_type": "code",
   "execution_count": 3,
   "metadata": {},
   "outputs": [
    {
     "data": {
      "text/html": [
       "<div>\n",
       "<style scoped>\n",
       "    .dataframe tbody tr th:only-of-type {\n",
       "        vertical-align: middle;\n",
       "    }\n",
       "\n",
       "    .dataframe tbody tr th {\n",
       "        vertical-align: top;\n",
       "    }\n",
       "\n",
       "    .dataframe thead th {\n",
       "        text-align: right;\n",
       "    }\n",
       "</style>\n",
       "<table border=\"1\" class=\"dataframe\">\n",
       "  <thead>\n",
       "    <tr style=\"text-align: right;\">\n",
       "      <th></th>\n",
       "      <th>Unnamed: 0</th>\n",
       "      <th>Noun_singular</th>\n",
       "      <th>Noun_plural</th>\n",
       "      <th>Regular_ad</th>\n",
       "      <th>Comp_ad</th>\n",
       "      <th>Super_ad</th>\n",
       "      <th>Verb</th>\n",
       "    </tr>\n",
       "  </thead>\n",
       "  <tbody>\n",
       "    <tr>\n",
       "      <th>0</th>\n",
       "      <td>0</td>\n",
       "      <td>0.215054</td>\n",
       "      <td>0.021505</td>\n",
       "      <td>0.032258</td>\n",
       "      <td>0.010753</td>\n",
       "      <td>0.000000</td>\n",
       "      <td>0.043011</td>\n",
       "    </tr>\n",
       "    <tr>\n",
       "      <th>1</th>\n",
       "      <td>1</td>\n",
       "      <td>0.138523</td>\n",
       "      <td>0.031842</td>\n",
       "      <td>0.056788</td>\n",
       "      <td>0.000627</td>\n",
       "      <td>0.000000</td>\n",
       "      <td>0.045380</td>\n",
       "    </tr>\n",
       "    <tr>\n",
       "      <th>2</th>\n",
       "      <td>2</td>\n",
       "      <td>0.103575</td>\n",
       "      <td>0.027864</td>\n",
       "      <td>0.006049</td>\n",
       "      <td>0.000183</td>\n",
       "      <td>0.000183</td>\n",
       "      <td>0.006233</td>\n",
       "    </tr>\n",
       "    <tr>\n",
       "      <th>3</th>\n",
       "      <td>3</td>\n",
       "      <td>0.369898</td>\n",
       "      <td>0.091837</td>\n",
       "      <td>0.015306</td>\n",
       "      <td>0.000000</td>\n",
       "      <td>0.000000</td>\n",
       "      <td>0.002551</td>\n",
       "    </tr>\n",
       "    <tr>\n",
       "      <th>4</th>\n",
       "      <td>4</td>\n",
       "      <td>0.157944</td>\n",
       "      <td>0.009346</td>\n",
       "      <td>0.036449</td>\n",
       "      <td>0.000935</td>\n",
       "      <td>0.000000</td>\n",
       "      <td>0.039252</td>\n",
       "    </tr>\n",
       "  </tbody>\n",
       "</table>\n",
       "</div>"
      ],
      "text/plain": [
       "   Unnamed: 0  Noun_singular  Noun_plural  Regular_ad   Comp_ad  Super_ad  \\\n",
       "0           0       0.215054     0.021505    0.032258  0.010753  0.000000   \n",
       "1           1       0.138523     0.031842    0.056788  0.000627  0.000000   \n",
       "2           2       0.103575     0.027864    0.006049  0.000183  0.000183   \n",
       "3           3       0.369898     0.091837    0.015306  0.000000  0.000000   \n",
       "4           4       0.157944     0.009346    0.036449  0.000935  0.000000   \n",
       "\n",
       "       Verb  \n",
       "0  0.043011  \n",
       "1  0.045380  \n",
       "2  0.006233  \n",
       "3  0.002551  \n",
       "4  0.039252  "
      ]
     },
     "execution_count": 3,
     "metadata": {},
     "output_type": "execute_result"
    }
   ],
   "source": [
    "poly.head()"
   ]
  },
  {
   "cell_type": "code",
   "execution_count": 10,
   "metadata": {},
   "outputs": [
    {
     "data": {
      "text/plain": [
       "<AxesSubplot:>"
      ]
     },
     "execution_count": 10,
     "metadata": {},
     "output_type": "execute_result"
    },
    {
     "data": {
      "image/png": "[encoded data removed]",
      "text/plain": [
       "<Figure size 648x648 with 1 Axes>"
      ]
     },
     "metadata": {
      "needs_background": "light"
     },
     "output_type": "display_data"
    }
   ],
   "source": [
    "import seaborn as sns\n",
    "import matplotlib.pyplot as plt\n",
    "fig, ax = plt.subplots(figsize=(9,  9))\n",
    "poly.boxplot(['Noun_singular', 'Noun_plural', 'Regular_ad', 'Verb'])"
   ]
  },
  {
   "cell_type": "code",
   "execution_count": 11,
   "metadata": {},
   "outputs": [
    {
     "data": {
      "text/plain": [
       "<AxesSubplot:>"
      ]
     },
     "execution_count": 11,
     "metadata": {},
     "output_type": "execute_result"
    },
    {
     "data": {
      "image/png": "[encoded data removed]",
      "text/plain": [
       "<Figure size 648x648 with 1 Axes>"
      ]
     },
     "metadata": {
      "needs_background": "light"
     },
     "output_type": "display_data"
    }
   ],
   "source": [
    "fig, ax = plt.subplots(figsize=(9,  9))\n",
    "poly.boxplot(['Comp_ad', 'Super_ad'])"
   ]
  },
  {
   "cell_type": "code",
   "execution_count": null,
   "metadata": {},
   "outputs": [],
   "source": []
  }
 ],
 "metadata": {
  "kernelspec": {
   "display_name": "Python 3",
   "language": "python",
   "name": "python3"
  },
  "language_info": {
   "codemirror_mode": {
    "name": "ipython",
    "version": 3
   },
   "file_extension": ".py",
   "mimetype": "text/x-python",
   "name": "python",
   "nbconvert_exporter": "python",
   "pygments_lexer": "ipython3",
   "version": "3.8.8"
  }
 },
 "nbformat": 4,
 "nbformat_minor": 4
}
