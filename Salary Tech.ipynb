{
 "cells": [
  {
   "cell_type": "code",
   "execution_count": 1,
   "metadata": {},
   "outputs": [],
   "source": [
    "# Import libraries\n",
    "import pandas as pd\n",
    "import numpy as np\n",
    "import matplotlib.pyplot as plt\n",
    "import seaborn as sns\n",
    "%matplotlib inline\n",
    "sns.set_style('ticks')\n",
    "#Ignore woarnings\n",
    "import warnings\n",
    "warnings.filterwarnings('ignore')"
   ]
  },
  {
   "cell_type": "markdown",
   "metadata": {},
   "source": [
    "# Tech Salaries and Gender: Do women make less money than men?"
   ]
  },
  {
   "cell_type": "markdown",
   "metadata": {},
   "source": [
    "This is a exploratory project that aims to answer the question of whether women employees make less money than their men counterparts. I will be looking at survey response data from .... , and also dissecting various factors like year of experience, job title and hours per week that might impact salary."
   ]
  },
  {
   "cell_type": "code",
   "execution_count": 2,
   "metadata": {},
   "outputs": [
    {
     "data": {
      "text/html": [
       "<div>\n",
       "<style scoped>\n",
       "    .dataframe tbody tr th:only-of-type {\n",
       "        vertical-align: middle;\n",
       "    }\n",
       "\n",
       "    .dataframe tbody tr th {\n",
       "        vertical-align: top;\n",
       "    }\n",
       "\n",
       "    .dataframe thead th {\n",
       "        text-align: right;\n",
       "    }\n",
       "</style>\n",
       "<table border=\"1\" class=\"dataframe\">\n",
       "  <thead>\n",
       "    <tr style=\"text-align: right;\">\n",
       "      <th></th>\n",
       "      <th>This data is from the 2017/2018/2019 Data Professional Salary Survey. For more details and analysis, visit:</th>\n",
       "      <th>Unnamed: 1</th>\n",
       "      <th>Unnamed: 2</th>\n",
       "      <th>Unnamed: 3</th>\n",
       "      <th>Unnamed: 4</th>\n",
       "      <th>Unnamed: 5</th>\n",
       "      <th>Unnamed: 6</th>\n",
       "      <th>Unnamed: 7</th>\n",
       "      <th>Unnamed: 8</th>\n",
       "      <th>Unnamed: 9</th>\n",
       "      <th>...</th>\n",
       "      <th>Unnamed: 19</th>\n",
       "      <th>Unnamed: 20</th>\n",
       "      <th>Unnamed: 21</th>\n",
       "      <th>Unnamed: 22</th>\n",
       "      <th>Unnamed: 23</th>\n",
       "      <th>Unnamed: 24</th>\n",
       "      <th>Unnamed: 25</th>\n",
       "      <th>Unnamed: 26</th>\n",
       "      <th>Unnamed: 27</th>\n",
       "      <th>Unnamed: 28</th>\n",
       "    </tr>\n",
       "  </thead>\n",
       "  <tbody>\n",
       "    <tr>\n",
       "      <th>0</th>\n",
       "      <td>https://www.BrentOzar.com/go/salary</td>\n",
       "      <td>NaN</td>\n",
       "      <td>NaN</td>\n",
       "      <td>NaN</td>\n",
       "      <td>NaN</td>\n",
       "      <td>NaN</td>\n",
       "      <td>NaN</td>\n",
       "      <td>NaN</td>\n",
       "      <td>NaN</td>\n",
       "      <td>NaN</td>\n",
       "      <td>...</td>\n",
       "      <td>NaN</td>\n",
       "      <td>NaN</td>\n",
       "      <td>NaN</td>\n",
       "      <td>NaN</td>\n",
       "      <td>NaN</td>\n",
       "      <td>NaN</td>\n",
       "      <td>NaN</td>\n",
       "      <td>NaN</td>\n",
       "      <td>NaN</td>\n",
       "      <td>NaN</td>\n",
       "    </tr>\n",
       "    <tr>\n",
       "      <th>1</th>\n",
       "      <td>NaN</td>\n",
       "      <td>NaN</td>\n",
       "      <td>NaN</td>\n",
       "      <td>NaN</td>\n",
       "      <td>NaN</td>\n",
       "      <td>NaN</td>\n",
       "      <td>NaN</td>\n",
       "      <td>NaN</td>\n",
       "      <td>NaN</td>\n",
       "      <td>NaN</td>\n",
       "      <td>...</td>\n",
       "      <td>NaN</td>\n",
       "      <td>NaN</td>\n",
       "      <td>NaN</td>\n",
       "      <td>NaN</td>\n",
       "      <td>NaN</td>\n",
       "      <td>NaN</td>\n",
       "      <td>NaN</td>\n",
       "      <td>NaN</td>\n",
       "      <td>NaN</td>\n",
       "      <td>NaN</td>\n",
       "    </tr>\n",
       "    <tr>\n",
       "      <th>2</th>\n",
       "      <td>Survey Year</td>\n",
       "      <td>Timestamp</td>\n",
       "      <td>SalaryUSD</td>\n",
       "      <td>Country</td>\n",
       "      <td>PostalCode</td>\n",
       "      <td>PrimaryDatabase</td>\n",
       "      <td>YearsWithThisDatabase</td>\n",
       "      <td>OtherDatabases</td>\n",
       "      <td>EmploymentStatus</td>\n",
       "      <td>JobTitle</td>\n",
       "      <td>...</td>\n",
       "      <td>HoursWorkedPerWeek</td>\n",
       "      <td>TelecommuteDaysPerWeek</td>\n",
       "      <td>PopulationOfLargestCityWithin20Miles</td>\n",
       "      <td>EmploymentSector</td>\n",
       "      <td>LookingForAnotherJob</td>\n",
       "      <td>CareerPlansThisYear</td>\n",
       "      <td>Gender</td>\n",
       "      <td>OtherJobDuties</td>\n",
       "      <td>KindsOfTasksPerformed</td>\n",
       "      <td>Counter</td>\n",
       "    </tr>\n",
       "    <tr>\n",
       "      <th>3</th>\n",
       "      <td>2017</td>\n",
       "      <td>2017-01-05 05:10:20.451000</td>\n",
       "      <td>200000</td>\n",
       "      <td>United States</td>\n",
       "      <td>Not Asked</td>\n",
       "      <td>Microsoft SQL Server</td>\n",
       "      <td>10</td>\n",
       "      <td>MySQL/MariaDB</td>\n",
       "      <td>Full time employee</td>\n",
       "      <td>DBA</td>\n",
       "      <td>...</td>\n",
       "      <td>45</td>\n",
       "      <td>1</td>\n",
       "      <td>Not Asked</td>\n",
       "      <td>Private business</td>\n",
       "      <td>Yes, but only passively (just curious)</td>\n",
       "      <td>Not Asked</td>\n",
       "      <td>Not Asked</td>\n",
       "      <td>Not Asked</td>\n",
       "      <td>Not Asked</td>\n",
       "      <td>1</td>\n",
       "    </tr>\n",
       "    <tr>\n",
       "      <th>4</th>\n",
       "      <td>2017</td>\n",
       "      <td>2017-01-05 05:26:23.388000</td>\n",
       "      <td>61515</td>\n",
       "      <td>United Kingdom</td>\n",
       "      <td>Not Asked</td>\n",
       "      <td>Microsoft SQL Server</td>\n",
       "      <td>15</td>\n",
       "      <td>Oracle, PostgreSQL</td>\n",
       "      <td>Full time employee</td>\n",
       "      <td>DBA</td>\n",
       "      <td>...</td>\n",
       "      <td>35</td>\n",
       "      <td>2</td>\n",
       "      <td>Not Asked</td>\n",
       "      <td>Private business</td>\n",
       "      <td>No</td>\n",
       "      <td>Not Asked</td>\n",
       "      <td>Not Asked</td>\n",
       "      <td>Not Asked</td>\n",
       "      <td>Not Asked</td>\n",
       "      <td>1</td>\n",
       "    </tr>\n",
       "  </tbody>\n",
       "</table>\n",
       "<p>5 rows × 29 columns</p>\n",
       "</div>"
      ],
      "text/plain": [
       "  This data is from the 2017/2018/2019 Data Professional Salary Survey. For more details and analysis, visit:  \\\n",
       "0                https://www.BrentOzar.com/go/salary                                                            \n",
       "1                                                NaN                                                            \n",
       "2                                        Survey Year                                                            \n",
       "3                                               2017                                                            \n",
       "4                                               2017                                                            \n",
       "\n",
       "                   Unnamed: 1 Unnamed: 2      Unnamed: 3  Unnamed: 4  \\\n",
       "0                         NaN        NaN             NaN         NaN   \n",
       "1                         NaN        NaN             NaN         NaN   \n",
       "2                   Timestamp  SalaryUSD         Country  PostalCode   \n",
       "3  2017-01-05 05:10:20.451000     200000   United States   Not Asked   \n",
       "4  2017-01-05 05:26:23.388000      61515  United Kingdom   Not Asked   \n",
       "\n",
       "             Unnamed: 5             Unnamed: 6          Unnamed: 7  \\\n",
       "0                   NaN                    NaN                 NaN   \n",
       "1                   NaN                    NaN                 NaN   \n",
       "2       PrimaryDatabase  YearsWithThisDatabase      OtherDatabases   \n",
       "3  Microsoft SQL Server                     10       MySQL/MariaDB   \n",
       "4  Microsoft SQL Server                     15  Oracle, PostgreSQL   \n",
       "\n",
       "           Unnamed: 8 Unnamed: 9  ...         Unnamed: 19  \\\n",
       "0                 NaN        NaN  ...                 NaN   \n",
       "1                 NaN        NaN  ...                 NaN   \n",
       "2    EmploymentStatus   JobTitle  ...  HoursWorkedPerWeek   \n",
       "3  Full time employee        DBA  ...                  45   \n",
       "4  Full time employee        DBA  ...                  35   \n",
       "\n",
       "              Unnamed: 20                           Unnamed: 21  \\\n",
       "0                     NaN                                   NaN   \n",
       "1                     NaN                                   NaN   \n",
       "2  TelecommuteDaysPerWeek  PopulationOfLargestCityWithin20Miles   \n",
       "3                       1                             Not Asked   \n",
       "4                       2                             Not Asked   \n",
       "\n",
       "        Unnamed: 22                             Unnamed: 23  \\\n",
       "0               NaN                                     NaN   \n",
       "1               NaN                                     NaN   \n",
       "2  EmploymentSector                    LookingForAnotherJob   \n",
       "3  Private business  Yes, but only passively (just curious)   \n",
       "4  Private business                                      No   \n",
       "\n",
       "           Unnamed: 24 Unnamed: 25     Unnamed: 26            Unnamed: 27  \\\n",
       "0                  NaN         NaN             NaN                    NaN   \n",
       "1                  NaN         NaN             NaN                    NaN   \n",
       "2  CareerPlansThisYear      Gender  OtherJobDuties  KindsOfTasksPerformed   \n",
       "3            Not Asked   Not Asked       Not Asked              Not Asked   \n",
       "4            Not Asked   Not Asked       Not Asked              Not Asked   \n",
       "\n",
       "  Unnamed: 28  \n",
       "0         NaN  \n",
       "1         NaN  \n",
       "2     Counter  \n",
       "3           1  \n",
       "4           1  \n",
       "\n",
       "[5 rows x 29 columns]"
      ]
     },
     "execution_count": 2,
     "metadata": {},
     "output_type": "execute_result"
    }
   ],
   "source": [
    "raw_data = pd.read_excel('2019_Data_Professional_Salary_Survey_Responses.xlsx')\n",
    "raw_data.head()"
   ]
  },
  {
   "cell_type": "code",
   "execution_count": null,
   "metadata": {},
   "outputs": [],
   "source": []
  },
  {
   "cell_type": "code",
   "execution_count": 3,
   "metadata": {},
   "outputs": [],
   "source": [
    "#convert float to string\n",
    "def str_salary(salary):\n",
    "    sep = '.'\n",
    "    if type(salary) == int:\n",
    "        salary = str(salary)\n",
    "    elif type(salary) == str:\n",
    "        # Replace characteres and take the cents out of our data\n",
    "        salary = salary.replace(\" \",\"\").replace(\"$\",\"\").replace(\",\",\"\").split(sep)[0]\n",
    "    elif type(salary) == float:\n",
    "        salary = str(salary)\n",
    "    return salary\n",
    "raw_data.columns = raw_data.columns.str.replace(\" \",\"_\")"
   ]
  },
  {
   "cell_type": "code",
   "execution_count": 4,
   "metadata": {},
   "outputs": [],
   "source": [
    "df_new = raw_data.rename(columns={'Unnamed:_2': 'SalaryUSD', 'Unnamed:_3': 'Country', 'Unnamed:_9': 'JobTitle', 'Unnamed:_19': 'HoursperWeek', 'Unnamed:_25': 'Gender', 'This_data_is_from_the_2017/2018/2019_Data_Professional_Salary_Survey._For_more_details_and_analysis,_visit:':'Survey_Year', \"Unnamed:_11\":\"YearExp\"}, index={'0': 'Row_0'})"
   ]
  },
  {
   "cell_type": "code",
   "execution_count": 5,
   "metadata": {},
   "outputs": [
    {
     "data": {
      "text/html": [
       "<div>\n",
       "<style scoped>\n",
       "    .dataframe tbody tr th:only-of-type {\n",
       "        vertical-align: middle;\n",
       "    }\n",
       "\n",
       "    .dataframe tbody tr th {\n",
       "        vertical-align: top;\n",
       "    }\n",
       "\n",
       "    .dataframe thead th {\n",
       "        text-align: right;\n",
       "    }\n",
       "</style>\n",
       "<table border=\"1\" class=\"dataframe\">\n",
       "  <thead>\n",
       "    <tr style=\"text-align: right;\">\n",
       "      <th></th>\n",
       "      <th>Survey_Year</th>\n",
       "      <th>Unnamed:_1</th>\n",
       "      <th>SalaryUSD</th>\n",
       "      <th>Country</th>\n",
       "      <th>Unnamed:_4</th>\n",
       "      <th>Unnamed:_5</th>\n",
       "      <th>Unnamed:_6</th>\n",
       "      <th>Unnamed:_7</th>\n",
       "      <th>Unnamed:_8</th>\n",
       "      <th>JobTitle</th>\n",
       "      <th>...</th>\n",
       "      <th>HoursperWeek</th>\n",
       "      <th>Unnamed:_20</th>\n",
       "      <th>Unnamed:_21</th>\n",
       "      <th>Unnamed:_22</th>\n",
       "      <th>Unnamed:_23</th>\n",
       "      <th>Unnamed:_24</th>\n",
       "      <th>Gender</th>\n",
       "      <th>Unnamed:_26</th>\n",
       "      <th>Unnamed:_27</th>\n",
       "      <th>Unnamed:_28</th>\n",
       "    </tr>\n",
       "  </thead>\n",
       "  <tbody>\n",
       "    <tr>\n",
       "      <th>2</th>\n",
       "      <td>Survey Year</td>\n",
       "      <td>Timestamp</td>\n",
       "      <td>SalaryUSD</td>\n",
       "      <td>Country</td>\n",
       "      <td>PostalCode</td>\n",
       "      <td>PrimaryDatabase</td>\n",
       "      <td>YearsWithThisDatabase</td>\n",
       "      <td>OtherDatabases</td>\n",
       "      <td>EmploymentStatus</td>\n",
       "      <td>JobTitle</td>\n",
       "      <td>...</td>\n",
       "      <td>HoursWorkedPerWeek</td>\n",
       "      <td>TelecommuteDaysPerWeek</td>\n",
       "      <td>PopulationOfLargestCityWithin20Miles</td>\n",
       "      <td>EmploymentSector</td>\n",
       "      <td>LookingForAnotherJob</td>\n",
       "      <td>CareerPlansThisYear</td>\n",
       "      <td>Gender</td>\n",
       "      <td>OtherJobDuties</td>\n",
       "      <td>KindsOfTasksPerformed</td>\n",
       "      <td>Counter</td>\n",
       "    </tr>\n",
       "    <tr>\n",
       "      <th>3</th>\n",
       "      <td>2017</td>\n",
       "      <td>2017-01-05 05:10:20.451000</td>\n",
       "      <td>200000</td>\n",
       "      <td>United States</td>\n",
       "      <td>Not Asked</td>\n",
       "      <td>Microsoft SQL Server</td>\n",
       "      <td>10</td>\n",
       "      <td>MySQL/MariaDB</td>\n",
       "      <td>Full time employee</td>\n",
       "      <td>DBA</td>\n",
       "      <td>...</td>\n",
       "      <td>45</td>\n",
       "      <td>1</td>\n",
       "      <td>Not Asked</td>\n",
       "      <td>Private business</td>\n",
       "      <td>Yes, but only passively (just curious)</td>\n",
       "      <td>Not Asked</td>\n",
       "      <td>Not Asked</td>\n",
       "      <td>Not Asked</td>\n",
       "      <td>Not Asked</td>\n",
       "      <td>1</td>\n",
       "    </tr>\n",
       "    <tr>\n",
       "      <th>4</th>\n",
       "      <td>2017</td>\n",
       "      <td>2017-01-05 05:26:23.388000</td>\n",
       "      <td>61515</td>\n",
       "      <td>United Kingdom</td>\n",
       "      <td>Not Asked</td>\n",
       "      <td>Microsoft SQL Server</td>\n",
       "      <td>15</td>\n",
       "      <td>Oracle, PostgreSQL</td>\n",
       "      <td>Full time employee</td>\n",
       "      <td>DBA</td>\n",
       "      <td>...</td>\n",
       "      <td>35</td>\n",
       "      <td>2</td>\n",
       "      <td>Not Asked</td>\n",
       "      <td>Private business</td>\n",
       "      <td>No</td>\n",
       "      <td>Not Asked</td>\n",
       "      <td>Not Asked</td>\n",
       "      <td>Not Asked</td>\n",
       "      <td>Not Asked</td>\n",
       "      <td>1</td>\n",
       "    </tr>\n",
       "    <tr>\n",
       "      <th>5</th>\n",
       "      <td>2017</td>\n",
       "      <td>2017-01-05 05:32:57.367000</td>\n",
       "      <td>95000</td>\n",
       "      <td>Germany</td>\n",
       "      <td>Not Asked</td>\n",
       "      <td>Microsoft SQL Server</td>\n",
       "      <td>5</td>\n",
       "      <td>Oracle, MySQL/MariaDB, Informix</td>\n",
       "      <td>Full time employee</td>\n",
       "      <td>Other</td>\n",
       "      <td>...</td>\n",
       "      <td>45</td>\n",
       "      <td>None, or less than 1 day per week</td>\n",
       "      <td>Not Asked</td>\n",
       "      <td>Private business</td>\n",
       "      <td>Yes, but only passively (just curious)</td>\n",
       "      <td>Not Asked</td>\n",
       "      <td>Not Asked</td>\n",
       "      <td>Not Asked</td>\n",
       "      <td>Not Asked</td>\n",
       "      <td>1</td>\n",
       "    </tr>\n",
       "    <tr>\n",
       "      <th>6</th>\n",
       "      <td>2017</td>\n",
       "      <td>2017-01-05 05:33:03.316000</td>\n",
       "      <td>56000</td>\n",
       "      <td>United Kingdom</td>\n",
       "      <td>Not Asked</td>\n",
       "      <td>Microsoft SQL Server</td>\n",
       "      <td>6</td>\n",
       "      <td>NaN</td>\n",
       "      <td>Full time employee</td>\n",
       "      <td>DBA</td>\n",
       "      <td>...</td>\n",
       "      <td>40</td>\n",
       "      <td>1</td>\n",
       "      <td>Not Asked</td>\n",
       "      <td>Private business</td>\n",
       "      <td>Yes, but only passively (just curious)</td>\n",
       "      <td>Not Asked</td>\n",
       "      <td>Not Asked</td>\n",
       "      <td>Not Asked</td>\n",
       "      <td>Not Asked</td>\n",
       "      <td>1</td>\n",
       "    </tr>\n",
       "  </tbody>\n",
       "</table>\n",
       "<p>5 rows × 29 columns</p>\n",
       "</div>"
      ],
      "text/plain": [
       "   Survey_Year                  Unnamed:_1  SalaryUSD         Country  \\\n",
       "2  Survey Year                   Timestamp  SalaryUSD         Country   \n",
       "3         2017  2017-01-05 05:10:20.451000     200000   United States   \n",
       "4         2017  2017-01-05 05:26:23.388000      61515  United Kingdom   \n",
       "5         2017  2017-01-05 05:32:57.367000      95000         Germany   \n",
       "6         2017  2017-01-05 05:33:03.316000      56000  United Kingdom   \n",
       "\n",
       "   Unnamed:_4            Unnamed:_5             Unnamed:_6  \\\n",
       "2  PostalCode       PrimaryDatabase  YearsWithThisDatabase   \n",
       "3   Not Asked  Microsoft SQL Server                     10   \n",
       "4   Not Asked  Microsoft SQL Server                     15   \n",
       "5   Not Asked  Microsoft SQL Server                      5   \n",
       "6   Not Asked  Microsoft SQL Server                      6   \n",
       "\n",
       "                        Unnamed:_7          Unnamed:_8  JobTitle  ...  \\\n",
       "2                   OtherDatabases    EmploymentStatus  JobTitle  ...   \n",
       "3                    MySQL/MariaDB  Full time employee       DBA  ...   \n",
       "4               Oracle, PostgreSQL  Full time employee       DBA  ...   \n",
       "5  Oracle, MySQL/MariaDB, Informix  Full time employee     Other  ...   \n",
       "6                              NaN  Full time employee       DBA  ...   \n",
       "\n",
       "         HoursperWeek                        Unnamed:_20  \\\n",
       "2  HoursWorkedPerWeek             TelecommuteDaysPerWeek   \n",
       "3                  45                                  1   \n",
       "4                  35                                  2   \n",
       "5                  45  None, or less than 1 day per week   \n",
       "6                  40                                  1   \n",
       "\n",
       "                            Unnamed:_21       Unnamed:_22  \\\n",
       "2  PopulationOfLargestCityWithin20Miles  EmploymentSector   \n",
       "3                             Not Asked  Private business   \n",
       "4                             Not Asked  Private business   \n",
       "5                             Not Asked  Private business   \n",
       "6                             Not Asked  Private business   \n",
       "\n",
       "                              Unnamed:_23          Unnamed:_24     Gender  \\\n",
       "2                    LookingForAnotherJob  CareerPlansThisYear     Gender   \n",
       "3  Yes, but only passively (just curious)            Not Asked  Not Asked   \n",
       "4                                      No            Not Asked  Not Asked   \n",
       "5  Yes, but only passively (just curious)            Not Asked  Not Asked   \n",
       "6  Yes, but only passively (just curious)            Not Asked  Not Asked   \n",
       "\n",
       "      Unnamed:_26            Unnamed:_27 Unnamed:_28  \n",
       "2  OtherJobDuties  KindsOfTasksPerformed     Counter  \n",
       "3       Not Asked              Not Asked           1  \n",
       "4       Not Asked              Not Asked           1  \n",
       "5       Not Asked              Not Asked           1  \n",
       "6       Not Asked              Not Asked           1  \n",
       "\n",
       "[5 rows x 29 columns]"
      ]
     },
     "execution_count": 5,
     "metadata": {},
     "output_type": "execute_result"
    }
   ],
   "source": [
    "df_new = df_new.drop([df_new.index[0] , df_new.index[1]])\n",
    "df_new.head()"
   ]
  },
  {
   "cell_type": "code",
   "execution_count": 6,
   "metadata": {},
   "outputs": [],
   "source": [
    "US = df_new.loc[df_new.Country == 'United States',:]\n"
   ]
  },
  {
   "cell_type": "code",
   "execution_count": 7,
   "metadata": {},
   "outputs": [
    {
     "data": {
      "text/html": [
       "<div>\n",
       "<style scoped>\n",
       "    .dataframe tbody tr th:only-of-type {\n",
       "        vertical-align: middle;\n",
       "    }\n",
       "\n",
       "    .dataframe tbody tr th {\n",
       "        vertical-align: top;\n",
       "    }\n",
       "\n",
       "    .dataframe thead th {\n",
       "        text-align: right;\n",
       "    }\n",
       "</style>\n",
       "<table border=\"1\" class=\"dataframe\">\n",
       "  <thead>\n",
       "    <tr style=\"text-align: right;\">\n",
       "      <th></th>\n",
       "      <th>Survey_Year</th>\n",
       "      <th>Unnamed:_1</th>\n",
       "      <th>SalaryUSD</th>\n",
       "      <th>Country</th>\n",
       "      <th>Unnamed:_4</th>\n",
       "      <th>Unnamed:_5</th>\n",
       "      <th>Unnamed:_6</th>\n",
       "      <th>Unnamed:_7</th>\n",
       "      <th>Unnamed:_8</th>\n",
       "      <th>JobTitle</th>\n",
       "      <th>...</th>\n",
       "      <th>HoursperWeek</th>\n",
       "      <th>Unnamed:_20</th>\n",
       "      <th>Unnamed:_21</th>\n",
       "      <th>Unnamed:_22</th>\n",
       "      <th>Unnamed:_23</th>\n",
       "      <th>Unnamed:_24</th>\n",
       "      <th>Gender</th>\n",
       "      <th>Unnamed:_26</th>\n",
       "      <th>Unnamed:_27</th>\n",
       "      <th>Unnamed:_28</th>\n",
       "    </tr>\n",
       "  </thead>\n",
       "  <tbody>\n",
       "    <tr>\n",
       "      <th>6014</th>\n",
       "      <td>2019</td>\n",
       "      <td>2018-12-06 13:58:01.557000</td>\n",
       "      <td>128500</td>\n",
       "      <td>United States</td>\n",
       "      <td>442</td>\n",
       "      <td>Microsoft SQL Server</td>\n",
       "      <td>15</td>\n",
       "      <td>Microsoft SQL Server, Oracle</td>\n",
       "      <td>Full time employee</td>\n",
       "      <td>Architect</td>\n",
       "      <td>...</td>\n",
       "      <td>40</td>\n",
       "      <td>None, or less than 1 day per week</td>\n",
       "      <td>300K-1M (large city)</td>\n",
       "      <td>Private business</td>\n",
       "      <td>No</td>\n",
       "      <td>Stay with the same employer, same role</td>\n",
       "      <td>Male</td>\n",
       "      <td>DBA (Development Focus - tunes queries, indexe...</td>\n",
       "      <td>Manual tasks, Meetings &amp; management, Projects</td>\n",
       "      <td>1</td>\n",
       "    </tr>\n",
       "    <tr>\n",
       "      <th>6016</th>\n",
       "      <td>2019</td>\n",
       "      <td>2018-12-11 06:24:30.227000</td>\n",
       "      <td>110000</td>\n",
       "      <td>United States</td>\n",
       "      <td>43016</td>\n",
       "      <td>Microsoft SQL Server</td>\n",
       "      <td>18</td>\n",
       "      <td>Azure SQL DB</td>\n",
       "      <td>Full time employee</td>\n",
       "      <td>DBA (Development Focus - tunes queries, indexe...</td>\n",
       "      <td>...</td>\n",
       "      <td>44</td>\n",
       "      <td>None, or less than 1 day per week</td>\n",
       "      <td>1M+ (metropolis)</td>\n",
       "      <td>Private business</td>\n",
       "      <td>No</td>\n",
       "      <td>Stay with the same employer, same role</td>\n",
       "      <td>Male</td>\n",
       "      <td>DBA (Production Focus - build &amp; troubleshoot s...</td>\n",
       "      <td>Build scripts &amp; automation tools, Manual tasks...</td>\n",
       "      <td>1</td>\n",
       "    </tr>\n",
       "    <tr>\n",
       "      <th>6018</th>\n",
       "      <td>2019</td>\n",
       "      <td>2018-12-11 06:26:28.079000</td>\n",
       "      <td>65000</td>\n",
       "      <td>United States</td>\n",
       "      <td>NaN</td>\n",
       "      <td>Microsoft SQL Server</td>\n",
       "      <td>3</td>\n",
       "      <td>Microsoft SQL Server, MySQL/MariaDB</td>\n",
       "      <td>Full time employee</td>\n",
       "      <td>Developer: T-SQL</td>\n",
       "      <td>...</td>\n",
       "      <td>45</td>\n",
       "      <td>None, or less than 1 day per week</td>\n",
       "      <td>100K-299K (city)</td>\n",
       "      <td>Private business</td>\n",
       "      <td>No</td>\n",
       "      <td>Stay with the same employer, same role</td>\n",
       "      <td>Male</td>\n",
       "      <td>DBA (Development Focus - tunes queries, indexe...</td>\n",
       "      <td>Build scripts &amp; automation tools, Manual tasks...</td>\n",
       "      <td>1</td>\n",
       "    </tr>\n",
       "    <tr>\n",
       "      <th>6020</th>\n",
       "      <td>2019</td>\n",
       "      <td>2018-12-11 06:30:47.023000</td>\n",
       "      <td>116500</td>\n",
       "      <td>United States</td>\n",
       "      <td>605</td>\n",
       "      <td>Microsoft SQL Server</td>\n",
       "      <td>12</td>\n",
       "      <td>PostgreSQL, MongoDB, Azure SQL DB</td>\n",
       "      <td>Full time employee of a consulting/contracting...</td>\n",
       "      <td>Architect</td>\n",
       "      <td>...</td>\n",
       "      <td>30</td>\n",
       "      <td>5 or more</td>\n",
       "      <td>1M+ (metropolis)</td>\n",
       "      <td>Private business</td>\n",
       "      <td>Yes, but only passively (just curious)</td>\n",
       "      <td>Prefer not to say</td>\n",
       "      <td>Male</td>\n",
       "      <td>DBA (General - splits time evenly between writ...</td>\n",
       "      <td>Build scripts &amp; automation tools, Manual tasks...</td>\n",
       "      <td>1</td>\n",
       "    </tr>\n",
       "    <tr>\n",
       "      <th>6022</th>\n",
       "      <td>2019</td>\n",
       "      <td>2018-12-11 06:33:56.358000</td>\n",
       "      <td>124000</td>\n",
       "      <td>United States</td>\n",
       "      <td>92105</td>\n",
       "      <td>Microsoft SQL Server</td>\n",
       "      <td>18</td>\n",
       "      <td>Oracle</td>\n",
       "      <td>Full time employee</td>\n",
       "      <td>DBA (General - splits time evenly between writ...</td>\n",
       "      <td>...</td>\n",
       "      <td>40</td>\n",
       "      <td>4</td>\n",
       "      <td>1M+ (metropolis)</td>\n",
       "      <td>Private business</td>\n",
       "      <td>Yes, actively looking for something else</td>\n",
       "      <td>Stay with the same role, but change employers</td>\n",
       "      <td>Male</td>\n",
       "      <td>DBA (Development Focus - tunes queries, indexe...</td>\n",
       "      <td>Manual tasks, Projects, R&amp;D</td>\n",
       "      <td>1</td>\n",
       "    </tr>\n",
       "  </tbody>\n",
       "</table>\n",
       "<p>5 rows × 29 columns</p>\n",
       "</div>"
      ],
      "text/plain": [
       "     Survey_Year                  Unnamed:_1 SalaryUSD        Country  \\\n",
       "6014        2019  2018-12-06 13:58:01.557000    128500  United States   \n",
       "6016        2019  2018-12-11 06:24:30.227000    110000  United States   \n",
       "6018        2019  2018-12-11 06:26:28.079000     65000  United States   \n",
       "6020        2019  2018-12-11 06:30:47.023000    116500  United States   \n",
       "6022        2019  2018-12-11 06:33:56.358000    124000  United States   \n",
       "\n",
       "     Unnamed:_4            Unnamed:_5 Unnamed:_6  \\\n",
       "6014        442  Microsoft SQL Server         15   \n",
       "6016      43016  Microsoft SQL Server         18   \n",
       "6018        NaN  Microsoft SQL Server          3   \n",
       "6020        605  Microsoft SQL Server         12   \n",
       "6022      92105  Microsoft SQL Server         18   \n",
       "\n",
       "                               Unnamed:_7  \\\n",
       "6014         Microsoft SQL Server, Oracle   \n",
       "6016                         Azure SQL DB   \n",
       "6018  Microsoft SQL Server, MySQL/MariaDB   \n",
       "6020    PostgreSQL, MongoDB, Azure SQL DB   \n",
       "6022                               Oracle   \n",
       "\n",
       "                                             Unnamed:_8  \\\n",
       "6014                                 Full time employee   \n",
       "6016                                 Full time employee   \n",
       "6018                                 Full time employee   \n",
       "6020  Full time employee of a consulting/contracting...   \n",
       "6022                                 Full time employee   \n",
       "\n",
       "                                               JobTitle  ... HoursperWeek  \\\n",
       "6014                                          Architect  ...           40   \n",
       "6016  DBA (Development Focus - tunes queries, indexe...  ...           44   \n",
       "6018                                   Developer: T-SQL  ...           45   \n",
       "6020                                          Architect  ...           30   \n",
       "6022  DBA (General - splits time evenly between writ...  ...           40   \n",
       "\n",
       "                            Unnamed:_20           Unnamed:_21  \\\n",
       "6014  None, or less than 1 day per week  300K-1M (large city)   \n",
       "6016  None, or less than 1 day per week      1M+ (metropolis)   \n",
       "6018  None, or less than 1 day per week      100K-299K (city)   \n",
       "6020                          5 or more      1M+ (metropolis)   \n",
       "6022                                  4      1M+ (metropolis)   \n",
       "\n",
       "           Unnamed:_22                               Unnamed:_23  \\\n",
       "6014  Private business                                        No   \n",
       "6016  Private business                                        No   \n",
       "6018  Private business                                        No   \n",
       "6020  Private business    Yes, but only passively (just curious)   \n",
       "6022  Private business  Yes, actively looking for something else   \n",
       "\n",
       "                                        Unnamed:_24 Gender  \\\n",
       "6014         Stay with the same employer, same role   Male   \n",
       "6016         Stay with the same employer, same role   Male   \n",
       "6018         Stay with the same employer, same role   Male   \n",
       "6020                              Prefer not to say   Male   \n",
       "6022  Stay with the same role, but change employers   Male   \n",
       "\n",
       "                                            Unnamed:_26  \\\n",
       "6014  DBA (Development Focus - tunes queries, indexe...   \n",
       "6016  DBA (Production Focus - build & troubleshoot s...   \n",
       "6018  DBA (Development Focus - tunes queries, indexe...   \n",
       "6020  DBA (General - splits time evenly between writ...   \n",
       "6022  DBA (Development Focus - tunes queries, indexe...   \n",
       "\n",
       "                                            Unnamed:_27 Unnamed:_28  \n",
       "6014      Manual tasks, Meetings & management, Projects           1  \n",
       "6016  Build scripts & automation tools, Manual tasks...           1  \n",
       "6018  Build scripts & automation tools, Manual tasks...           1  \n",
       "6020  Build scripts & automation tools, Manual tasks...           1  \n",
       "6022                        Manual tasks, Projects, R&D           1  \n",
       "\n",
       "[5 rows x 29 columns]"
      ]
     },
     "execution_count": 7,
     "metadata": {},
     "output_type": "execute_result"
    }
   ],
   "source": [
    "df = US.loc[US.Survey_Year == 2019]\n",
    "df.head()"
   ]
  },
  {
   "cell_type": "code",
   "execution_count": 8,
   "metadata": {},
   "outputs": [
    {
     "data": {
      "text/plain": [
       "DBA (General - splits time evenly between writing & tuning queries AND building & troubleshooting servers)    157\n",
       "DBA (Production Focus - build & troubleshoot servers, HA/DR)                                                   97\n",
       "Developer: T-SQL                                                                                               61\n",
       "Architect                                                                                                      50\n",
       "Analyst                                                                                                        49\n",
       "Developer: Business Intelligence (SSRS, PowerBI, etc)                                                          48\n",
       "DBA (Development Focus - tunes queries, indexes, does deployments)                                             40\n",
       "Manager                                                                                                        36\n",
       "Developer: App code (C#, JS, etc)                                                                              30\n",
       "Engineer                                                                                                       21\n",
       "Other                                                                                                           9\n",
       "Data Scientist                                                                                                  4\n",
       "Name: JobTitle, dtype: int64"
      ]
     },
     "execution_count": 8,
     "metadata": {},
     "output_type": "execute_result"
    }
   ],
   "source": [
    "df.JobTitle.value_counts()"
   ]
  },
  {
   "cell_type": "code",
   "execution_count": 9,
   "metadata": {},
   "outputs": [],
   "source": [
    "# look at years of experience\n",
    "# look at other variables \n",
    "# run a/b testing  or t-testing in these"
   ]
  },
  {
   "cell_type": "code",
   "execution_count": 10,
   "metadata": {},
   "outputs": [
    {
     "data": {
      "text/plain": [
       "80000     20\n",
       "105000    19\n",
       "125000    18\n",
       "110000    17\n",
       "120000    17\n",
       "          ..\n",
       "99100      1\n",
       "61000      1\n",
       "185000     1\n",
       "99600      1\n",
       "71400      1\n",
       "Name: SalaryUSD, Length: 201, dtype: int64"
      ]
     },
     "execution_count": 10,
     "metadata": {},
     "output_type": "execute_result"
    }
   ],
   "source": [
    "df.SalaryUSD.value_counts()"
   ]
  },
  {
   "cell_type": "code",
   "execution_count": 11,
   "metadata": {},
   "outputs": [
    {
     "data": {
      "text/plain": [
       "<AxesSubplot:xlabel='SalaryUSD', ylabel='Density'>"
      ]
     },
     "execution_count": 11,
     "metadata": {},
     "output_type": "execute_result"
    },
    {
     "data": {
      "image/png": "[encoded data removed]",
      "text/plain": [
       "<Figure size 432x288 with 1 Axes>"
      ]
     },
     "metadata": {},
     "output_type": "display_data"
    }
   ],
   "source": [
    "from scipy import stats\n",
    "df['SalaryUSD'] = df.SalaryUSD.apply(str_salary)\n",
    "df['SalaryUSD'] = df.SalaryUSD.astype(float)\n",
    "sns.distplot(df.SalaryUSD, fit = stats.norm)"
   ]
  },
  {
   "cell_type": "markdown",
   "metadata": {},
   "source": [
    "# Hours per week analysis"
   ]
  },
  {
   "cell_type": "code",
   "execution_count": null,
   "metadata": {},
   "outputs": [],
   "source": []
  },
  {
   "cell_type": "code",
   "execution_count": 12,
   "metadata": {},
   "outputs": [
    {
     "data": {
      "text/plain": [
       "<AxesSubplot:xlabel='HoursperWeek', ylabel='Density'>"
      ]
     },
     "execution_count": 12,
     "metadata": {},
     "output_type": "execute_result"
    },
    {
     "data": {
      "image/png": "[encoded data removed]",
      "text/plain": [
       "<Figure size 432x288 with 1 Axes>"
      ]
     },
     "metadata": {},
     "output_type": "display_data"
    }
   ],
   "source": [
    "df_non_female = df.loc[df.Gender != 'Female']\n",
    "df_non_female['HoursperWeek'] = df_non_female.HoursperWeek.astype(float)\n",
    "sns.distplot(df_non_female.HoursperWeek, fit = stats.norm)"
   ]
  },
  {
   "cell_type": "code",
   "execution_count": null,
   "metadata": {},
   "outputs": [],
   "source": []
  },
  {
   "cell_type": "code",
   "execution_count": 13,
   "metadata": {},
   "outputs": [
    {
     "data": {
      "text/plain": [
       "<AxesSubplot:xlabel='HoursperWeek', ylabel='Density'>"
      ]
     },
     "execution_count": 13,
     "metadata": {},
     "output_type": "execute_result"
    },
    {
     "data": {
      "image/png": "[encoded data removed]",
      "text/plain": [
       "<Figure size 432x288 with 1 Axes>"
      ]
     },
     "metadata": {},
     "output_type": "display_data"
    }
   ],
   "source": [
    "df_fem = df.loc[df.Gender == 'Female']\n",
    "df_fem['HoursperWeek'] = df_fem.HoursperWeek.astype(float)\n",
    "sns.distplot(df_fem.HoursperWeek, fit = stats.norm)"
   ]
  },
  {
   "cell_type": "code",
   "execution_count": 14,
   "metadata": {},
   "outputs": [
    {
     "data": {
      "text/plain": [
       "<AxesSubplot:xlabel='Gender', ylabel='HoursperWeek'>"
      ]
     },
     "execution_count": 14,
     "metadata": {},
     "output_type": "execute_result"
    },
    {
     "data": {
      "image/png": "[encoded data removed]",
      "text/plain": [
       "<Figure size 720x576 with 1 Axes>"
      ]
     },
     "metadata": {},
     "output_type": "display_data"
    }
   ],
   "source": [
    "fig = plt.figure(figsize = (10,8))\n",
    "sns.boxplot(x = 'Gender', y = 'HoursperWeek', data = df)"
   ]
  },
  {
   "cell_type": "code",
   "execution_count": null,
   "metadata": {},
   "outputs": [],
   "source": []
  },
  {
   "cell_type": "code",
   "execution_count": 15,
   "metadata": {},
   "outputs": [
    {
     "data": {
      "text/plain": [
       "count     602\n",
       "unique     25\n",
       "top        40\n",
       "freq      268\n",
       "Name: HoursperWeek, dtype: int64"
      ]
     },
     "execution_count": 15,
     "metadata": {},
     "output_type": "execute_result"
    }
   ],
   "source": [
    "#Analysis of the hours per week \n",
    "df.HoursperWeek.describe()"
   ]
  },
  {
   "cell_type": "code",
   "execution_count": null,
   "metadata": {},
   "outputs": [],
   "source": []
  },
  {
   "cell_type": "code",
   "execution_count": null,
   "metadata": {},
   "outputs": [],
   "source": []
  },
  {
   "cell_type": "code",
   "execution_count": null,
   "metadata": {},
   "outputs": [],
   "source": []
  },
  {
   "cell_type": "code",
   "execution_count": 16,
   "metadata": {},
   "outputs": [
    {
     "name": "stdout",
     "output_type": "stream",
     "text": [
      "Q3:45.0\n",
      "Q1:40.0\n",
      "Interquartile Range: 5.0\n"
     ]
    }
   ],
   "source": [
    "#Calculate the percentiles - 25 and 75 %\n",
    "q75, q25 = np.percentile(df.HoursperWeek , [75 ,25])\n",
    "print(f'Q3:{q75}')\n",
    "print(f'Q1:{q25}')\n",
    "# Calculate the percentile Range\n",
    "iqr = q75 - q25\n",
    "print(f'Interquartile Range: {iqr}')"
   ]
  },
  {
   "cell_type": "code",
   "execution_count": 17,
   "metadata": {},
   "outputs": [
    {
     "name": "stdout",
     "output_type": "stream",
     "text": [
      "Minimun hours (threshold) : 33.0\n",
      "Maximun hours (threshold) : 48.0\n"
     ]
    }
   ],
   "source": [
    "min_h = df.HoursperWeek.median() - 1.5*iqr\n",
    "max_h = df.HoursperWeek.median() + 1.5*iqr\n",
    "print(f'Minimun hours (threshold) : {min_h}')\n",
    "print(f'Maximun hours (threshold) : {max_h}')"
   ]
  },
  {
   "cell_type": "code",
   "execution_count": 18,
   "metadata": {},
   "outputs": [
    {
     "data": {
      "text/html": [
       "<div>\n",
       "<style scoped>\n",
       "    .dataframe tbody tr th:only-of-type {\n",
       "        vertical-align: middle;\n",
       "    }\n",
       "\n",
       "    .dataframe tbody tr th {\n",
       "        vertical-align: top;\n",
       "    }\n",
       "\n",
       "    .dataframe thead th {\n",
       "        text-align: right;\n",
       "    }\n",
       "</style>\n",
       "<table border=\"1\" class=\"dataframe\">\n",
       "  <thead>\n",
       "    <tr style=\"text-align: right;\">\n",
       "      <th></th>\n",
       "      <th>Survey_Year</th>\n",
       "      <th>Unnamed:_1</th>\n",
       "      <th>SalaryUSD</th>\n",
       "      <th>Country</th>\n",
       "      <th>Unnamed:_4</th>\n",
       "      <th>Unnamed:_5</th>\n",
       "      <th>Unnamed:_6</th>\n",
       "      <th>Unnamed:_7</th>\n",
       "      <th>Unnamed:_8</th>\n",
       "      <th>JobTitle</th>\n",
       "      <th>...</th>\n",
       "      <th>HoursperWeek</th>\n",
       "      <th>Unnamed:_20</th>\n",
       "      <th>Unnamed:_21</th>\n",
       "      <th>Unnamed:_22</th>\n",
       "      <th>Unnamed:_23</th>\n",
       "      <th>Unnamed:_24</th>\n",
       "      <th>Gender</th>\n",
       "      <th>Unnamed:_26</th>\n",
       "      <th>Unnamed:_27</th>\n",
       "      <th>Unnamed:_28</th>\n",
       "    </tr>\n",
       "  </thead>\n",
       "  <tbody>\n",
       "    <tr>\n",
       "      <th>6014</th>\n",
       "      <td>2019</td>\n",
       "      <td>2018-12-06 13:58:01.557000</td>\n",
       "      <td>128500.0</td>\n",
       "      <td>United States</td>\n",
       "      <td>442</td>\n",
       "      <td>Microsoft SQL Server</td>\n",
       "      <td>15</td>\n",
       "      <td>Microsoft SQL Server, Oracle</td>\n",
       "      <td>Full time employee</td>\n",
       "      <td>Architect</td>\n",
       "      <td>...</td>\n",
       "      <td>40</td>\n",
       "      <td>None, or less than 1 day per week</td>\n",
       "      <td>300K-1M (large city)</td>\n",
       "      <td>Private business</td>\n",
       "      <td>No</td>\n",
       "      <td>Stay with the same employer, same role</td>\n",
       "      <td>Male</td>\n",
       "      <td>DBA (Development Focus - tunes queries, indexe...</td>\n",
       "      <td>Manual tasks, Meetings &amp; management, Projects</td>\n",
       "      <td>1</td>\n",
       "    </tr>\n",
       "    <tr>\n",
       "      <th>6016</th>\n",
       "      <td>2019</td>\n",
       "      <td>2018-12-11 06:24:30.227000</td>\n",
       "      <td>110000.0</td>\n",
       "      <td>United States</td>\n",
       "      <td>43016</td>\n",
       "      <td>Microsoft SQL Server</td>\n",
       "      <td>18</td>\n",
       "      <td>Azure SQL DB</td>\n",
       "      <td>Full time employee</td>\n",
       "      <td>DBA (Development Focus - tunes queries, indexe...</td>\n",
       "      <td>...</td>\n",
       "      <td>44</td>\n",
       "      <td>None, or less than 1 day per week</td>\n",
       "      <td>1M+ (metropolis)</td>\n",
       "      <td>Private business</td>\n",
       "      <td>No</td>\n",
       "      <td>Stay with the same employer, same role</td>\n",
       "      <td>Male</td>\n",
       "      <td>DBA (Production Focus - build &amp; troubleshoot s...</td>\n",
       "      <td>Build scripts &amp; automation tools, Manual tasks...</td>\n",
       "      <td>1</td>\n",
       "    </tr>\n",
       "    <tr>\n",
       "      <th>6018</th>\n",
       "      <td>2019</td>\n",
       "      <td>2018-12-11 06:26:28.079000</td>\n",
       "      <td>65000.0</td>\n",
       "      <td>United States</td>\n",
       "      <td>NaN</td>\n",
       "      <td>Microsoft SQL Server</td>\n",
       "      <td>3</td>\n",
       "      <td>Microsoft SQL Server, MySQL/MariaDB</td>\n",
       "      <td>Full time employee</td>\n",
       "      <td>Developer: T-SQL</td>\n",
       "      <td>...</td>\n",
       "      <td>45</td>\n",
       "      <td>None, or less than 1 day per week</td>\n",
       "      <td>100K-299K (city)</td>\n",
       "      <td>Private business</td>\n",
       "      <td>No</td>\n",
       "      <td>Stay with the same employer, same role</td>\n",
       "      <td>Male</td>\n",
       "      <td>DBA (Development Focus - tunes queries, indexe...</td>\n",
       "      <td>Build scripts &amp; automation tools, Manual tasks...</td>\n",
       "      <td>1</td>\n",
       "    </tr>\n",
       "    <tr>\n",
       "      <th>6020</th>\n",
       "      <td>2019</td>\n",
       "      <td>2018-12-11 06:30:47.023000</td>\n",
       "      <td>116500.0</td>\n",
       "      <td>United States</td>\n",
       "      <td>605</td>\n",
       "      <td>Microsoft SQL Server</td>\n",
       "      <td>12</td>\n",
       "      <td>PostgreSQL, MongoDB, Azure SQL DB</td>\n",
       "      <td>Full time employee of a consulting/contracting...</td>\n",
       "      <td>Architect</td>\n",
       "      <td>...</td>\n",
       "      <td>NaN</td>\n",
       "      <td>5 or more</td>\n",
       "      <td>1M+ (metropolis)</td>\n",
       "      <td>Private business</td>\n",
       "      <td>Yes, but only passively (just curious)</td>\n",
       "      <td>Prefer not to say</td>\n",
       "      <td>Male</td>\n",
       "      <td>DBA (General - splits time evenly between writ...</td>\n",
       "      <td>Build scripts &amp; automation tools, Manual tasks...</td>\n",
       "      <td>1</td>\n",
       "    </tr>\n",
       "    <tr>\n",
       "      <th>6022</th>\n",
       "      <td>2019</td>\n",
       "      <td>2018-12-11 06:33:56.358000</td>\n",
       "      <td>124000.0</td>\n",
       "      <td>United States</td>\n",
       "      <td>92105</td>\n",
       "      <td>Microsoft SQL Server</td>\n",
       "      <td>18</td>\n",
       "      <td>Oracle</td>\n",
       "      <td>Full time employee</td>\n",
       "      <td>DBA (General - splits time evenly between writ...</td>\n",
       "      <td>...</td>\n",
       "      <td>40</td>\n",
       "      <td>4</td>\n",
       "      <td>1M+ (metropolis)</td>\n",
       "      <td>Private business</td>\n",
       "      <td>Yes, actively looking for something else</td>\n",
       "      <td>Stay with the same role, but change employers</td>\n",
       "      <td>Male</td>\n",
       "      <td>DBA (Development Focus - tunes queries, indexe...</td>\n",
       "      <td>Manual tasks, Projects, R&amp;D</td>\n",
       "      <td>1</td>\n",
       "    </tr>\n",
       "  </tbody>\n",
       "</table>\n",
       "<p>5 rows × 29 columns</p>\n",
       "</div>"
      ],
      "text/plain": [
       "     Survey_Year                  Unnamed:_1  SalaryUSD        Country  \\\n",
       "6014        2019  2018-12-06 13:58:01.557000   128500.0  United States   \n",
       "6016        2019  2018-12-11 06:24:30.227000   110000.0  United States   \n",
       "6018        2019  2018-12-11 06:26:28.079000    65000.0  United States   \n",
       "6020        2019  2018-12-11 06:30:47.023000   116500.0  United States   \n",
       "6022        2019  2018-12-11 06:33:56.358000   124000.0  United States   \n",
       "\n",
       "     Unnamed:_4            Unnamed:_5 Unnamed:_6  \\\n",
       "6014        442  Microsoft SQL Server         15   \n",
       "6016      43016  Microsoft SQL Server         18   \n",
       "6018        NaN  Microsoft SQL Server          3   \n",
       "6020        605  Microsoft SQL Server         12   \n",
       "6022      92105  Microsoft SQL Server         18   \n",
       "\n",
       "                               Unnamed:_7  \\\n",
       "6014         Microsoft SQL Server, Oracle   \n",
       "6016                         Azure SQL DB   \n",
       "6018  Microsoft SQL Server, MySQL/MariaDB   \n",
       "6020    PostgreSQL, MongoDB, Azure SQL DB   \n",
       "6022                               Oracle   \n",
       "\n",
       "                                             Unnamed:_8  \\\n",
       "6014                                 Full time employee   \n",
       "6016                                 Full time employee   \n",
       "6018                                 Full time employee   \n",
       "6020  Full time employee of a consulting/contracting...   \n",
       "6022                                 Full time employee   \n",
       "\n",
       "                                               JobTitle  ... HoursperWeek  \\\n",
       "6014                                          Architect  ...           40   \n",
       "6016  DBA (Development Focus - tunes queries, indexe...  ...           44   \n",
       "6018                                   Developer: T-SQL  ...           45   \n",
       "6020                                          Architect  ...          NaN   \n",
       "6022  DBA (General - splits time evenly between writ...  ...           40   \n",
       "\n",
       "                            Unnamed:_20           Unnamed:_21  \\\n",
       "6014  None, or less than 1 day per week  300K-1M (large city)   \n",
       "6016  None, or less than 1 day per week      1M+ (metropolis)   \n",
       "6018  None, or less than 1 day per week      100K-299K (city)   \n",
       "6020                          5 or more      1M+ (metropolis)   \n",
       "6022                                  4      1M+ (metropolis)   \n",
       "\n",
       "           Unnamed:_22                               Unnamed:_23  \\\n",
       "6014  Private business                                        No   \n",
       "6016  Private business                                        No   \n",
       "6018  Private business                                        No   \n",
       "6020  Private business    Yes, but only passively (just curious)   \n",
       "6022  Private business  Yes, actively looking for something else   \n",
       "\n",
       "                                        Unnamed:_24 Gender  \\\n",
       "6014         Stay with the same employer, same role   Male   \n",
       "6016         Stay with the same employer, same role   Male   \n",
       "6018         Stay with the same employer, same role   Male   \n",
       "6020                              Prefer not to say   Male   \n",
       "6022  Stay with the same role, but change employers   Male   \n",
       "\n",
       "                                            Unnamed:_26  \\\n",
       "6014  DBA (Development Focus - tunes queries, indexe...   \n",
       "6016  DBA (Production Focus - build & troubleshoot s...   \n",
       "6018  DBA (Development Focus - tunes queries, indexe...   \n",
       "6020  DBA (General - splits time evenly between writ...   \n",
       "6022  DBA (Development Focus - tunes queries, indexe...   \n",
       "\n",
       "                                            Unnamed:_27 Unnamed:_28  \n",
       "6014      Manual tasks, Meetings & management, Projects           1  \n",
       "6016  Build scripts & automation tools, Manual tasks...           1  \n",
       "6018  Build scripts & automation tools, Manual tasks...           1  \n",
       "6020  Build scripts & automation tools, Manual tasks...           1  \n",
       "6022                        Manual tasks, Projects, R&D           1  \n",
       "\n",
       "[5 rows x 29 columns]"
      ]
     },
     "execution_count": 18,
     "metadata": {},
     "output_type": "execute_result"
    }
   ],
   "source": [
    "#data set within the range\n",
    "df.HoursperWeek = df.HoursperWeek[(df.HoursperWeek>=min_h) & (df.HoursperWeek <= max_h)]\n",
    "df.head()"
   ]
  },
  {
   "cell_type": "code",
   "execution_count": 19,
   "metadata": {},
   "outputs": [
    {
     "data": {
      "text/plain": [
       "<AxesSubplot:xlabel='Gender', ylabel='HoursperWeek'>"
      ]
     },
     "execution_count": 19,
     "metadata": {},
     "output_type": "execute_result"
    },
    {
     "data": {
      "image/png": "[encoded data removed]",
      "text/plain": [
       "<Figure size 720x576 with 1 Axes>"
      ]
     },
     "metadata": {},
     "output_type": "display_data"
    }
   ],
   "source": [
    "fig = plt.figure(figsize = (10,8))\n",
    "sns.boxplot(x = 'Gender', y = 'HoursperWeek', data = df)"
   ]
  },
  {
   "cell_type": "code",
   "execution_count": 20,
   "metadata": {},
   "outputs": [
    {
     "data": {
      "text/plain": [
       "<AxesSubplot:xlabel='HoursperWeek', ylabel='Density'>"
      ]
     },
     "execution_count": 20,
     "metadata": {},
     "output_type": "execute_result"
    },
    {
     "data": {
      "image/png": "[encoded data removed]",
      "text/plain": [
       "<Figure size 432x288 with 1 Axes>"
      ]
     },
     "metadata": {},
     "output_type": "display_data"
    }
   ],
   "source": [
    "sns.distplot(df.HoursperWeek, fit = stats.norm)"
   ]
  },
  {
   "cell_type": "markdown",
   "metadata": {},
   "source": [
    "It seems that male workers tend to be working longer hours compared to female workers, and that could be a reason for higher salaries."
   ]
  },
  {
   "cell_type": "code",
   "execution_count": 21,
   "metadata": {},
   "outputs": [
    {
     "data": {
      "text/plain": [
       "<AxesSubplot:xlabel='HoursperWeek', ylabel='SalaryUSD'>"
      ]
     },
     "execution_count": 21,
     "metadata": {},
     "output_type": "execute_result"
    },
    {
     "data": {
      "image/png": "[encoded data removed]",
      "text/plain": [
       "<Figure size 432x288 with 1 Axes>"
      ]
     },
     "metadata": {},
     "output_type": "display_data"
    }
   ],
   "source": [
    "# hours per week vs salary for all genders\n",
    "df['SalaryUSD'] = df.SalaryUSD.apply(str_salary)\n",
    "df['SalaryUSD'] = df.SalaryUSD.astype(float)\n",
    "sns.scatterplot(data = df, x=\"HoursperWeek\", y=\"SalaryUSD\")"
   ]
  },
  {
   "cell_type": "code",
   "execution_count": 22,
   "metadata": {},
   "outputs": [
    {
     "data": {
      "text/plain": [
       "<AxesSubplot:xlabel='HoursperWeek', ylabel='SalaryUSD'>"
      ]
     },
     "execution_count": 22,
     "metadata": {},
     "output_type": "execute_result"
    },
    {
     "data": {
      "image/png": "[encoded data removed]",
      "text/plain": [
       "<Figure size 432x288 with 1 Axes>"
      ]
     },
     "metadata": {},
     "output_type": "display_data"
    }
   ],
   "source": [
    "# hours per week vs salary for female workers\n",
    "df_fem = df[df.Gender == \"Female\"]\n",
    "sns.scatterplot(data = df_fem, x=\"HoursperWeek\", y=\"SalaryUSD\")"
   ]
  },
  {
   "cell_type": "code",
   "execution_count": 23,
   "metadata": {},
   "outputs": [
    {
     "data": {
      "text/plain": [
       "<AxesSubplot:xlabel='HoursperWeek', ylabel='SalaryUSD'>"
      ]
     },
     "execution_count": 23,
     "metadata": {},
     "output_type": "execute_result"
    },
    {
     "data": {
      "image/png": "[encoded data removed]",
      "text/plain": [
       "<Figure size 432x288 with 1 Axes>"
      ]
     },
     "metadata": {},
     "output_type": "display_data"
    }
   ],
   "source": [
    "# hours per week vs salary for male workers\n",
    "df_m = df[df.Gender == \"Male\"]\n",
    "sns.scatterplot(data = df_m, x=\"HoursperWeek\", y=\"SalaryUSD\")"
   ]
  },
  {
   "cell_type": "code",
   "execution_count": 24,
   "metadata": {},
   "outputs": [
    {
     "data": {
      "text/html": [
       "<div>\n",
       "<style scoped>\n",
       "    .dataframe tbody tr th:only-of-type {\n",
       "        vertical-align: middle;\n",
       "    }\n",
       "\n",
       "    .dataframe tbody tr th {\n",
       "        vertical-align: top;\n",
       "    }\n",
       "\n",
       "    .dataframe thead th {\n",
       "        text-align: right;\n",
       "    }\n",
       "</style>\n",
       "<table border=\"1\" class=\"dataframe\">\n",
       "  <thead>\n",
       "    <tr style=\"text-align: right;\">\n",
       "      <th></th>\n",
       "      <th>HoursperWeek</th>\n",
       "    </tr>\n",
       "  </thead>\n",
       "  <tbody>\n",
       "    <tr>\n",
       "      <th>count</th>\n",
       "      <td>49</td>\n",
       "    </tr>\n",
       "    <tr>\n",
       "      <th>unique</th>\n",
       "      <td>7</td>\n",
       "    </tr>\n",
       "    <tr>\n",
       "      <th>top</th>\n",
       "      <td>40</td>\n",
       "    </tr>\n",
       "    <tr>\n",
       "      <th>freq</th>\n",
       "      <td>30</td>\n",
       "    </tr>\n",
       "  </tbody>\n",
       "</table>\n",
       "</div>"
      ],
      "text/plain": [
       "        HoursperWeek\n",
       "count             49\n",
       "unique             7\n",
       "top               40\n",
       "freq              30"
      ]
     },
     "execution_count": 24,
     "metadata": {},
     "output_type": "execute_result"
    }
   ],
   "source": [
    "#additional analysis for these\n",
    "round(df_fem.HoursperWeek.describe().to_frame(),3)"
   ]
  },
  {
   "cell_type": "code",
   "execution_count": 25,
   "metadata": {},
   "outputs": [
    {
     "data": {
      "text/html": [
       "<div>\n",
       "<style scoped>\n",
       "    .dataframe tbody tr th:only-of-type {\n",
       "        vertical-align: middle;\n",
       "    }\n",
       "\n",
       "    .dataframe tbody tr th {\n",
       "        vertical-align: top;\n",
       "    }\n",
       "\n",
       "    .dataframe thead th {\n",
       "        text-align: right;\n",
       "    }\n",
       "</style>\n",
       "<table border=\"1\" class=\"dataframe\">\n",
       "  <thead>\n",
       "    <tr style=\"text-align: right;\">\n",
       "      <th></th>\n",
       "      <th>HoursperWeek</th>\n",
       "    </tr>\n",
       "  </thead>\n",
       "  <tbody>\n",
       "    <tr>\n",
       "      <th>count</th>\n",
       "      <td>420</td>\n",
       "    </tr>\n",
       "    <tr>\n",
       "      <th>unique</th>\n",
       "      <td>12</td>\n",
       "    </tr>\n",
       "    <tr>\n",
       "      <th>top</th>\n",
       "      <td>40</td>\n",
       "    </tr>\n",
       "    <tr>\n",
       "      <th>freq</th>\n",
       "      <td>238</td>\n",
       "    </tr>\n",
       "  </tbody>\n",
       "</table>\n",
       "</div>"
      ],
      "text/plain": [
       "        HoursperWeek\n",
       "count            420\n",
       "unique            12\n",
       "top               40\n",
       "freq             238"
      ]
     },
     "execution_count": 25,
     "metadata": {},
     "output_type": "execute_result"
    }
   ],
   "source": [
    "round(df_m.HoursperWeek.describe().to_frame(),3)"
   ]
  },
  {
   "cell_type": "markdown",
   "metadata": {},
   "source": [
    "### Linear Regression models"
   ]
  },
  {
   "cell_type": "code",
   "execution_count": 26,
   "metadata": {},
   "outputs": [
    {
     "name": "stdout",
     "output_type": "stream",
     "text": [
      "0.08742283230596354 0.38733200524227995\n"
     ]
    }
   ],
   "source": [
    "import numpy as np\n",
    "male = df_m['HoursperWeek'].astype(float).corr(df_m['SalaryUSD']).astype(float)\n",
    "female = df_fem['HoursperWeek'].astype(float).corr(df_fem['SalaryUSD']).astype(float)\n",
    "print(male, female)"
   ]
  },
  {
   "cell_type": "markdown",
   "metadata": {},
   "source": [
    "### T-testing"
   ]
  },
  {
   "cell_type": "markdown",
   "metadata": {},
   "source": [
    "### A/B Testing"
   ]
  },
  {
   "cell_type": "markdown",
   "metadata": {},
   "source": [
    "Interestingly, at first sight it seems like there isn't a linear relation between hours per week and salary for both genders."
   ]
  },
  {
   "cell_type": "code",
   "execution_count": null,
   "metadata": {},
   "outputs": [],
   "source": []
  },
  {
   "cell_type": "code",
   "execution_count": null,
   "metadata": {},
   "outputs": [],
   "source": []
  },
  {
   "cell_type": "code",
   "execution_count": null,
   "metadata": {},
   "outputs": [],
   "source": []
  },
  {
   "cell_type": "code",
   "execution_count": null,
   "metadata": {},
   "outputs": [],
   "source": []
  },
  {
   "cell_type": "markdown",
   "metadata": {},
   "source": [
    "# Years of Experience Analysis"
   ]
  },
  {
   "cell_type": "code",
   "execution_count": 27,
   "metadata": {},
   "outputs": [
    {
     "data": {
      "text/plain": [
       "<AxesSubplot:xlabel='Gender', ylabel='YearExp'>"
      ]
     },
     "execution_count": 27,
     "metadata": {},
     "output_type": "execute_result"
    },
    {
     "data": {
      "image/png": "[encoded data removed]",
      "text/plain": [
       "<Figure size 720x576 with 1 Axes>"
      ]
     },
     "metadata": {},
     "output_type": "display_data"
    }
   ],
   "source": [
    "# years of experience vs salaries analysis\n",
    "fig = plt.figure(figsize = (10,8))\n",
    "df['YearExp'] = df.YearExp.apply(str_salary)\n",
    "df['YearExp'] = df.YearExp.astype(float)\n",
    "sns.boxplot(x = 'Gender', y = 'YearExp', data = df)"
   ]
  },
  {
   "cell_type": "code",
   "execution_count": 28,
   "metadata": {},
   "outputs": [
    {
     "data": {
      "text/plain": [
       "<AxesSubplot:xlabel='YearExp', ylabel='SalaryUSD'>"
      ]
     },
     "execution_count": 28,
     "metadata": {},
     "output_type": "execute_result"
    },
    {
     "data": {
      "image/png": "[encoded data removed]",
      "text/plain": [
       "<Figure size 432x288 with 1 Axes>"
      ]
     },
     "metadata": {},
     "output_type": "display_data"
    }
   ],
   "source": [
    "df_m = df[df.Gender == \"Male\"]\n",
    "sns.scatterplot(data = df_m, x=\"YearExp\", y=\"SalaryUSD\")"
   ]
  },
  {
   "cell_type": "code",
   "execution_count": 29,
   "metadata": {},
   "outputs": [
    {
     "data": {
      "text/plain": [
       "<AxesSubplot:xlabel='YearExp', ylabel='SalaryUSD'>"
      ]
     },
     "execution_count": 29,
     "metadata": {},
     "output_type": "execute_result"
    },
    {
     "data": {
      "image/png": "[encoded data removed]",
      "text/plain": [
       "<Figure size 432x288 with 1 Axes>"
      ]
     },
     "metadata": {},
     "output_type": "display_data"
    }
   ],
   "source": [
    "df_m = df[df.Gender == \"Female\"]\n",
    "sns.scatterplot(data = df_m, x=\"YearExp\", y=\"SalaryUSD\")"
   ]
  },
  {
   "cell_type": "code",
   "execution_count": 30,
   "metadata": {},
   "outputs": [],
   "source": [
    "#Salary Analysis"
   ]
  },
  {
   "cell_type": "code",
   "execution_count": 31,
   "metadata": {},
   "outputs": [
    {
     "data": {
      "text/plain": [
       "<AxesSubplot:xlabel='Gender', ylabel='SalaryUSD'>"
      ]
     },
     "execution_count": 31,
     "metadata": {},
     "output_type": "execute_result"
    },
    {
     "data": {
      "image/png": "[encoded data removed]",
      "text/plain": [
       "<Figure size 720x576 with 1 Axes>"
      ]
     },
     "metadata": {},
     "output_type": "display_data"
    }
   ],
   "source": [
    "fig = plt.figure(figsize = (10,8))\n",
    "sns.boxplot(x = 'Gender', y = 'SalaryUSD', data = df)"
   ]
  },
  {
   "cell_type": "markdown",
   "metadata": {},
   "source": [
    "### Linear Regression Models"
   ]
  },
  {
   "cell_type": "code",
   "execution_count": 32,
   "metadata": {},
   "outputs": [
    {
     "name": "stdout",
     "output_type": "stream",
     "text": [
      "0.08742283230596354 0.38733200524227995\n"
     ]
    }
   ],
   "source": [
    "male_years = df_m['YearExp'].astype(float).corr(df_m['SalaryUSD']).astype(float)\n",
    "female_years = df_fem['YearExp'].astype(float).corr(df_fem['SalaryUSD']).astype(float)\n",
    "print(male, female)"
   ]
  },
  {
   "cell_type": "markdown",
   "metadata": {},
   "source": [
    "### T-Testing"
   ]
  },
  {
   "cell_type": "markdown",
   "metadata": {},
   "source": [
    "### A/B Testing"
   ]
  },
  {
   "cell_type": "code",
   "execution_count": null,
   "metadata": {},
   "outputs": [],
   "source": []
  },
  {
   "cell_type": "code",
   "execution_count": null,
   "metadata": {},
   "outputs": [],
   "source": []
  },
  {
   "cell_type": "code",
   "execution_count": null,
   "metadata": {},
   "outputs": [],
   "source": []
  },
  {
   "cell_type": "markdown",
   "metadata": {},
   "source": [
    "## Outlier Analysis"
   ]
  },
  {
   "cell_type": "markdown",
   "metadata": {},
   "source": [
    "Now, let's analyse outliers in terms of salary, work hours and years of experience to see what we can learn from them. First, let's look at the number of these outliers."
   ]
  },
  {
   "cell_type": "code",
   "execution_count": 33,
   "metadata": {},
   "outputs": [
    {
     "data": {
      "text/html": [
       "<div>\n",
       "<style scoped>\n",
       "    .dataframe tbody tr th:only-of-type {\n",
       "        vertical-align: middle;\n",
       "    }\n",
       "\n",
       "    .dataframe tbody tr th {\n",
       "        vertical-align: top;\n",
       "    }\n",
       "\n",
       "    .dataframe thead th {\n",
       "        text-align: right;\n",
       "    }\n",
       "</style>\n",
       "<table border=\"1\" class=\"dataframe\">\n",
       "  <thead>\n",
       "    <tr style=\"text-align: right;\">\n",
       "      <th></th>\n",
       "      <th>Survey_Year</th>\n",
       "      <th>Unnamed:_1</th>\n",
       "      <th>SalaryUSD</th>\n",
       "      <th>Country</th>\n",
       "      <th>Unnamed:_4</th>\n",
       "      <th>Unnamed:_5</th>\n",
       "      <th>Unnamed:_6</th>\n",
       "      <th>Unnamed:_7</th>\n",
       "      <th>Unnamed:_8</th>\n",
       "      <th>JobTitle</th>\n",
       "      <th>...</th>\n",
       "      <th>HoursperWeek</th>\n",
       "      <th>Unnamed:_20</th>\n",
       "      <th>Unnamed:_21</th>\n",
       "      <th>Unnamed:_22</th>\n",
       "      <th>Unnamed:_23</th>\n",
       "      <th>Unnamed:_24</th>\n",
       "      <th>Gender</th>\n",
       "      <th>Unnamed:_26</th>\n",
       "      <th>Unnamed:_27</th>\n",
       "      <th>Unnamed:_28</th>\n",
       "    </tr>\n",
       "  </thead>\n",
       "  <tbody>\n",
       "    <tr>\n",
       "      <th>15</th>\n",
       "      <td>2017</td>\n",
       "      <td>2017-01-05 07:22:44.428000</td>\n",
       "      <td>137500</td>\n",
       "      <td>United States</td>\n",
       "      <td>Not Asked</td>\n",
       "      <td>Microsoft SQL Server</td>\n",
       "      <td>16</td>\n",
       "      <td>Azure SQL DB, Amazon RDS (any flavor)</td>\n",
       "      <td>Full time employee of a consulting/contracting...</td>\n",
       "      <td>DBA</td>\n",
       "      <td>...</td>\n",
       "      <td>55</td>\n",
       "      <td>5 or more</td>\n",
       "      <td>Not Asked</td>\n",
       "      <td>Private business</td>\n",
       "      <td>No</td>\n",
       "      <td>Not Asked</td>\n",
       "      <td>Not Asked</td>\n",
       "      <td>Not Asked</td>\n",
       "      <td>Not Asked</td>\n",
       "      <td>1</td>\n",
       "    </tr>\n",
       "    <tr>\n",
       "      <th>17</th>\n",
       "      <td>2017</td>\n",
       "      <td>2017-01-05 07:35:03.887000</td>\n",
       "      <td>85000</td>\n",
       "      <td>United States</td>\n",
       "      <td>Not Asked</td>\n",
       "      <td>Microsoft SQL Server</td>\n",
       "      <td>8</td>\n",
       "      <td>MySQL/MariaDB, PostgreSQL, Microsoft Access</td>\n",
       "      <td>Full time employee</td>\n",
       "      <td>DBA</td>\n",
       "      <td>...</td>\n",
       "      <td>50</td>\n",
       "      <td>None, or less than 1 day per week</td>\n",
       "      <td>Not Asked</td>\n",
       "      <td>Private business</td>\n",
       "      <td>Yes, but only passively (just curious)</td>\n",
       "      <td>Not Asked</td>\n",
       "      <td>Not Asked</td>\n",
       "      <td>Not Asked</td>\n",
       "      <td>Not Asked</td>\n",
       "      <td>1</td>\n",
       "    </tr>\n",
       "    <tr>\n",
       "      <th>20</th>\n",
       "      <td>2017</td>\n",
       "      <td>2017-01-05 07:36:55.861000</td>\n",
       "      <td>66000</td>\n",
       "      <td>United States</td>\n",
       "      <td>Not Asked</td>\n",
       "      <td>Microsoft SQL Server</td>\n",
       "      <td>10</td>\n",
       "      <td>Microsoft SQL Server, PostgreSQL, MongoDB, Mic...</td>\n",
       "      <td>Full time employee</td>\n",
       "      <td>Developer: App code (C#, JS, etc)</td>\n",
       "      <td>...</td>\n",
       "      <td>60</td>\n",
       "      <td>5 or more</td>\n",
       "      <td>Not Asked</td>\n",
       "      <td>Private business</td>\n",
       "      <td>Yes, but only passively (just curious)</td>\n",
       "      <td>Not Asked</td>\n",
       "      <td>Not Asked</td>\n",
       "      <td>Not Asked</td>\n",
       "      <td>Not Asked</td>\n",
       "      <td>1</td>\n",
       "    </tr>\n",
       "    <tr>\n",
       "      <th>21</th>\n",
       "      <td>2017</td>\n",
       "      <td>2017-01-05 07:37:20.956000</td>\n",
       "      <td>101750</td>\n",
       "      <td>United States</td>\n",
       "      <td>Not Asked</td>\n",
       "      <td>Microsoft SQL Server</td>\n",
       "      <td>13</td>\n",
       "      <td>Oracle</td>\n",
       "      <td>Full time employee</td>\n",
       "      <td>DBA</td>\n",
       "      <td>...</td>\n",
       "      <td>60</td>\n",
       "      <td>2</td>\n",
       "      <td>Not Asked</td>\n",
       "      <td>Private business</td>\n",
       "      <td>No</td>\n",
       "      <td>Not Asked</td>\n",
       "      <td>Not Asked</td>\n",
       "      <td>Not Asked</td>\n",
       "      <td>Not Asked</td>\n",
       "      <td>1</td>\n",
       "    </tr>\n",
       "    <tr>\n",
       "      <th>24</th>\n",
       "      <td>2017</td>\n",
       "      <td>2017-01-05 07:38:02.941000</td>\n",
       "      <td>78000</td>\n",
       "      <td>United States</td>\n",
       "      <td>Not Asked</td>\n",
       "      <td>Azure SQL DB</td>\n",
       "      <td>5</td>\n",
       "      <td>Microsoft SQL Server, MongoDB, Microsoft Access</td>\n",
       "      <td>Full time employee</td>\n",
       "      <td>DBA</td>\n",
       "      <td>...</td>\n",
       "      <td>60</td>\n",
       "      <td>None, or less than 1 day per week</td>\n",
       "      <td>Not Asked</td>\n",
       "      <td>Private business</td>\n",
       "      <td>Yes, but only passively (just curious)</td>\n",
       "      <td>Not Asked</td>\n",
       "      <td>Not Asked</td>\n",
       "      <td>Not Asked</td>\n",
       "      <td>Not Asked</td>\n",
       "      <td>1</td>\n",
       "    </tr>\n",
       "  </tbody>\n",
       "</table>\n",
       "<p>5 rows × 29 columns</p>\n",
       "</div>"
      ],
      "text/plain": [
       "   Survey_Year                  Unnamed:_1 SalaryUSD        Country  \\\n",
       "15        2017  2017-01-05 07:22:44.428000    137500  United States   \n",
       "17        2017  2017-01-05 07:35:03.887000     85000  United States   \n",
       "20        2017  2017-01-05 07:36:55.861000     66000  United States   \n",
       "21        2017  2017-01-05 07:37:20.956000    101750  United States   \n",
       "24        2017  2017-01-05 07:38:02.941000     78000  United States   \n",
       "\n",
       "   Unnamed:_4            Unnamed:_5 Unnamed:_6  \\\n",
       "15  Not Asked  Microsoft SQL Server         16   \n",
       "17  Not Asked  Microsoft SQL Server          8   \n",
       "20  Not Asked  Microsoft SQL Server         10   \n",
       "21  Not Asked  Microsoft SQL Server         13   \n",
       "24  Not Asked          Azure SQL DB          5   \n",
       "\n",
       "                                           Unnamed:_7  \\\n",
       "15              Azure SQL DB, Amazon RDS (any flavor)   \n",
       "17        MySQL/MariaDB, PostgreSQL, Microsoft Access   \n",
       "20  Microsoft SQL Server, PostgreSQL, MongoDB, Mic...   \n",
       "21                                             Oracle   \n",
       "24    Microsoft SQL Server, MongoDB, Microsoft Access   \n",
       "\n",
       "                                           Unnamed:_8  \\\n",
       "15  Full time employee of a consulting/contracting...   \n",
       "17                                 Full time employee   \n",
       "20                                 Full time employee   \n",
       "21                                 Full time employee   \n",
       "24                                 Full time employee   \n",
       "\n",
       "                             JobTitle  ... HoursperWeek  \\\n",
       "15                                DBA  ...           55   \n",
       "17                                DBA  ...           50   \n",
       "20  Developer: App code (C#, JS, etc)  ...           60   \n",
       "21                                DBA  ...           60   \n",
       "24                                DBA  ...           60   \n",
       "\n",
       "                          Unnamed:_20 Unnamed:_21       Unnamed:_22  \\\n",
       "15                          5 or more   Not Asked  Private business   \n",
       "17  None, or less than 1 day per week   Not Asked  Private business   \n",
       "20                          5 or more   Not Asked  Private business   \n",
       "21                                  2   Not Asked  Private business   \n",
       "24  None, or less than 1 day per week   Not Asked  Private business   \n",
       "\n",
       "                               Unnamed:_23 Unnamed:_24     Gender Unnamed:_26  \\\n",
       "15                                      No   Not Asked  Not Asked   Not Asked   \n",
       "17  Yes, but only passively (just curious)   Not Asked  Not Asked   Not Asked   \n",
       "20  Yes, but only passively (just curious)   Not Asked  Not Asked   Not Asked   \n",
       "21                                      No   Not Asked  Not Asked   Not Asked   \n",
       "24  Yes, but only passively (just curious)   Not Asked  Not Asked   Not Asked   \n",
       "\n",
       "   Unnamed:_27 Unnamed:_28  \n",
       "15   Not Asked           1  \n",
       "17   Not Asked           1  \n",
       "20   Not Asked           1  \n",
       "21   Not Asked           1  \n",
       "24   Not Asked           1  \n",
       "\n",
       "[5 rows x 29 columns]"
      ]
     },
     "execution_count": 33,
     "metadata": {},
     "output_type": "execute_result"
    }
   ],
   "source": [
    "df_outlier = US[(US.HoursperWeek >= max_h)]\n",
    "df_outlier.head()"
   ]
  },
  {
   "cell_type": "code",
   "execution_count": 34,
   "metadata": {},
   "outputs": [
    {
     "name": "stdout",
     "output_type": "stream",
     "text": [
      "Q3:122000.0\n",
      "Q1:85000.0\n",
      "Interquartile Range: 37000.0\n",
      "Minimum salary (threshold) : 46500.0\n",
      "Maximum salary (threshold) : 157500.0\n"
     ]
    }
   ],
   "source": [
    "US['SalaryUSD'] = US.SalaryUSD.apply(str_salary)\n",
    "US['SalaryUSD'] = US.SalaryUSD.astype(float)\n",
    "q75, q25 = np.percentile(US.SalaryUSD , [75 ,25])\n",
    "print(f'Q3:{q75}')\n",
    "print(f'Q1:{q25}')\n",
    "# Calculate the percentile Range\n",
    "iqr = q75 - q25\n",
    "print(f'Interquartile Range: {iqr}')\n",
    "min_salary = US.SalaryUSD.median() - 1.5*iqr\n",
    "max_salary = US.SalaryUSD.median() + 1.5*iqr\n",
    "print(f'Minimum salary (threshold) : {min_salary}')\n",
    "print(f'Maximum salary (threshold) : {max_salary}')"
   ]
  },
  {
   "cell_type": "code",
   "execution_count": 35,
   "metadata": {},
   "outputs": [
    {
     "data": {
      "text/html": [
       "<div>\n",
       "<style scoped>\n",
       "    .dataframe tbody tr th:only-of-type {\n",
       "        vertical-align: middle;\n",
       "    }\n",
       "\n",
       "    .dataframe tbody tr th {\n",
       "        vertical-align: top;\n",
       "    }\n",
       "\n",
       "    .dataframe thead th {\n",
       "        text-align: right;\n",
       "    }\n",
       "</style>\n",
       "<table border=\"1\" class=\"dataframe\">\n",
       "  <thead>\n",
       "    <tr style=\"text-align: right;\">\n",
       "      <th></th>\n",
       "      <th>Survey_Year</th>\n",
       "      <th>Unnamed:_1</th>\n",
       "      <th>SalaryUSD</th>\n",
       "      <th>Country</th>\n",
       "      <th>Unnamed:_4</th>\n",
       "      <th>Unnamed:_5</th>\n",
       "      <th>Unnamed:_6</th>\n",
       "      <th>Unnamed:_7</th>\n",
       "      <th>Unnamed:_8</th>\n",
       "      <th>JobTitle</th>\n",
       "      <th>...</th>\n",
       "      <th>HoursperWeek</th>\n",
       "      <th>Unnamed:_20</th>\n",
       "      <th>Unnamed:_21</th>\n",
       "      <th>Unnamed:_22</th>\n",
       "      <th>Unnamed:_23</th>\n",
       "      <th>Unnamed:_24</th>\n",
       "      <th>Gender</th>\n",
       "      <th>Unnamed:_26</th>\n",
       "      <th>Unnamed:_27</th>\n",
       "      <th>Unnamed:_28</th>\n",
       "    </tr>\n",
       "  </thead>\n",
       "  <tbody>\n",
       "    <tr>\n",
       "      <th>3</th>\n",
       "      <td>2017</td>\n",
       "      <td>2017-01-05 05:10:20.451000</td>\n",
       "      <td>200000.0</td>\n",
       "      <td>United States</td>\n",
       "      <td>Not Asked</td>\n",
       "      <td>Microsoft SQL Server</td>\n",
       "      <td>10</td>\n",
       "      <td>MySQL/MariaDB</td>\n",
       "      <td>Full time employee</td>\n",
       "      <td>DBA</td>\n",
       "      <td>...</td>\n",
       "      <td>45</td>\n",
       "      <td>1</td>\n",
       "      <td>Not Asked</td>\n",
       "      <td>Private business</td>\n",
       "      <td>Yes, but only passively (just curious)</td>\n",
       "      <td>Not Asked</td>\n",
       "      <td>Not Asked</td>\n",
       "      <td>Not Asked</td>\n",
       "      <td>Not Asked</td>\n",
       "      <td>1</td>\n",
       "    </tr>\n",
       "    <tr>\n",
       "      <th>41</th>\n",
       "      <td>2017</td>\n",
       "      <td>2017-01-05 07:51:56.547000</td>\n",
       "      <td>165000.0</td>\n",
       "      <td>United States</td>\n",
       "      <td>Not Asked</td>\n",
       "      <td>Microsoft SQL Server</td>\n",
       "      <td>18</td>\n",
       "      <td>MySQL/MariaDB, MongoDB, Cassandra, Azure SQL D...</td>\n",
       "      <td>Independent or freelancer or company owner</td>\n",
       "      <td>DBA</td>\n",
       "      <td>...</td>\n",
       "      <td>40</td>\n",
       "      <td>5 or more</td>\n",
       "      <td>Not Asked</td>\n",
       "      <td>Private business</td>\n",
       "      <td>Yes, but only passively (just curious)</td>\n",
       "      <td>Not Asked</td>\n",
       "      <td>Not Asked</td>\n",
       "      <td>Not Asked</td>\n",
       "      <td>Not Asked</td>\n",
       "      <td>1</td>\n",
       "    </tr>\n",
       "    <tr>\n",
       "      <th>42</th>\n",
       "      <td>2017</td>\n",
       "      <td>2017-01-05 07:51:58.846000</td>\n",
       "      <td>200000.0</td>\n",
       "      <td>United States</td>\n",
       "      <td>Not Asked</td>\n",
       "      <td>Microsoft SQL Server</td>\n",
       "      <td>10</td>\n",
       "      <td>MySQL/MariaDB, PostgreSQL, MongoDB, Cassandra,...</td>\n",
       "      <td>Full time employee</td>\n",
       "      <td>DBA</td>\n",
       "      <td>...</td>\n",
       "      <td>65</td>\n",
       "      <td>None, or less than 1 day per week</td>\n",
       "      <td>Not Asked</td>\n",
       "      <td>Private business</td>\n",
       "      <td>No</td>\n",
       "      <td>Not Asked</td>\n",
       "      <td>Not Asked</td>\n",
       "      <td>Not Asked</td>\n",
       "      <td>Not Asked</td>\n",
       "      <td>1</td>\n",
       "    </tr>\n",
       "    <tr>\n",
       "      <th>61</th>\n",
       "      <td>2017</td>\n",
       "      <td>2017-01-05 08:03:46.019000</td>\n",
       "      <td>175000.0</td>\n",
       "      <td>United States</td>\n",
       "      <td>Not Asked</td>\n",
       "      <td>Microsoft SQL Server</td>\n",
       "      <td>15</td>\n",
       "      <td>Microsoft SQL Server, Azure SQL DB</td>\n",
       "      <td>Full time employee</td>\n",
       "      <td>Developer: App code (C#, JS, etc)</td>\n",
       "      <td>...</td>\n",
       "      <td>35</td>\n",
       "      <td>4</td>\n",
       "      <td>Not Asked</td>\n",
       "      <td>Private business</td>\n",
       "      <td>No</td>\n",
       "      <td>Not Asked</td>\n",
       "      <td>Not Asked</td>\n",
       "      <td>Not Asked</td>\n",
       "      <td>Not Asked</td>\n",
       "      <td>1</td>\n",
       "    </tr>\n",
       "    <tr>\n",
       "      <th>94</th>\n",
       "      <td>2017</td>\n",
       "      <td>2017-01-05 08:28:15.224000</td>\n",
       "      <td>200000.0</td>\n",
       "      <td>United States</td>\n",
       "      <td>Not Asked</td>\n",
       "      <td>Microsoft SQL Server</td>\n",
       "      <td>17</td>\n",
       "      <td>NaN</td>\n",
       "      <td>Full time employee</td>\n",
       "      <td>DBA</td>\n",
       "      <td>...</td>\n",
       "      <td>60</td>\n",
       "      <td>1</td>\n",
       "      <td>Not Asked</td>\n",
       "      <td>Private business</td>\n",
       "      <td>No</td>\n",
       "      <td>Not Asked</td>\n",
       "      <td>Not Asked</td>\n",
       "      <td>Not Asked</td>\n",
       "      <td>Not Asked</td>\n",
       "      <td>1</td>\n",
       "    </tr>\n",
       "  </tbody>\n",
       "</table>\n",
       "<p>5 rows × 29 columns</p>\n",
       "</div>"
      ],
      "text/plain": [
       "   Survey_Year                  Unnamed:_1  SalaryUSD        Country  \\\n",
       "3         2017  2017-01-05 05:10:20.451000   200000.0  United States   \n",
       "41        2017  2017-01-05 07:51:56.547000   165000.0  United States   \n",
       "42        2017  2017-01-05 07:51:58.846000   200000.0  United States   \n",
       "61        2017  2017-01-05 08:03:46.019000   175000.0  United States   \n",
       "94        2017  2017-01-05 08:28:15.224000   200000.0  United States   \n",
       "\n",
       "   Unnamed:_4            Unnamed:_5 Unnamed:_6  \\\n",
       "3   Not Asked  Microsoft SQL Server         10   \n",
       "41  Not Asked  Microsoft SQL Server         18   \n",
       "42  Not Asked  Microsoft SQL Server         10   \n",
       "61  Not Asked  Microsoft SQL Server         15   \n",
       "94  Not Asked  Microsoft SQL Server         17   \n",
       "\n",
       "                                           Unnamed:_7  \\\n",
       "3                                       MySQL/MariaDB   \n",
       "41  MySQL/MariaDB, MongoDB, Cassandra, Azure SQL D...   \n",
       "42  MySQL/MariaDB, PostgreSQL, MongoDB, Cassandra,...   \n",
       "61                 Microsoft SQL Server, Azure SQL DB   \n",
       "94                                                NaN   \n",
       "\n",
       "                                    Unnamed:_8  \\\n",
       "3                           Full time employee   \n",
       "41  Independent or freelancer or company owner   \n",
       "42                          Full time employee   \n",
       "61                          Full time employee   \n",
       "94                          Full time employee   \n",
       "\n",
       "                             JobTitle  ... HoursperWeek  \\\n",
       "3                                 DBA  ...           45   \n",
       "41                                DBA  ...           40   \n",
       "42                                DBA  ...           65   \n",
       "61  Developer: App code (C#, JS, etc)  ...           35   \n",
       "94                                DBA  ...           60   \n",
       "\n",
       "                          Unnamed:_20 Unnamed:_21       Unnamed:_22  \\\n",
       "3                                   1   Not Asked  Private business   \n",
       "41                          5 or more   Not Asked  Private business   \n",
       "42  None, or less than 1 day per week   Not Asked  Private business   \n",
       "61                                  4   Not Asked  Private business   \n",
       "94                                  1   Not Asked  Private business   \n",
       "\n",
       "                               Unnamed:_23 Unnamed:_24     Gender Unnamed:_26  \\\n",
       "3   Yes, but only passively (just curious)   Not Asked  Not Asked   Not Asked   \n",
       "41  Yes, but only passively (just curious)   Not Asked  Not Asked   Not Asked   \n",
       "42                                      No   Not Asked  Not Asked   Not Asked   \n",
       "61                                      No   Not Asked  Not Asked   Not Asked   \n",
       "94                                      No   Not Asked  Not Asked   Not Asked   \n",
       "\n",
       "   Unnamed:_27 Unnamed:_28  \n",
       "3    Not Asked           1  \n",
       "41   Not Asked           1  \n",
       "42   Not Asked           1  \n",
       "61   Not Asked           1  \n",
       "94   Not Asked           1  \n",
       "\n",
       "[5 rows x 29 columns]"
      ]
     },
     "execution_count": 35,
     "metadata": {},
     "output_type": "execute_result"
    }
   ],
   "source": [
    "US_outliers = US[US.SalaryUSD >= max_salary]\n",
    "US_outliers.head()"
   ]
  },
  {
   "cell_type": "code",
   "execution_count": 36,
   "metadata": {},
   "outputs": [
    {
     "data": {
      "text/plain": [
       "<AxesSubplot:xlabel='Gender', ylabel='SalaryUSD'>"
      ]
     },
     "execution_count": 36,
     "metadata": {},
     "output_type": "execute_result"
    },
    {
     "data": {
      "image/png": "[encoded data removed]",
      "text/plain": [
       "<Figure size 1080x720 with 1 Axes>"
      ]
     },
     "metadata": {},
     "output_type": "display_data"
    }
   ],
   "source": [
    "fig = plt.figure(figsize = (15,10))\n",
    "sns.boxplot(x = 'Gender', y = 'SalaryUSD', data = US_outliers[US.Survey_Year == 2019])"
   ]
  },
  {
   "cell_type": "code",
   "execution_count": 37,
   "metadata": {},
   "outputs": [
    {
     "data": {
      "text/plain": [
       "<AxesSubplot:xlabel='YearExp', ylabel='SalaryUSD'>"
      ]
     },
     "execution_count": 37,
     "metadata": {},
     "output_type": "execute_result"
    },
    {
     "data": {
      "image/png": "[encoded data removed]",
      "text/plain": [
       "<Figure size 432x288 with 1 Axes>"
      ]
     },
     "metadata": {},
     "output_type": "display_data"
    }
   ],
   "source": [
    "df_outlier_m = US_outliers[US_outliers.Gender == \"Male\"]\n",
    "sns.scatterplot(data = df_outlier_m, x = \"YearExp\", y=\"SalaryUSD\")"
   ]
  },
  {
   "cell_type": "code",
   "execution_count": 38,
   "metadata": {},
   "outputs": [
    {
     "data": {
      "text/plain": [
       "<AxesSubplot:xlabel='YearExp', ylabel='SalaryUSD'>"
      ]
     },
     "execution_count": 38,
     "metadata": {},
     "output_type": "execute_result"
    },
    {
     "data": {
      "image/png": "[encoded data removed]",
      "text/plain": [
       "<Figure size 432x288 with 1 Axes>"
      ]
     },
     "metadata": {},
     "output_type": "display_data"
    }
   ],
   "source": [
    "df_outlier_f = US_outliers[US_outliers.Gender == \"Female\"]\n",
    "sns.scatterplot(data = df_outlier_f, x = \"YearExp\", y=\"SalaryUSD\")"
   ]
  },
  {
   "cell_type": "markdown",
   "metadata": {},
   "source": [
    "Interestingly, there still does not seem to be a linear relationship between years of experience and salaries, while one would think that the two would be related. Let's understand the salary outliers' data a bit more carefully."
   ]
  },
  {
   "cell_type": "code",
   "execution_count": 39,
   "metadata": {},
   "outputs": [
    {
     "data": {
      "text/html": [
       "<div>\n",
       "<style scoped>\n",
       "    .dataframe tbody tr th:only-of-type {\n",
       "        vertical-align: middle;\n",
       "    }\n",
       "\n",
       "    .dataframe tbody tr th {\n",
       "        vertical-align: top;\n",
       "    }\n",
       "\n",
       "    .dataframe thead th {\n",
       "        text-align: right;\n",
       "    }\n",
       "</style>\n",
       "<table border=\"1\" class=\"dataframe\">\n",
       "  <thead>\n",
       "    <tr style=\"text-align: right;\">\n",
       "      <th></th>\n",
       "      <th>SalaryUSD</th>\n",
       "    </tr>\n",
       "  </thead>\n",
       "  <tbody>\n",
       "    <tr>\n",
       "      <th>count</th>\n",
       "      <td>261.000</td>\n",
       "    </tr>\n",
       "    <tr>\n",
       "      <th>mean</th>\n",
       "      <td>227588.333</td>\n",
       "    </tr>\n",
       "    <tr>\n",
       "      <th>std</th>\n",
       "      <td>175692.050</td>\n",
       "    </tr>\n",
       "    <tr>\n",
       "      <th>min</th>\n",
       "      <td>158000.000</td>\n",
       "    </tr>\n",
       "    <tr>\n",
       "      <th>25%</th>\n",
       "      <td>165000.000</td>\n",
       "    </tr>\n",
       "    <tr>\n",
       "      <th>50%</th>\n",
       "      <td>177000.000</td>\n",
       "    </tr>\n",
       "    <tr>\n",
       "      <th>75%</th>\n",
       "      <td>205000.000</td>\n",
       "    </tr>\n",
       "    <tr>\n",
       "      <th>max</th>\n",
       "      <td>1450000.000</td>\n",
       "    </tr>\n",
       "  </tbody>\n",
       "</table>\n",
       "</div>"
      ],
      "text/plain": [
       "         SalaryUSD\n",
       "count      261.000\n",
       "mean    227588.333\n",
       "std     175692.050\n",
       "min     158000.000\n",
       "25%     165000.000\n",
       "50%     177000.000\n",
       "75%     205000.000\n",
       "max    1450000.000"
      ]
     },
     "execution_count": 39,
     "metadata": {},
     "output_type": "execute_result"
    }
   ],
   "source": [
    "round(US_outliers.SalaryUSD.describe().to_frame(),3)"
   ]
  },
  {
   "cell_type": "code",
   "execution_count": 40,
   "metadata": {},
   "outputs": [
    {
     "data": {
      "text/html": [
       "<div>\n",
       "<style scoped>\n",
       "    .dataframe tbody tr th:only-of-type {\n",
       "        vertical-align: middle;\n",
       "    }\n",
       "\n",
       "    .dataframe tbody tr th {\n",
       "        vertical-align: top;\n",
       "    }\n",
       "\n",
       "    .dataframe thead th {\n",
       "        text-align: right;\n",
       "    }\n",
       "</style>\n",
       "<table border=\"1\" class=\"dataframe\">\n",
       "  <thead>\n",
       "    <tr style=\"text-align: right;\">\n",
       "      <th></th>\n",
       "      <th>SalaryUSD</th>\n",
       "    </tr>\n",
       "  </thead>\n",
       "  <tbody>\n",
       "    <tr>\n",
       "      <th>count</th>\n",
       "      <td>14.000</td>\n",
       "    </tr>\n",
       "    <tr>\n",
       "      <th>mean</th>\n",
       "      <td>170928.571</td>\n",
       "    </tr>\n",
       "    <tr>\n",
       "      <th>std</th>\n",
       "      <td>13853.432</td>\n",
       "    </tr>\n",
       "    <tr>\n",
       "      <th>min</th>\n",
       "      <td>160000.000</td>\n",
       "    </tr>\n",
       "    <tr>\n",
       "      <th>25%</th>\n",
       "      <td>161000.000</td>\n",
       "    </tr>\n",
       "    <tr>\n",
       "      <th>50%</th>\n",
       "      <td>165000.000</td>\n",
       "    </tr>\n",
       "    <tr>\n",
       "      <th>75%</th>\n",
       "      <td>178500.000</td>\n",
       "    </tr>\n",
       "    <tr>\n",
       "      <th>max</th>\n",
       "      <td>205000.000</td>\n",
       "    </tr>\n",
       "  </tbody>\n",
       "</table>\n",
       "</div>"
      ],
      "text/plain": [
       "        SalaryUSD\n",
       "count      14.000\n",
       "mean   170928.571\n",
       "std     13853.432\n",
       "min    160000.000\n",
       "25%    161000.000\n",
       "50%    165000.000\n",
       "75%    178500.000\n",
       "max    205000.000"
      ]
     },
     "execution_count": 40,
     "metadata": {},
     "output_type": "execute_result"
    }
   ],
   "source": [
    "round(US_outliers[US_outliers.Gender == \"Female\"].SalaryUSD.describe().to_frame(),3)"
   ]
  },
  {
   "cell_type": "code",
   "execution_count": 41,
   "metadata": {},
   "outputs": [
    {
     "data": {
      "text/html": [
       "<div>\n",
       "<style scoped>\n",
       "    .dataframe tbody tr th:only-of-type {\n",
       "        vertical-align: middle;\n",
       "    }\n",
       "\n",
       "    .dataframe tbody tr th {\n",
       "        vertical-align: top;\n",
       "    }\n",
       "\n",
       "    .dataframe thead th {\n",
       "        text-align: right;\n",
       "    }\n",
       "</style>\n",
       "<table border=\"1\" class=\"dataframe\">\n",
       "  <thead>\n",
       "    <tr style=\"text-align: right;\">\n",
       "      <th></th>\n",
       "      <th>SalaryUSD</th>\n",
       "    </tr>\n",
       "  </thead>\n",
       "  <tbody>\n",
       "    <tr>\n",
       "      <th>count</th>\n",
       "      <td>141.000</td>\n",
       "    </tr>\n",
       "    <tr>\n",
       "      <th>mean</th>\n",
       "      <td>236342.589</td>\n",
       "    </tr>\n",
       "    <tr>\n",
       "      <th>std</th>\n",
       "      <td>191611.517</td>\n",
       "    </tr>\n",
       "    <tr>\n",
       "      <th>min</th>\n",
       "      <td>158200.000</td>\n",
       "    </tr>\n",
       "    <tr>\n",
       "      <th>25%</th>\n",
       "      <td>164000.000</td>\n",
       "    </tr>\n",
       "    <tr>\n",
       "      <th>50%</th>\n",
       "      <td>178000.000</td>\n",
       "    </tr>\n",
       "    <tr>\n",
       "      <th>75%</th>\n",
       "      <td>217000.000</td>\n",
       "    </tr>\n",
       "    <tr>\n",
       "      <th>max</th>\n",
       "      <td>1450000.000</td>\n",
       "    </tr>\n",
       "  </tbody>\n",
       "</table>\n",
       "</div>"
      ],
      "text/plain": [
       "         SalaryUSD\n",
       "count      141.000\n",
       "mean    236342.589\n",
       "std     191611.517\n",
       "min     158200.000\n",
       "25%     164000.000\n",
       "50%     178000.000\n",
       "75%     217000.000\n",
       "max    1450000.000"
      ]
     },
     "execution_count": 41,
     "metadata": {},
     "output_type": "execute_result"
    }
   ],
   "source": [
    "round(US_outliers[US_outliers.Gender == \"Male\"].SalaryUSD.describe().to_frame(),3)"
   ]
  },
  {
   "cell_type": "markdown",
   "metadata": {},
   "source": [
    "What I note looking at the data is that there are much more male outliers than female ones, and they also have a higher mean salary, as well as higher maximum and minimum compared to the female outliers."
   ]
  },
  {
   "cell_type": "markdown",
   "metadata": {},
   "source": [
    "# Job Title Analysis"
   ]
  },
  {
   "cell_type": "code",
   "execution_count": 48,
   "metadata": {},
   "outputs": [
    {
     "data": {
      "text/plain": [
       "DBA                                                                                                           976\n",
       "DBA (General - splits time evenly between writing & tuning queries AND building & troubleshooting servers)    714\n",
       "Developer: T-SQL                                                                                              435\n",
       "DBA (Production Focus - build & troubleshoot servers, HA/DR)                                                  417\n",
       "Architect                                                                                                     379\n",
       "Manager                                                                                                       300\n",
       "Developer: App code (C#, JS, etc)                                                                             294\n",
       "Developer: Business Intelligence (SSRS, PowerBI, etc)                                                         278\n",
       "Analyst                                                                                                       247\n",
       "Engineer                                                                                                      209\n",
       "DBA (Development Focus - tunes queries, indexes, does deployments)                                            164\n",
       "Other                                                                                                          65\n",
       "Data Scientist                                                                                                 22\n",
       "Systems Administrator                                                                                           2\n",
       "Technician                                                                                                      1\n",
       "Sr Consultant                                                                                                   1\n",
       "Analytics consultant                                                                                            1\n",
       "Principal database engineer                                                                                     1\n",
       "DevOps, Sr Software Engineer DBA                                                                                1\n",
       "Consultant                                                                                                      1\n",
       "Database Specialist                                                                                             1\n",
       "Name: JobTitle, dtype: int64"
      ]
     },
     "execution_count": 48,
     "metadata": {},
     "output_type": "execute_result"
    }
   ],
   "source": [
    "US.JobTitle.value_counts()"
   ]
  },
  {
   "cell_type": "code",
   "execution_count": 77,
   "metadata": {},
   "outputs": [],
   "source": [
    "df_f = US[US.Gender == \"Female\"]"
   ]
  },
  {
   "cell_type": "code",
   "execution_count": 107,
   "metadata": {},
   "outputs": [],
   "source": [
    "result = df_f.groupby(['JobTitle']).aggregate(np.median).reset_index().sort_values('SalaryUSD',ascending = False)"
   ]
  },
  {
   "cell_type": "code",
   "execution_count": null,
   "metadata": {},
   "outputs": [],
   "source": []
  },
  {
   "cell_type": "code",
   "execution_count": 106,
   "metadata": {},
   "outputs": [
    {
     "data": {
      "text/plain": [
       "(array([ 0,  1,  2,  3,  4,  5,  6,  7,  8,  9, 10, 11]),\n",
       " [Text(0, 0, 'Data Scientist'),\n",
       "  Text(1, 0, 'Architect'),\n",
       "  Text(2, 0, 'Engineer'),\n",
       "  Text(3, 0, 'Manager'),\n",
       "  Text(4, 0, 'DBA (Production Focus - build & troubleshoot servers, HA/DR)'),\n",
       "  Text(5, 0, 'DBA (Development Focus - tunes queries, indexes, does deployments)'),\n",
       "  Text(6, 0, 'DBA (General - splits time evenly between writing & tuning queries AND building & troubleshooting servers)'),\n",
       "  Text(7, 0, 'Developer: Business Intelligence (SSRS, PowerBI, etc)'),\n",
       "  Text(8, 0, 'Developer: App code (C#, JS, etc)'),\n",
       "  Text(9, 0, 'Developer: T-SQL'),\n",
       "  Text(10, 0, 'Other'),\n",
       "  Text(11, 0, 'Analyst')])"
      ]
     },
     "execution_count": 106,
     "metadata": {},
     "output_type": "execute_result"
    },
    {
     "data": {
      "image/png": "[encoded data removed]",
      "text/plain": [
       "<Figure size 1440x720 with 1 Axes>"
      ]
     },
     "metadata": {},
     "output_type": "display_data"
    }
   ],
   "source": [
    "fig = plt.figure(figsize = (20,10))\n",
    "sns.barplot(x=df_f.JobTitle, y= df_f.SalaryUSD , data=df_f.sort_values(by=['SalaryUSD']), order = result.JobTitle)\n",
    "plt.xticks(rotation=90)"
   ]
  },
  {
   "cell_type": "code",
   "execution_count": 109,
   "metadata": {},
   "outputs": [
    {
     "data": {
      "text/plain": [
       "(array([ 0,  1,  2,  3,  4,  5,  6,  7,  8,  9, 10, 11]),\n",
       " [Text(0, 0, 'Architect'),\n",
       "  Text(1, 0, 'Manager'),\n",
       "  Text(2, 0, 'DBA (Development Focus - tunes queries, indexes, does deployments)'),\n",
       "  Text(3, 0, 'Engineer'),\n",
       "  Text(4, 0, 'DBA (Production Focus - build & troubleshoot servers, HA/DR)'),\n",
       "  Text(5, 0, 'Data Scientist'),\n",
       "  Text(6, 0, 'DBA (General - splits time evenly between writing & tuning queries AND building & troubleshooting servers)'),\n",
       "  Text(7, 0, 'Developer: T-SQL'),\n",
       "  Text(8, 0, 'Developer: Business Intelligence (SSRS, PowerBI, etc)'),\n",
       "  Text(9, 0, 'Developer: App code (C#, JS, etc)'),\n",
       "  Text(10, 0, 'Other'),\n",
       "  Text(11, 0, 'Analyst')])"
      ]
     },
     "execution_count": 109,
     "metadata": {},
     "output_type": "execute_result"
    },
    {
     "data": {
      "image/png": "[encoded data removed]",
      "text/plain": [
       "<Figure size 1440x720 with 1 Axes>"
      ]
     },
     "metadata": {},
     "output_type": "display_data"
    }
   ],
   "source": [
    "fig = plt.figure(figsize = (20,10))\n",
    "result_m = US[US.Gender == \"Male\"].groupby(['JobTitle']).aggregate(np.median).reset_index().sort_values('SalaryUSD',ascending = False)\n",
    "sns.barplot(x=US[US.Gender == \"Male\"].JobTitle, y= US[US.Gender == \"Male\"].SalaryUSD , data=US[US.Gender == \"Male\"], order = result_m.JobTitle)\n",
    "plt.xticks(rotation=90)"
   ]
  },
  {
   "cell_type": "markdown",
   "metadata": {},
   "source": [
    "### Some other testing "
   ]
  },
  {
   "cell_type": "code",
   "execution_count": null,
   "metadata": {},
   "outputs": [],
   "source": []
  },
  {
   "cell_type": "code",
   "execution_count": null,
   "metadata": {},
   "outputs": [],
   "source": []
  },
  {
   "cell_type": "code",
   "execution_count": null,
   "metadata": {},
   "outputs": [],
   "source": []
  },
  {
   "cell_type": "code",
   "execution_count": null,
   "metadata": {},
   "outputs": [],
   "source": []
  },
  {
   "cell_type": "markdown",
   "metadata": {},
   "source": [
    "# Country Differences"
   ]
  },
  {
   "cell_type": "markdown",
   "metadata": {},
   "source": [
    "While most of the data has come from the United States, there might be systematic differences in salary data in other countries. So, let's try and explore them a bit further."
   ]
  },
  {
   "cell_type": "code",
   "execution_count": 42,
   "metadata": {},
   "outputs": [
    {
     "data": {
      "text/plain": [
       "United States     4509\n",
       "United Kingdom     667\n",
       "Canada             244\n",
       "Australia          185\n",
       "India              112\n",
       "                  ... \n",
       "Taiwan               1\n",
       "Uruguay              1\n",
       "Indonesia            1\n",
       "Estonia              1\n",
       "Vietnam              1\n",
       "Name: Country, Length: 86, dtype: int64"
      ]
     },
     "execution_count": 42,
     "metadata": {},
     "output_type": "execute_result"
    }
   ],
   "source": [
    "df_new.Country.value_counts()"
   ]
  },
  {
   "cell_type": "markdown",
   "metadata": {},
   "source": [
    "From the function above, it seems like Canada and the United Kindgom are the next countries with the most responses, so let's see what their data suggests in the form of boxplots."
   ]
  },
  {
   "cell_type": "code",
   "execution_count": 43,
   "metadata": {},
   "outputs": [
    {
     "data": {
      "text/plain": [
       "<AxesSubplot:xlabel='Gender', ylabel='HoursperWeek'>"
      ]
     },
     "execution_count": 43,
     "metadata": {},
     "output_type": "execute_result"
    },
    {
     "data": {
      "image/png": "[encoded data removed]",
      "text/plain": [
       "<Figure size 720x576 with 1 Axes>"
      ]
     },
     "metadata": {},
     "output_type": "display_data"
    }
   ],
   "source": [
    "fig = plt.figure(figsize = (10,8))\n",
    "sns.boxplot(x = 'Gender', y = 'HoursperWeek', data = df_new[df_new.Country == \"Canada\"])"
   ]
  },
  {
   "cell_type": "code",
   "execution_count": 47,
   "metadata": {},
   "outputs": [
    {
     "data": {
      "text/plain": [
       "<AxesSubplot:xlabel='Gender', ylabel='HoursperWeek'>"
      ]
     },
     "execution_count": 47,
     "metadata": {},
     "output_type": "execute_result"
    },
    {
     "data": {
      "image/png": "[encoded data removed]",
      "text/plain": [
       "<Figure size 720x576 with 1 Axes>"
      ]
     },
     "metadata": {},
     "output_type": "display_data"
    }
   ],
   "source": [
    "fig = plt.figure(figsize = (10,8))\n",
    "sns.boxplot(x = 'Gender', y = 'HoursperWeek', data = df_new[df_new.Country == \"United Kingdom\"][df_new.Gender != \"Not Asked\"])"
   ]
  },
  {
   "cell_type": "code",
   "execution_count": null,
   "metadata": {},
   "outputs": [],
   "source": []
  }
 ],
 "metadata": {
  "kernelspec": {
   "display_name": "Python 3",
   "language": "python",
   "name": "python3"
  },
  "language_info": {
   "codemirror_mode": {
    "name": "ipython",
    "version": 3
   },
   "file_extension": ".py",
   "mimetype": "text/x-python",
   "name": "python",
   "nbconvert_exporter": "python",
   "pygments_lexer": "ipython3",
   "version": "3.8.8"
  }
 },
 "nbformat": 4,
 "nbformat_minor": 4
}
