{
 "cells": [
  {
   "cell_type": "code",
   "execution_count": 1,
   "metadata": {},
   "outputs": [],
   "source": [
    "import pandas as pd"
   ]
  },
  {
   "cell_type": "code",
   "execution_count": 2,
   "metadata": {},
   "outputs": [],
   "source": [
    "df = pd.read_csv('undernourishment-and-food-insecurity-from-the-fies_guy.csv')"
   ]
  },
  {
   "cell_type": "code",
   "execution_count": 3,
   "metadata": {},
   "outputs": [
    {
     "data": {
      "text/html": [
       "<div>\n",
       "<style scoped>\n",
       "    .dataframe tbody tr th:only-of-type {\n",
       "        vertical-align: middle;\n",
       "    }\n",
       "\n",
       "    .dataframe tbody tr th {\n",
       "        vertical-align: top;\n",
       "    }\n",
       "\n",
       "    .dataframe thead th {\n",
       "        text-align: right;\n",
       "    }\n",
       "</style>\n",
       "<table border=\"1\" class=\"dataframe\">\n",
       "  <thead>\n",
       "    <tr style=\"text-align: right;\">\n",
       "      <th></th>\n",
       "      <th>Iso3</th>\n",
       "      <th>StartDate</th>\n",
       "      <th>EndDate</th>\n",
       "      <th>Area Code</th>\n",
       "      <th>Area</th>\n",
       "      <th>Item Code</th>\n",
       "      <th>Item</th>\n",
       "      <th>Element Code</th>\n",
       "      <th>Element</th>\n",
       "      <th>Year Code</th>\n",
       "      <th>Year</th>\n",
       "      <th>Unit</th>\n",
       "      <th>Value</th>\n",
       "      <th>Flag</th>\n",
       "      <th>Note</th>\n",
       "    </tr>\n",
       "  </thead>\n",
       "  <tbody>\n",
       "    <tr>\n",
       "      <th>0</th>\n",
       "      <td>#country+code</td>\n",
       "      <td>#date+start</td>\n",
       "      <td>#date+end</td>\n",
       "      <td>NaN</td>\n",
       "      <td>#country+name</td>\n",
       "      <td>#indicator+code</td>\n",
       "      <td>#indicator+name</td>\n",
       "      <td>NaN</td>\n",
       "      <td>NaN</td>\n",
       "      <td>NaN</td>\n",
       "      <td>#date+year</td>\n",
       "      <td>#indicator+type</td>\n",
       "      <td>#indicator+value+num</td>\n",
       "      <td>NaN</td>\n",
       "      <td>NaN</td>\n",
       "    </tr>\n",
       "    <tr>\n",
       "      <th>1</th>\n",
       "      <td>GUY</td>\n",
       "      <td>2000-01-01</td>\n",
       "      <td>2002-12-31</td>\n",
       "      <td>91.0</td>\n",
       "      <td>Guyana</td>\n",
       "      <td>21010</td>\n",
       "      <td>Average dietary energy supply adequacy (percen...</td>\n",
       "      <td>6121.0</td>\n",
       "      <td>Value</td>\n",
       "      <td>20002002.0</td>\n",
       "      <td>2002</td>\n",
       "      <td>%</td>\n",
       "      <td>121</td>\n",
       "      <td>F</td>\n",
       "      <td>NaN</td>\n",
       "    </tr>\n",
       "    <tr>\n",
       "      <th>2</th>\n",
       "      <td>GUY</td>\n",
       "      <td>2001-01-01</td>\n",
       "      <td>2003-12-31</td>\n",
       "      <td>91.0</td>\n",
       "      <td>Guyana</td>\n",
       "      <td>21010</td>\n",
       "      <td>Average dietary energy supply adequacy (percen...</td>\n",
       "      <td>6121.0</td>\n",
       "      <td>Value</td>\n",
       "      <td>20012003.0</td>\n",
       "      <td>2003</td>\n",
       "      <td>%</td>\n",
       "      <td>121</td>\n",
       "      <td>F</td>\n",
       "      <td>NaN</td>\n",
       "    </tr>\n",
       "    <tr>\n",
       "      <th>3</th>\n",
       "      <td>GUY</td>\n",
       "      <td>2002-01-01</td>\n",
       "      <td>2004-12-31</td>\n",
       "      <td>91.0</td>\n",
       "      <td>Guyana</td>\n",
       "      <td>21010</td>\n",
       "      <td>Average dietary energy supply adequacy (percen...</td>\n",
       "      <td>6121.0</td>\n",
       "      <td>Value</td>\n",
       "      <td>20022004.0</td>\n",
       "      <td>2004</td>\n",
       "      <td>%</td>\n",
       "      <td>121</td>\n",
       "      <td>F</td>\n",
       "      <td>NaN</td>\n",
       "    </tr>\n",
       "    <tr>\n",
       "      <th>4</th>\n",
       "      <td>GUY</td>\n",
       "      <td>2003-01-01</td>\n",
       "      <td>2005-12-31</td>\n",
       "      <td>91.0</td>\n",
       "      <td>Guyana</td>\n",
       "      <td>21010</td>\n",
       "      <td>Average dietary energy supply adequacy (percen...</td>\n",
       "      <td>6121.0</td>\n",
       "      <td>Value</td>\n",
       "      <td>20032005.0</td>\n",
       "      <td>2005</td>\n",
       "      <td>%</td>\n",
       "      <td>120</td>\n",
       "      <td>F</td>\n",
       "      <td>NaN</td>\n",
       "    </tr>\n",
       "  </tbody>\n",
       "</table>\n",
       "</div>"
      ],
      "text/plain": [
       "            Iso3    StartDate     EndDate  Area Code           Area  \\\n",
       "0  #country+code  #date+start   #date+end        NaN  #country+name   \n",
       "1            GUY   2000-01-01  2002-12-31       91.0         Guyana   \n",
       "2            GUY   2001-01-01  2003-12-31       91.0         Guyana   \n",
       "3            GUY   2002-01-01  2004-12-31       91.0         Guyana   \n",
       "4            GUY   2003-01-01  2005-12-31       91.0         Guyana   \n",
       "\n",
       "         Item Code                                               Item  \\\n",
       "0  #indicator+code                                    #indicator+name   \n",
       "1            21010  Average dietary energy supply adequacy (percen...   \n",
       "2            21010  Average dietary energy supply adequacy (percen...   \n",
       "3            21010  Average dietary energy supply adequacy (percen...   \n",
       "4            21010  Average dietary energy supply adequacy (percen...   \n",
       "\n",
       "   Element Code Element   Year Code        Year             Unit  \\\n",
       "0           NaN     NaN         NaN  #date+year  #indicator+type   \n",
       "1        6121.0   Value  20002002.0        2002                %   \n",
       "2        6121.0   Value  20012003.0        2003                %   \n",
       "3        6121.0   Value  20022004.0        2004                %   \n",
       "4        6121.0   Value  20032005.0        2005                %   \n",
       "\n",
       "                  Value Flag  Note  \n",
       "0  #indicator+value+num  NaN   NaN  \n",
       "1                   121    F   NaN  \n",
       "2                   121    F   NaN  \n",
       "3                   121    F   NaN  \n",
       "4                   120    F   NaN  "
      ]
     },
     "execution_count": 3,
     "metadata": {},
     "output_type": "execute_result"
    }
   ],
   "source": [
    "df.head()"
   ]
  },
  {
   "cell_type": "code",
   "execution_count": 4,
   "metadata": {},
   "outputs": [],
   "source": [
    "uniques = df.Item.unique()[1:]"
   ]
  },
  {
   "cell_type": "code",
   "execution_count": 5,
   "metadata": {},
   "outputs": [],
   "source": [
    "list_features = []\n",
    "for item in df.Item.unique()[1:]:\n",
    "    list_features.append(item)"
   ]
  },
  {
   "cell_type": "code",
   "execution_count": 6,
   "metadata": {},
   "outputs": [
    {
     "name": "stdout",
     "output_type": "stream",
     "text": [
      "20\n",
      "20\n",
      "20\n",
      "20\n",
      "20\n",
      "20\n",
      "20\n",
      "20\n",
      "20\n",
      "20\n",
      "20\n",
      "20\n",
      "20\n",
      "20\n",
      "20\n",
      "20\n",
      "20\n",
      "20\n",
      "20\n",
      "20\n",
      "20\n",
      "20\n",
      "20\n",
      "20\n",
      "20\n",
      "20\n",
      "20\n"
     ]
    }
   ],
   "source": [
    "values_for_feature = {}\n",
    "for l in list_features:\n",
    "    vals = []\n",
    "    filtered = df[df.Item == l]\n",
    "    if list(filtered.Value) != []:\n",
    "        for f in list(filtered.Value):\n",
    "            vals.append(f)\n",
    "        if len(vals) != 20:\n",
    "            for i in range(20-len(vals)):\n",
    "                vals.append('N/A')\n",
    "            print(len(vals))\n",
    "        values_for_feature[l] = vals  "
   ]
  },
  {
   "cell_type": "code",
   "execution_count": 7,
   "metadata": {},
   "outputs": [],
   "source": [
    "new_guayana = pd.DataFrame(data = values_for_feature)"
   ]
  },
  {
   "cell_type": "code",
   "execution_count": 8,
   "metadata": {},
   "outputs": [],
   "source": [
    "import numpy as np\n",
    "new_guayana['Year'] = np.arange(2001, 2021)"
   ]
  },
  {
   "cell_type": "code",
   "execution_count": 9,
   "metadata": {},
   "outputs": [
    {
     "data": {
      "text/html": [
       "<div>\n",
       "<style scoped>\n",
       "    .dataframe tbody tr th:only-of-type {\n",
       "        vertical-align: middle;\n",
       "    }\n",
       "\n",
       "    .dataframe tbody tr th {\n",
       "        vertical-align: top;\n",
       "    }\n",
       "\n",
       "    .dataframe thead th {\n",
       "        text-align: right;\n",
       "    }\n",
       "</style>\n",
       "<table border=\"1\" class=\"dataframe\">\n",
       "  <thead>\n",
       "    <tr style=\"text-align: right;\">\n",
       "      <th></th>\n",
       "      <th>Average dietary energy supply adequacy (percent) (3-year average)</th>\n",
       "      <th>Average value of food production (constant 2004-2006 I$/cap) (3-year average)</th>\n",
       "      <th>Dietary energy supply used in the estimation of prevalence of undernourishment (kcal/cap/day) (3-year average)</th>\n",
       "      <th>Share of dietary energy supply derived from cereals, roots and tubers (kcal/cap/day) (3-year average)</th>\n",
       "      <th>Average protein supply (g/cap/day) (3-year average)</th>\n",
       "      <th>Average supply of protein of animal origin (g/cap/day) (3-year average)</th>\n",
       "      <th>Gross domestic product per capita, PPP, dissemination (constant 2011 international $)</th>\n",
       "      <th>Prevalence of undernourishment (percent) (3-year average)</th>\n",
       "      <th>Number of people undernourished (million) (3-year average)</th>\n",
       "      <th>Prevalence of severe food insecurity in the total population (percent) (3-year average)</th>\n",
       "      <th>...</th>\n",
       "      <th>Percentage of population using at least basic drinking water services (percent)</th>\n",
       "      <th>Percentage of population using at least basic sanitation services (percent)</th>\n",
       "      <th>Percentage of children under 5 years affected by wasting (percent)</th>\n",
       "      <th>Percentage of children under 5 years of age who are stunted (percent)</th>\n",
       "      <th>Percentage of children under 5 years of age who are overweight (percent)</th>\n",
       "      <th>Prevalence of obesity in the adult population (18 years and older)</th>\n",
       "      <th>Prevalence of anemia among women of reproductive age (15-49 years)</th>\n",
       "      <th>Prevalence of exclusive breastfeeding among infants 0-5 months of age</th>\n",
       "      <th>Prevalence of low birthweight (percent)</th>\n",
       "      <th>Year</th>\n",
       "    </tr>\n",
       "  </thead>\n",
       "  <tbody>\n",
       "    <tr>\n",
       "      <th>15</th>\n",
       "      <td>122</td>\n",
       "      <td>N/A</td>\n",
       "      <td>2855</td>\n",
       "      <td>46</td>\n",
       "      <td>86.3</td>\n",
       "      <td>38.3</td>\n",
       "      <td>8604.1</td>\n",
       "      <td>6.1</td>\n",
       "      <td>&lt;0.1</td>\n",
       "      <td>N/A</td>\n",
       "      <td>...</td>\n",
       "      <td>95.2</td>\n",
       "      <td>85.3</td>\n",
       "      <td>N/A</td>\n",
       "      <td>N/A</td>\n",
       "      <td>N/A</td>\n",
       "      <td>19.6</td>\n",
       "      <td>32.2</td>\n",
       "      <td>N/A</td>\n",
       "      <td>15.6</td>\n",
       "      <td>2016</td>\n",
       "    </tr>\n",
       "    <tr>\n",
       "      <th>16</th>\n",
       "      <td>122</td>\n",
       "      <td>N/A</td>\n",
       "      <td>2864</td>\n",
       "      <td>N/A</td>\n",
       "      <td>N/A</td>\n",
       "      <td>N/A</td>\n",
       "      <td>8848.1</td>\n",
       "      <td>6</td>\n",
       "      <td>&lt;0.1</td>\n",
       "      <td>N/A</td>\n",
       "      <td>...</td>\n",
       "      <td>95.5</td>\n",
       "      <td>85.8</td>\n",
       "      <td>N/A</td>\n",
       "      <td>N/A</td>\n",
       "      <td>N/A</td>\n",
       "      <td>20.2</td>\n",
       "      <td>32.3</td>\n",
       "      <td>N/A</td>\n",
       "      <td>N/A</td>\n",
       "      <td>2017</td>\n",
       "    </tr>\n",
       "    <tr>\n",
       "      <th>17</th>\n",
       "      <td>123</td>\n",
       "      <td>N/A</td>\n",
       "      <td>2880</td>\n",
       "      <td>N/A</td>\n",
       "      <td>N/A</td>\n",
       "      <td>N/A</td>\n",
       "      <td>8989</td>\n",
       "      <td>5.7</td>\n",
       "      <td>&lt;0.1</td>\n",
       "      <td>N/A</td>\n",
       "      <td>...</td>\n",
       "      <td>95.5</td>\n",
       "      <td>85.8</td>\n",
       "      <td>N/A</td>\n",
       "      <td>N/A</td>\n",
       "      <td>N/A</td>\n",
       "      <td>N/A</td>\n",
       "      <td>N/A</td>\n",
       "      <td>N/A</td>\n",
       "      <td>N/A</td>\n",
       "      <td>2018</td>\n",
       "    </tr>\n",
       "    <tr>\n",
       "      <th>18</th>\n",
       "      <td>N/A</td>\n",
       "      <td>N/A</td>\n",
       "      <td>N/A</td>\n",
       "      <td>N/A</td>\n",
       "      <td>N/A</td>\n",
       "      <td>N/A</td>\n",
       "      <td>9312.1</td>\n",
       "      <td>N/A</td>\n",
       "      <td>N/A</td>\n",
       "      <td>N/A</td>\n",
       "      <td>...</td>\n",
       "      <td>N/A</td>\n",
       "      <td>N/A</td>\n",
       "      <td>N/A</td>\n",
       "      <td>N/A</td>\n",
       "      <td>N/A</td>\n",
       "      <td>N/A</td>\n",
       "      <td>N/A</td>\n",
       "      <td>N/A</td>\n",
       "      <td>N/A</td>\n",
       "      <td>2019</td>\n",
       "    </tr>\n",
       "    <tr>\n",
       "      <th>19</th>\n",
       "      <td>N/A</td>\n",
       "      <td>N/A</td>\n",
       "      <td>N/A</td>\n",
       "      <td>N/A</td>\n",
       "      <td>N/A</td>\n",
       "      <td>N/A</td>\n",
       "      <td>9702.6</td>\n",
       "      <td>N/A</td>\n",
       "      <td>N/A</td>\n",
       "      <td>N/A</td>\n",
       "      <td>...</td>\n",
       "      <td>N/A</td>\n",
       "      <td>N/A</td>\n",
       "      <td>N/A</td>\n",
       "      <td>N/A</td>\n",
       "      <td>N/A</td>\n",
       "      <td>N/A</td>\n",
       "      <td>N/A</td>\n",
       "      <td>N/A</td>\n",
       "      <td>N/A</td>\n",
       "      <td>2020</td>\n",
       "    </tr>\n",
       "  </tbody>\n",
       "</table>\n",
       "<p>5 rows × 29 columns</p>\n",
       "</div>"
      ],
      "text/plain": [
       "   Average dietary energy supply adequacy (percent) (3-year average)  \\\n",
       "15                                                122                  \n",
       "16                                                122                  \n",
       "17                                                123                  \n",
       "18                                                N/A                  \n",
       "19                                                N/A                  \n",
       "\n",
       "   Average value of food production (constant 2004-2006 I$/cap) (3-year average)  \\\n",
       "15                                                N/A                              \n",
       "16                                                N/A                              \n",
       "17                                                N/A                              \n",
       "18                                                N/A                              \n",
       "19                                                N/A                              \n",
       "\n",
       "   Dietary energy supply used in the estimation of prevalence of undernourishment (kcal/cap/day) (3-year average)  \\\n",
       "15                                               2855                                                               \n",
       "16                                               2864                                                               \n",
       "17                                               2880                                                               \n",
       "18                                                N/A                                                               \n",
       "19                                                N/A                                                               \n",
       "\n",
       "   Share of dietary energy supply derived from cereals, roots and tubers (kcal/cap/day) (3-year average)  \\\n",
       "15                                                 46                                                      \n",
       "16                                                N/A                                                      \n",
       "17                                                N/A                                                      \n",
       "18                                                N/A                                                      \n",
       "19                                                N/A                                                      \n",
       "\n",
       "   Average protein supply (g/cap/day) (3-year average)  \\\n",
       "15                                               86.3    \n",
       "16                                                N/A    \n",
       "17                                                N/A    \n",
       "18                                                N/A    \n",
       "19                                                N/A    \n",
       "\n",
       "   Average supply of protein of animal origin (g/cap/day) (3-year average)  \\\n",
       "15                                               38.3                        \n",
       "16                                                N/A                        \n",
       "17                                                N/A                        \n",
       "18                                                N/A                        \n",
       "19                                                N/A                        \n",
       "\n",
       "   Gross domestic product per capita, PPP, dissemination (constant 2011 international $)  \\\n",
       "15                                             8604.1                                      \n",
       "16                                             8848.1                                      \n",
       "17                                               8989                                      \n",
       "18                                             9312.1                                      \n",
       "19                                             9702.6                                      \n",
       "\n",
       "   Prevalence of undernourishment (percent) (3-year average)  \\\n",
       "15                                                6.1          \n",
       "16                                                  6          \n",
       "17                                                5.7          \n",
       "18                                                N/A          \n",
       "19                                                N/A          \n",
       "\n",
       "   Number of people undernourished (million) (3-year average)  \\\n",
       "15                                               <0.1           \n",
       "16                                               <0.1           \n",
       "17                                               <0.1           \n",
       "18                                                N/A           \n",
       "19                                                N/A           \n",
       "\n",
       "   Prevalence of severe food insecurity in the total population (percent) (3-year average)  \\\n",
       "15                                                N/A                                        \n",
       "16                                                N/A                                        \n",
       "17                                                N/A                                        \n",
       "18                                                N/A                                        \n",
       "19                                                N/A                                        \n",
       "\n",
       "    ...  \\\n",
       "15  ...   \n",
       "16  ...   \n",
       "17  ...   \n",
       "18  ...   \n",
       "19  ...   \n",
       "\n",
       "   Percentage of population using at least basic drinking water services (percent)  \\\n",
       "15                                               95.2                                \n",
       "16                                               95.5                                \n",
       "17                                               95.5                                \n",
       "18                                                N/A                                \n",
       "19                                                N/A                                \n",
       "\n",
       "   Percentage of population using at least basic sanitation services (percent)  \\\n",
       "15                                               85.3                            \n",
       "16                                               85.8                            \n",
       "17                                               85.8                            \n",
       "18                                                N/A                            \n",
       "19                                                N/A                            \n",
       "\n",
       "   Percentage of children under 5 years affected by wasting (percent)  \\\n",
       "15                                                N/A                   \n",
       "16                                                N/A                   \n",
       "17                                                N/A                   \n",
       "18                                                N/A                   \n",
       "19                                                N/A                   \n",
       "\n",
       "   Percentage of children under 5 years of age who are stunted (percent)  \\\n",
       "15                                                N/A                      \n",
       "16                                                N/A                      \n",
       "17                                                N/A                      \n",
       "18                                                N/A                      \n",
       "19                                                N/A                      \n",
       "\n",
       "   Percentage of children under 5 years of age who are overweight (percent)  \\\n",
       "15                                                N/A                         \n",
       "16                                                N/A                         \n",
       "17                                                N/A                         \n",
       "18                                                N/A                         \n",
       "19                                                N/A                         \n",
       "\n",
       "   Prevalence of obesity in the adult population (18 years and older)  \\\n",
       "15                                               19.6                   \n",
       "16                                               20.2                   \n",
       "17                                                N/A                   \n",
       "18                                                N/A                   \n",
       "19                                                N/A                   \n",
       "\n",
       "   Prevalence of anemia among women of reproductive age (15-49 years)  \\\n",
       "15                                               32.2                   \n",
       "16                                               32.3                   \n",
       "17                                                N/A                   \n",
       "18                                                N/A                   \n",
       "19                                                N/A                   \n",
       "\n",
       "   Prevalence of exclusive breastfeeding among infants 0-5 months of age  \\\n",
       "15                                                N/A                      \n",
       "16                                                N/A                      \n",
       "17                                                N/A                      \n",
       "18                                                N/A                      \n",
       "19                                                N/A                      \n",
       "\n",
       "   Prevalence of low birthweight (percent)  Year  \n",
       "15                                    15.6  2016  \n",
       "16                                     N/A  2017  \n",
       "17                                     N/A  2018  \n",
       "18                                     N/A  2019  \n",
       "19                                     N/A  2020  \n",
       "\n",
       "[5 rows x 29 columns]"
      ]
     },
     "execution_count": 9,
     "metadata": {},
     "output_type": "execute_result"
    }
   ],
   "source": [
    "new_guayana.tail()"
   ]
  },
  {
   "cell_type": "code",
   "execution_count": 10,
   "metadata": {},
   "outputs": [],
   "source": [
    "df_srb = pd.read_csv('undernourishment-and-food-insecurity-from-the-fies_srb.csv')\n",
    "df_id = pd.read_csv('undernourishment-and-food-insecurity-from-the-fies_idn.csv')\n",
    "df_irq = pd.read_csv('undernourishment-and-food-insecurity-from-the-fies_irq.csv')\n",
    "df_ner = pd.read_csv('undernourishment-and-food-insecurity-from-the-fies_ner.csv')\n",
    "df_phl = pd.read_csv('undernourishment-and-food-insecurity-from-the-fies_phl.csv')\n",
    "df_rwa = pd.read_csv('undernourishment-and-food-insecurity-from-the-fies_rwa.csv')\n",
    "df_sdn = pd.read_csv('undernourishment-and-food-insecurity-from-the-fies_sdn.csv')"
   ]
  },
  {
   "cell_type": "code",
   "execution_count": 11,
   "metadata": {},
   "outputs": [],
   "source": [
    "df_sur = pd.read_csv('undernourishment-and-food-insecurity-from-the-fies_sur.csv')\n",
    "df_svk = pd.read_csv('undernourishment-and-food-insecurity-from-the-fies_svk.csv')\n",
    "df_syc = pd.read_csv('undernourishment-and-food-insecurity-from-the-fies_syc.csv')\n",
    "df_uga = pd.read_csv('undernourishment-and-food-insecurity-from-the-fies_uga.csv')\n",
    "df_yem = pd.read_csv('undernourishment-and-food-insecurity-from-the-fies_yem.csv')"
   ]
  },
  {
   "cell_type": "code",
   "execution_count": 12,
   "metadata": {},
   "outputs": [],
   "source": [
    "df_bgd = pd.read_csv('undernourishment-and-food-insecurity-from-the-fies_bgd.csv')\n",
    "df_bdi = pd.read_csv('undernourishment-and-food-insecurity-from-the-fies_bdi.csv')\n",
    "df_dji = pd.read_csv('undernourishment-and-food-insecurity-from-the-fies_dji.csv')\n",
    "df_eth = pd.read_csv('undernourishment-and-food-insecurity-from-the-fies_eth.csv')\n",
    "df_ind = pd.read_csv('undernourishment-and-food-insecurity-from-the-fies_ind.csv')"
   ]
  },
  {
   "cell_type": "code",
   "execution_count": 13,
   "metadata": {},
   "outputs": [],
   "source": [
    "df_hnd = pd.read_csv('undernourishment-and-food-insecurity-from-the-fies_hnd.csv')\n",
    "df_mdg = pd.read_csv('undernourishment-and-food-insecurity-from-the-fies_mdg.csv')\n",
    "df_lby = pd.read_csv('undernourishment-and-food-insecurity-from-the-fies_lby.csv')\n",
    "df_jor = pd.read_csv('undernourishment-and-food-insecurity-from-the-fies_jor.csv')\n",
    "df_lbr = pd.read_csv('undernourishment-and-food-insecurity-from-the-fies_lbr.csv')"
   ]
  },
  {
   "cell_type": "code",
   "execution_count": 14,
   "metadata": {},
   "outputs": [],
   "source": [
    "df_mex = pd.read_csv('undernourishment-and-food-insecurity-from-the-fies_mex.csv')\n",
    "df_moz = pd.read_csv('undernourishment-and-food-insecurity-from-the-fies_moz.csv')\n",
    "df_pak = pd.read_csv('undernourishment-and-food-insecurity-from-the-fies_pak.csv')\n",
    "df_per = pd.read_csv('undernourishment-and-food-insecurity-from-the-fies_per.csv')\n",
    "df_tjk = pd.read_csv('undernourishment-and-food-insecurity-from-the-fies_tjk.csv')\n",
    "df_ury = pd.read_csv('undernourishment-and-food-insecurity-from-the-fies_ury.csv')\n",
    "df_ury = pd.read_csv('undernourishment-and-food-insecurity-from-the-fies_zmb.csv')"
   ]
  },
  {
   "cell_type": "code",
   "execution_count": 15,
   "metadata": {},
   "outputs": [],
   "source": [
    "#join the data into 1 data frame and generalize process above"
   ]
  },
  {
   "cell_type": "code",
   "execution_count": 16,
   "metadata": {},
   "outputs": [
    {
     "name": "stdout",
     "output_type": "stream",
     "text": [
      "29\n"
     ]
    }
   ],
   "source": [
    "dataframes = [df_srb, df_id, df_irq, df_ner, df_phl, df_rwa, df_sdn, df_sur, df_svk, df_syc, df_uga, df_yem,df_bgd, \n",
    "             df_bdi, df_dji, df_eth, df_ind, df_hnd, df_mdg, df_lby, df_jor, df_lbr,\n",
    "             df_mex, df_moz, df_pak, df_per, df_tjk, df_ury, df_ury]\n",
    "print(len(dataframes))"
   ]
  },
  {
   "cell_type": "code",
   "execution_count": 17,
   "metadata": {},
   "outputs": [],
   "source": [
    "dataf = []"
   ]
  },
  {
   "cell_type": "code",
   "execution_count": 18,
   "metadata": {},
   "outputs": [
    {
     "name": "stdout",
     "output_type": "stream",
     "text": [
      "0\n",
      "1\n",
      "2\n",
      "3\n",
      "4\n",
      "5\n",
      "6\n",
      "7\n",
      "8\n",
      "9\n",
      "10\n",
      "11\n",
      "12\n",
      "13\n",
      "14\n",
      "15\n",
      "16\n",
      "17\n",
      "18\n",
      "19\n",
      "20\n",
      "21\n",
      "22\n",
      "23\n",
      "24\n",
      "25\n",
      "26\n",
      "27\n",
      "28\n"
     ]
    }
   ],
   "source": [
    "for i in range(len(dataframes)):\n",
    "    values_for_feature = {}\n",
    "    d = dataframes[i]\n",
    "    for l in list_features:\n",
    "        vals = []\n",
    "        filtered = d[d.Item == l]\n",
    "        for f in list(filtered.Value):\n",
    "            vals.append(f)\n",
    "        if len(vals) != 20:\n",
    "            for j in range(20-len(vals)):\n",
    "                vals.append(1)            \n",
    "        values_for_feature[l] = vals\n",
    "    g = pd.DataFrame(data = values_for_feature)\n",
    "    dataf.append(g)\n",
    "    print(i)"
   ]
  },
  {
   "cell_type": "code",
   "execution_count": 19,
   "metadata": {},
   "outputs": [],
   "source": [
    "#clean the data into Code Year columns, with specific attributes"
   ]
  },
  {
   "cell_type": "code",
   "execution_count": 20,
   "metadata": {},
   "outputs": [
    {
     "data": {
      "text/html": [
       "<div>\n",
       "<style scoped>\n",
       "    .dataframe tbody tr th:only-of-type {\n",
       "        vertical-align: middle;\n",
       "    }\n",
       "\n",
       "    .dataframe tbody tr th {\n",
       "        vertical-align: top;\n",
       "    }\n",
       "\n",
       "    .dataframe thead th {\n",
       "        text-align: right;\n",
       "    }\n",
       "</style>\n",
       "<table border=\"1\" class=\"dataframe\">\n",
       "  <thead>\n",
       "    <tr style=\"text-align: right;\">\n",
       "      <th></th>\n",
       "      <th>Average dietary energy supply adequacy (percent) (3-year average)</th>\n",
       "      <th>Average value of food production (constant 2004-2006 I$/cap) (3-year average)</th>\n",
       "      <th>Dietary energy supply used in the estimation of prevalence of undernourishment (kcal/cap/day) (3-year average)</th>\n",
       "      <th>Share of dietary energy supply derived from cereals, roots and tubers (kcal/cap/day) (3-year average)</th>\n",
       "      <th>Average protein supply (g/cap/day) (3-year average)</th>\n",
       "      <th>Average supply of protein of animal origin (g/cap/day) (3-year average)</th>\n",
       "      <th>Gross domestic product per capita, PPP, dissemination (constant 2011 international $)</th>\n",
       "      <th>Prevalence of undernourishment (percent) (3-year average)</th>\n",
       "      <th>Number of people undernourished (million) (3-year average)</th>\n",
       "      <th>Prevalence of severe food insecurity in the total population (percent) (3-year average)</th>\n",
       "      <th>...</th>\n",
       "      <th>Per capita food supply variability (kcal/cap/day)</th>\n",
       "      <th>Percentage of population using at least basic drinking water services (percent)</th>\n",
       "      <th>Percentage of population using at least basic sanitation services (percent)</th>\n",
       "      <th>Percentage of children under 5 years affected by wasting (percent)</th>\n",
       "      <th>Percentage of children under 5 years of age who are stunted (percent)</th>\n",
       "      <th>Percentage of children under 5 years of age who are overweight (percent)</th>\n",
       "      <th>Prevalence of obesity in the adult population (18 years and older)</th>\n",
       "      <th>Prevalence of anemia among women of reproductive age (15-49 years)</th>\n",
       "      <th>Prevalence of exclusive breastfeeding among infants 0-5 months of age</th>\n",
       "      <th>Prevalence of low birthweight (percent)</th>\n",
       "    </tr>\n",
       "  </thead>\n",
       "  <tbody>\n",
       "    <tr>\n",
       "      <th>0</th>\n",
       "      <td>119</td>\n",
       "      <td>400</td>\n",
       "      <td>2966</td>\n",
       "      <td>38</td>\n",
       "      <td>77.5</td>\n",
       "      <td>35</td>\n",
       "      <td>8866.5</td>\n",
       "      <td>&lt;2.5</td>\n",
       "      <td>NaN</td>\n",
       "      <td>1.7</td>\n",
       "      <td>...</td>\n",
       "      <td>24</td>\n",
       "      <td>94.7</td>\n",
       "      <td>95.3</td>\n",
       "      <td>4.5</td>\n",
       "      <td>8.1</td>\n",
       "      <td>19.3</td>\n",
       "      <td>15.5</td>\n",
       "      <td>25.3</td>\n",
       "      <td>14.5</td>\n",
       "      <td>4.7</td>\n",
       "    </tr>\n",
       "    <tr>\n",
       "      <th>1</th>\n",
       "      <td>119</td>\n",
       "      <td>404</td>\n",
       "      <td>2967</td>\n",
       "      <td>37</td>\n",
       "      <td>78.3</td>\n",
       "      <td>35.7</td>\n",
       "      <td>9492.7</td>\n",
       "      <td>&lt;2.5</td>\n",
       "      <td>NaN</td>\n",
       "      <td>2.3</td>\n",
       "      <td>...</td>\n",
       "      <td>21</td>\n",
       "      <td>94.7</td>\n",
       "      <td>95.2</td>\n",
       "      <td>3.5</td>\n",
       "      <td>6.6</td>\n",
       "      <td>15.6</td>\n",
       "      <td>15.8</td>\n",
       "      <td>25.1</td>\n",
       "      <td>13.4</td>\n",
       "      <td>4.7</td>\n",
       "    </tr>\n",
       "    <tr>\n",
       "      <th>2</th>\n",
       "      <td>119</td>\n",
       "      <td>415</td>\n",
       "      <td>2968</td>\n",
       "      <td>37</td>\n",
       "      <td>79</td>\n",
       "      <td>36.3</td>\n",
       "      <td>10107.6</td>\n",
       "      <td>&lt;2.5</td>\n",
       "      <td>NaN</td>\n",
       "      <td>1.9</td>\n",
       "      <td>...</td>\n",
       "      <td>17</td>\n",
       "      <td>94.7</td>\n",
       "      <td>95.2</td>\n",
       "      <td>3.9</td>\n",
       "      <td>6</td>\n",
       "      <td>13.9</td>\n",
       "      <td>16.2</td>\n",
       "      <td>25.1</td>\n",
       "      <td>12.8</td>\n",
       "      <td>4.7</td>\n",
       "    </tr>\n",
       "    <tr>\n",
       "      <th>3</th>\n",
       "      <td>119</td>\n",
       "      <td>423</td>\n",
       "      <td>2970</td>\n",
       "      <td>38</td>\n",
       "      <td>80</td>\n",
       "      <td>36.7</td>\n",
       "      <td>10573.6</td>\n",
       "      <td>&lt;2.5</td>\n",
       "      <td>NaN</td>\n",
       "      <td>2</td>\n",
       "      <td>...</td>\n",
       "      <td>17</td>\n",
       "      <td>94.7</td>\n",
       "      <td>95.2</td>\n",
       "      <td>1</td>\n",
       "      <td>1</td>\n",
       "      <td>1</td>\n",
       "      <td>16.6</td>\n",
       "      <td>25.1</td>\n",
       "      <td>1</td>\n",
       "      <td>4.7</td>\n",
       "    </tr>\n",
       "    <tr>\n",
       "      <th>4</th>\n",
       "      <td>119</td>\n",
       "      <td>430</td>\n",
       "      <td>2971</td>\n",
       "      <td>39</td>\n",
       "      <td>80.7</td>\n",
       "      <td>36.7</td>\n",
       "      <td>11555.1</td>\n",
       "      <td>&lt;2.5</td>\n",
       "      <td>NaN</td>\n",
       "      <td>1</td>\n",
       "      <td>...</td>\n",
       "      <td>30</td>\n",
       "      <td>94.6</td>\n",
       "      <td>95.1</td>\n",
       "      <td>1</td>\n",
       "      <td>1</td>\n",
       "      <td>1</td>\n",
       "      <td>16.9</td>\n",
       "      <td>25.1</td>\n",
       "      <td>1</td>\n",
       "      <td>4.6</td>\n",
       "    </tr>\n",
       "    <tr>\n",
       "      <th>5</th>\n",
       "      <td>118</td>\n",
       "      <td>415</td>\n",
       "      <td>2958</td>\n",
       "      <td>41</td>\n",
       "      <td>81.7</td>\n",
       "      <td>37.7</td>\n",
       "      <td>12230.9</td>\n",
       "      <td>&lt;2.5</td>\n",
       "      <td>NaN</td>\n",
       "      <td>1</td>\n",
       "      <td>...</td>\n",
       "      <td>30</td>\n",
       "      <td>93.9</td>\n",
       "      <td>95.4</td>\n",
       "      <td>1</td>\n",
       "      <td>1</td>\n",
       "      <td>1</td>\n",
       "      <td>17.3</td>\n",
       "      <td>25</td>\n",
       "      <td>1</td>\n",
       "      <td>4.6</td>\n",
       "    </tr>\n",
       "    <tr>\n",
       "      <th>6</th>\n",
       "      <td>118</td>\n",
       "      <td>416</td>\n",
       "      <td>2945</td>\n",
       "      <td>41</td>\n",
       "      <td>82</td>\n",
       "      <td>38.3</td>\n",
       "      <td>12906.2</td>\n",
       "      <td>&lt;2.5</td>\n",
       "      <td>NaN</td>\n",
       "      <td>1</td>\n",
       "      <td>...</td>\n",
       "      <td>29</td>\n",
       "      <td>93.1</td>\n",
       "      <td>95.6</td>\n",
       "      <td>1</td>\n",
       "      <td>1</td>\n",
       "      <td>1</td>\n",
       "      <td>17.7</td>\n",
       "      <td>24.9</td>\n",
       "      <td>1</td>\n",
       "      <td>4.6</td>\n",
       "    </tr>\n",
       "    <tr>\n",
       "      <th>7</th>\n",
       "      <td>118</td>\n",
       "      <td>402</td>\n",
       "      <td>2944</td>\n",
       "      <td>42</td>\n",
       "      <td>82.3</td>\n",
       "      <td>39.3</td>\n",
       "      <td>13793.2</td>\n",
       "      <td>&lt;2.5</td>\n",
       "      <td>NaN</td>\n",
       "      <td>1</td>\n",
       "      <td>...</td>\n",
       "      <td>1</td>\n",
       "      <td>92.4</td>\n",
       "      <td>95.8</td>\n",
       "      <td>1</td>\n",
       "      <td>1</td>\n",
       "      <td>1</td>\n",
       "      <td>18</td>\n",
       "      <td>24.8</td>\n",
       "      <td>1</td>\n",
       "      <td>4.6</td>\n",
       "    </tr>\n",
       "    <tr>\n",
       "      <th>8</th>\n",
       "      <td>118</td>\n",
       "      <td>395</td>\n",
       "      <td>2942</td>\n",
       "      <td>41</td>\n",
       "      <td>82.3</td>\n",
       "      <td>39.7</td>\n",
       "      <td>14635.4</td>\n",
       "      <td>&lt;2.5</td>\n",
       "      <td>NaN</td>\n",
       "      <td>1</td>\n",
       "      <td>...</td>\n",
       "      <td>1</td>\n",
       "      <td>91.6</td>\n",
       "      <td>96.1</td>\n",
       "      <td>1</td>\n",
       "      <td>1</td>\n",
       "      <td>1</td>\n",
       "      <td>18.4</td>\n",
       "      <td>24.6</td>\n",
       "      <td>1</td>\n",
       "      <td>4.6</td>\n",
       "    </tr>\n",
       "    <tr>\n",
       "      <th>9</th>\n",
       "      <td>118</td>\n",
       "      <td>391</td>\n",
       "      <td>2939</td>\n",
       "      <td>42</td>\n",
       "      <td>82</td>\n",
       "      <td>39.7</td>\n",
       "      <td>14292.8</td>\n",
       "      <td>&lt;2.5</td>\n",
       "      <td>NaN</td>\n",
       "      <td>1</td>\n",
       "      <td>...</td>\n",
       "      <td>1</td>\n",
       "      <td>90.8</td>\n",
       "      <td>96.3</td>\n",
       "      <td>1</td>\n",
       "      <td>1</td>\n",
       "      <td>1</td>\n",
       "      <td>18.8</td>\n",
       "      <td>24.5</td>\n",
       "      <td>1</td>\n",
       "      <td>4.6</td>\n",
       "    </tr>\n",
       "    <tr>\n",
       "      <th>10</th>\n",
       "      <td>117</td>\n",
       "      <td>1</td>\n",
       "      <td>2918</td>\n",
       "      <td>42</td>\n",
       "      <td>81.7</td>\n",
       "      <td>39.7</td>\n",
       "      <td>14455.3</td>\n",
       "      <td>2.6</td>\n",
       "      <td>0.2</td>\n",
       "      <td>1</td>\n",
       "      <td>...</td>\n",
       "      <td>1</td>\n",
       "      <td>90.1</td>\n",
       "      <td>96.5</td>\n",
       "      <td>1</td>\n",
       "      <td>1</td>\n",
       "      <td>1</td>\n",
       "      <td>19.2</td>\n",
       "      <td>24.5</td>\n",
       "      <td>1</td>\n",
       "      <td>4.6</td>\n",
       "    </tr>\n",
       "    <tr>\n",
       "      <th>11</th>\n",
       "      <td>116</td>\n",
       "      <td>1</td>\n",
       "      <td>2913</td>\n",
       "      <td>1</td>\n",
       "      <td>1</td>\n",
       "      <td>1</td>\n",
       "      <td>14866.5</td>\n",
       "      <td>2.7</td>\n",
       "      <td>0.2</td>\n",
       "      <td>1</td>\n",
       "      <td>...</td>\n",
       "      <td>1</td>\n",
       "      <td>89.3</td>\n",
       "      <td>96.8</td>\n",
       "      <td>1</td>\n",
       "      <td>1</td>\n",
       "      <td>1</td>\n",
       "      <td>19.6</td>\n",
       "      <td>24.6</td>\n",
       "      <td>1</td>\n",
       "      <td>4.6</td>\n",
       "    </tr>\n",
       "    <tr>\n",
       "      <th>12</th>\n",
       "      <td>115</td>\n",
       "      <td>1</td>\n",
       "      <td>2872</td>\n",
       "      <td>1</td>\n",
       "      <td>1</td>\n",
       "      <td>1</td>\n",
       "      <td>14837.1</td>\n",
       "      <td>3.2</td>\n",
       "      <td>0.3</td>\n",
       "      <td>1</td>\n",
       "      <td>...</td>\n",
       "      <td>1</td>\n",
       "      <td>88.6</td>\n",
       "      <td>97</td>\n",
       "      <td>1</td>\n",
       "      <td>1</td>\n",
       "      <td>1</td>\n",
       "      <td>20</td>\n",
       "      <td>24.9</td>\n",
       "      <td>1</td>\n",
       "      <td>4.6</td>\n",
       "    </tr>\n",
       "    <tr>\n",
       "      <th>13</th>\n",
       "      <td>114</td>\n",
       "      <td>1</td>\n",
       "      <td>2845</td>\n",
       "      <td>1</td>\n",
       "      <td>1</td>\n",
       "      <td>1</td>\n",
       "      <td>15340.7</td>\n",
       "      <td>3.6</td>\n",
       "      <td>0.3</td>\n",
       "      <td>1</td>\n",
       "      <td>...</td>\n",
       "      <td>1</td>\n",
       "      <td>87.8</td>\n",
       "      <td>97.2</td>\n",
       "      <td>1</td>\n",
       "      <td>1</td>\n",
       "      <td>1</td>\n",
       "      <td>20.3</td>\n",
       "      <td>25.3</td>\n",
       "      <td>1</td>\n",
       "      <td>4.5</td>\n",
       "    </tr>\n",
       "    <tr>\n",
       "      <th>14</th>\n",
       "      <td>112</td>\n",
       "      <td>1</td>\n",
       "      <td>2809</td>\n",
       "      <td>1</td>\n",
       "      <td>1</td>\n",
       "      <td>1</td>\n",
       "      <td>15167.9</td>\n",
       "      <td>4.1</td>\n",
       "      <td>0.4</td>\n",
       "      <td>1</td>\n",
       "      <td>...</td>\n",
       "      <td>1</td>\n",
       "      <td>87</td>\n",
       "      <td>97.5</td>\n",
       "      <td>1</td>\n",
       "      <td>1</td>\n",
       "      <td>1</td>\n",
       "      <td>20.7</td>\n",
       "      <td>25.8</td>\n",
       "      <td>1</td>\n",
       "      <td>4.5</td>\n",
       "    </tr>\n",
       "    <tr>\n",
       "      <th>15</th>\n",
       "      <td>112</td>\n",
       "      <td>1</td>\n",
       "      <td>2809</td>\n",
       "      <td>1</td>\n",
       "      <td>1</td>\n",
       "      <td>1</td>\n",
       "      <td>15513.9</td>\n",
       "      <td>4.1</td>\n",
       "      <td>0.4</td>\n",
       "      <td>1</td>\n",
       "      <td>...</td>\n",
       "      <td>1</td>\n",
       "      <td>86.3</td>\n",
       "      <td>97.6</td>\n",
       "      <td>1</td>\n",
       "      <td>1</td>\n",
       "      <td>1</td>\n",
       "      <td>21.1</td>\n",
       "      <td>26.4</td>\n",
       "      <td>1</td>\n",
       "      <td>4.5</td>\n",
       "    </tr>\n",
       "    <tr>\n",
       "      <th>16</th>\n",
       "      <td>112</td>\n",
       "      <td>1</td>\n",
       "      <td>2796</td>\n",
       "      <td>1</td>\n",
       "      <td>1</td>\n",
       "      <td>1</td>\n",
       "      <td>16116.3</td>\n",
       "      <td>4.3</td>\n",
       "      <td>0.4</td>\n",
       "      <td>1</td>\n",
       "      <td>...</td>\n",
       "      <td>1</td>\n",
       "      <td>85.5</td>\n",
       "      <td>97.6</td>\n",
       "      <td>1</td>\n",
       "      <td>1</td>\n",
       "      <td>1</td>\n",
       "      <td>21.5</td>\n",
       "      <td>27.2</td>\n",
       "      <td>1</td>\n",
       "      <td>1</td>\n",
       "    </tr>\n",
       "    <tr>\n",
       "      <th>17</th>\n",
       "      <td>111</td>\n",
       "      <td>1</td>\n",
       "      <td>2783</td>\n",
       "      <td>1</td>\n",
       "      <td>1</td>\n",
       "      <td>1</td>\n",
       "      <td>16534.3</td>\n",
       "      <td>4.6</td>\n",
       "      <td>0.4</td>\n",
       "      <td>1</td>\n",
       "      <td>...</td>\n",
       "      <td>1</td>\n",
       "      <td>85.5</td>\n",
       "      <td>97.6</td>\n",
       "      <td>1</td>\n",
       "      <td>1</td>\n",
       "      <td>1</td>\n",
       "      <td>1</td>\n",
       "      <td>1</td>\n",
       "      <td>1</td>\n",
       "      <td>1</td>\n",
       "    </tr>\n",
       "    <tr>\n",
       "      <th>18</th>\n",
       "      <td>1</td>\n",
       "      <td>1</td>\n",
       "      <td>1</td>\n",
       "      <td>1</td>\n",
       "      <td>1</td>\n",
       "      <td>1</td>\n",
       "      <td>17355.1</td>\n",
       "      <td>1</td>\n",
       "      <td>1</td>\n",
       "      <td>1</td>\n",
       "      <td>...</td>\n",
       "      <td>1</td>\n",
       "      <td>1</td>\n",
       "      <td>1</td>\n",
       "      <td>1</td>\n",
       "      <td>1</td>\n",
       "      <td>1</td>\n",
       "      <td>1</td>\n",
       "      <td>1</td>\n",
       "      <td>1</td>\n",
       "      <td>1</td>\n",
       "    </tr>\n",
       "    <tr>\n",
       "      <th>19</th>\n",
       "      <td>1</td>\n",
       "      <td>1</td>\n",
       "      <td>1</td>\n",
       "      <td>1</td>\n",
       "      <td>1</td>\n",
       "      <td>1</td>\n",
       "      <td>18179.8</td>\n",
       "      <td>1</td>\n",
       "      <td>1</td>\n",
       "      <td>1</td>\n",
       "      <td>...</td>\n",
       "      <td>1</td>\n",
       "      <td>1</td>\n",
       "      <td>1</td>\n",
       "      <td>1</td>\n",
       "      <td>1</td>\n",
       "      <td>1</td>\n",
       "      <td>1</td>\n",
       "      <td>1</td>\n",
       "      <td>1</td>\n",
       "      <td>1</td>\n",
       "    </tr>\n",
       "  </tbody>\n",
       "</table>\n",
       "<p>20 rows × 28 columns</p>\n",
       "</div>"
      ],
      "text/plain": [
       "   Average dietary energy supply adequacy (percent) (3-year average)  \\\n",
       "0                                                 119                  \n",
       "1                                                 119                  \n",
       "2                                                 119                  \n",
       "3                                                 119                  \n",
       "4                                                 119                  \n",
       "5                                                 118                  \n",
       "6                                                 118                  \n",
       "7                                                 118                  \n",
       "8                                                 118                  \n",
       "9                                                 118                  \n",
       "10                                                117                  \n",
       "11                                                116                  \n",
       "12                                                115                  \n",
       "13                                                114                  \n",
       "14                                                112                  \n",
       "15                                                112                  \n",
       "16                                                112                  \n",
       "17                                                111                  \n",
       "18                                                  1                  \n",
       "19                                                  1                  \n",
       "\n",
       "   Average value of food production (constant 2004-2006 I$/cap) (3-year average)  \\\n",
       "0                                                 400                              \n",
       "1                                                 404                              \n",
       "2                                                 415                              \n",
       "3                                                 423                              \n",
       "4                                                 430                              \n",
       "5                                                 415                              \n",
       "6                                                 416                              \n",
       "7                                                 402                              \n",
       "8                                                 395                              \n",
       "9                                                 391                              \n",
       "10                                                  1                              \n",
       "11                                                  1                              \n",
       "12                                                  1                              \n",
       "13                                                  1                              \n",
       "14                                                  1                              \n",
       "15                                                  1                              \n",
       "16                                                  1                              \n",
       "17                                                  1                              \n",
       "18                                                  1                              \n",
       "19                                                  1                              \n",
       "\n",
       "   Dietary energy supply used in the estimation of prevalence of undernourishment (kcal/cap/day) (3-year average)  \\\n",
       "0                                                2966                                                               \n",
       "1                                                2967                                                               \n",
       "2                                                2968                                                               \n",
       "3                                                2970                                                               \n",
       "4                                                2971                                                               \n",
       "5                                                2958                                                               \n",
       "6                                                2945                                                               \n",
       "7                                                2944                                                               \n",
       "8                                                2942                                                               \n",
       "9                                                2939                                                               \n",
       "10                                               2918                                                               \n",
       "11                                               2913                                                               \n",
       "12                                               2872                                                               \n",
       "13                                               2845                                                               \n",
       "14                                               2809                                                               \n",
       "15                                               2809                                                               \n",
       "16                                               2796                                                               \n",
       "17                                               2783                                                               \n",
       "18                                                  1                                                               \n",
       "19                                                  1                                                               \n",
       "\n",
       "   Share of dietary energy supply derived from cereals, roots and tubers (kcal/cap/day) (3-year average)  \\\n",
       "0                                                  38                                                      \n",
       "1                                                  37                                                      \n",
       "2                                                  37                                                      \n",
       "3                                                  38                                                      \n",
       "4                                                  39                                                      \n",
       "5                                                  41                                                      \n",
       "6                                                  41                                                      \n",
       "7                                                  42                                                      \n",
       "8                                                  41                                                      \n",
       "9                                                  42                                                      \n",
       "10                                                 42                                                      \n",
       "11                                                  1                                                      \n",
       "12                                                  1                                                      \n",
       "13                                                  1                                                      \n",
       "14                                                  1                                                      \n",
       "15                                                  1                                                      \n",
       "16                                                  1                                                      \n",
       "17                                                  1                                                      \n",
       "18                                                  1                                                      \n",
       "19                                                  1                                                      \n",
       "\n",
       "   Average protein supply (g/cap/day) (3-year average)  \\\n",
       "0                                                77.5    \n",
       "1                                                78.3    \n",
       "2                                                  79    \n",
       "3                                                  80    \n",
       "4                                                80.7    \n",
       "5                                                81.7    \n",
       "6                                                  82    \n",
       "7                                                82.3    \n",
       "8                                                82.3    \n",
       "9                                                  82    \n",
       "10                                               81.7    \n",
       "11                                                  1    \n",
       "12                                                  1    \n",
       "13                                                  1    \n",
       "14                                                  1    \n",
       "15                                                  1    \n",
       "16                                                  1    \n",
       "17                                                  1    \n",
       "18                                                  1    \n",
       "19                                                  1    \n",
       "\n",
       "   Average supply of protein of animal origin (g/cap/day) (3-year average)  \\\n",
       "0                                                  35                        \n",
       "1                                                35.7                        \n",
       "2                                                36.3                        \n",
       "3                                                36.7                        \n",
       "4                                                36.7                        \n",
       "5                                                37.7                        \n",
       "6                                                38.3                        \n",
       "7                                                39.3                        \n",
       "8                                                39.7                        \n",
       "9                                                39.7                        \n",
       "10                                               39.7                        \n",
       "11                                                  1                        \n",
       "12                                                  1                        \n",
       "13                                                  1                        \n",
       "14                                                  1                        \n",
       "15                                                  1                        \n",
       "16                                                  1                        \n",
       "17                                                  1                        \n",
       "18                                                  1                        \n",
       "19                                                  1                        \n",
       "\n",
       "   Gross domestic product per capita, PPP, dissemination (constant 2011 international $)  \\\n",
       "0                                              8866.5                                      \n",
       "1                                              9492.7                                      \n",
       "2                                             10107.6                                      \n",
       "3                                             10573.6                                      \n",
       "4                                             11555.1                                      \n",
       "5                                             12230.9                                      \n",
       "6                                             12906.2                                      \n",
       "7                                             13793.2                                      \n",
       "8                                             14635.4                                      \n",
       "9                                             14292.8                                      \n",
       "10                                            14455.3                                      \n",
       "11                                            14866.5                                      \n",
       "12                                            14837.1                                      \n",
       "13                                            15340.7                                      \n",
       "14                                            15167.9                                      \n",
       "15                                            15513.9                                      \n",
       "16                                            16116.3                                      \n",
       "17                                            16534.3                                      \n",
       "18                                            17355.1                                      \n",
       "19                                            18179.8                                      \n",
       "\n",
       "   Prevalence of undernourishment (percent) (3-year average)  \\\n",
       "0                                                <2.5          \n",
       "1                                                <2.5          \n",
       "2                                                <2.5          \n",
       "3                                                <2.5          \n",
       "4                                                <2.5          \n",
       "5                                                <2.5          \n",
       "6                                                <2.5          \n",
       "7                                                <2.5          \n",
       "8                                                <2.5          \n",
       "9                                                <2.5          \n",
       "10                                                2.6          \n",
       "11                                                2.7          \n",
       "12                                                3.2          \n",
       "13                                                3.6          \n",
       "14                                                4.1          \n",
       "15                                                4.1          \n",
       "16                                                4.3          \n",
       "17                                                4.6          \n",
       "18                                                  1          \n",
       "19                                                  1          \n",
       "\n",
       "   Number of people undernourished (million) (3-year average)  \\\n",
       "0                                                 NaN           \n",
       "1                                                 NaN           \n",
       "2                                                 NaN           \n",
       "3                                                 NaN           \n",
       "4                                                 NaN           \n",
       "5                                                 NaN           \n",
       "6                                                 NaN           \n",
       "7                                                 NaN           \n",
       "8                                                 NaN           \n",
       "9                                                 NaN           \n",
       "10                                                0.2           \n",
       "11                                                0.2           \n",
       "12                                                0.3           \n",
       "13                                                0.3           \n",
       "14                                                0.4           \n",
       "15                                                0.4           \n",
       "16                                                0.4           \n",
       "17                                                0.4           \n",
       "18                                                  1           \n",
       "19                                                  1           \n",
       "\n",
       "   Prevalence of severe food insecurity in the total population (percent) (3-year average)  \\\n",
       "0                                                 1.7                                        \n",
       "1                                                 2.3                                        \n",
       "2                                                 1.9                                        \n",
       "3                                                   2                                        \n",
       "4                                                   1                                        \n",
       "5                                                   1                                        \n",
       "6                                                   1                                        \n",
       "7                                                   1                                        \n",
       "8                                                   1                                        \n",
       "9                                                   1                                        \n",
       "10                                                  1                                        \n",
       "11                                                  1                                        \n",
       "12                                                  1                                        \n",
       "13                                                  1                                        \n",
       "14                                                  1                                        \n",
       "15                                                  1                                        \n",
       "16                                                  1                                        \n",
       "17                                                  1                                        \n",
       "18                                                  1                                        \n",
       "19                                                  1                                        \n",
       "\n",
       "    ... Per capita food supply variability (kcal/cap/day)  \\\n",
       "0   ...                                                24   \n",
       "1   ...                                                21   \n",
       "2   ...                                                17   \n",
       "3   ...                                                17   \n",
       "4   ...                                                30   \n",
       "5   ...                                                30   \n",
       "6   ...                                                29   \n",
       "7   ...                                                 1   \n",
       "8   ...                                                 1   \n",
       "9   ...                                                 1   \n",
       "10  ...                                                 1   \n",
       "11  ...                                                 1   \n",
       "12  ...                                                 1   \n",
       "13  ...                                                 1   \n",
       "14  ...                                                 1   \n",
       "15  ...                                                 1   \n",
       "16  ...                                                 1   \n",
       "17  ...                                                 1   \n",
       "18  ...                                                 1   \n",
       "19  ...                                                 1   \n",
       "\n",
       "   Percentage of population using at least basic drinking water services (percent)  \\\n",
       "0                                                94.7                                \n",
       "1                                                94.7                                \n",
       "2                                                94.7                                \n",
       "3                                                94.7                                \n",
       "4                                                94.6                                \n",
       "5                                                93.9                                \n",
       "6                                                93.1                                \n",
       "7                                                92.4                                \n",
       "8                                                91.6                                \n",
       "9                                                90.8                                \n",
       "10                                               90.1                                \n",
       "11                                               89.3                                \n",
       "12                                               88.6                                \n",
       "13                                               87.8                                \n",
       "14                                                 87                                \n",
       "15                                               86.3                                \n",
       "16                                               85.5                                \n",
       "17                                               85.5                                \n",
       "18                                                  1                                \n",
       "19                                                  1                                \n",
       "\n",
       "   Percentage of population using at least basic sanitation services (percent)  \\\n",
       "0                                                95.3                            \n",
       "1                                                95.2                            \n",
       "2                                                95.2                            \n",
       "3                                                95.2                            \n",
       "4                                                95.1                            \n",
       "5                                                95.4                            \n",
       "6                                                95.6                            \n",
       "7                                                95.8                            \n",
       "8                                                96.1                            \n",
       "9                                                96.3                            \n",
       "10                                               96.5                            \n",
       "11                                               96.8                            \n",
       "12                                                 97                            \n",
       "13                                               97.2                            \n",
       "14                                               97.5                            \n",
       "15                                               97.6                            \n",
       "16                                               97.6                            \n",
       "17                                               97.6                            \n",
       "18                                                  1                            \n",
       "19                                                  1                            \n",
       "\n",
       "   Percentage of children under 5 years affected by wasting (percent)  \\\n",
       "0                                                 4.5                   \n",
       "1                                                 3.5                   \n",
       "2                                                 3.9                   \n",
       "3                                                   1                   \n",
       "4                                                   1                   \n",
       "5                                                   1                   \n",
       "6                                                   1                   \n",
       "7                                                   1                   \n",
       "8                                                   1                   \n",
       "9                                                   1                   \n",
       "10                                                  1                   \n",
       "11                                                  1                   \n",
       "12                                                  1                   \n",
       "13                                                  1                   \n",
       "14                                                  1                   \n",
       "15                                                  1                   \n",
       "16                                                  1                   \n",
       "17                                                  1                   \n",
       "18                                                  1                   \n",
       "19                                                  1                   \n",
       "\n",
       "   Percentage of children under 5 years of age who are stunted (percent)  \\\n",
       "0                                                 8.1                      \n",
       "1                                                 6.6                      \n",
       "2                                                   6                      \n",
       "3                                                   1                      \n",
       "4                                                   1                      \n",
       "5                                                   1                      \n",
       "6                                                   1                      \n",
       "7                                                   1                      \n",
       "8                                                   1                      \n",
       "9                                                   1                      \n",
       "10                                                  1                      \n",
       "11                                                  1                      \n",
       "12                                                  1                      \n",
       "13                                                  1                      \n",
       "14                                                  1                      \n",
       "15                                                  1                      \n",
       "16                                                  1                      \n",
       "17                                                  1                      \n",
       "18                                                  1                      \n",
       "19                                                  1                      \n",
       "\n",
       "   Percentage of children under 5 years of age who are overweight (percent)  \\\n",
       "0                                                19.3                         \n",
       "1                                                15.6                         \n",
       "2                                                13.9                         \n",
       "3                                                   1                         \n",
       "4                                                   1                         \n",
       "5                                                   1                         \n",
       "6                                                   1                         \n",
       "7                                                   1                         \n",
       "8                                                   1                         \n",
       "9                                                   1                         \n",
       "10                                                  1                         \n",
       "11                                                  1                         \n",
       "12                                                  1                         \n",
       "13                                                  1                         \n",
       "14                                                  1                         \n",
       "15                                                  1                         \n",
       "16                                                  1                         \n",
       "17                                                  1                         \n",
       "18                                                  1                         \n",
       "19                                                  1                         \n",
       "\n",
       "   Prevalence of obesity in the adult population (18 years and older)  \\\n",
       "0                                                15.5                   \n",
       "1                                                15.8                   \n",
       "2                                                16.2                   \n",
       "3                                                16.6                   \n",
       "4                                                16.9                   \n",
       "5                                                17.3                   \n",
       "6                                                17.7                   \n",
       "7                                                  18                   \n",
       "8                                                18.4                   \n",
       "9                                                18.8                   \n",
       "10                                               19.2                   \n",
       "11                                               19.6                   \n",
       "12                                                 20                   \n",
       "13                                               20.3                   \n",
       "14                                               20.7                   \n",
       "15                                               21.1                   \n",
       "16                                               21.5                   \n",
       "17                                                  1                   \n",
       "18                                                  1                   \n",
       "19                                                  1                   \n",
       "\n",
       "   Prevalence of anemia among women of reproductive age (15-49 years)  \\\n",
       "0                                                25.3                   \n",
       "1                                                25.1                   \n",
       "2                                                25.1                   \n",
       "3                                                25.1                   \n",
       "4                                                25.1                   \n",
       "5                                                  25                   \n",
       "6                                                24.9                   \n",
       "7                                                24.8                   \n",
       "8                                                24.6                   \n",
       "9                                                24.5                   \n",
       "10                                               24.5                   \n",
       "11                                               24.6                   \n",
       "12                                               24.9                   \n",
       "13                                               25.3                   \n",
       "14                                               25.8                   \n",
       "15                                               26.4                   \n",
       "16                                               27.2                   \n",
       "17                                                  1                   \n",
       "18                                                  1                   \n",
       "19                                                  1                   \n",
       "\n",
       "   Prevalence of exclusive breastfeeding among infants 0-5 months of age  \\\n",
       "0                                                14.5                      \n",
       "1                                                13.4                      \n",
       "2                                                12.8                      \n",
       "3                                                   1                      \n",
       "4                                                   1                      \n",
       "5                                                   1                      \n",
       "6                                                   1                      \n",
       "7                                                   1                      \n",
       "8                                                   1                      \n",
       "9                                                   1                      \n",
       "10                                                  1                      \n",
       "11                                                  1                      \n",
       "12                                                  1                      \n",
       "13                                                  1                      \n",
       "14                                                  1                      \n",
       "15                                                  1                      \n",
       "16                                                  1                      \n",
       "17                                                  1                      \n",
       "18                                                  1                      \n",
       "19                                                  1                      \n",
       "\n",
       "   Prevalence of low birthweight (percent)  \n",
       "0                                      4.7  \n",
       "1                                      4.7  \n",
       "2                                      4.7  \n",
       "3                                      4.7  \n",
       "4                                      4.6  \n",
       "5                                      4.6  \n",
       "6                                      4.6  \n",
       "7                                      4.6  \n",
       "8                                      4.6  \n",
       "9                                      4.6  \n",
       "10                                     4.6  \n",
       "11                                     4.6  \n",
       "12                                     4.6  \n",
       "13                                     4.5  \n",
       "14                                     4.5  \n",
       "15                                     4.5  \n",
       "16                                       1  \n",
       "17                                       1  \n",
       "18                                       1  \n",
       "19                                       1  \n",
       "\n",
       "[20 rows x 28 columns]"
      ]
     },
     "execution_count": 20,
     "metadata": {},
     "output_type": "execute_result"
    }
   ],
   "source": [
    "dataf[0]"
   ]
  },
  {
   "cell_type": "code",
   "execution_count": 21,
   "metadata": {},
   "outputs": [],
   "source": [
    "full_dataframe = dataf[0]\n",
    "for data in dataf[1:]:\n",
    "    full_dataframe = full_dataframe.append(data)"
   ]
  },
  {
   "cell_type": "code",
   "execution_count": 22,
   "metadata": {},
   "outputs": [
    {
     "data": {
      "text/plain": [
       "580"
      ]
     },
     "execution_count": 22,
     "metadata": {},
     "output_type": "execute_result"
    }
   ],
   "source": [
    "len(full_dataframe.index)"
   ]
  },
  {
   "cell_type": "code",
   "execution_count": 23,
   "metadata": {},
   "outputs": [
    {
     "data": {
      "text/plain": [
       "Average dietary energy supply adequacy (percent) (3-year average)                                                   0\n",
       "Average value of food production (constant 2004-2006 I$/cap) (3-year average)                                       0\n",
       "Dietary energy supply used in the estimation of prevalence of undernourishment (kcal/cap/day) (3-year average)      0\n",
       "Share of dietary energy supply derived from cereals, roots and tubers (kcal/cap/day) (3-year average)               0\n",
       "Average protein supply (g/cap/day) (3-year average)                                                                 0\n",
       "Average supply of protein of animal origin (g/cap/day) (3-year average)                                             0\n",
       "Gross domestic product per capita, PPP, dissemination (constant 2011 international $)                               0\n",
       "Prevalence of undernourishment (percent) (3-year average)                                                         180\n",
       "Number of people undernourished (million) (3-year average)                                                        190\n",
       "Prevalence of severe food insecurity in the total population (percent) (3-year average)                            60\n",
       "Prevalence of moderate or severe food insecurity in the total population (percent) (3-year average)                60\n",
       "Number of severely food insecure people (million) (3-year average)                                                 60\n",
       "Number of moderately or severely food insecure people (million) (3-year average)                                   60\n",
       "Cereal import dependency ratio (percent) (3-year average)                                                           0\n",
       "Percent of arable land equipped for irrigation (percent) (3-year average)                                           0\n",
       "Value of food imports in total merchandise exports (percent) (3-year average)                                       0\n",
       "Political stability and absence of violence/terrorism (index)                                                       0\n",
       "Per capita food production variability (constant 2004-2006 thousand int$ per capita)                                0\n",
       "Per capita food supply variability (kcal/cap/day)                                                                   0\n",
       "Percentage of population using at least basic drinking water services (percent)                                     0\n",
       "Percentage of population using at least basic sanitation services (percent)                                         0\n",
       "Percentage of children under 5 years affected by wasting (percent)                                                  0\n",
       "Percentage of children under 5 years of age who are stunted (percent)                                               0\n",
       "Percentage of children under 5 years of age who are overweight (percent)                                            0\n",
       "Prevalence of obesity in the adult population (18 years and older)                                                  0\n",
       "Prevalence of anemia among women of reproductive age (15-49 years)                                                  0\n",
       "Prevalence of exclusive breastfeeding among infants 0-5 months of age                                               0\n",
       "Prevalence of low birthweight (percent)                                                                             0\n",
       "dtype: int64"
      ]
     },
     "execution_count": 23,
     "metadata": {},
     "output_type": "execute_result"
    }
   ],
   "source": [
    "full_dataframe.isnull().sum()"
   ]
  },
  {
   "cell_type": "code",
   "execution_count": 24,
   "metadata": {},
   "outputs": [],
   "source": [
    "full_dataframe.dropna(inplace = True)"
   ]
  },
  {
   "cell_type": "code",
   "execution_count": 25,
   "metadata": {},
   "outputs": [],
   "source": [
    "full_dataframe = full_dataframe.rename(columns={\"Average dietary energy supply adequacy (percent) (3-year average)\": \"Dietary_Adj\"})"
   ]
  },
  {
   "cell_type": "code",
   "execution_count": 26,
   "metadata": {},
   "outputs": [],
   "source": [
    "full_dataframe = full_dataframe.rename(columns={\"Prevalence of moderate or severe food insecurity in the total population (percent) (3-year average)\": \"Mod_Sev_Inad\"})"
   ]
  },
  {
   "cell_type": "markdown",
   "metadata": {},
   "source": [
    "## Cleaning and Preprocessing"
   ]
  },
  {
   "cell_type": "code",
   "execution_count": 27,
   "metadata": {},
   "outputs": [],
   "source": [
    "#replacing the 1s with means of the columns:"
   ]
  },
  {
   "cell_type": "code",
   "execution_count": 28,
   "metadata": {},
   "outputs": [
    {
     "data": {
      "text/html": [
       "<div>\n",
       "<style scoped>\n",
       "    .dataframe tbody tr th:only-of-type {\n",
       "        vertical-align: middle;\n",
       "    }\n",
       "\n",
       "    .dataframe tbody tr th {\n",
       "        vertical-align: top;\n",
       "    }\n",
       "\n",
       "    .dataframe thead th {\n",
       "        text-align: right;\n",
       "    }\n",
       "</style>\n",
       "<table border=\"1\" class=\"dataframe\">\n",
       "  <thead>\n",
       "    <tr style=\"text-align: right;\">\n",
       "      <th></th>\n",
       "      <th>Dietary_Adj</th>\n",
       "      <th>Average value of food production (constant 2004-2006 I$/cap) (3-year average)</th>\n",
       "      <th>Dietary energy supply used in the estimation of prevalence of undernourishment (kcal/cap/day) (3-year average)</th>\n",
       "      <th>Share of dietary energy supply derived from cereals, roots and tubers (kcal/cap/day) (3-year average)</th>\n",
       "      <th>Average protein supply (g/cap/day) (3-year average)</th>\n",
       "      <th>Average supply of protein of animal origin (g/cap/day) (3-year average)</th>\n",
       "      <th>Gross domestic product per capita, PPP, dissemination (constant 2011 international $)</th>\n",
       "      <th>Prevalence of undernourishment (percent) (3-year average)</th>\n",
       "      <th>Number of people undernourished (million) (3-year average)</th>\n",
       "      <th>Prevalence of severe food insecurity in the total population (percent) (3-year average)</th>\n",
       "      <th>...</th>\n",
       "      <th>Per capita food supply variability (kcal/cap/day)</th>\n",
       "      <th>Percentage of population using at least basic drinking water services (percent)</th>\n",
       "      <th>Percentage of population using at least basic sanitation services (percent)</th>\n",
       "      <th>Percentage of children under 5 years affected by wasting (percent)</th>\n",
       "      <th>Percentage of children under 5 years of age who are stunted (percent)</th>\n",
       "      <th>Percentage of children under 5 years of age who are overweight (percent)</th>\n",
       "      <th>Prevalence of obesity in the adult population (18 years and older)</th>\n",
       "      <th>Prevalence of anemia among women of reproductive age (15-49 years)</th>\n",
       "      <th>Prevalence of exclusive breastfeeding among infants 0-5 months of age</th>\n",
       "      <th>Prevalence of low birthweight (percent)</th>\n",
       "    </tr>\n",
       "  </thead>\n",
       "  <tbody>\n",
       "    <tr>\n",
       "      <th>10</th>\n",
       "      <td>117</td>\n",
       "      <td>1</td>\n",
       "      <td>2918</td>\n",
       "      <td>42</td>\n",
       "      <td>81.7</td>\n",
       "      <td>39.7</td>\n",
       "      <td>14455.3</td>\n",
       "      <td>2.6</td>\n",
       "      <td>0.2</td>\n",
       "      <td>1</td>\n",
       "      <td>...</td>\n",
       "      <td>1</td>\n",
       "      <td>90.1</td>\n",
       "      <td>96.5</td>\n",
       "      <td>1</td>\n",
       "      <td>1</td>\n",
       "      <td>1</td>\n",
       "      <td>19.2</td>\n",
       "      <td>24.5</td>\n",
       "      <td>1</td>\n",
       "      <td>4.6</td>\n",
       "    </tr>\n",
       "    <tr>\n",
       "      <th>11</th>\n",
       "      <td>116</td>\n",
       "      <td>1</td>\n",
       "      <td>2913</td>\n",
       "      <td>1</td>\n",
       "      <td>1</td>\n",
       "      <td>1</td>\n",
       "      <td>14866.5</td>\n",
       "      <td>2.7</td>\n",
       "      <td>0.2</td>\n",
       "      <td>1</td>\n",
       "      <td>...</td>\n",
       "      <td>1</td>\n",
       "      <td>89.3</td>\n",
       "      <td>96.8</td>\n",
       "      <td>1</td>\n",
       "      <td>1</td>\n",
       "      <td>1</td>\n",
       "      <td>19.6</td>\n",
       "      <td>24.6</td>\n",
       "      <td>1</td>\n",
       "      <td>4.6</td>\n",
       "    </tr>\n",
       "    <tr>\n",
       "      <th>12</th>\n",
       "      <td>115</td>\n",
       "      <td>1</td>\n",
       "      <td>2872</td>\n",
       "      <td>1</td>\n",
       "      <td>1</td>\n",
       "      <td>1</td>\n",
       "      <td>14837.1</td>\n",
       "      <td>3.2</td>\n",
       "      <td>0.3</td>\n",
       "      <td>1</td>\n",
       "      <td>...</td>\n",
       "      <td>1</td>\n",
       "      <td>88.6</td>\n",
       "      <td>97</td>\n",
       "      <td>1</td>\n",
       "      <td>1</td>\n",
       "      <td>1</td>\n",
       "      <td>20</td>\n",
       "      <td>24.9</td>\n",
       "      <td>1</td>\n",
       "      <td>4.6</td>\n",
       "    </tr>\n",
       "    <tr>\n",
       "      <th>13</th>\n",
       "      <td>114</td>\n",
       "      <td>1</td>\n",
       "      <td>2845</td>\n",
       "      <td>1</td>\n",
       "      <td>1</td>\n",
       "      <td>1</td>\n",
       "      <td>15340.7</td>\n",
       "      <td>3.6</td>\n",
       "      <td>0.3</td>\n",
       "      <td>1</td>\n",
       "      <td>...</td>\n",
       "      <td>1</td>\n",
       "      <td>87.8</td>\n",
       "      <td>97.2</td>\n",
       "      <td>1</td>\n",
       "      <td>1</td>\n",
       "      <td>1</td>\n",
       "      <td>20.3</td>\n",
       "      <td>25.3</td>\n",
       "      <td>1</td>\n",
       "      <td>4.5</td>\n",
       "    </tr>\n",
       "    <tr>\n",
       "      <th>14</th>\n",
       "      <td>112</td>\n",
       "      <td>1</td>\n",
       "      <td>2809</td>\n",
       "      <td>1</td>\n",
       "      <td>1</td>\n",
       "      <td>1</td>\n",
       "      <td>15167.9</td>\n",
       "      <td>4.1</td>\n",
       "      <td>0.4</td>\n",
       "      <td>1</td>\n",
       "      <td>...</td>\n",
       "      <td>1</td>\n",
       "      <td>87</td>\n",
       "      <td>97.5</td>\n",
       "      <td>1</td>\n",
       "      <td>1</td>\n",
       "      <td>1</td>\n",
       "      <td>20.7</td>\n",
       "      <td>25.8</td>\n",
       "      <td>1</td>\n",
       "      <td>4.5</td>\n",
       "    </tr>\n",
       "  </tbody>\n",
       "</table>\n",
       "<p>5 rows × 28 columns</p>\n",
       "</div>"
      ],
      "text/plain": [
       "   Dietary_Adj  \\\n",
       "10         117   \n",
       "11         116   \n",
       "12         115   \n",
       "13         114   \n",
       "14         112   \n",
       "\n",
       "   Average value of food production (constant 2004-2006 I$/cap) (3-year average)  \\\n",
       "10                                                  1                              \n",
       "11                                                  1                              \n",
       "12                                                  1                              \n",
       "13                                                  1                              \n",
       "14                                                  1                              \n",
       "\n",
       "   Dietary energy supply used in the estimation of prevalence of undernourishment (kcal/cap/day) (3-year average)  \\\n",
       "10                                               2918                                                               \n",
       "11                                               2913                                                               \n",
       "12                                               2872                                                               \n",
       "13                                               2845                                                               \n",
       "14                                               2809                                                               \n",
       "\n",
       "   Share of dietary energy supply derived from cereals, roots and tubers (kcal/cap/day) (3-year average)  \\\n",
       "10                                                 42                                                      \n",
       "11                                                  1                                                      \n",
       "12                                                  1                                                      \n",
       "13                                                  1                                                      \n",
       "14                                                  1                                                      \n",
       "\n",
       "   Average protein supply (g/cap/day) (3-year average)  \\\n",
       "10                                               81.7    \n",
       "11                                                  1    \n",
       "12                                                  1    \n",
       "13                                                  1    \n",
       "14                                                  1    \n",
       "\n",
       "   Average supply of protein of animal origin (g/cap/day) (3-year average)  \\\n",
       "10                                               39.7                        \n",
       "11                                                  1                        \n",
       "12                                                  1                        \n",
       "13                                                  1                        \n",
       "14                                                  1                        \n",
       "\n",
       "   Gross domestic product per capita, PPP, dissemination (constant 2011 international $)  \\\n",
       "10                                            14455.3                                      \n",
       "11                                            14866.5                                      \n",
       "12                                            14837.1                                      \n",
       "13                                            15340.7                                      \n",
       "14                                            15167.9                                      \n",
       "\n",
       "   Prevalence of undernourishment (percent) (3-year average)  \\\n",
       "10                                                2.6          \n",
       "11                                                2.7          \n",
       "12                                                3.2          \n",
       "13                                                3.6          \n",
       "14                                                4.1          \n",
       "\n",
       "   Number of people undernourished (million) (3-year average)  \\\n",
       "10                                                0.2           \n",
       "11                                                0.2           \n",
       "12                                                0.3           \n",
       "13                                                0.3           \n",
       "14                                                0.4           \n",
       "\n",
       "   Prevalence of severe food insecurity in the total population (percent) (3-year average)  \\\n",
       "10                                                  1                                        \n",
       "11                                                  1                                        \n",
       "12                                                  1                                        \n",
       "13                                                  1                                        \n",
       "14                                                  1                                        \n",
       "\n",
       "    ... Per capita food supply variability (kcal/cap/day)  \\\n",
       "10  ...                                                 1   \n",
       "11  ...                                                 1   \n",
       "12  ...                                                 1   \n",
       "13  ...                                                 1   \n",
       "14  ...                                                 1   \n",
       "\n",
       "   Percentage of population using at least basic drinking water services (percent)  \\\n",
       "10                                               90.1                                \n",
       "11                                               89.3                                \n",
       "12                                               88.6                                \n",
       "13                                               87.8                                \n",
       "14                                                 87                                \n",
       "\n",
       "   Percentage of population using at least basic sanitation services (percent)  \\\n",
       "10                                               96.5                            \n",
       "11                                               96.8                            \n",
       "12                                                 97                            \n",
       "13                                               97.2                            \n",
       "14                                               97.5                            \n",
       "\n",
       "   Percentage of children under 5 years affected by wasting (percent)  \\\n",
       "10                                                  1                   \n",
       "11                                                  1                   \n",
       "12                                                  1                   \n",
       "13                                                  1                   \n",
       "14                                                  1                   \n",
       "\n",
       "   Percentage of children under 5 years of age who are stunted (percent)  \\\n",
       "10                                                  1                      \n",
       "11                                                  1                      \n",
       "12                                                  1                      \n",
       "13                                                  1                      \n",
       "14                                                  1                      \n",
       "\n",
       "   Percentage of children under 5 years of age who are overweight (percent)  \\\n",
       "10                                                  1                         \n",
       "11                                                  1                         \n",
       "12                                                  1                         \n",
       "13                                                  1                         \n",
       "14                                                  1                         \n",
       "\n",
       "   Prevalence of obesity in the adult population (18 years and older)  \\\n",
       "10                                               19.2                   \n",
       "11                                               19.6                   \n",
       "12                                                 20                   \n",
       "13                                               20.3                   \n",
       "14                                               20.7                   \n",
       "\n",
       "   Prevalence of anemia among women of reproductive age (15-49 years)  \\\n",
       "10                                               24.5                   \n",
       "11                                               24.6                   \n",
       "12                                               24.9                   \n",
       "13                                               25.3                   \n",
       "14                                               25.8                   \n",
       "\n",
       "   Prevalence of exclusive breastfeeding among infants 0-5 months of age  \\\n",
       "10                                                  1                      \n",
       "11                                                  1                      \n",
       "12                                                  1                      \n",
       "13                                                  1                      \n",
       "14                                                  1                      \n",
       "\n",
       "   Prevalence of low birthweight (percent)  \n",
       "10                                     4.6  \n",
       "11                                     4.6  \n",
       "12                                     4.6  \n",
       "13                                     4.5  \n",
       "14                                     4.5  \n",
       "\n",
       "[5 rows x 28 columns]"
      ]
     },
     "execution_count": 28,
     "metadata": {},
     "output_type": "execute_result"
    }
   ],
   "source": [
    "full_dataframe.head()"
   ]
  },
  {
   "cell_type": "code",
   "execution_count": 29,
   "metadata": {},
   "outputs": [],
   "source": [
    "import numpy as np"
   ]
  },
  {
   "cell_type": "code",
   "execution_count": 30,
   "metadata": {},
   "outputs": [],
   "source": [
    "for c in full_dataframe.columns:\n",
    "    col = full_dataframe[c]\n",
    "    non_one = [float(i) for i in col if i != 1 and i[0] != '<']\n",
    "    ave = np.mean(non_one)\n",
    "    fixed = []\n",
    "    for i in range(len(col)):\n",
    "        if list(col)[i] == 1:\n",
    "            fixed.append(ave)\n",
    "        else:\n",
    "            fixed.append(list(col)[i])        \n",
    "    full_dataframe[c] = fixed        "
   ]
  },
  {
   "cell_type": "code",
   "execution_count": 31,
   "metadata": {},
   "outputs": [
    {
     "data": {
      "text/html": [
       "<div>\n",
       "<style scoped>\n",
       "    .dataframe tbody tr th:only-of-type {\n",
       "        vertical-align: middle;\n",
       "    }\n",
       "\n",
       "    .dataframe tbody tr th {\n",
       "        vertical-align: top;\n",
       "    }\n",
       "\n",
       "    .dataframe thead th {\n",
       "        text-align: right;\n",
       "    }\n",
       "</style>\n",
       "<table border=\"1\" class=\"dataframe\">\n",
       "  <thead>\n",
       "    <tr style=\"text-align: right;\">\n",
       "      <th></th>\n",
       "      <th>Dietary_Adj</th>\n",
       "      <th>Average value of food production (constant 2004-2006 I$/cap) (3-year average)</th>\n",
       "      <th>Dietary energy supply used in the estimation of prevalence of undernourishment (kcal/cap/day) (3-year average)</th>\n",
       "      <th>Share of dietary energy supply derived from cereals, roots and tubers (kcal/cap/day) (3-year average)</th>\n",
       "      <th>Average protein supply (g/cap/day) (3-year average)</th>\n",
       "      <th>Average supply of protein of animal origin (g/cap/day) (3-year average)</th>\n",
       "      <th>Gross domestic product per capita, PPP, dissemination (constant 2011 international $)</th>\n",
       "      <th>Prevalence of undernourishment (percent) (3-year average)</th>\n",
       "      <th>Number of people undernourished (million) (3-year average)</th>\n",
       "      <th>Prevalence of severe food insecurity in the total population (percent) (3-year average)</th>\n",
       "      <th>...</th>\n",
       "      <th>Per capita food supply variability (kcal/cap/day)</th>\n",
       "      <th>Percentage of population using at least basic drinking water services (percent)</th>\n",
       "      <th>Percentage of population using at least basic sanitation services (percent)</th>\n",
       "      <th>Percentage of children under 5 years affected by wasting (percent)</th>\n",
       "      <th>Percentage of children under 5 years of age who are stunted (percent)</th>\n",
       "      <th>Percentage of children under 5 years of age who are overweight (percent)</th>\n",
       "      <th>Prevalence of obesity in the adult population (18 years and older)</th>\n",
       "      <th>Prevalence of anemia among women of reproductive age (15-49 years)</th>\n",
       "      <th>Prevalence of exclusive breastfeeding among infants 0-5 months of age</th>\n",
       "      <th>Prevalence of low birthweight (percent)</th>\n",
       "    </tr>\n",
       "  </thead>\n",
       "  <tbody>\n",
       "    <tr>\n",
       "      <th>10</th>\n",
       "      <td>117</td>\n",
       "      <td>175.772926</td>\n",
       "      <td>2918</td>\n",
       "      <td>42</td>\n",
       "      <td>81.7</td>\n",
       "      <td>39.7</td>\n",
       "      <td>14455.3</td>\n",
       "      <td>2.6</td>\n",
       "      <td>0.2</td>\n",
       "      <td>19.078049</td>\n",
       "      <td>...</td>\n",
       "      <td>34.163043</td>\n",
       "      <td>90.1</td>\n",
       "      <td>96.5</td>\n",
       "      <td>7.28</td>\n",
       "      <td>34.009231</td>\n",
       "      <td>4.780645</td>\n",
       "      <td>19.2</td>\n",
       "      <td>24.5</td>\n",
       "      <td>48.234884</td>\n",
       "      <td>4.6</td>\n",
       "    </tr>\n",
       "    <tr>\n",
       "      <th>11</th>\n",
       "      <td>116</td>\n",
       "      <td>175.772926</td>\n",
       "      <td>2913</td>\n",
       "      <td>58.245968</td>\n",
       "      <td>60.025806</td>\n",
       "      <td>18.228226</td>\n",
       "      <td>14866.5</td>\n",
       "      <td>2.7</td>\n",
       "      <td>0.2</td>\n",
       "      <td>19.078049</td>\n",
       "      <td>...</td>\n",
       "      <td>34.163043</td>\n",
       "      <td>89.3</td>\n",
       "      <td>96.8</td>\n",
       "      <td>7.28</td>\n",
       "      <td>34.009231</td>\n",
       "      <td>4.780645</td>\n",
       "      <td>19.6</td>\n",
       "      <td>24.6</td>\n",
       "      <td>48.234884</td>\n",
       "      <td>4.6</td>\n",
       "    </tr>\n",
       "    <tr>\n",
       "      <th>12</th>\n",
       "      <td>115</td>\n",
       "      <td>175.772926</td>\n",
       "      <td>2872</td>\n",
       "      <td>58.245968</td>\n",
       "      <td>60.025806</td>\n",
       "      <td>18.228226</td>\n",
       "      <td>14837.1</td>\n",
       "      <td>3.2</td>\n",
       "      <td>0.3</td>\n",
       "      <td>19.078049</td>\n",
       "      <td>...</td>\n",
       "      <td>34.163043</td>\n",
       "      <td>88.6</td>\n",
       "      <td>97</td>\n",
       "      <td>7.28</td>\n",
       "      <td>34.009231</td>\n",
       "      <td>4.780645</td>\n",
       "      <td>20</td>\n",
       "      <td>24.9</td>\n",
       "      <td>48.234884</td>\n",
       "      <td>4.6</td>\n",
       "    </tr>\n",
       "    <tr>\n",
       "      <th>13</th>\n",
       "      <td>114</td>\n",
       "      <td>175.772926</td>\n",
       "      <td>2845</td>\n",
       "      <td>58.245968</td>\n",
       "      <td>60.025806</td>\n",
       "      <td>18.228226</td>\n",
       "      <td>15340.7</td>\n",
       "      <td>3.6</td>\n",
       "      <td>0.3</td>\n",
       "      <td>19.078049</td>\n",
       "      <td>...</td>\n",
       "      <td>34.163043</td>\n",
       "      <td>87.8</td>\n",
       "      <td>97.2</td>\n",
       "      <td>7.28</td>\n",
       "      <td>34.009231</td>\n",
       "      <td>4.780645</td>\n",
       "      <td>20.3</td>\n",
       "      <td>25.3</td>\n",
       "      <td>48.234884</td>\n",
       "      <td>4.5</td>\n",
       "    </tr>\n",
       "    <tr>\n",
       "      <th>14</th>\n",
       "      <td>112</td>\n",
       "      <td>175.772926</td>\n",
       "      <td>2809</td>\n",
       "      <td>58.245968</td>\n",
       "      <td>60.025806</td>\n",
       "      <td>18.228226</td>\n",
       "      <td>15167.9</td>\n",
       "      <td>4.1</td>\n",
       "      <td>0.4</td>\n",
       "      <td>19.078049</td>\n",
       "      <td>...</td>\n",
       "      <td>34.163043</td>\n",
       "      <td>87</td>\n",
       "      <td>97.5</td>\n",
       "      <td>7.28</td>\n",
       "      <td>34.009231</td>\n",
       "      <td>4.780645</td>\n",
       "      <td>20.7</td>\n",
       "      <td>25.8</td>\n",
       "      <td>48.234884</td>\n",
       "      <td>4.5</td>\n",
       "    </tr>\n",
       "  </tbody>\n",
       "</table>\n",
       "<p>5 rows × 28 columns</p>\n",
       "</div>"
      ],
      "text/plain": [
       "   Dietary_Adj  \\\n",
       "10         117   \n",
       "11         116   \n",
       "12         115   \n",
       "13         114   \n",
       "14         112   \n",
       "\n",
       "   Average value of food production (constant 2004-2006 I$/cap) (3-year average)  \\\n",
       "10                                         175.772926                              \n",
       "11                                         175.772926                              \n",
       "12                                         175.772926                              \n",
       "13                                         175.772926                              \n",
       "14                                         175.772926                              \n",
       "\n",
       "   Dietary energy supply used in the estimation of prevalence of undernourishment (kcal/cap/day) (3-year average)  \\\n",
       "10                                               2918                                                               \n",
       "11                                               2913                                                               \n",
       "12                                               2872                                                               \n",
       "13                                               2845                                                               \n",
       "14                                               2809                                                               \n",
       "\n",
       "   Share of dietary energy supply derived from cereals, roots and tubers (kcal/cap/day) (3-year average)  \\\n",
       "10                                                 42                                                      \n",
       "11                                          58.245968                                                      \n",
       "12                                          58.245968                                                      \n",
       "13                                          58.245968                                                      \n",
       "14                                          58.245968                                                      \n",
       "\n",
       "   Average protein supply (g/cap/day) (3-year average)  \\\n",
       "10                                               81.7    \n",
       "11                                          60.025806    \n",
       "12                                          60.025806    \n",
       "13                                          60.025806    \n",
       "14                                          60.025806    \n",
       "\n",
       "   Average supply of protein of animal origin (g/cap/day) (3-year average)  \\\n",
       "10                                               39.7                        \n",
       "11                                          18.228226                        \n",
       "12                                          18.228226                        \n",
       "13                                          18.228226                        \n",
       "14                                          18.228226                        \n",
       "\n",
       "   Gross domestic product per capita, PPP, dissemination (constant 2011 international $)  \\\n",
       "10                                            14455.3                                      \n",
       "11                                            14866.5                                      \n",
       "12                                            14837.1                                      \n",
       "13                                            15340.7                                      \n",
       "14                                            15167.9                                      \n",
       "\n",
       "   Prevalence of undernourishment (percent) (3-year average)  \\\n",
       "10                                                2.6          \n",
       "11                                                2.7          \n",
       "12                                                3.2          \n",
       "13                                                3.6          \n",
       "14                                                4.1          \n",
       "\n",
       "   Number of people undernourished (million) (3-year average)  \\\n",
       "10                                                0.2           \n",
       "11                                                0.2           \n",
       "12                                                0.3           \n",
       "13                                                0.3           \n",
       "14                                                0.4           \n",
       "\n",
       "   Prevalence of severe food insecurity in the total population (percent) (3-year average)  \\\n",
       "10                                          19.078049                                        \n",
       "11                                          19.078049                                        \n",
       "12                                          19.078049                                        \n",
       "13                                          19.078049                                        \n",
       "14                                          19.078049                                        \n",
       "\n",
       "    ... Per capita food supply variability (kcal/cap/day)  \\\n",
       "10  ...                                         34.163043   \n",
       "11  ...                                         34.163043   \n",
       "12  ...                                         34.163043   \n",
       "13  ...                                         34.163043   \n",
       "14  ...                                         34.163043   \n",
       "\n",
       "   Percentage of population using at least basic drinking water services (percent)  \\\n",
       "10                                               90.1                                \n",
       "11                                               89.3                                \n",
       "12                                               88.6                                \n",
       "13                                               87.8                                \n",
       "14                                                 87                                \n",
       "\n",
       "   Percentage of population using at least basic sanitation services (percent)  \\\n",
       "10                                               96.5                            \n",
       "11                                               96.8                            \n",
       "12                                                 97                            \n",
       "13                                               97.2                            \n",
       "14                                               97.5                            \n",
       "\n",
       "   Percentage of children under 5 years affected by wasting (percent)  \\\n",
       "10                                               7.28                   \n",
       "11                                               7.28                   \n",
       "12                                               7.28                   \n",
       "13                                               7.28                   \n",
       "14                                               7.28                   \n",
       "\n",
       "   Percentage of children under 5 years of age who are stunted (percent)  \\\n",
       "10                                          34.009231                      \n",
       "11                                          34.009231                      \n",
       "12                                          34.009231                      \n",
       "13                                          34.009231                      \n",
       "14                                          34.009231                      \n",
       "\n",
       "   Percentage of children under 5 years of age who are overweight (percent)  \\\n",
       "10                                           4.780645                         \n",
       "11                                           4.780645                         \n",
       "12                                           4.780645                         \n",
       "13                                           4.780645                         \n",
       "14                                           4.780645                         \n",
       "\n",
       "   Prevalence of obesity in the adult population (18 years and older)  \\\n",
       "10                                               19.2                   \n",
       "11                                               19.6                   \n",
       "12                                                 20                   \n",
       "13                                               20.3                   \n",
       "14                                               20.7                   \n",
       "\n",
       "   Prevalence of anemia among women of reproductive age (15-49 years)  \\\n",
       "10                                               24.5                   \n",
       "11                                               24.6                   \n",
       "12                                               24.9                   \n",
       "13                                               25.3                   \n",
       "14                                               25.8                   \n",
       "\n",
       "   Prevalence of exclusive breastfeeding among infants 0-5 months of age  \\\n",
       "10                                          48.234884                      \n",
       "11                                          48.234884                      \n",
       "12                                          48.234884                      \n",
       "13                                          48.234884                      \n",
       "14                                          48.234884                      \n",
       "\n",
       "   Prevalence of low birthweight (percent)  \n",
       "10                                     4.6  \n",
       "11                                     4.6  \n",
       "12                                     4.6  \n",
       "13                                     4.5  \n",
       "14                                     4.5  \n",
       "\n",
       "[5 rows x 28 columns]"
      ]
     },
     "execution_count": 31,
     "metadata": {},
     "output_type": "execute_result"
    }
   ],
   "source": [
    "full_dataframe.head()"
   ]
  },
  {
   "cell_type": "code",
   "execution_count": 32,
   "metadata": {},
   "outputs": [],
   "source": [
    "corona_case = full_dataframe['Gross domestic product per capita, PPP, dissemination (constant 2011 international $)'].astype(float)\n",
    "full_dataframe['Gross domestic product per capita, PPP, dissemination (constant 2011 international $)'] = corona_case"
   ]
  },
  {
   "cell_type": "code",
   "execution_count": 33,
   "metadata": {},
   "outputs": [],
   "source": [
    "corona_case = full_dataframe['Dietary_Adj'].astype(float)\n",
    "full_dataframe['Dietary_Adj'] = corona_case"
   ]
  },
  {
   "cell_type": "code",
   "execution_count": 34,
   "metadata": {},
   "outputs": [],
   "source": [
    "corona_case = full_dataframe['Mod_Sev_Inad'].astype(float)\n",
    "full_dataframe['Mod_Sev_Inad'] = corona_case"
   ]
  },
  {
   "cell_type": "code",
   "execution_count": 35,
   "metadata": {},
   "outputs": [],
   "source": [
    "corona_case = full_dataframe['Dietary energy supply used in the estimation of prevalence of undernourishment (kcal/cap/day) (3-year average)'].astype(float)\n",
    "full_dataframe['Dietary energy supply used in the estimation of prevalence of undernourishment (kcal/cap/day) (3-year average)'] = corona_case"
   ]
  },
  {
   "cell_type": "code",
   "execution_count": 36,
   "metadata": {},
   "outputs": [],
   "source": [
    "corona_case = full_dataframe['Prevalence of severe food insecurity in the total population (percent) (3-year average)'].astype(float)\n",
    "full_dataframe['Prevalence of severe food insecurity in the total population (percent) (3-year average)'] = corona_case"
   ]
  },
  {
   "cell_type": "code",
   "execution_count": 37,
   "metadata": {},
   "outputs": [],
   "source": [
    "full_dataframe = full_dataframe.rename(columns=\n",
    "                                       {\"Gross domestic product per capita, PPP, dissemination (constant 2011 international $)\": \"GDP\",\n",
    "                                       'Dietary energy supply used in the estimation of prevalence of undernourishment (kcal/cap/day) (3-year average)': \"Dietary_Supply\",\n",
    "                                       'Prevalence of severe food insecurity in the total population (percent) (3-year average)': 'Severe_Food_Insec', \n",
    "                                       'Average value of food production (constant 2004-2006 I$/cap) (3-year average)': 'Food_Production', \n",
    "                                       'Share of dietary energy supply derived from cereals, roots and tubers (kcal/cap/day) (3-year average)': 'Cereal_Supply', \n",
    "                                    })"
   ]
  },
  {
   "cell_type": "markdown",
   "metadata": {},
   "source": [
    "## Visualizations"
   ]
  },
  {
   "cell_type": "code",
   "execution_count": 38,
   "metadata": {},
   "outputs": [
    {
     "name": "stderr",
     "output_type": "stream",
     "text": [
      "/opt/conda/lib/python3.8/site-packages/seaborn/distributions.py:2557: FutureWarning: `distplot` is a deprecated function and will be removed in a future version. Please adapt your code to use either `displot` (a figure-level function with similar flexibility) or `histplot` (an axes-level function for histograms).\n",
      "  warnings.warn(msg, FutureWarning)\n"
     ]
    },
    {
     "data": {
      "text/plain": [
       "<AxesSubplot:xlabel='Dietary_Adj', ylabel='Density'>"
      ]
     },
     "execution_count": 38,
     "metadata": {},
     "output_type": "execute_result"
    },
    {
     "data": {
      "image/png": "[encoded data removed]",
      "text/plain": [
       "<Figure size 432x288 with 1 Axes>"
      ]
     },
     "metadata": {
      "needs_background": "light"
     },
     "output_type": "display_data"
    }
   ],
   "source": [
    "import seaborn as sns\n",
    "from scipy import stats\n",
    "sns.distplot(full_dataframe.Dietary_Adj, fit = stats.norm)"
   ]
  },
  {
   "cell_type": "code",
   "execution_count": 39,
   "metadata": {},
   "outputs": [
    {
     "name": "stderr",
     "output_type": "stream",
     "text": [
      "/opt/conda/lib/python3.8/site-packages/seaborn/distributions.py:2557: FutureWarning: `distplot` is a deprecated function and will be removed in a future version. Please adapt your code to use either `displot` (a figure-level function with similar flexibility) or `histplot` (an axes-level function for histograms).\n",
      "  warnings.warn(msg, FutureWarning)\n"
     ]
    },
    {
     "data": {
      "text/plain": [
       "<AxesSubplot:xlabel='Mod_Sev_Inad', ylabel='Density'>"
      ]
     },
     "execution_count": 39,
     "metadata": {},
     "output_type": "execute_result"
    },
    {
     "data": {
      "image/png": "[encoded data removed]",
      "text/plain": [
       "<Figure size 432x288 with 1 Axes>"
      ]
     },
     "metadata": {
      "needs_background": "light"
     },
     "output_type": "display_data"
    }
   ],
   "source": [
    "import seaborn as sns\n",
    "from scipy import stats\n",
    "sns.distplot(full_dataframe.Mod_Sev_Inad, fit = stats.norm)"
   ]
  },
  {
   "cell_type": "code",
   "execution_count": 40,
   "metadata": {},
   "outputs": [
    {
     "data": {
      "image/png": "[encoded data removed]",
      "text/plain": [
       "<Figure size 432x288 with 2 Axes>"
      ]
     },
     "metadata": {
      "needs_background": "light"
     },
     "output_type": "display_data"
    }
   ],
   "source": [
    "import seaborn as sns\n",
    "import matplotlib.pyplot as plt\n",
    "\n",
    "corrMatrix = full_dataframe.corr()\n",
    "sns.heatmap(corrMatrix, annot=True)\n",
    "plt.show()"
   ]
  },
  {
   "cell_type": "markdown",
   "metadata": {},
   "source": [
    "### Linear Regression"
   ]
  },
  {
   "cell_type": "code",
   "execution_count": 41,
   "metadata": {},
   "outputs": [],
   "source": [
    "from sklearn.linear_model import LinearRegression\n",
    "from sklearn.model_selection import train_test_split\n",
    "from sklearn.metrics import r2_score"
   ]
  },
  {
   "cell_type": "code",
   "execution_count": 42,
   "metadata": {},
   "outputs": [],
   "source": [
    "X = full_dataframe.iloc[:, [1,2,3,4,5,6,13,14,15,16,17,18,19,20,21,22,23,24,25,26,27]].values\n",
    "y = full_dataframe.iloc[:, 0].values\n",
    "X_train, X_test, y_train, y_test = train_test_split(X, y, test_size=0.2, random_state=27)"
   ]
  },
  {
   "cell_type": "code",
   "execution_count": 43,
   "metadata": {},
   "outputs": [
    {
     "data": {
      "text/plain": [
       "(72, 21)"
      ]
     },
     "execution_count": 43,
     "metadata": {},
     "output_type": "execute_result"
    }
   ],
   "source": [
    "X_test.shape"
   ]
  },
  {
   "cell_type": "code",
   "execution_count": 44,
   "metadata": {},
   "outputs": [
    {
     "data": {
      "text/plain": [
       "LinearRegression()"
      ]
     },
     "execution_count": 44,
     "metadata": {},
     "output_type": "execute_result"
    }
   ],
   "source": [
    "lin_reg = LinearRegression()\n",
    "lin_reg.fit(X_train, y_train)"
   ]
  },
  {
   "cell_type": "code",
   "execution_count": 45,
   "metadata": {},
   "outputs": [
    {
     "data": {
      "text/plain": [
       "25.579082807970906"
      ]
     },
     "execution_count": 45,
     "metadata": {},
     "output_type": "execute_result"
    }
   ],
   "source": [
    "lin_reg.intercept_"
   ]
  },
  {
   "cell_type": "code",
   "execution_count": 46,
   "metadata": {},
   "outputs": [
    {
     "data": {
      "text/plain": [
       "array([ 4.64360863e-03,  3.89312086e-02, -6.49480051e-02, -1.59175835e-02,\n",
       "        1.38100769e-02, -1.06957325e-04,  7.38095045e-02,  6.35949018e-03,\n",
       "       -3.54883586e-02, -7.81346019e-01, -1.08046338e-01, -1.40944794e-02,\n",
       "       -7.69608077e-02, -1.50417284e-02, -2.02068755e-01, -1.84589827e-03,\n",
       "        3.05254885e-03, -9.13845893e-02, -1.71383792e-02, -5.59859919e-02,\n",
       "        2.32772420e-01])"
      ]
     },
     "execution_count": 46,
     "metadata": {},
     "output_type": "execute_result"
    }
   ],
   "source": [
    "lin_reg.coef_"
   ]
  },
  {
   "cell_type": "code",
   "execution_count": 47,
   "metadata": {},
   "outputs": [],
   "source": [
    "y_pred = lin_reg.predict(X_test)"
   ]
  },
  {
   "cell_type": "code",
   "execution_count": 48,
   "metadata": {},
   "outputs": [],
   "source": [
    "from sklearn.metrics import mean_squared_error\n",
    "errors = mean_squared_error(y_test, y_pred)\n",
    "# 2.7211198041865634"
   ]
  },
  {
   "cell_type": "code",
   "execution_count": 49,
   "metadata": {},
   "outputs": [],
   "source": [
    "errors_root = mean_squared_error(y_test, y_pred, squared=False)\n",
    "# 1.6495817058231954"
   ]
  },
  {
   "cell_type": "code",
   "execution_count": 50,
   "metadata": {},
   "outputs": [
    {
     "data": {
      "text/plain": [
       "0.9662564424336301"
      ]
     },
     "execution_count": 50,
     "metadata": {},
     "output_type": "execute_result"
    }
   ],
   "source": [
    "r2_score(y_test, y_pred)\n",
    "# 0.9880920258099991"
   ]
  },
  {
   "cell_type": "markdown",
   "metadata": {},
   "source": [
    "### Ridge "
   ]
  },
  {
   "cell_type": "code",
   "execution_count": 51,
   "metadata": {},
   "outputs": [],
   "source": [
    "# grid search cv\n",
    "from sklearn.linear_model import Ridge\n",
    "ridge = Ridge(alpha=1).fit(X_train, y_train)"
   ]
  },
  {
   "cell_type": "code",
   "execution_count": 52,
   "metadata": {},
   "outputs": [],
   "source": [
    "y_pr = ridge.predict(X_test)"
   ]
  },
  {
   "cell_type": "code",
   "execution_count": 53,
   "metadata": {},
   "outputs": [
    {
     "data": {
      "text/plain": [
       "0.9662149081149515"
      ]
     },
     "execution_count": 53,
     "metadata": {},
     "output_type": "execute_result"
    }
   ],
   "source": [
    "r2_score(y_test, y_pr)"
   ]
  },
  {
   "cell_type": "code",
   "execution_count": 54,
   "metadata": {},
   "outputs": [
    {
     "data": {
      "text/plain": [
       "2.7211198041865634"
      ]
     },
     "execution_count": 54,
     "metadata": {},
     "output_type": "execute_result"
    }
   ],
   "source": [
    "errors = mean_squared_error(y_test, y_pred)\n",
    "errors"
   ]
  },
  {
   "cell_type": "code",
   "execution_count": 55,
   "metadata": {},
   "outputs": [
    {
     "data": {
      "text/plain": [
       "1.6495817058231954"
      ]
     },
     "execution_count": 55,
     "metadata": {},
     "output_type": "execute_result"
    }
   ],
   "source": [
    "errors_root = mean_squared_error(y_test, y_pred, squared=False)\n",
    "errors_root"
   ]
  },
  {
   "cell_type": "code",
   "execution_count": 56,
   "metadata": {},
   "outputs": [],
   "source": [
    "alpha = [0.001, 0.01, 0.1, 1, 10]\n",
    "scores = []\n",
    "for a in alpha:\n",
    "    ridge = Ridge(alpha=a).fit(X_train, y_train)\n",
    "    y_pr = ridge.predict(X_test)\n",
    "    scores.append(r2_score(y_test, y_pr))"
   ]
  },
  {
   "cell_type": "code",
   "execution_count": 57,
   "metadata": {},
   "outputs": [
    {
     "data": {
      "text/plain": [
       "<matplotlib.collections.PathCollection at 0x7f107710f7f0>"
      ]
     },
     "execution_count": 57,
     "metadata": {},
     "output_type": "execute_result"
    },
    {
     "data": {
      "image/png": "[encoded data removed]",
      "text/plain": [
       "<Figure size 432x288 with 1 Axes>"
      ]
     },
     "metadata": {
      "needs_background": "light"
     },
     "output_type": "display_data"
    }
   ],
   "source": [
    "import matplotlib.pyplot as plt\n",
    "plt.scatter(alpha, scores)"
   ]
  },
  {
   "cell_type": "code",
   "execution_count": 58,
   "metadata": {},
   "outputs": [],
   "source": [
    "# score is not bad"
   ]
  },
  {
   "cell_type": "markdown",
   "metadata": {},
   "source": [
    "## Lasso "
   ]
  },
  {
   "cell_type": "code",
   "execution_count": 58,
   "metadata": {},
   "outputs": [],
   "source": [
    "from sklearn.linear_model import Lasso\n",
    "l = Lasso(alpha=0.1).fit(X_train, y_train)"
   ]
  },
  {
   "cell_type": "code",
   "execution_count": 59,
   "metadata": {},
   "outputs": [],
   "source": [
    "y_p = l.predict(X_test)"
   ]
  },
  {
   "cell_type": "code",
   "execution_count": 60,
   "metadata": {},
   "outputs": [
    {
     "data": {
      "text/plain": [
       "0.9644277510977405"
      ]
     },
     "execution_count": 60,
     "metadata": {},
     "output_type": "execute_result"
    }
   ],
   "source": [
    "r2_score(y_test, y_p)"
   ]
  },
  {
   "cell_type": "code",
   "execution_count": 61,
   "metadata": {},
   "outputs": [
    {
     "data": {
      "text/plain": [
       "2.868587604522848"
      ]
     },
     "execution_count": 61,
     "metadata": {},
     "output_type": "execute_result"
    }
   ],
   "source": [
    "mean_squared_error(y_test, y_p)"
   ]
  },
  {
   "cell_type": "code",
   "execution_count": 62,
   "metadata": {},
   "outputs": [
    {
     "data": {
      "text/plain": [
       "1.6936905279663248"
      ]
     },
     "execution_count": 62,
     "metadata": {},
     "output_type": "execute_result"
    }
   ],
   "source": [
    "mean_squared_error(y_test, y_p, squared=False)"
   ]
  },
  {
   "cell_type": "code",
   "execution_count": 63,
   "metadata": {
    "scrolled": true
   },
   "outputs": [
    {
     "data": {
      "text/plain": [
       "<matplotlib.collections.PathCollection at 0x7f107a89f1f0>"
      ]
     },
     "execution_count": 63,
     "metadata": {},
     "output_type": "execute_result"
    },
    {
     "data": {
      "image/png": "[encoded data removed]",
      "text/plain": [
       "<Figure size 432x288 with 1 Axes>"
      ]
     },
     "metadata": {
      "needs_background": "light"
     },
     "output_type": "display_data"
    }
   ],
   "source": [
    "alpha = [0.001, 0.01, 0.1, 1, 10]\n",
    "scores = []\n",
    "for a in alpha:\n",
    "    l = Lasso(alpha=a).fit(X_train, y_train)\n",
    "    y_pr = l.predict(X_test)\n",
    "    scores.append(mean_squared_error(y_test, y_pr))\n",
    "    \n",
    "plt.scatter(alpha, scores)    "
   ]
  },
  {
   "cell_type": "markdown",
   "metadata": {},
   "source": [
    "### Plotting Learning Curves "
   ]
  },
  {
   "cell_type": "code",
   "execution_count": 64,
   "metadata": {},
   "outputs": [],
   "source": [
    "from sklearn.metrics import mean_squared_error\n",
    "from sklearn.model_selection import train_test_split\n",
    "def plot_learning_curves(model, X, y):\n",
    "    X_train, X_val, y_train, y_val = train_test_split(X, y, test_size=0.2)\n",
    "    train_errors, val_errors = [], []\n",
    "    for m in range(1, len(X_train)):\n",
    "        model.fit(X_train[:m], y_train[:m])\n",
    "        y_train_predict = model.predict(X_train[:m])\n",
    "        y_val_predict = model.predict(X_val)\n",
    "        train_errors.append(mean_squared_error(y_train[:m], y_train_predict))\n",
    "        val_errors.append(mean_squared_error(y_val, y_val_predict))\n",
    "    plt.plot(np.sqrt(train_errors), \"r-+\", linewidth=2, label=\"train\")\n",
    "    plt.plot(np.sqrt(val_errors), \"b-\", linewidth=3, label=\"val\")"
   ]
  },
  {
   "cell_type": "code",
   "execution_count": 65,
   "metadata": {},
   "outputs": [
    {
     "data": {
      "image/png": "[encoded data removed]",
      "text/plain": [
       "<Figure size 432x288 with 1 Axes>"
      ]
     },
     "metadata": {
      "needs_background": "light"
     },
     "output_type": "display_data"
    }
   ],
   "source": [
    "lin_reg = LinearRegression()\n",
    "plot_learning_curves(lin_reg, X, y)"
   ]
  },
  {
   "cell_type": "code",
   "execution_count": 84,
   "metadata": {},
   "outputs": [
    {
     "name": "stderr",
     "output_type": "stream",
     "text": [
      "/opt/conda/lib/python3.8/site-packages/sklearn/linear_model/_coordinate_descent.py:530: ConvergenceWarning: Objective did not converge. You might want to increase the number of iterations. Duality gap: 0.0, tolerance: 0.0\n",
      "  model = cd_fast.enet_coordinate_descent(\n",
      "/opt/conda/lib/python3.8/site-packages/sklearn/linear_model/_coordinate_descent.py:530: ConvergenceWarning: Objective did not converge. You might want to increase the number of iterations. Duality gap: 0.0, tolerance: 0.0\n",
      "  model = cd_fast.enet_coordinate_descent(\n"
     ]
    },
    {
     "data": {
      "image/png": "[encoded data removed]",
      "text/plain": [
       "<Figure size 432x288 with 1 Axes>"
      ]
     },
     "metadata": {
      "needs_background": "light"
     },
     "output_type": "display_data"
    }
   ],
   "source": [
    "plot_learning_curves(l, X, y)"
   ]
  },
  {
   "cell_type": "markdown",
   "metadata": {},
   "source": [
    "### RandomForest "
   ]
  },
  {
   "cell_type": "code",
   "execution_count": 75,
   "metadata": {},
   "outputs": [],
   "source": [
    "from sklearn.ensemble import RandomForestRegressor\n",
    "from sklearn.metrics import accuracy_score"
   ]
  },
  {
   "cell_type": "code",
   "execution_count": 76,
   "metadata": {},
   "outputs": [],
   "source": [
    "regressor = RandomForestRegressor()"
   ]
  },
  {
   "cell_type": "code",
   "execution_count": 77,
   "metadata": {},
   "outputs": [],
   "source": [
    "regressor.fit(X_train, y_train)\n",
    "y_pred = regressor.predict(X_test)"
   ]
  },
  {
   "cell_type": "code",
   "execution_count": 78,
   "metadata": {},
   "outputs": [
    {
     "data": {
      "text/plain": [
       "0.9880436030419141"
      ]
     },
     "execution_count": 78,
     "metadata": {},
     "output_type": "execute_result"
    }
   ],
   "source": [
    "r2_score(y_test, y_pred)"
   ]
  },
  {
   "cell_type": "code",
   "execution_count": 79,
   "metadata": {},
   "outputs": [
    {
     "data": {
      "text/plain": [
       "0.9641777837257156"
      ]
     },
     "execution_count": 79,
     "metadata": {},
     "output_type": "execute_result"
    }
   ],
   "source": [
    "mean_squared_error(y_test, y_pred)"
   ]
  },
  {
   "cell_type": "code",
   "execution_count": 80,
   "metadata": {},
   "outputs": [
    {
     "data": {
      "text/plain": [
       "0.9819255489728922"
      ]
     },
     "execution_count": 80,
     "metadata": {},
     "output_type": "execute_result"
    }
   ],
   "source": [
    "mean_squared_error(y_test, y_pred, squared=False)"
   ]
  },
  {
   "cell_type": "code",
   "execution_count": 89,
   "metadata": {},
   "outputs": [],
   "source": [
    "#relatively good, better than the previous 4 models"
   ]
  },
  {
   "cell_type": "code",
   "execution_count": null,
   "metadata": {},
   "outputs": [],
   "source": []
  },
  {
   "cell_type": "code",
   "execution_count": 90,
   "metadata": {},
   "outputs": [
    {
     "data": {
      "image/png": "[encoded data removed]",
      "text/plain": [
       "<Figure size 432x288 with 1 Axes>"
      ]
     },
     "metadata": {
      "needs_background": "light"
     },
     "output_type": "display_data"
    }
   ],
   "source": [
    "plot_learning_curves(regressor, X, y)"
   ]
  },
  {
   "cell_type": "markdown",
   "metadata": {},
   "source": [
    "## Using the Predictions"
   ]
  },
  {
   "cell_type": "code",
   "execution_count": 89,
   "metadata": {},
   "outputs": [],
   "source": [
    "# picking a country to predict: say Serbia"
   ]
  },
  {
   "cell_type": "code",
   "execution_count": 81,
   "metadata": {},
   "outputs": [],
   "source": [
    "x = full_dataframe.iloc[:, [0,2,3,4,5,6,13,14,15,16,17,18,19,20,21,22,23,24,25,26,27]].values"
   ]
  },
  {
   "cell_type": "code",
   "execution_count": 82,
   "metadata": {},
   "outputs": [],
   "source": [
    "serbia = x[0].reshape(1, -1)"
   ]
  },
  {
   "cell_type": "code",
   "execution_count": 83,
   "metadata": {},
   "outputs": [],
   "source": [
    "# fitting to random forest"
   ]
  },
  {
   "cell_type": "code",
   "execution_count": 84,
   "metadata": {},
   "outputs": [
    {
     "data": {
      "text/plain": [
       "array([119.07])"
      ]
     },
     "execution_count": 84,
     "metadata": {},
     "output_type": "execute_result"
    }
   ],
   "source": [
    "regressor.predict(serbia)"
   ]
  },
  {
   "cell_type": "code",
   "execution_count": 85,
   "metadata": {},
   "outputs": [],
   "source": [
    "# the model predicts: 118.3, let's plot the trend"
   ]
  },
  {
   "cell_type": "code",
   "execution_count": 86,
   "metadata": {},
   "outputs": [],
   "source": [
    "import numpy as np\n",
    "years = np.arange(2003, 2020)"
   ]
  },
  {
   "cell_type": "code",
   "execution_count": 87,
   "metadata": {},
   "outputs": [
    {
     "data": {
      "text/plain": [
       "<AxesSubplot:ylabel='Dietary_Adj'>"
      ]
     },
     "execution_count": 87,
     "metadata": {},
     "output_type": "execute_result"
    },
    {
     "data": {
      "image/png": "[encoded data removed]",
      "text/plain": [
       "<Figure size 432x288 with 1 Axes>"
      ]
     },
     "metadata": {
      "needs_background": "light"
     },
     "output_type": "display_data"
    }
   ],
   "source": [
    "sns.lineplot(data=full_dataframe.head(17), x=years, y=full_dataframe.head(17).iloc[:, 0].astype(float))"
   ]
  },
  {
   "cell_type": "code",
   "execution_count": 88,
   "metadata": {},
   "outputs": [],
   "source": [
    "# other country: indonesia"
   ]
  },
  {
   "cell_type": "code",
   "execution_count": 104,
   "metadata": {},
   "outputs": [
    {
     "data": {
      "text/plain": [
       "<AxesSubplot:ylabel='Dietary_Adj'>"
      ]
     },
     "execution_count": 104,
     "metadata": {},
     "output_type": "execute_result"
    },
    {
     "data": {
      "image/png": "[encoded data removed]",
      "text/plain": [
       "<Figure size 432x288 with 1 Axes>"
      ]
     },
     "metadata": {
      "needs_background": "light"
     },
     "output_type": "display_data"
    }
   ],
   "source": [
    "sns.lineplot(data=full_dataframe.iloc[[17,18,19,20,21,22,23,24,25,26,27,28,29,30,31,32,33], :], x=years, y=full_dataframe.iloc[[17,18,19,20,21,22,23,24,25,26,27,28,29,30,31,32,33], 0].astype(float))\n",
    "             "
   ]
  },
  {
   "cell_type": "code",
   "execution_count": 106,
   "metadata": {},
   "outputs": [],
   "source": [
    "indon = x[18].reshape(1, -1)"
   ]
  },
  {
   "cell_type": "code",
   "execution_count": 107,
   "metadata": {},
   "outputs": [
    {
     "data": {
      "text/plain": [
       "array([114.52])"
      ]
     },
     "execution_count": 107,
     "metadata": {},
     "output_type": "execute_result"
    }
   ],
   "source": [
    "regressor.predict(indon)"
   ]
  },
  {
   "cell_type": "code",
   "execution_count": 109,
   "metadata": {},
   "outputs": [
    {
     "data": {
      "text/plain": [
       "32.22222222222222"
      ]
     },
     "execution_count": 109,
     "metadata": {},
     "output_type": "execute_result"
    }
   ],
   "source": [
    "580/18"
   ]
  },
  {
   "cell_type": "code",
   "execution_count": null,
   "metadata": {},
   "outputs": [],
   "source": []
  }
 ],
 "metadata": {
  "kernelspec": {
   "display_name": "Python 3",
   "language": "python",
   "name": "python3"
  },
  "language_info": {
   "codemirror_mode": {
    "name": "ipython",
    "version": 3
   },
   "file_extension": ".py",
   "mimetype": "text/x-python",
   "name": "python",
   "nbconvert_exporter": "python",
   "pygments_lexer": "ipython3",
   "version": "3.8.8"
  }
 },
 "nbformat": 4,
 "nbformat_minor": 4
}
